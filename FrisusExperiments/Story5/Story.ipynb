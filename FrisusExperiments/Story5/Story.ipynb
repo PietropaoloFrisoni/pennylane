{
 "cells": [
  {
   "cell_type": "markdown",
   "metadata": {},
   "source": [
    "# Final checks"
   ]
  },
  {
   "cell_type": "code",
   "execution_count": 1,
   "metadata": {},
   "outputs": [
    {
     "name": "stdout",
     "output_type": "stream",
     "text": [
      "FRISUS LOG: transform e' stata chiamata\n",
      "FRISUS LOG: transform e' stata chiamata\n",
      "FRISUS LOG: transform e' stata chiamata\n",
      "FRISUS LOG: transform e' stata chiamata\n",
      "FRISUS LOG: transform e' stata chiamata\n",
      "FRISUS LOG: transform e' stata chiamata\n",
      "FRISUS LOG: transform e' stata chiamata\n",
      "FRISUS LOG: transform e' stata chiamata\n",
      "FRISUS LOG: transform e' stata chiamata\n",
      "FRISUS LOG: transform e' stata chiamata\n",
      "FRISUS LOG: transform e' stata chiamata\n",
      "FRISUS LOG: transform e' stata chiamata\n",
      "FRISUS LOG: transform e' stata chiamata\n",
      "FRISUS LOG: transform e' stata chiamata\n",
      "FRISUS LOG: transform e' stata chiamata\n",
      "FRISUS LOG: transform e' stata chiamata\n",
      "FRISUS LOG: transform e' stata chiamata\n",
      "FRISUS LOG: transform e' stata chiamata\n",
      "FRISUS LOG: transform e' stata chiamata\n",
      "FRISUS LOG: transform e' stata chiamata\n",
      "FRISUS LOG: transform e' stata chiamata\n",
      "FRISUS LOG: transform e' stata chiamata\n",
      "FRISUS LOG: transform e' stata chiamata\n",
      "FRISUS LOG: transform e' stata chiamata\n",
      "FRISUS LOG: transform e' stata chiamata\n",
      "FRISUS LOG: transform e' stata chiamata\n",
      "FRISUS LOG: transform e' stata chiamata\n",
      "FRISUS LOG: transform e' stata chiamata\n",
      "FRISUS LOG: transform e' stata chiamata\n",
      "FRISUS LOG: transform e' stata chiamata\n",
      "FRISUS LOG: transform e' stata chiamata\n",
      "FRISUS LOG: transform e' stata chiamata\n",
      "FRISUS LOG: transform e' stata chiamata\n",
      "FRISUS LOG: transform e' stata chiamata\n",
      "FRISUS LOG: transform e' stata chiamata\n",
      "FRISUS LOG: transform e' stata chiamata\n",
      "FRISUS LOG: transform e' stata chiamata\n",
      "FRISUS LOG: transform e' stata chiamata\n",
      "FRISUS LOG: transform e' stata chiamata\n",
      "FRISUS LOG: transform e' stata chiamata\n",
      "FRISUS LOG: transform e' stata chiamata\n",
      "FRISUS LOG: transform e' stata chiamata\n",
      "FRISUS LOG: transform e' stata chiamata\n",
      "FRISUS LOG: transform e' stata chiamata\n",
      "FRISUS LOG: transform e' stata chiamata\n",
      "FRISUS LOG: transform e' stata chiamata\n",
      "FRISUS LOG: transform e' stata chiamata\n",
      "FRISUS LOG: transform e' stata chiamata\n",
      "FRISUS LOG: transform e' stata chiamata\n",
      "FRISUS LOG: transform e' stata chiamata\n",
      "FRISUS LOG: transform e' stata chiamata\n",
      "FRISUS LOG: transform e' stata chiamata\n",
      "FRISUS LOG: transform e' stata chiamata\n",
      "FRISUS LOG: transform e' stata chiamata\n",
      "FRISUS LOG: transform e' stata chiamata\n",
      "FRISUS LOG: transform e' stata chiamata\n",
      "FRISUS LOG: transform e' stata chiamata\n",
      "FRISUS LOG: transform e' stata chiamata\n",
      "FRISUS LOG: transform e' stata chiamata\n",
      "FRISUS LOG: transform e' stata chiamata\n",
      "FRISUS LOG: transform e' stata chiamata\n",
      "FRISUS LOG: transform e' stata chiamata\n",
      "FRISUS LOG: transform e' stata chiamata\n",
      "FRISUS LOG: transform e' stata chiamata\n",
      "FRISUS LOG: transform e' stata chiamata\n",
      "FRISUS LOG: transform e' stata chiamata\n"
     ]
    }
   ],
   "source": [
    "import pennylane as qml\n",
    "\n",
    "# from pennylane.operation import convert_to_hamiltonian"
   ]
  },
  {
   "cell_type": "markdown",
   "metadata": {},
   "source": [
    "# New version ?"
   ]
  },
  {
   "cell_type": "code",
   "execution_count": 2,
   "metadata": {},
   "outputs": [],
   "source": [
    "from functools import reduce\n",
    "import pennylane as qml\n",
    "from pennylane import numpy as pnp\n",
    "from pennylane.operation import Observable, Tensor\n",
    "from pennylane.ops import Prod, SProd, Sum\n",
    "from pennylane.operation import convert_to_hamiltonian"
   ]
  },
  {
   "cell_type": "code",
   "execution_count": 29,
   "metadata": {},
   "outputs": [
    {
     "name": "stderr",
     "output_type": "stream",
     "text": [
      "/home/pietropaolo.frisoni/anaconda3/envs/PennyLane/lib/python3.9/site-packages/PennyLane-0.36.0.dev0-py3.9.egg/pennylane/operation.py:2066: UserWarning: Tensor object acts on overlapping wires; in some PennyLane functions this will lead to undefined behaviour\n",
      "  warnings.warn(\n"
     ]
    }
   ],
   "source": [
    "\n",
    "([1], [qml.X(1) @ qml.Y(1)]),\n",
    "\n",
    "\n",
    "coeffs = [1]\n",
    "obs = [qml.I(0, 1) @ qml.Y(0)]\n",
    "\n",
    "hamiltonian_instance = qml.simplify(qml.Hamiltonian(coeffs, obs))\n",
    "opmath_instance = qml.dot(coeffs, obs)\n",
    "converted_hamiltonian = convert_to_hamiltonian(opmath_instance)\n",
    "assert qml.equal(hamiltonian_instance, converted_hamiltonian)"
   ]
  },
  {
   "cell_type": "code",
   "execution_count": 25,
   "metadata": {},
   "outputs": [
    {
     "name": "stdout",
     "output_type": "stream",
     "text": [
      "  (1) [X0 Y0]\n"
     ]
    }
   ],
   "source": [
    "hamiltonian_instance"
   ]
  },
  {
   "cell_type": "code",
   "execution_count": 26,
   "metadata": {},
   "outputs": [
    {
     "name": "stdout",
     "output_type": "stream",
     "text": [
      "  (1j) [Z0]\n"
     ]
    }
   ],
   "source": [
    "converted_hamiltonian"
   ]
  },
  {
   "cell_type": "code",
   "execution_count": 88,
   "metadata": {},
   "outputs": [],
   "source": [
    "qml.operation.disable_new_opmath()"
   ]
  },
  {
   "cell_type": "code",
   "execution_count": 122,
   "metadata": {},
   "outputs": [],
   "source": [
    "def F_convert_to_hamiltonian(op, wires_on_identity=True):\n",
    "    \"\"\"\n",
    "    Converts arithmetic operators into :class:`~pennylane.Hamiltonian` instance.\n",
    "    Objects of any other type are returned directly.\n",
    "\n",
    "    Arithmetic operators include :class:`~pennylane.ops.op_math.Prod`,\n",
    "    :class:`~pennylane.ops.op_math.Sum` and :class:`~pennylane.ops.op_math.SProd`.\n",
    "\n",
    "    Args:\n",
    "        op (Operator): The operator instance to convert\n",
    "\n",
    "    Returns:\n",
    "        Operator: The operator as an :class:`~pennylane.Hamiltonian` instance\n",
    "    \"\"\"\n",
    "    # if isinstance(op, (qml.ops.op_math.Prod, qml.ops.op_math.SProd, qml.ops.op_math.Sum)):\n",
    "\n",
    "    op = qml.simplify(op)\n",
    "\n",
    "    print(op)\n",
    "\n",
    "    if isinstance(op, Observable):\n",
    "        return qml.Hamiltonian(coeffs=[1], observables=[op])\n",
    "\n",
    "    coeffs = []\n",
    "    ops = []\n",
    "\n",
    "    if isinstance(op, qml.ops.SProd):\n",
    "        coeffs.append(op.scalar)\n",
    "        if isinstance(op.base, Observable):\n",
    "            ops.append(op.base)\n",
    "        else:  # factor.base can only be a prod\n",
    "            ops.append(qml.operation.Tensor(*op.base))\n",
    "\n",
    "    if isinstance(op, qml.ops.Prod):\n",
    "        coeffs.append(1.0)\n",
    "        ops.append(qml.operation.Tensor(*op))\n",
    "\n",
    "    if isinstance(op, qml.ops.Sum):\n",
    "        for factor in op:\n",
    "            print(f\"factor={factor}\")\n",
    "            if isinstance(factor, qml.ops.SProd):\n",
    "                coeffs.append(factor.scalar)\n",
    "                if isinstance(factor.base, Observable):\n",
    "                    ops.append(factor.base)\n",
    "                else:  # factor.base can only be a prod\n",
    "                    ops.append(qml.operation.Tensor(*factor.base))\n",
    "            elif isinstance(factor, qml.ops.Prod):\n",
    "                coeffs.append(1.0)\n",
    "                ops.append(qml.operation.Tensor(*factor.base))\n",
    "            elif isinstance(factor, Observable):\n",
    "                coeffs.append(1.0)\n",
    "                ops.append(factor)\n",
    "            else:\n",
    "                print(\"CASO NON PREVISTO\")\n",
    "\n",
    "    print(f\"coeffs={coeffs}\")\n",
    "    print(f\"ops={ops}\")\n",
    "    for o in ops:\n",
    "        print(f\"type({o})={type(o)}\")\n",
    "\n",
    "    return qml.Hamiltonian(coeffs, ops)"
   ]
  },
  {
   "cell_type": "code",
   "execution_count": 139,
   "metadata": {},
   "outputs": [
    {
     "data": {
      "text/plain": [
       "1.5 * I(0) + 0.4 * (Y(0) @ X(1)) + X(1)"
      ]
     },
     "execution_count": 139,
     "metadata": {},
     "output_type": "execute_result"
    }
   ],
   "source": [
    "w0, w1 = [0, 1]\n",
    "coeffs = [1.5, 0.4, 1]\n",
    "obs = [qml.Identity(w0), qml.X(w1) @ qml.Y(w0), qml.X(w1)]\n",
    "\n",
    "hamiltonian_instance = qml.Hamiltonian(coeffs, obs)\n",
    "opmath_instance = qml.dot(coeffs, obs)\n",
    "qml.simplify(opmath_instance)"
   ]
  },
  {
   "cell_type": "code",
   "execution_count": 123,
   "metadata": {},
   "outputs": [
    {
     "name": "stdout",
     "output_type": "stream",
     "text": [
      "1.5 * I(0) + 0.4 * (Y(0) @ X(1))\n",
      "factor=1.5 * I(0)\n",
      "factor=0.4 * (Y(0) @ X(1))\n",
      "coeffs=[1.5, 0.4]\n",
      "ops=[I(0), Y(0) @ X(1)]\n",
      "type(I(0))=<class 'pennylane.ops.identity.Identity'>\n",
      "type(Y(0) @ X(1))=<class 'pennylane.operation.Tensor'>\n"
     ]
    }
   ],
   "source": [
    "w0, w1 = [0, 1]\n",
    "coeffs = [1.5, 0.4]\n",
    "\n",
    "obs = [qml.Identity(w0), qml.X(w1) @ qml.Y(w0)]\n",
    "\n",
    "hamiltonian_instance = qml.Hamiltonian(coeffs, obs)\n",
    "opmath_instance = qml.dot(coeffs, obs)\n",
    "converted_hamiltonian = F_convert_to_hamiltonian(opmath_instance)\n",
    "assert qml.equal(hamiltonian_instance, converted_hamiltonian)"
   ]
  },
  {
   "cell_type": "code",
   "execution_count": 124,
   "metadata": {},
   "outputs": [
    {
     "name": "stdout",
     "output_type": "stream",
     "text": [
      "  (1.5) [I0]\n",
      "+ (0.4) [Y0 X1]\n"
     ]
    }
   ],
   "source": [
    "converted_hamiltonian"
   ]
  },
  {
   "cell_type": "code",
   "execution_count": null,
   "metadata": {},
   "outputs": [],
   "source": [
    "op = 0.7 * (I((0, 1)) + I(0))\n",
    "H = convert_to_hamiltonian(op)\n",
    "print(H.wires, H.coeffs, H.ops)\n",
    "print(H)"
   ]
  },
  {
   "cell_type": "code",
   "execution_count": 12,
   "metadata": {},
   "outputs": [],
   "source": [
    "hamiltonian_instance = 0.7 * (qml.I((0, 1)) + qml.I(0))\n",
    "opmath_instance = qml.s_prod(0.7, (qml.I((0, 1)) + qml.I(0)))\n",
    "converted_hamiltonian = convert_to_hamiltonian(opmath_instance)\n",
    "assert qml.equal(hamiltonian_instance, converted_hamiltonian)"
   ]
  },
  {
   "cell_type": "code",
   "execution_count": 20,
   "metadata": {},
   "outputs": [
    {
     "name": "stdout",
     "output_type": "stream",
     "text": [
      "<Wires = [0]> [1.4] [I(0)]\n",
      "  (1.4) [I0]\n"
     ]
    }
   ],
   "source": [
    "print(converted_hamiltonian.wires, converted_hamiltonian.coeffs, converted_hamiltonian.ops)\n",
    "print(converted_hamiltonian)"
   ]
  },
  {
   "cell_type": "code",
   "execution_count": 13,
   "metadata": {},
   "outputs": [
    {
     "name": "stdout",
     "output_type": "stream",
     "text": [
      "  (1.4) [I0]\n"
     ]
    }
   ],
   "source": [
    "hamiltonian_instance"
   ]
  },
  {
   "cell_type": "code",
   "execution_count": 14,
   "metadata": {},
   "outputs": [
    {
     "name": "stdout",
     "output_type": "stream",
     "text": [
      "  (1.4) [I0]\n"
     ]
    }
   ],
   "source": [
    "converted_hamiltonian"
   ]
  },
  {
   "cell_type": "code",
   "execution_count": 15,
   "metadata": {},
   "outputs": [
    {
     "data": {
      "text/plain": [
       "<Wires = [0]>"
      ]
     },
     "execution_count": 15,
     "metadata": {},
     "output_type": "execute_result"
    }
   ],
   "source": [
    "hamiltonian_instance.wires"
   ]
  },
  {
   "cell_type": "code",
   "execution_count": 16,
   "metadata": {},
   "outputs": [
    {
     "data": {
      "text/plain": [
       "[I(0)]"
      ]
     },
     "execution_count": 16,
     "metadata": {},
     "output_type": "execute_result"
    }
   ],
   "source": [
    "hamiltonian_instance.ops"
   ]
  },
  {
   "cell_type": "code",
   "execution_count": 17,
   "metadata": {},
   "outputs": [
    {
     "name": "stdout",
     "output_type": "stream",
     "text": [
      "  (1.4) [I0]\n"
     ]
    }
   ],
   "source": [
    "converted_hamiltonian"
   ]
  },
  {
   "cell_type": "code",
   "execution_count": 18,
   "metadata": {},
   "outputs": [
    {
     "data": {
      "text/plain": [
       "<Wires = [0]>"
      ]
     },
     "execution_count": 18,
     "metadata": {},
     "output_type": "execute_result"
    }
   ],
   "source": [
    "converted_hamiltonian.wires"
   ]
  },
  {
   "cell_type": "code",
   "execution_count": 132,
   "metadata": {},
   "outputs": [
    {
     "data": {
      "text/plain": [
       "pennylane.ops.op_math.sprod.SProd"
      ]
     },
     "execution_count": 132,
     "metadata": {},
     "output_type": "execute_result"
    }
   ],
   "source": [
    "type(qml.s_prod(2, qml.X(0)))"
   ]
  },
  {
   "cell_type": "code",
   "execution_count": 133,
   "metadata": {},
   "outputs": [
    {
     "name": "stdout",
     "output_type": "stream",
     "text": [
      "I(0) + 0.4 * X(1)\n",
      "factor=I(0)\n",
      "factor=0.4 * X(1)\n",
      "coeffs=[1.0, 0.4]\n",
      "ops=[I(0), X(1)]\n",
      "type(I(0))=<class 'pennylane.ops.identity.Identity'>\n",
      "type(X(1))=<class 'pennylane.ops.qubit.non_parametric_ops.PauliX'>\n"
     ]
    }
   ],
   "source": [
    "w0, w1 = [0, 1]\n",
    "coeffs = [1, 0.4]\n",
    "\n",
    "obs = [qml.Identity(w0), qml.X(w1)]\n",
    "\n",
    "hamiltonian_instance = qml.Hamiltonian(coeffs, obs)\n",
    "opmath_instance = qml.dot(coeffs, obs)\n",
    "converted_hamiltonian = F_convert_to_hamiltonian(opmath_instance)\n",
    "assert qml.equal(hamiltonian_instance, converted_hamiltonian)"
   ]
  },
  {
   "cell_type": "code",
   "execution_count": 136,
   "metadata": {},
   "outputs": [
    {
     "name": "stdout",
     "output_type": "stream",
     "text": [
      "  (0.4) [X1]\n",
      "+ (1.0) [I0]\n"
     ]
    }
   ],
   "source": [
    "converted_hamiltonian"
   ]
  },
  {
   "cell_type": "code",
   "execution_count": 135,
   "metadata": {},
   "outputs": [
    {
     "name": "stdout",
     "output_type": "stream",
     "text": [
      "  (0.4) [X1]\n",
      "+ (1) [I0]\n"
     ]
    }
   ],
   "source": [
    "hamiltonian_instance"
   ]
  },
  {
   "cell_type": "code",
   "execution_count": 2,
   "metadata": {},
   "outputs": [
    {
     "data": {
      "text/plain": [
       "([I(0), Z(1), X(0) @ Hadamard(wires=[1])],\n",
       " [I(0), Z(1), X(0) @ Hadamard(wires=[1])])"
      ]
     },
     "execution_count": 2,
     "metadata": {},
     "output_type": "execute_result"
    }
   ],
   "source": [
    "w0, w1 = [0, 1]\n",
    "coeffs = [0.5, -0.5, 0.2]\n",
    "\n",
    "obs = [qml.Identity(w0), qml.Z(w1), qml.X(w0) @ qml.Hadamard(w1)]\n",
    "\n",
    "Hamiltonian_instance = qml.Hamiltonian(coeffs, obs)\n",
    "Sum_instance = qml.dot(coeffs, obs)\n",
    "Sum_coeffs, Sum_ops = Sum_instance.terms()\n",
    "\n",
    "Sum_ops, Hamiltonian_instance.ops"
   ]
  },
  {
   "cell_type": "code",
   "execution_count": 3,
   "metadata": {},
   "outputs": [
    {
     "data": {
      "text/plain": [
       "([I(0)], [I(0)])"
      ]
     },
     "execution_count": 3,
     "metadata": {},
     "output_type": "execute_result"
    }
   ],
   "source": [
    "w0, w1 = [0, 1]\n",
    "coeffs = [0.5]\n",
    "\n",
    "obs = [qml.Identity(w0)]\n",
    "\n",
    "Hamiltonian_instance = qml.Hamiltonian(coeffs, obs)\n",
    "Sum_instance = qml.dot(coeffs, obs)\n",
    "Sum_coeffs, Sum_ops = Sum_instance.terms()\n",
    "\n",
    "Sum_ops, Hamiltonian_instance.ops"
   ]
  },
  {
   "cell_type": "code",
   "execution_count": 8,
   "metadata": {},
   "outputs": [
    {
     "data": {
      "text/plain": [
       "pennylane.ops.op_math.sprod.SProd"
      ]
     },
     "execution_count": 8,
     "metadata": {},
     "output_type": "execute_result"
    }
   ],
   "source": [
    "type(Sum_instance)"
   ]
  },
  {
   "cell_type": "code",
   "execution_count": 9,
   "metadata": {},
   "outputs": [],
   "source": [
    "w0, w1, w2, w3 = [0, 1, 2, 3]"
   ]
  },
  {
   "cell_type": "code",
   "execution_count": 10,
   "metadata": {},
   "outputs": [
    {
     "data": {
      "text/plain": [
       "True"
      ]
     },
     "execution_count": 10,
     "metadata": {},
     "output_type": "execute_result"
    }
   ],
   "source": [
    "Hamiltonian_instance = 0.25 * (qml.X(w1) @ qml.Y(w2) - qml.Y(w1) @ qml.X(w2))\n",
    "new_opmath_instance = qml.s_prod(0.25, (qml.X(w1) @ qml.Y(w2) - qml.Y(w1) @ qml.X(w2)))\n",
    "new_hamiltonian = convert_to_hamiltonian(new_opmath_instance)\n",
    "qml.equal(Hamiltonian_instance, new_hamiltonian)"
   ]
  },
  {
   "cell_type": "code",
   "execution_count": 11,
   "metadata": {},
   "outputs": [],
   "source": [
    "Hamiltonian_instance = 0.25 * (\n",
    "    -qml.Identity(w1) + qml.X(w1) @ qml.Y(w2) - qml.Y(w1) @ qml.X(w2) - qml.Z(w1) @ qml.Z(w2)\n",
    ")\n",
    "\n",
    "new_opmath_instance = qml.s_prod(\n",
    "    0.25,\n",
    "    (-qml.Identity(w1) + qml.X(w1) @ qml.Y(w2) - qml.Y(w1) @ qml.X(w2) - qml.Z(w1) @ qml.Z(w2)),\n",
    ")\n",
    "new_hamiltonian = convert_to_hamiltonian(new_opmath_instance)\n",
    "# qml.equal(Hamiltonian_instance, new_hamiltonian)"
   ]
  },
  {
   "cell_type": "code",
   "execution_count": 12,
   "metadata": {},
   "outputs": [
    {
     "data": {
      "text/plain": [
       "pennylane.ops.op_math.sprod.SProd"
      ]
     },
     "execution_count": 12,
     "metadata": {},
     "output_type": "execute_result"
    }
   ],
   "source": [
    "type(Hamiltonian_instance)"
   ]
  },
  {
   "cell_type": "code",
   "execution_count": 13,
   "metadata": {},
   "outputs": [
    {
     "data": {
      "text/plain": [
       "pennylane.ops.qubit.hamiltonian.Hamiltonian"
      ]
     },
     "execution_count": 13,
     "metadata": {},
     "output_type": "execute_result"
    }
   ],
   "source": [
    "type(new_hamiltonian)"
   ]
  },
  {
   "cell_type": "code",
   "execution_count": 14,
   "metadata": {},
   "outputs": [
    {
     "data": {
      "text/plain": [
       "False"
      ]
     },
     "execution_count": 14,
     "metadata": {},
     "output_type": "execute_result"
    }
   ],
   "source": [
    "qml.equal(Hamiltonian_instance, new_hamiltonian)"
   ]
  },
  {
   "cell_type": "code",
   "execution_count": 15,
   "metadata": {},
   "outputs": [],
   "source": [
    "Hamiltonian_instance = 0.25 * (\n",
    "    qml.Identity(w1) + qml.X(w1) @ qml.Y(w2) - qml.Y(w1) @ qml.X(w2) + qml.Z(w1) @ qml.Z(w2)\n",
    ")\n",
    "\n",
    "new_opmath_instance = qml.s_prod(\n",
    "    0.25, (qml.Identity(w1) + qml.X(w1) @ qml.Y(w2) - qml.Y(w1) @ qml.X(w2) + qml.Z(w1) @ qml.Z(w2))\n",
    ")\n",
    "new_hamiltonian = convert_to_hamiltonian(new_opmath_instance)\n",
    "# qml.equal(Hamiltonian_instance, new_hamiltonian)"
   ]
  },
  {
   "cell_type": "code",
   "execution_count": null,
   "metadata": {},
   "outputs": [],
   "source": []
  },
  {
   "cell_type": "code",
   "execution_count": 16,
   "metadata": {},
   "outputs": [
    {
     "name": "stdout",
     "output_type": "stream",
     "text": [
      "  (0.25) [I1]\n",
      "+ (-0.25) [Y1 X2]\n",
      "+ (0.25) [X1 Y2]\n",
      "+ (0.25) [Z1 Z2]\n"
     ]
    }
   ],
   "source": [
    "Hamiltonian_instance"
   ]
  },
  {
   "cell_type": "code",
   "execution_count": 17,
   "metadata": {},
   "outputs": [
    {
     "name": "stdout",
     "output_type": "stream",
     "text": [
      "  (-0.25) [X2 Y1]\n",
      "+ (0.25) [I1,2]\n",
      "+ (0.25) [Y2 X1]\n",
      "+ (0.25) [Z2 Z1]\n"
     ]
    }
   ],
   "source": [
    "new_hamiltonian"
   ]
  },
  {
   "cell_type": "code",
   "execution_count": 18,
   "metadata": {},
   "outputs": [
    {
     "data": {
      "text/plain": [
       "<Wires = [1]>"
      ]
     },
     "execution_count": 18,
     "metadata": {},
     "output_type": "execute_result"
    }
   ],
   "source": [
    "Hamiltonian_instance.ops[0].wires"
   ]
  },
  {
   "cell_type": "code",
   "execution_count": 19,
   "metadata": {},
   "outputs": [
    {
     "data": {
      "text/plain": [
       "<Wires = [1, 2]>"
      ]
     },
     "execution_count": 19,
     "metadata": {},
     "output_type": "execute_result"
    }
   ],
   "source": [
    "new_hamiltonian.ops[0].wires"
   ]
  },
  {
   "cell_type": "code",
   "execution_count": null,
   "metadata": {},
   "outputs": [],
   "source": []
  },
  {
   "cell_type": "code",
   "execution_count": 20,
   "metadata": {},
   "outputs": [
    {
     "data": {
      "text/plain": [
       "True"
      ]
     },
     "execution_count": 20,
     "metadata": {},
     "output_type": "execute_result"
    }
   ],
   "source": [
    "coeffs = [0.0625, 0.0625, -0.0625, 0.0625, -0.0625, 0.0625, -0.0625, -0.0625]\n",
    "obs = [\n",
    "    qml.X(w0) @ qml.X(w1) @ qml.X(w2) @ qml.Y(w3),\n",
    "    qml.X(w0) @ qml.X(w1) @ qml.Y(w2) @ qml.X(w3),\n",
    "    qml.X(w0) @ qml.Y(w1) @ qml.X(w2) @ qml.X(w3),\n",
    "    qml.X(w0) @ qml.Y(w1) @ qml.Y(w2) @ qml.Y(w3),\n",
    "    qml.Y(w0) @ qml.X(w1) @ qml.X(w2) @ qml.X(w3),\n",
    "    qml.Y(w0) @ qml.X(w1) @ qml.Y(w2) @ qml.Y(w3),\n",
    "    qml.Y(w0) @ qml.Y(w1) @ qml.X(w2) @ qml.Y(w3),\n",
    "    qml.Y(w0) @ qml.Y(w1) @ qml.Y(w2) @ qml.X(w3),\n",
    "]\n",
    "\n",
    "Hamiltonian_instance = qml.Hamiltonian(coeffs, obs)\n",
    "\n",
    "new_opmath_instance = qml.dot(coeffs, obs)\n",
    "\n",
    "new_hamiltonian = convert_to_hamiltonian(new_opmath_instance)\n",
    "qml.equal(Hamiltonian_instance, new_hamiltonian)"
   ]
  },
  {
   "cell_type": "code",
   "execution_count": null,
   "metadata": {},
   "outputs": [],
   "source": []
  },
  {
   "cell_type": "code",
   "execution_count": 21,
   "metadata": {},
   "outputs": [
    {
     "data": {
      "text/plain": [
       "True"
      ]
     },
     "execution_count": 21,
     "metadata": {},
     "output_type": "execute_result"
    }
   ],
   "source": [
    "Hamiltonian_instance = 0.25 * (\n",
    "    qml.X(w0) @ qml.Z(w1) @ qml.Y(w2)\n",
    "    - (qml.Y(w0) @ qml.Z(w1) @ qml.X(w2))\n",
    "    + (qml.X(w1) @ qml.Z(w2) @ qml.Y(w3))\n",
    "    - (qml.Y(w1) @ qml.Z(w2) @ qml.X(w3))\n",
    ")\n",
    "\n",
    "new_opmath_instance = qml.s_prod(\n",
    "    0.25,\n",
    "    (\n",
    "        qml.X(w0) @ qml.Z(w1) @ qml.Y(w2)\n",
    "        - (qml.Y(w0) @ qml.Z(w1) @ qml.X(w2))\n",
    "        + (qml.X(w1) @ qml.Z(w2) @ qml.Y(w3))\n",
    "        - (qml.Y(w1) @ qml.Z(w2) @ qml.X(w3))\n",
    "    ),\n",
    ")\n",
    "\n",
    "new_hamiltonian = convert_to_hamiltonian(new_opmath_instance)\n",
    "qml.equal(Hamiltonian_instance, new_hamiltonian)"
   ]
  },
  {
   "cell_type": "code",
   "execution_count": 22,
   "metadata": {},
   "outputs": [
    {
     "data": {
      "text/plain": [
       "True"
      ]
     },
     "execution_count": 22,
     "metadata": {},
     "output_type": "execute_result"
    }
   ],
   "source": [
    "Hamiltonian_instance = 0.5 * qml.Identity(w1) @ qml.Identity(w2) - 0.25 * (\n",
    "    qml.Identity(w1) @ qml.Z(w2)\n",
    "    + qml.Z(w1) @ qml.Identity(w2)\n",
    "    + qml.X(w1) @ qml.X(w2)\n",
    "    + qml.Y(w1) @ qml.Y(w2)\n",
    ")\n",
    "\n",
    "new_opmath_instance = qml.s_prod(0.5, qml.Identity(w1) @ qml.Identity(w2)) - qml.s_prod(\n",
    "    0.25,\n",
    "    (\n",
    "        qml.Identity(w1) @ qml.Z(w2)\n",
    "        + qml.Z(w1) @ qml.Identity(w2)\n",
    "        + qml.X(w1) @ qml.X(w2)\n",
    "        + qml.Y(w1) @ qml.Y(w2)\n",
    "    ),\n",
    ")\n",
    "\n",
    "new_hamiltonian = convert_to_hamiltonian(new_opmath_instance)\n",
    "qml.equal(Hamiltonian_instance, new_hamiltonian)"
   ]
  },
  {
   "cell_type": "code",
   "execution_count": 23,
   "metadata": {},
   "outputs": [
    {
     "name": "stdout",
     "output_type": "stream",
     "text": [
      "  (-0.25) [Z2]\n",
      "+ (-0.25) [Z1]\n",
      "+ (0.5) [I1]\n",
      "+ (-0.25) [X2 X1]\n",
      "+ (-0.25) [Y2 Y1]\n"
     ]
    }
   ],
   "source": [
    "new_hamiltonian"
   ]
  },
  {
   "cell_type": "code",
   "execution_count": 24,
   "metadata": {},
   "outputs": [
    {
     "name": "stdout",
     "output_type": "stream",
     "text": [
      "  (-0.25) [Z2]\n",
      "+ (-0.25) [Z1]\n",
      "+ (0.5) [I1]\n",
      "+ (-0.25) [X1 X2]\n",
      "+ (-0.25) [Y1 Y2]\n"
     ]
    }
   ],
   "source": [
    "Hamiltonian_instance"
   ]
  },
  {
   "cell_type": "code",
   "execution_count": null,
   "metadata": {},
   "outputs": [],
   "source": []
  },
  {
   "cell_type": "code",
   "execution_count": null,
   "metadata": {},
   "outputs": [],
   "source": []
  },
  {
   "cell_type": "code",
   "execution_count": null,
   "metadata": {},
   "outputs": [],
   "source": []
  },
  {
   "cell_type": "markdown",
   "metadata": {},
   "source": [
    "# Exploring"
   ]
  },
  {
   "cell_type": "code",
   "execution_count": 25,
   "metadata": {},
   "outputs": [],
   "source": [
    "import pennylane as qml"
   ]
  },
  {
   "cell_type": "code",
   "execution_count": 26,
   "metadata": {},
   "outputs": [],
   "source": [
    "from pennylane import operation"
   ]
  },
  {
   "cell_type": "code",
   "execution_count": 27,
   "metadata": {},
   "outputs": [],
   "source": [
    "w0, w1, w2, w3 = [0, 1, 2, 3]\n",
    "coeffs = [0.0625, 0.0625, -0.0625, 0.0625, -0.0625, 0.0625, -0.0625, -0.0625]\n",
    "obs = [\n",
    "    qml.X(w0) @ qml.X(w1) @ qml.X(w2) @ qml.Y(w3),\n",
    "    qml.X(w0) @ qml.X(w1) @ qml.Y(w2) @ qml.X(w3),\n",
    "    qml.X(w0) @ qml.Y(w1) @ qml.X(w2) @ qml.X(w3),\n",
    "    qml.X(w0) @ qml.Y(w1) @ qml.Y(w2) @ qml.Y(w3),\n",
    "    qml.Y(w0) @ qml.X(w1) @ qml.X(w2) @ qml.X(w3),\n",
    "    qml.Y(w0) @ qml.X(w1) @ qml.Y(w2) @ qml.Y(w3),\n",
    "    qml.Y(w0) @ qml.Y(w1) @ qml.X(w2) @ qml.Y(w3),\n",
    "    qml.Y(w0) @ qml.Y(w1) @ qml.Y(w2) @ qml.X(w3),\n",
    "]\n",
    "\n",
    "\n",
    "new_opmath_instance = qml.dot(coeffs, obs)\n",
    "Hamiltonian_instance = qml.Hamiltonian(coeffs, obs)"
   ]
  },
  {
   "cell_type": "code",
   "execution_count": 28,
   "metadata": {},
   "outputs": [
    {
     "data": {
      "text/plain": [
       "(\n",
       "    0.0625 * (X(0) @ X(1) @ X(2) @ Y(3))\n",
       "  + 0.0625 * (X(0) @ X(1) @ Y(2) @ X(3))\n",
       "  + -0.0625 * (X(0) @ Y(1) @ X(2) @ X(3))\n",
       "  + 0.0625 * (X(0) @ Y(1) @ Y(2) @ Y(3))\n",
       "  + -0.0625 * (Y(0) @ X(1) @ X(2) @ X(3))\n",
       "  + 0.0625 * (Y(0) @ X(1) @ Y(2) @ Y(3))\n",
       "  + -0.0625 * (Y(0) @ Y(1) @ X(2) @ Y(3))\n",
       "  + -0.0625 * (Y(0) @ Y(1) @ Y(2) @ X(3))\n",
       ")"
      ]
     },
     "execution_count": 28,
     "metadata": {},
     "output_type": "execute_result"
    }
   ],
   "source": [
    "new_opmath_instance"
   ]
  },
  {
   "cell_type": "code",
   "execution_count": 29,
   "metadata": {},
   "outputs": [
    {
     "name": "stdout",
     "output_type": "stream",
     "text": [
      "<class 'pennylane.ops.op_math.sum.Sum'>\n"
     ]
    }
   ],
   "source": [
    "print(type(new_opmath_instance))"
   ]
  },
  {
   "cell_type": "code",
   "execution_count": 30,
   "metadata": {},
   "outputs": [
    {
     "name": "stdout",
     "output_type": "stream",
     "text": [
      "  (-0.0625) [X0 Y1 X2 X3]\n",
      "+ (-0.0625) [Y0 X1 X2 X3]\n",
      "+ (-0.0625) [Y0 Y1 X2 Y3]\n",
      "+ (-0.0625) [Y0 Y1 Y2 X3]\n",
      "+ (0.0625) [X0 X1 X2 Y3]\n",
      "+ (0.0625) [X0 X1 Y2 X3]\n",
      "+ (0.0625) [X0 Y1 Y2 Y3]\n",
      "+ (0.0625) [Y0 X1 Y2 Y3]\n"
     ]
    }
   ],
   "source": [
    "Hamiltonian_instance"
   ]
  },
  {
   "cell_type": "code",
   "execution_count": 31,
   "metadata": {},
   "outputs": [
    {
     "name": "stdout",
     "output_type": "stream",
     "text": [
      "<class 'pennylane.ops.qubit.hamiltonian.Hamiltonian'>\n"
     ]
    }
   ],
   "source": [
    "print(type(Hamiltonian_instance))"
   ]
  },
  {
   "cell_type": "markdown",
   "metadata": {},
   "source": [
    "## Hamiltonian methods"
   ]
  },
  {
   "cell_type": "code",
   "execution_count": 32,
   "metadata": {},
   "outputs": [
    {
     "data": {
      "text/plain": [
       "0"
      ]
     },
     "execution_count": 32,
     "metadata": {},
     "output_type": "execute_result"
    }
   ],
   "source": [
    "Hamiltonian_instance.arithmetic_depth"
   ]
  },
  {
   "cell_type": "code",
   "execution_count": 33,
   "metadata": {},
   "outputs": [
    {
     "data": {
      "text/plain": [
       "[0.0625, 0.0625, -0.0625, 0.0625, -0.0625, 0.0625, -0.0625, -0.0625]"
      ]
     },
     "execution_count": 33,
     "metadata": {},
     "output_type": "execute_result"
    }
   ],
   "source": [
    "Hamiltonian_instance.coeffs"
   ]
  },
  {
   "cell_type": "code",
   "execution_count": 34,
   "metadata": {},
   "outputs": [
    {
     "data": {
      "text/plain": [
       "((0,), (1,), (2,), (3,), (4,), (5,), (6,), (7,))"
      ]
     },
     "execution_count": 34,
     "metadata": {},
     "output_type": "execute_result"
    }
   ],
   "source": [
    "Hamiltonian_instance.compute_grouping()\n",
    "Hamiltonian_instance.grouping_indices"
   ]
  },
  {
   "cell_type": "code",
   "execution_count": 35,
   "metadata": {},
   "outputs": [
    {
     "data": {
      "text/plain": [
       "([0.0625, 0.0625, -0.0625, 0.0625, -0.0625, 0.0625, -0.0625, -0.0625],\n",
       " [X(0) @ X(1) @ X(2) @ Y(3),\n",
       "  X(0) @ X(1) @ Y(2) @ X(3),\n",
       "  X(0) @ Y(1) @ X(2) @ X(3),\n",
       "  X(0) @ Y(1) @ Y(2) @ Y(3),\n",
       "  Y(0) @ X(1) @ X(2) @ X(3),\n",
       "  Y(0) @ X(1) @ Y(2) @ Y(3),\n",
       "  Y(0) @ Y(1) @ X(2) @ Y(3),\n",
       "  Y(0) @ Y(1) @ Y(2) @ X(3)])"
      ]
     },
     "execution_count": 35,
     "metadata": {},
     "output_type": "execute_result"
    }
   ],
   "source": [
    "Hamiltonian_instance.terms()"
   ]
  },
  {
   "cell_type": "code",
   "execution_count": 36,
   "metadata": {},
   "outputs": [
    {
     "data": {
      "text/plain": [
       "{'ops': [X(0) @ X(1) @ X(2) @ Y(3),\n",
       "  X(0) @ X(1) @ Y(2) @ X(3),\n",
       "  X(0) @ Y(1) @ X(2) @ X(3),\n",
       "  X(0) @ Y(1) @ Y(2) @ Y(3),\n",
       "  Y(0) @ X(1) @ X(2) @ X(3),\n",
       "  Y(0) @ X(1) @ Y(2) @ Y(3),\n",
       "  Y(0) @ Y(1) @ X(2) @ Y(3),\n",
       "  Y(0) @ Y(1) @ Y(2) @ X(3)]}"
      ]
     },
     "execution_count": 36,
     "metadata": {},
     "output_type": "execute_result"
    }
   ],
   "source": [
    "Hamiltonian_instance.hyperparameters"
   ]
  },
  {
   "cell_type": "code",
   "execution_count": 37,
   "metadata": {},
   "outputs": [
    {
     "data": {
      "text/plain": [
       "[X(0) @ X(1) @ X(2) @ Y(3),\n",
       " X(0) @ X(1) @ Y(2) @ X(3),\n",
       " X(0) @ Y(1) @ X(2) @ X(3),\n",
       " X(0) @ Y(1) @ Y(2) @ Y(3),\n",
       " Y(0) @ X(1) @ X(2) @ X(3),\n",
       " Y(0) @ X(1) @ Y(2) @ Y(3),\n",
       " Y(0) @ Y(1) @ X(2) @ Y(3),\n",
       " Y(0) @ Y(1) @ Y(2) @ X(3)]"
      ]
     },
     "execution_count": 37,
     "metadata": {},
     "output_type": "execute_result"
    }
   ],
   "source": [
    "Hamiltonian_instance.ops"
   ]
  },
  {
   "cell_type": "markdown",
   "metadata": {},
   "source": [
    "## New opmath methods"
   ]
  },
  {
   "cell_type": "code",
   "execution_count": 38,
   "metadata": {},
   "outputs": [
    {
     "data": {
      "text/plain": [
       "[0.0625, 0.0625, -0.0625, 0.0625, -0.0625, 0.0625, -0.0625, -0.0625]"
      ]
     },
     "execution_count": 38,
     "metadata": {},
     "output_type": "execute_result"
    }
   ],
   "source": [
    "new_opmath_instance.terms()[0]  # Questo equivale a Hamiltonian_instance.coeffs"
   ]
  },
  {
   "cell_type": "code",
   "execution_count": 39,
   "metadata": {},
   "outputs": [
    {
     "data": {
      "text/plain": [
       "True"
      ]
     },
     "execution_count": 39,
     "metadata": {},
     "output_type": "execute_result"
    }
   ],
   "source": [
    "new_opmath_instance.terms()[0] == Hamiltonian_instance.coeffs"
   ]
  },
  {
   "cell_type": "markdown",
   "metadata": {},
   "source": [
    "Attenzione!\n",
    "\n",
    "`new_opmath_instance.terms()[1]` e `Hamiltonian_instance.ops` *non* sono equivalenti, almeno per la seguente ragione.\n",
    "\n",
    "There is a switch between the first two columns. \n",
    "\n",
    "**Why???**"
   ]
  },
  {
   "cell_type": "code",
   "execution_count": 40,
   "metadata": {},
   "outputs": [
    {
     "data": {
      "text/plain": [
       "(\n",
       "    0.0625 * (X(0) @ X(1) @ X(2) @ Y(3))\n",
       "  + 0.0625 * (X(0) @ X(1) @ Y(2) @ X(3))\n",
       "  + -0.0625 * (X(0) @ Y(1) @ X(2) @ X(3))\n",
       "  + 0.0625 * (X(0) @ Y(1) @ Y(2) @ Y(3))\n",
       "  + -0.0625 * (Y(0) @ X(1) @ X(2) @ X(3))\n",
       "  + 0.0625 * (Y(0) @ X(1) @ Y(2) @ Y(3))\n",
       "  + -0.0625 * (Y(0) @ Y(1) @ X(2) @ Y(3))\n",
       "  + -0.0625 * (Y(0) @ Y(1) @ Y(2) @ X(3))\n",
       ")"
      ]
     },
     "execution_count": 40,
     "metadata": {},
     "output_type": "execute_result"
    }
   ],
   "source": [
    "new_opmath_instance"
   ]
  },
  {
   "cell_type": "code",
   "execution_count": 41,
   "metadata": {},
   "outputs": [
    {
     "data": {
      "text/plain": [
       "([0.0625, 0.0625, -0.0625, 0.0625, -0.0625, 0.0625, -0.0625, -0.0625],\n",
       " [X(1) @ X(0) @ X(2) @ Y(3),\n",
       "  X(1) @ X(0) @ Y(2) @ X(3),\n",
       "  Y(1) @ X(0) @ X(2) @ X(3),\n",
       "  Y(1) @ X(0) @ Y(2) @ Y(3),\n",
       "  X(1) @ Y(0) @ X(2) @ X(3),\n",
       "  X(1) @ Y(0) @ Y(2) @ Y(3),\n",
       "  Y(1) @ Y(0) @ X(2) @ Y(3),\n",
       "  Y(1) @ Y(0) @ Y(2) @ X(3)])"
      ]
     },
     "execution_count": 41,
     "metadata": {},
     "output_type": "execute_result"
    }
   ],
   "source": [
    "new_opmath_instance.terms()"
   ]
  },
  {
   "cell_type": "code",
   "execution_count": 42,
   "metadata": {},
   "outputs": [
    {
     "data": {
      "text/plain": [
       "[X(1) @ X(0) @ X(2) @ Y(3),\n",
       " X(1) @ X(0) @ Y(2) @ X(3),\n",
       " Y(1) @ X(0) @ X(2) @ X(3),\n",
       " Y(1) @ X(0) @ Y(2) @ Y(3),\n",
       " X(1) @ Y(0) @ X(2) @ X(3),\n",
       " X(1) @ Y(0) @ Y(2) @ Y(3),\n",
       " Y(1) @ Y(0) @ X(2) @ Y(3),\n",
       " Y(1) @ Y(0) @ Y(2) @ X(3)]"
      ]
     },
     "execution_count": 42,
     "metadata": {},
     "output_type": "execute_result"
    }
   ],
   "source": [
    "new_opmath_instance.terms()[1]"
   ]
  },
  {
   "cell_type": "code",
   "execution_count": 43,
   "metadata": {},
   "outputs": [
    {
     "data": {
      "text/plain": [
       "[X(0) @ X(1) @ X(2) @ Y(3),\n",
       " X(0) @ X(1) @ Y(2) @ X(3),\n",
       " X(0) @ Y(1) @ X(2) @ X(3),\n",
       " X(0) @ Y(1) @ Y(2) @ Y(3),\n",
       " Y(0) @ X(1) @ X(2) @ X(3),\n",
       " Y(0) @ X(1) @ Y(2) @ Y(3),\n",
       " Y(0) @ Y(1) @ X(2) @ Y(3),\n",
       " Y(0) @ Y(1) @ Y(2) @ X(3)]"
      ]
     },
     "execution_count": 43,
     "metadata": {},
     "output_type": "execute_result"
    }
   ],
   "source": [
    "Hamiltonian_instance.ops"
   ]
  },
  {
   "cell_type": "markdown",
   "metadata": {},
   "source": [
    "Secondariamente, non sono equivalenti anche per la seguente ragione.\n",
    "\n",
    "Un Tensor viene riconosciuto come `Observable`, mentre un `Prod` no.\n",
    "\n",
    "Questo risulta un ostacolo nel creare un Hamiltonian partendo da una new opmath instance."
   ]
  },
  {
   "cell_type": "code",
   "execution_count": 44,
   "metadata": {},
   "outputs": [
    {
     "data": {
      "text/plain": [
       "pennylane.operation.Tensor"
      ]
     },
     "execution_count": 44,
     "metadata": {},
     "output_type": "execute_result"
    }
   ],
   "source": [
    "type(Hamiltonian_instance.ops[0])"
   ]
  },
  {
   "cell_type": "code",
   "execution_count": 45,
   "metadata": {},
   "outputs": [
    {
     "data": {
      "text/plain": [
       "True"
      ]
     },
     "execution_count": 45,
     "metadata": {},
     "output_type": "execute_result"
    }
   ],
   "source": [
    "isinstance(Hamiltonian_instance.ops[0], qml.operation.Observable)"
   ]
  },
  {
   "cell_type": "code",
   "execution_count": 46,
   "metadata": {},
   "outputs": [
    {
     "data": {
      "text/plain": [
       "pennylane.ops.op_math.prod.Prod"
      ]
     },
     "execution_count": 46,
     "metadata": {},
     "output_type": "execute_result"
    }
   ],
   "source": [
    "type(new_opmath_instance.terms()[1][0])"
   ]
  },
  {
   "cell_type": "code",
   "execution_count": 47,
   "metadata": {},
   "outputs": [
    {
     "data": {
      "text/plain": [
       "False"
      ]
     },
     "execution_count": 47,
     "metadata": {},
     "output_type": "execute_result"
    }
   ],
   "source": [
    "isinstance(new_opmath_instance.terms()[1][0], qml.operation.Observable)"
   ]
  },
  {
   "cell_type": "code",
   "execution_count": 48,
   "metadata": {},
   "outputs": [],
   "source": [
    "# Throws an error\n",
    "\n",
    "# qml.Hamiltonian(new_opmath_instance.terms()[0], new_opmath_instance.terms()[1])"
   ]
  },
  {
   "cell_type": "markdown",
   "metadata": {},
   "source": [
    "## From Prod to Hamiltonian\n",
    "\n",
    "Devo capire per quale motivo l'ordine va a puttane. Al 99% per il motivo riportato sopra (cioe quando chiamo `new_opmath_instance.terms()[1]`)"
   ]
  },
  {
   "cell_type": "code",
   "execution_count": 49,
   "metadata": {},
   "outputs": [],
   "source": [
    "w0, w1, w2, w3 = [0, 1, 2, 3]\n",
    "coeffs = [0.0625, 0.0625, -0.0625, 0.0625, -0.0625, 0.0625, -0.0625, -0.0625]\n",
    "obs = [\n",
    "    qml.X(w0) @ qml.X(w1) @ qml.X(w2) @ qml.Y(w3),\n",
    "    qml.X(w0) @ qml.X(w1) @ qml.Y(w2) @ qml.X(w3),\n",
    "    qml.X(w0) @ qml.Y(w1) @ qml.X(w2) @ qml.X(w3),\n",
    "    qml.X(w0) @ qml.Y(w1) @ qml.Y(w2) @ qml.Y(w3),\n",
    "    qml.Y(w0) @ qml.X(w1) @ qml.X(w2) @ qml.X(w3),\n",
    "    qml.Y(w0) @ qml.X(w1) @ qml.Y(w2) @ qml.Y(w3),\n",
    "    qml.Y(w0) @ qml.Y(w1) @ qml.X(w2) @ qml.Y(w3),\n",
    "    qml.Y(w0) @ qml.Y(w1) @ qml.Y(w2) @ qml.X(w3),\n",
    "]\n",
    "\n",
    "\n",
    "new_opmath_instance = qml.dot(coeffs, obs)\n",
    "Hamiltonian_instance = qml.Hamiltonian(coeffs, obs)"
   ]
  },
  {
   "cell_type": "code",
   "execution_count": 50,
   "metadata": {},
   "outputs": [],
   "source": [
    "from functools import reduce\n",
    "\n",
    "\n",
    "def _from_prod_to_tensor(Prod):\n",
    "    return reduce(lambda x, y: x @ operation.Tensor(y), Prod[1:], operation.Tensor(Prod[0]))"
   ]
  },
  {
   "cell_type": "code",
   "execution_count": 51,
   "metadata": {},
   "outputs": [],
   "source": [
    "new_opmath_coeffs, new_opmath_obs = new_opmath_instance.terms()"
   ]
  },
  {
   "cell_type": "code",
   "execution_count": 52,
   "metadata": {},
   "outputs": [],
   "source": [
    "for idx, prod in enumerate(new_opmath_obs):\n",
    "    new_opmath_obs[idx] = _from_prod_to_tensor(prod)"
   ]
  },
  {
   "cell_type": "code",
   "execution_count": 53,
   "metadata": {},
   "outputs": [],
   "source": [
    "transformed_hamiltonian = qml.Hamiltonian(new_opmath_coeffs, new_opmath_obs)"
   ]
  },
  {
   "cell_type": "code",
   "execution_count": 54,
   "metadata": {},
   "outputs": [
    {
     "name": "stdout",
     "output_type": "stream",
     "text": [
      "  (-0.0625) [Y1 X0 X2 X3]\n",
      "+ (-0.0625) [X1 Y0 X2 X3]\n",
      "+ (-0.0625) [Y1 Y0 X2 Y3]\n",
      "+ (-0.0625) [Y1 Y0 Y2 X3]\n",
      "+ (0.0625) [X1 X0 X2 Y3]\n",
      "+ (0.0625) [X1 X0 Y2 X3]\n",
      "+ (0.0625) [Y1 X0 Y2 Y3]\n",
      "+ (0.0625) [X1 Y0 Y2 Y3]\n"
     ]
    }
   ],
   "source": [
    "transformed_hamiltonian"
   ]
  },
  {
   "cell_type": "markdown",
   "metadata": {},
   "source": [
    "Anche se vengono riconosciute come uguali, quindi forse va bene per qualche motivo che ignoro (TODO capire questo)"
   ]
  },
  {
   "cell_type": "code",
   "execution_count": 55,
   "metadata": {},
   "outputs": [
    {
     "data": {
      "text/plain": [
       "True"
      ]
     },
     "execution_count": 55,
     "metadata": {},
     "output_type": "execute_result"
    }
   ],
   "source": [
    "qml.equal(Hamiltonian_instance, transformed_hamiltonian)"
   ]
  },
  {
   "cell_type": "markdown",
   "metadata": {},
   "source": [
    "### In conclusion"
   ]
  },
  {
   "cell_type": "code",
   "execution_count": 56,
   "metadata": {},
   "outputs": [],
   "source": [
    "def from_Prod_to_Hamiltonian(Prod_instance):\n",
    "\n",
    "    def _from_prod_to_tensor(Prod):\n",
    "        return reduce(lambda x, y: x @ operation.Tensor(y), Prod[1:], operation.Tensor(Prod[0]))\n",
    "\n",
    "    coeffs, obs = Prod_instance.terms()\n",
    "\n",
    "    for idx, prod in enumerate(obs):\n",
    "        obs[idx] = _from_prod_to_tensor(prod)\n",
    "\n",
    "    return qml.Hamiltonian(coeffs, obs)"
   ]
  },
  {
   "cell_type": "code",
   "execution_count": 57,
   "metadata": {},
   "outputs": [],
   "source": [
    "w0, w1, w2, w3 = [0, 1, 2, 3]\n",
    "coeffs = [0.0625, 0.0625, -0.0625, 0.0625, -0.0625, 0.0625, -0.0625, -0.0625]\n",
    "obs = [\n",
    "    qml.X(w0) @ qml.X(w1) @ qml.X(w2) @ qml.Y(w3),\n",
    "    qml.X(w0) @ qml.X(w1) @ qml.Y(w2) @ qml.X(w3),\n",
    "    qml.X(w0) @ qml.Y(w1) @ qml.X(w2) @ qml.X(w3),\n",
    "    qml.X(w0) @ qml.Y(w1) @ qml.Y(w2) @ qml.Y(w3),\n",
    "    qml.Y(w0) @ qml.X(w1) @ qml.X(w2) @ qml.X(w3),\n",
    "    qml.Y(w0) @ qml.X(w1) @ qml.Y(w2) @ qml.Y(w3),\n",
    "    qml.Y(w0) @ qml.Y(w1) @ qml.X(w2) @ qml.Y(w3),\n",
    "    qml.Y(w0) @ qml.Y(w1) @ qml.Y(w2) @ qml.X(w3),\n",
    "]\n",
    "\n",
    "\n",
    "new_opmath_instance = qml.dot(coeffs, obs)\n",
    "Hamiltonian_instance = qml.Hamiltonian(coeffs, obs)\n",
    "\n",
    "transformed_hamiltonian = from_Prod_to_Hamiltonian(new_opmath_instance)\n",
    "assert qml.equal(Hamiltonian_instance, transformed_hamiltonian)"
   ]
  },
  {
   "cell_type": "markdown",
   "metadata": {},
   "source": [
    "# From SProd to Hamiltonian"
   ]
  },
  {
   "cell_type": "markdown",
   "metadata": {},
   "source": [
    "Questa sotto va gia bene, ma potrei considerare il caso in cui la base sia un semplice prod anziche una somma"
   ]
  },
  {
   "cell_type": "code",
   "execution_count": 58,
   "metadata": {},
   "outputs": [],
   "source": [
    "Hamiltonian_instance = 0.25 * (qml.X(w1) @ qml.Y(w2) - qml.Y(w1) @ qml.X(w2))\n",
    "new_opmath_instance = qml.s_prod(0.25, (qml.X(w1) @ qml.Y(w2) - qml.Y(w1) @ qml.X(w2)))"
   ]
  },
  {
   "cell_type": "code",
   "execution_count": 59,
   "metadata": {},
   "outputs": [
    {
     "name": "stdout",
     "output_type": "stream",
     "text": [
      "  (-0.25) [Y1 X2]\n",
      "+ (0.25) [X1 Y2]\n"
     ]
    }
   ],
   "source": [
    "Hamiltonian_instance"
   ]
  },
  {
   "cell_type": "code",
   "execution_count": 60,
   "metadata": {},
   "outputs": [
    {
     "data": {
      "text/plain": [
       "pennylane.ops.qubit.hamiltonian.Hamiltonian"
      ]
     },
     "execution_count": 60,
     "metadata": {},
     "output_type": "execute_result"
    }
   ],
   "source": [
    "type(Hamiltonian_instance)"
   ]
  },
  {
   "cell_type": "code",
   "execution_count": 61,
   "metadata": {},
   "outputs": [
    {
     "data": {
      "text/plain": [
       "0.25 * (-1 * (Y(1) @ X(2)) + X(1) @ Y(2))"
      ]
     },
     "execution_count": 61,
     "metadata": {},
     "output_type": "execute_result"
    }
   ],
   "source": [
    "new_opmath_instance"
   ]
  },
  {
   "cell_type": "code",
   "execution_count": 62,
   "metadata": {},
   "outputs": [
    {
     "data": {
      "text/plain": [
       "pennylane.ops.op_math.sprod.SProd"
      ]
     },
     "execution_count": 62,
     "metadata": {},
     "output_type": "execute_result"
    }
   ],
   "source": [
    "type(new_opmath_instance)"
   ]
  },
  {
   "cell_type": "code",
   "execution_count": 63,
   "metadata": {},
   "outputs": [],
   "source": [
    "new_sum = new_opmath_instance.base"
   ]
  },
  {
   "cell_type": "code",
   "execution_count": 64,
   "metadata": {},
   "outputs": [
    {
     "data": {
      "text/plain": [
       "pennylane.ops.op_math.sum.Sum"
      ]
     },
     "execution_count": 64,
     "metadata": {},
     "output_type": "execute_result"
    }
   ],
   "source": [
    "type(new_sum)"
   ]
  },
  {
   "cell_type": "code",
   "execution_count": 65,
   "metadata": {},
   "outputs": [
    {
     "data": {
      "text/plain": [
       "([-1.0, 1.0], [X(2) @ Y(1), Y(2) @ X(1)])"
      ]
     },
     "execution_count": 65,
     "metadata": {},
     "output_type": "execute_result"
    }
   ],
   "source": [
    "new_sum.terms()"
   ]
  },
  {
   "cell_type": "code",
   "execution_count": 66,
   "metadata": {},
   "outputs": [],
   "source": [
    "coeffs, obs = new_sum.terms()"
   ]
  },
  {
   "cell_type": "code",
   "execution_count": 67,
   "metadata": {},
   "outputs": [
    {
     "data": {
      "text/plain": [
       "[X(2) @ Y(1), Y(2) @ X(1)]"
      ]
     },
     "execution_count": 67,
     "metadata": {},
     "output_type": "execute_result"
    }
   ],
   "source": [
    "obs"
   ]
  },
  {
   "cell_type": "code",
   "execution_count": 68,
   "metadata": {},
   "outputs": [
    {
     "ename": "NameError",
     "evalue": "name 'frisus_Hamiltonian' is not defined",
     "output_type": "error",
     "traceback": [
      "\u001b[0;31m---------------------------------------------------------------------------\u001b[0m",
      "\u001b[0;31mNameError\u001b[0m                                 Traceback (most recent call last)",
      "Cell \u001b[0;32mIn[68], line 1\u001b[0m\n\u001b[0;32m----> 1\u001b[0m tmp_Ham \u001b[38;5;241m=\u001b[39m \u001b[43mfrisus_Hamiltonian\u001b[49m(coeffs, obs)\n",
      "\u001b[0;31mNameError\u001b[0m: name 'frisus_Hamiltonian' is not defined"
     ]
    }
   ],
   "source": [
    "tmp_Ham = frisus_Hamiltonian(coeffs, obs)"
   ]
  },
  {
   "cell_type": "code",
   "execution_count": null,
   "metadata": {},
   "outputs": [
    {
     "data": {
      "text/plain": [
       "True"
      ]
     },
     "execution_count": 196,
     "metadata": {},
     "output_type": "execute_result"
    }
   ],
   "source": [
    "qml.equal(tmp_Ham * new_opmath_instance.scalar, Hamiltonian_instance)"
   ]
  },
  {
   "cell_type": "markdown",
   "metadata": {},
   "source": [
    "# Examining all possible cases"
   ]
  },
  {
   "cell_type": "code",
   "execution_count": null,
   "metadata": {},
   "outputs": [],
   "source": [
    "w0, w1, w2, w3 = [0, 1, 2, 3]"
   ]
  },
  {
   "cell_type": "markdown",
   "metadata": {},
   "source": [
    "## Prod"
   ]
  },
  {
   "cell_type": "markdown",
   "metadata": {},
   "source": [
    "# Prod fra prod"
   ]
  },
  {
   "cell_type": "code",
   "execution_count": null,
   "metadata": {},
   "outputs": [],
   "source": [
    "prod_fra_prod = qml.prod(qml.X(w0) @ qml.Y(w1), qml.Y(w2) @ qml.X(w3), qml.Z(w0) @ qml.Y(w3))"
   ]
  },
  {
   "cell_type": "code",
   "execution_count": null,
   "metadata": {},
   "outputs": [
    {
     "data": {
      "text/plain": [
       "(X(0) @ Y(1)) @ (Y(2) @ X(3)) @ (Z(0) @ Y(3))"
      ]
     },
     "execution_count": 117,
     "metadata": {},
     "output_type": "execute_result"
    }
   ],
   "source": [
    "prod_fra_prod"
   ]
  },
  {
   "cell_type": "markdown",
   "metadata": {},
   "source": [
    "Con la funzione `simplify` possiamo ricondurla a un prodotto unico:"
   ]
  },
  {
   "cell_type": "code",
   "execution_count": null,
   "metadata": {},
   "outputs": [
    {
     "data": {
      "text/plain": [
       "Z(3) @ Y(2) @ Y(1) @ Y(0)"
      ]
     },
     "execution_count": 118,
     "metadata": {},
     "output_type": "execute_result"
    }
   ],
   "source": [
    "qml.simplify(prod_fra_prod)"
   ]
  },
  {
   "cell_type": "markdown",
   "metadata": {},
   "source": [
    "# Prod fra sums"
   ]
  },
  {
   "cell_type": "code",
   "execution_count": null,
   "metadata": {},
   "outputs": [
    {
     "name": "stderr",
     "output_type": "stream",
     "text": [
      "/home/pietropaolo.frisoni/anaconda3/envs/PennyLane/lib/python3.9/site-packages/PennyLane-0.36.0.dev0-py3.9.egg/pennylane/operation.py:2066: UserWarning: Tensor object acts on overlapping wires; in some PennyLane functions this will lead to undefined behaviour\n",
      "  warnings.warn(\n"
     ]
    }
   ],
   "source": [
    "prod_fra_sums = qml.prod(\n",
    "    qml.X(w0) + qml.Z(w0) @ qml.Y(w1),\n",
    "    qml.Y(w2) + qml.X(w3),\n",
    "    qml.Z(w0) @ qml.Y(w3) @ qml.X(w0) + qml.X(w3),\n",
    ")"
   ]
  },
  {
   "cell_type": "code",
   "execution_count": null,
   "metadata": {},
   "outputs": [
    {
     "data": {
      "text/plain": [
       "(X(0) + Z(0) @ Y(1)) @ (Y(2) + X(3)) @ (Z(0) @ Y(3) @ X(0) + X(3))"
      ]
     },
     "execution_count": 120,
     "metadata": {},
     "output_type": "execute_result"
    }
   ],
   "source": [
    "prod_fra_sums"
   ]
  },
  {
   "cell_type": "code",
   "execution_count": null,
   "metadata": {},
   "outputs": [],
   "source": [
    "prod_fra_sums = qml.simplify(prod_fra_sums)"
   ]
  },
  {
   "cell_type": "code",
   "execution_count": null,
   "metadata": {},
   "outputs": [
    {
     "data": {
      "text/plain": [
       "(\n",
       "    (-1+0j) * (Y(3) @ Z(0) @ Y(2))\n",
       "  + Y(2) @ X(0) @ X(3)\n",
       "  + -1j * (Z(3) @ Z(0))\n",
       "  + X(0)\n",
       "  + Y(1) @ X(0) @ Y(2) @ Y(3)\n",
       "  + Y(1) @ Z(0) @ Y(2) @ X(3)\n",
       "  + 1j * (Y(1) @ X(0) @ Z(3))\n",
       "  + Y(1) @ Z(0)\n",
       ")"
      ]
     },
     "execution_count": 128,
     "metadata": {},
     "output_type": "execute_result"
    }
   ],
   "source": [
    "prod_fra_sums"
   ]
  },
  {
   "cell_type": "markdown",
   "metadata": {},
   "source": [
    "Con la funzione `simplify` possiamo ricondurla a una somma di prodotti OPPURE prodotti scalari"
   ]
  },
  {
   "cell_type": "code",
   "execution_count": null,
   "metadata": {},
   "outputs": [
    {
     "data": {
      "text/plain": [
       "pennylane.ops.op_math.sum.Sum"
      ]
     },
     "execution_count": 129,
     "metadata": {},
     "output_type": "execute_result"
    }
   ],
   "source": [
    "type(qml.simplify(prod_fra_sums))"
   ]
  },
  {
   "cell_type": "code",
   "execution_count": null,
   "metadata": {},
   "outputs": [
    {
     "data": {
      "text/plain": [
       "pennylane.ops.op_math.sprod.SProd"
      ]
     },
     "execution_count": 133,
     "metadata": {},
     "output_type": "execute_result"
    }
   ],
   "source": [
    "type(prod_fra_sums[0])"
   ]
  },
  {
   "cell_type": "markdown",
   "metadata": {},
   "source": [
    "# Prod fra prod e sum"
   ]
  },
  {
   "cell_type": "code",
   "execution_count": null,
   "metadata": {},
   "outputs": [],
   "source": [
    "prod_fra_prod_e_sum = qml.prod(qml.Z(w0) @ qml.Y(w1), qml.Y(w2) + qml.X(w3), qml.Z(w0) + qml.X(w2))"
   ]
  },
  {
   "cell_type": "code",
   "execution_count": null,
   "metadata": {},
   "outputs": [
    {
     "data": {
      "text/plain": [
       "(Z(0) @ Y(1)) @ (Y(2) + X(3)) @ (Z(0) + X(2))"
      ]
     },
     "execution_count": 137,
     "metadata": {},
     "output_type": "execute_result"
    }
   ],
   "source": [
    "prod_fra_prod_e_sum"
   ]
  },
  {
   "cell_type": "markdown",
   "metadata": {},
   "source": [
    "Con la funzione `simplify` possiamo ricondurla a una somma di prodotti OPPURE prodotti scalari"
   ]
  },
  {
   "cell_type": "code",
   "execution_count": null,
   "metadata": {},
   "outputs": [],
   "source": [
    "prod_fra_prod_e_sum = qml.simplify(prod_fra_prod_e_sum)"
   ]
  },
  {
   "cell_type": "code",
   "execution_count": null,
   "metadata": {},
   "outputs": [
    {
     "data": {
      "text/plain": [
       "(\n",
       "    Y(1) @ Y(2)\n",
       "  + -1j * (Y(1) @ Z(0) @ Z(2))\n",
       "  + Y(1) @ X(3)\n",
       "  + Y(1) @ Z(0) @ X(3) @ X(2)\n",
       ")"
      ]
     },
     "execution_count": 139,
     "metadata": {},
     "output_type": "execute_result"
    }
   ],
   "source": [
    "prod_fra_prod_e_sum"
   ]
  },
  {
   "cell_type": "code",
   "execution_count": null,
   "metadata": {},
   "outputs": [
    {
     "data": {
      "text/plain": [
       "pennylane.ops.op_math.sum.Sum"
      ]
     },
     "execution_count": 140,
     "metadata": {},
     "output_type": "execute_result"
    }
   ],
   "source": [
    "type(qml.simplify(prod_fra_sums))"
   ]
  },
  {
   "cell_type": "markdown",
   "metadata": {},
   "source": [
    "# Prod fra Sprods"
   ]
  },
  {
   "cell_type": "code",
   "execution_count": null,
   "metadata": {},
   "outputs": [],
   "source": [
    "prod_fra_sprods = qml.prod(\n",
    "    qml.s_prod(3, qml.Z(w0)) @ qml.Y(w1),\n",
    "    qml.Y(w2) + qml.s_prod(3, qml.X(w3)),\n",
    "    qml.Z(w0) + qml.X(w2),\n",
    ")"
   ]
  },
  {
   "cell_type": "code",
   "execution_count": null,
   "metadata": {},
   "outputs": [
    {
     "data": {
      "text/plain": [
       "((3 * Z(0)) @ Y(1)) @ (Y(2) + 3 * X(3)) @ (Z(0) + X(2))"
      ]
     },
     "execution_count": 146,
     "metadata": {},
     "output_type": "execute_result"
    }
   ],
   "source": [
    "prod_fra_sprods"
   ]
  },
  {
   "cell_type": "code",
   "execution_count": null,
   "metadata": {},
   "outputs": [],
   "source": [
    "prod_fra_sprods = qml.simplify(prod_fra_sprods)"
   ]
  },
  {
   "cell_type": "code",
   "execution_count": null,
   "metadata": {},
   "outputs": [
    {
     "data": {
      "text/plain": [
       "3"
      ]
     },
     "execution_count": 163,
     "metadata": {},
     "output_type": "execute_result"
    }
   ],
   "source": [
    "prod_fra_sprods.arithmetic_depth"
   ]
  },
  {
   "cell_type": "code",
   "execution_count": null,
   "metadata": {},
   "outputs": [
    {
     "data": {
      "text/plain": [
       "([3.0, -3j, 9.0, 9.0],\n",
       " [Y(1) @ Y(2), Y(1) @ Z(0) @ Z(2), Y(1) @ X(3), Y(1) @ Z(0) @ X(3) @ X(2)])"
      ]
     },
     "execution_count": 162,
     "metadata": {},
     "output_type": "execute_result"
    }
   ],
   "source": [
    "prod_fra_sprods.terms()"
   ]
  },
  {
   "cell_type": "code",
   "execution_count": null,
   "metadata": {},
   "outputs": [],
   "source": [
    "coeffs, obs = prod_fra_sprods.terms()"
   ]
  },
  {
   "cell_type": "markdown",
   "metadata": {},
   "source": [
    "Anche in questo caso si ha una somma fra prodotti (scalari). Che sia questo il caso generale?"
   ]
  },
  {
   "cell_type": "code",
   "execution_count": null,
   "metadata": {},
   "outputs": [],
   "source": []
  },
  {
   "cell_type": "code",
   "execution_count": null,
   "metadata": {},
   "outputs": [],
   "source": []
  },
  {
   "cell_type": "code",
   "execution_count": null,
   "metadata": {},
   "outputs": [],
   "source": []
  },
  {
   "cell_type": "code",
   "execution_count": null,
   "metadata": {},
   "outputs": [
    {
     "ename": "NameError",
     "evalue": "name 'prod_fra_sprods' is not defined",
     "output_type": "error",
     "traceback": [
      "\u001b[0;31m---------------------------------------------------------------------------\u001b[0m",
      "\u001b[0;31mNameError\u001b[0m                                 Traceback (most recent call last)",
      "Cell \u001b[0;32mIn[145], line 1\u001b[0m\n\u001b[0;32m----> 1\u001b[0m coeffs, obs \u001b[38;5;241m=\u001b[39m \u001b[43mprod_fra_sprods\u001b[49m\u001b[38;5;241m.\u001b[39mterms()\n",
      "\u001b[0;31mNameError\u001b[0m: name 'prod_fra_sprods' is not defined"
     ]
    }
   ],
   "source": [
    "coeffs, obs = prod_fra_sprods.terms()"
   ]
  },
  {
   "cell_type": "code",
   "execution_count": null,
   "metadata": {},
   "outputs": [
    {
     "data": {
      "text/plain": [
       "[Y(1) @ Y(2), Y(1) @ Z(0) @ Z(2), Y(1) @ X(3), Y(1) @ Z(0) @ X(3) @ X(2)]"
      ]
     },
     "execution_count": 153,
     "metadata": {},
     "output_type": "execute_result"
    }
   ],
   "source": [
    "obs"
   ]
  },
  {
   "cell_type": "code",
   "execution_count": null,
   "metadata": {},
   "outputs": [
    {
     "data": {
      "text/plain": [
       "pennylane.ops.op_math.prod.Prod"
      ]
     },
     "execution_count": 155,
     "metadata": {},
     "output_type": "execute_result"
    }
   ],
   "source": [
    "qml.ops.op_math.Prod"
   ]
  },
  {
   "cell_type": "code",
   "execution_count": 15,
   "metadata": {},
   "outputs": [],
   "source": [
    "from pennylane.ops.op_math import Prod, SProd, Sum\n",
    "\n",
    "from pennylane.operation import Tensor\n",
    "\n",
    "from pennylane.operation import Observable\n",
    "\n",
    "from functools import reduce\n",
    "\n",
    "from pennylane.ops import Identity\n",
    "\n",
    "\n",
    "def from_opmath_to_hamiltonian(opmath, verbosity=True):\n",
    "\n",
    "    assert isinstance(\n",
    "        opmath, (Prod, SProd, Sum)\n",
    "    ), \"Argument must be an opmath instance (Prod, SProd, Sum)\"\n",
    "\n",
    "    opmath = qml.simplify(opmath)\n",
    "\n",
    "    if verbosity:\n",
    "        print(f\"simplified instance = {opmath}\")\n",
    "        print(f\"type of simplified instance = {type(opmath)}\")\n",
    "        print(f\"instance(Observable) = {isinstance(opmath,Observable)}\")\n",
    "\n",
    "    # Questo serve per fixare il caso in cui l'istanza risulta solo un osservabile\n",
    "    # questo accade ad esempio (ma non solo) se si manda come argomento un solo SProd dove lo scalare is 1\n",
    "    # risolve anche il caso in cui l'istanza risulta solo la identita\n",
    "    if isinstance(opmath, Observable):\n",
    "        return qml.Hamiltonian(coeffs=[1], observables=[opmath])\n",
    "\n",
    "    identity_info = {}\n",
    "\n",
    "    # This has been added to keep track of wires associated with identity\n",
    "    if isinstance(opmath, Sum):\n",
    "        for idx, op in enumerate(opmath):\n",
    "            if isinstance(op, SProd):\n",
    "                if isinstance(op.base, Identity):\n",
    "                    # print(f\"op.base = {op.base}\")\n",
    "                    # print(f\"op.base.wires = {op.base.wires}\")\n",
    "                    identity_info[\"Id_idx\"] = idx\n",
    "                    identity_info[\"Id_wires\"] = op.base.wires\n",
    "            else:\n",
    "                if isinstance(op, Identity):\n",
    "                    # print(f\"op = {op}\")\n",
    "                    # print(f\"op = {op.wires}\")\n",
    "                    identity_info[\"Id_idx\"] = idx\n",
    "                    identity_info[\"Id_wires\"] = op.wires\n",
    "\n",
    "    print(f\"Identity info = {identity_info}\")\n",
    "\n",
    "    coeffs, obs = opmath.terms()\n",
    "\n",
    "    if identity_info:\n",
    "        obs[identity_info[\"Id_idx\"]]._wires = identity_info[\"Id_wires\"]\n",
    "\n",
    "    if verbosity:\n",
    "        print(f\"coeffs = {coeffs}\")\n",
    "        print(f\"obs = {obs}\")\n",
    "\n",
    "    for idx, p_i in enumerate(obs):\n",
    "        if isinstance(p_i, Prod):\n",
    "            obs[idx] = reduce(lambda x, y: x @ Tensor(y), p_i[1:], Tensor(p_i[0]))\n",
    "        else:  # This was added since, if the ob in obs is an operator instead of a Prod, the code above throws an error\n",
    "            obs[idx] = Tensor(p_i)\n",
    "\n",
    "    return qml.Hamiltonian(coeffs, obs)"
   ]
  },
  {
   "cell_type": "code",
   "execution_count": 16,
   "metadata": {},
   "outputs": [],
   "source": [
    "qml.operation.disable_new_opmath()"
   ]
  },
  {
   "cell_type": "code",
   "execution_count": 139,
   "metadata": {},
   "outputs": [
    {
     "name": "stdout",
     "output_type": "stream",
     "text": [
      "simplified instance = I(1)\n",
      "type of simplified instance = <class 'pennylane.ops.identity.Identity'>\n",
      "instance(Observable) = True\n"
     ]
    },
    {
     "data": {
      "text/plain": [
       "True"
      ]
     },
     "execution_count": 139,
     "metadata": {},
     "output_type": "execute_result"
    }
   ],
   "source": [
    "w0, w1, w2, w3 = [0, 1, 2, 3]\n",
    "\n",
    "coeffs = [0.5, 0.5]\n",
    "obs = [qml.Identity(1), qml.Identity(1)]\n",
    "hamiltonian_instance = qml.simplify(qml.Hamiltonian(coeffs, obs))\n",
    "opmath_instance = qml.dot(coeffs, obs)\n",
    "new_hamiltonian = from_opmath_to_hamiltonian(opmath_instance)\n",
    "qml.equal(hamiltonian_instance, new_hamiltonian)"
   ]
  },
  {
   "cell_type": "code",
   "execution_count": 140,
   "metadata": {},
   "outputs": [
    {
     "name": "stdout",
     "output_type": "stream",
     "text": [
      "  (1.0) [I1]\n"
     ]
    }
   ],
   "source": [
    "hamiltonian_instance"
   ]
  },
  {
   "cell_type": "code",
   "execution_count": 141,
   "metadata": {},
   "outputs": [
    {
     "name": "stdout",
     "output_type": "stream",
     "text": [
      "  (1) [I1]\n"
     ]
    }
   ],
   "source": [
    "new_hamiltonian"
   ]
  },
  {
   "cell_type": "code",
   "execution_count": 142,
   "metadata": {},
   "outputs": [
    {
     "name": "stdout",
     "output_type": "stream",
     "text": [
      "simplified instance = -0.5 * I(0)\n",
      "type of simplified instance = <class 'pennylane.ops.op_math.sprod.SProd'>\n",
      "instance(Observable) = False\n",
      "Identity info = {}\n",
      "coeffs = [-0.5]\n",
      "obs = [I(0)]\n"
     ]
    },
    {
     "data": {
      "text/plain": [
       "True"
      ]
     },
     "execution_count": 142,
     "metadata": {},
     "output_type": "execute_result"
    }
   ],
   "source": [
    "coeffs = [-0.5]\n",
    "obs = [qml.Identity(w0)]\n",
    "hamiltonian_instance = qml.simplify(qml.Hamiltonian(coeffs, obs))\n",
    "opmath_instance = qml.dot(coeffs, obs)\n",
    "new_hamiltonian = from_opmath_to_hamiltonian(opmath_instance)\n",
    "qml.equal(hamiltonian_instance, new_hamiltonian)"
   ]
  },
  {
   "cell_type": "code",
   "execution_count": 143,
   "metadata": {},
   "outputs": [
    {
     "name": "stdout",
     "output_type": "stream",
     "text": [
      "simplified instance = 0.1 * I(0) + 0.4 * (Y(2) @ X(1)) + 0.2 * (X(2) @ Y(1)) + -0.3 * (Z(2) @ Z(1))\n",
      "type of simplified instance = <class 'pennylane.ops.op_math.sum.Sum'>\n",
      "instance(Observable) = False\n",
      "Identity info = {'Id_idx': 0, 'Id_wires': <Wires = [0, 1, 2]>}\n",
      "coeffs = [0.1, 0.4, 0.2, -0.3]\n",
      "obs = [I(0), Y(2) @ X(1), X(2) @ Y(1), Z(2) @ Z(1)]\n"
     ]
    },
    {
     "data": {
      "text/plain": [
       "True"
      ]
     },
     "execution_count": 143,
     "metadata": {},
     "output_type": "execute_result"
    }
   ],
   "source": [
    "coeffs = [0.1, 0.4, 0.2, -0.3]\n",
    "obs = [\n",
    "    qml.Identity(w0),\n",
    "    qml.X(w1) @ qml.Y(w2),\n",
    "    qml.Y(w1) @ qml.X(w2),\n",
    "    qml.Z(w1) @ qml.Z(w2),\n",
    "]\n",
    "hamiltonian_instance = qml.simplify(qml.Hamiltonian(coeffs, obs))\n",
    "opmath_instance = qml.dot(coeffs, obs)\n",
    "new_hamiltonian = from_opmath_to_hamiltonian(opmath_instance)\n",
    "qml.equal(hamiltonian_instance, new_hamiltonian)"
   ]
  },
  {
   "cell_type": "code",
   "execution_count": 144,
   "metadata": {},
   "outputs": [
    {
     "name": "stdout",
     "output_type": "stream",
     "text": [
      "simplified instance = -0.5 * I(1) + 0.4 * (Y(2) @ X(1)) + -0.3 * (X(2) @ Y(1)) + 0.2 * (Z(2) @ Z(1))\n",
      "type of simplified instance = <class 'pennylane.ops.op_math.sum.Sum'>\n",
      "instance(Observable) = False\n",
      "Identity info = {'Id_idx': 0, 'Id_wires': <Wires = [1, 2]>}\n",
      "coeffs = [-0.5, 0.4, -0.3, 0.2]\n",
      "obs = [I(1), Y(2) @ X(1), X(2) @ Y(1), Z(2) @ Z(1)]\n"
     ]
    },
    {
     "data": {
      "text/plain": [
       "True"
      ]
     },
     "execution_count": 144,
     "metadata": {},
     "output_type": "execute_result"
    }
   ],
   "source": [
    "coeffs = [-0.5, 0.4, -0.3, 0.2]\n",
    "obs = [qml.Identity(w1), qml.X(w1) @ qml.Y(w2), qml.Y(w1) @ qml.X(w2), qml.Z(w1) @ qml.Z(w2)]\n",
    "hamiltonian_instance = qml.Hamiltonian(coeffs, obs)\n",
    "opmath_instance = qml.dot(coeffs, obs)\n",
    "new_hamiltonian = from_opmath_to_hamiltonian(opmath_instance)\n",
    "qml.equal(hamiltonian_instance, new_hamiltonian)"
   ]
  },
  {
   "cell_type": "code",
   "execution_count": 105,
   "metadata": {},
   "outputs": [
    {
     "name": "stdout",
     "output_type": "stream",
     "text": [
      "simplified instance = 0.25 * (Y(2) @ X(1)) + -0.25 * (X(2) @ Y(1))\n",
      "type of simplified instance = <class 'pennylane.ops.op_math.sum.Sum'>\n",
      "instance(Observable) = False\n",
      "Identity info = {}\n",
      "coeffs = [0.25, -0.25]\n",
      "obs = [Y(2) @ X(1), X(2) @ Y(1)]\n"
     ]
    },
    {
     "data": {
      "text/plain": [
       "True"
      ]
     },
     "execution_count": 105,
     "metadata": {},
     "output_type": "execute_result"
    }
   ],
   "source": [
    "coeffs = [0.25, -0.25]\n",
    "obs = [qml.X(w1) @ qml.Y(w2), qml.Y(w1) @ qml.X(w2)]\n",
    "hamiltonian_instance = qml.Hamiltonian(coeffs, obs)\n",
    "opmath_instance = qml.dot(coeffs, obs)\n",
    "new_hamiltonian = from_opmath_to_hamiltonian(opmath_instance)\n",
    "qml.equal(hamiltonian_instance, new_hamiltonian)"
   ]
  },
  {
   "cell_type": "code",
   "execution_count": null,
   "metadata": {},
   "outputs": [
    {
     "name": "stdout",
     "output_type": "stream",
     "text": [
      "  (-0.8) [I]\n",
      "+ (0.2) [X2 Y1]\n",
      "+ (0.2) [Z2 Z1]\n",
      "+ (0.4) [Y2 X1]\n"
     ]
    }
   ],
   "source": [
    "new_hamiltonian"
   ]
  },
  {
   "cell_type": "code",
   "execution_count": null,
   "metadata": {},
   "outputs": [
    {
     "name": "stdout",
     "output_type": "stream",
     "text": [
      "  (-0.9) [I1]\n",
      "+ (-0.3) [Y1 X2]\n",
      "+ (0.2) [Z1 Z2]\n",
      "+ (0.4) [X1 Y2]\n"
     ]
    }
   ],
   "source": [
    "qml.simplify(hamiltonian_instance)"
   ]
  },
  {
   "cell_type": "code",
   "execution_count": null,
   "metadata": {},
   "outputs": [
    {
     "name": "stdout",
     "output_type": "stream",
     "text": [
      "  (-0.9) [I]\n",
      "+ (-0.3) [X2 Y1]\n",
      "+ (0.2) [Z2 Z1]\n",
      "+ (0.4) [Y2 X1]\n"
     ]
    }
   ],
   "source": [
    "new_hamiltonian"
   ]
  },
  {
   "cell_type": "code",
   "execution_count": null,
   "metadata": {},
   "outputs": [],
   "source": [
    "opmath = qml.s_prod(2, qml.Identity(w1))\n",
    "opmath = qml.simplify(opmath)"
   ]
  },
  {
   "cell_type": "code",
   "execution_count": null,
   "metadata": {},
   "outputs": [
    {
     "data": {
      "text/plain": [
       "2.0 * I(1)"
      ]
     },
     "execution_count": 22,
     "metadata": {},
     "output_type": "execute_result"
    }
   ],
   "source": [
    "opmath"
   ]
  },
  {
   "cell_type": "code",
   "execution_count": null,
   "metadata": {},
   "outputs": [
    {
     "data": {
      "text/plain": [
       "([2.0], [I(1)])"
      ]
     },
     "execution_count": 101,
     "metadata": {},
     "output_type": "execute_result"
    }
   ],
   "source": [
    "opmath.terms()"
   ]
  },
  {
   "cell_type": "code",
   "execution_count": 106,
   "metadata": {},
   "outputs": [
    {
     "name": "stdout",
     "output_type": "stream",
     "text": [
      "simplified instance = -1.0 * I(1) + X(2)\n",
      "type of simplified instance = <class 'pennylane.ops.op_math.sum.Sum'>\n",
      "instance(Observable) = False\n",
      "Identity info = {'Id_idx': 0, 'Id_wires': <Wires = [1, 2]>}\n",
      "coeffs = [-1.0, 1.0]\n",
      "obs = [I(1), X(2)]\n",
      "\n",
      "\n",
      "\n",
      "   (1.0) [X2]\n",
      "+ (-1.0) [I1,2]\n"
     ]
    }
   ],
   "source": [
    "opmath = qml.sum(-qml.Identity(w1), qml.X(w2))\n",
    "\n",
    "H = from_opmath_to_hamiltonian(opmath, True)\n",
    "print(\"\\n\\n\\n\", H)"
   ]
  },
  {
   "cell_type": "code",
   "execution_count": 107,
   "metadata": {},
   "outputs": [
    {
     "name": "stdout",
     "output_type": "stream",
     "text": [
      "simplified instance = 3.0 * (Y(1) @ Y(2)) + -3j * (Y(1) @ Z(0) @ Z(2)) + 9.0 * (Y(1) @ X(3)) + 9.0 * (Y(1) @ Z(0) @ X(3) @ X(2))\n",
      "type of simplified instance = <class 'pennylane.ops.op_math.sum.Sum'>\n",
      "instance(Observable) = False\n",
      "Identity info = {}\n",
      "coeffs = [3.0, -3j, 9.0, 9.0]\n",
      "obs = [Y(1) @ Y(2), Y(1) @ Z(0) @ Z(2), Y(1) @ X(3), Y(1) @ Z(0) @ X(3) @ X(2)]\n",
      "\n",
      "\n",
      "\n",
      "   (3.0) [Y1 Y2]\n",
      "+ (9.0) [Y1 X3]\n",
      "+ (-3j) [Y1 Z0 Z2]\n",
      "+ (9.0) [Y1 Z0 X3 X2]\n"
     ]
    }
   ],
   "source": [
    "opmath = qml.prod(\n",
    "    qml.s_prod(3, qml.Z(w0)) @ qml.Y(w1),\n",
    "    qml.Y(w2) + qml.s_prod(3, qml.X(w3)),\n",
    "    qml.Z(w0) + qml.X(w2),\n",
    ")\n",
    "\n",
    "H = from_opmath_to_hamiltonian(opmath, True)\n",
    "print(\"\\n\\n\\n\", H)"
   ]
  },
  {
   "cell_type": "code",
   "execution_count": 108,
   "metadata": {},
   "outputs": [
    {
     "name": "stdout",
     "output_type": "stream",
     "text": [
      "simplified instance = 3.0 * (Y(1) @ Z(0))\n",
      "type of simplified instance = <class 'pennylane.ops.op_math.sprod.SProd'>\n",
      "instance(Observable) = False\n",
      "Identity info = {}\n",
      "coeffs = [3.0]\n",
      "obs = [Y(1) @ Z(0)]\n",
      "\n",
      "\n",
      "\n",
      "   (3.0) [Y1 Z0]\n"
     ]
    }
   ],
   "source": [
    "opmath = qml.prod(qml.s_prod(3, qml.Z(w0)) @ qml.Y(w1))\n",
    "\n",
    "H = from_opmath_to_hamiltonian(opmath, True)\n",
    "print(\"\\n\\n\\n\", H)"
   ]
  },
  {
   "cell_type": "code",
   "execution_count": 109,
   "metadata": {},
   "outputs": [
    {
     "name": "stdout",
     "output_type": "stream",
     "text": [
      "simplified instance = 3.0 * Z(0)\n",
      "type of simplified instance = <class 'pennylane.ops.op_math.sprod.SProd'>\n",
      "instance(Observable) = False\n",
      "Identity info = {}\n",
      "coeffs = [3.0]\n",
      "obs = [Z(0)]\n",
      "\n",
      "\n",
      "\n",
      "   (3.0) [Z0]\n"
     ]
    }
   ],
   "source": [
    "opmath = qml.prod(qml.s_prod(3, qml.Z(w0)))\n",
    "\n",
    "H = from_opmath_to_hamiltonian(opmath, True)\n",
    "print(\"\\n\\n\\n\", H)"
   ]
  },
  {
   "cell_type": "code",
   "execution_count": 110,
   "metadata": {},
   "outputs": [
    {
     "name": "stdout",
     "output_type": "stream",
     "text": [
      "simplified instance = 3.0 * (Y(1) @ Z(0)) + Y(2) + 4.0 * X(3) + Z(0) + 3.0 * X(2)\n",
      "type of simplified instance = <class 'pennylane.ops.op_math.sum.Sum'>\n",
      "instance(Observable) = False\n",
      "Identity info = {}\n",
      "coeffs = [3.0, 1.0, 4.0, 1.0, 3.0]\n",
      "obs = [Y(1) @ Z(0), Y(2), X(3), Z(0), X(2)]\n",
      "\n",
      "\n",
      "\n",
      "   (1.0) [Y2]\n",
      "+ (1.0) [Z0]\n",
      "+ (3.0) [X2]\n",
      "+ (4.0) [X3]\n",
      "+ (3.0) [Y1 Z0]\n"
     ]
    }
   ],
   "source": [
    "opmath = qml.sum(\n",
    "    qml.s_prod(3, qml.Z(w0)) @ qml.Y(w1),\n",
    "    qml.Y(w2) + qml.s_prod(3, qml.X(w3)),\n",
    "    qml.Z(w0) + qml.X(w2),\n",
    "    qml.X(w2) + qml.X(w3),\n",
    "    qml.X(w2),\n",
    ")\n",
    "\n",
    "H = from_opmath_to_hamiltonian(opmath, True)\n",
    "print(\"\\n\\n\\n\", H)"
   ]
  },
  {
   "cell_type": "code",
   "execution_count": 111,
   "metadata": {},
   "outputs": [
    {
     "name": "stdout",
     "output_type": "stream",
     "text": [
      "simplified instance = -1.0 * X(2)\n",
      "type of simplified instance = <class 'pennylane.ops.op_math.sprod.SProd'>\n",
      "instance(Observable) = False\n",
      "Identity info = {}\n",
      "coeffs = [-1.0]\n",
      "obs = [X(2)]\n",
      "\n",
      "\n",
      "\n",
      "   (-1.0) [X2]\n"
     ]
    }
   ],
   "source": [
    "opmath = qml.s_prod(-1, qml.X(w2))\n",
    "\n",
    "H = from_opmath_to_hamiltonian(opmath, True)\n",
    "print(\"\\n\\n\\n\", H)"
   ]
  },
  {
   "cell_type": "code",
   "execution_count": 112,
   "metadata": {},
   "outputs": [
    {
     "name": "stdout",
     "output_type": "stream",
     "text": [
      "simplified instance = X(2)\n",
      "type of simplified instance = <class 'pennylane.ops.qubit.non_parametric_ops.PauliX'>\n",
      "instance(Observable) = True\n",
      "\n",
      "\n",
      "\n",
      "   (1) [X2]\n"
     ]
    }
   ],
   "source": [
    "opmath = qml.s_prod(1, qml.X(w2))\n",
    "\n",
    "H = from_opmath_to_hamiltonian(opmath, True)\n",
    "print(\"\\n\\n\\n\", H)"
   ]
  },
  {
   "cell_type": "code",
   "execution_count": 113,
   "metadata": {},
   "outputs": [
    {
     "name": "stdout",
     "output_type": "stream",
     "text": [
      "simplified instance = I(2)\n",
      "type of simplified instance = <class 'pennylane.ops.identity.Identity'>\n",
      "instance(Observable) = True\n",
      "\n",
      "\n",
      "\n",
      "   (1) [I2]\n"
     ]
    }
   ],
   "source": [
    "opmath = qml.prod(qml.X(w2), qml.X(w2))\n",
    "\n",
    "H = from_opmath_to_hamiltonian(opmath, True)\n",
    "print(\"\\n\\n\\n\", H)"
   ]
  },
  {
   "cell_type": "code",
   "execution_count": 114,
   "metadata": {},
   "outputs": [
    {
     "name": "stdout",
     "output_type": "stream",
     "text": [
      "simplified instance = X(2) @ Y(3)\n",
      "type of simplified instance = <class 'pennylane.ops.op_math.prod.Prod'>\n",
      "instance(Observable) = False\n",
      "Identity info = {}\n",
      "coeffs = [1]\n",
      "obs = [X(2) @ Y(3)]\n",
      "\n",
      "\n",
      "\n",
      "   (1) [X2 Y3]\n"
     ]
    }
   ],
   "source": [
    "opmath = qml.prod(qml.Y(w3), qml.X(w2))\n",
    "\n",
    "H = from_opmath_to_hamiltonian(opmath, True)\n",
    "print(\"\\n\\n\\n\", H)"
   ]
  },
  {
   "cell_type": "code",
   "execution_count": 115,
   "metadata": {},
   "outputs": [
    {
     "name": "stdout",
     "output_type": "stream",
     "text": [
      "simplified instance = 2.0 * X(2)\n",
      "type of simplified instance = <class 'pennylane.ops.op_math.sprod.SProd'>\n",
      "instance(Observable) = False\n",
      "Identity info = {}\n",
      "coeffs = [2.0]\n",
      "obs = [X(2)]\n",
      "\n",
      "\n",
      "\n",
      "   (2.0) [X2]\n"
     ]
    }
   ],
   "source": [
    "opmath = qml.sum(qml.X(w2), qml.X(w2))\n",
    "\n",
    "H = from_opmath_to_hamiltonian(opmath, True)\n",
    "print(\"\\n\\n\\n\", H)"
   ]
  },
  {
   "cell_type": "code",
   "execution_count": 116,
   "metadata": {},
   "outputs": [
    {
     "name": "stdout",
     "output_type": "stream",
     "text": [
      "simplified instance = X(2)\n",
      "type of simplified instance = <class 'pennylane.ops.qubit.non_parametric_ops.PauliX'>\n",
      "instance(Observable) = True\n",
      "\n",
      "\n",
      "\n",
      "   (1) [X2]\n"
     ]
    }
   ],
   "source": [
    "opmath = qml.sum(qml.s_prod(0.5, qml.X(w2)), qml.s_prod(0.5, qml.X(w2)))\n",
    "\n",
    "H = from_opmath_to_hamiltonian(opmath, True)\n",
    "print(\"\\n\\n\\n\", H)"
   ]
  },
  {
   "cell_type": "code",
   "execution_count": null,
   "metadata": {},
   "outputs": [
    {
     "data": {
      "text/plain": [
       "True"
      ]
     },
     "execution_count": 28,
     "metadata": {},
     "output_type": "execute_result"
    }
   ],
   "source": [
    "qml.equal(qml.I(0) @ qml.Z(1), qml.Z(1) @ qml.I())"
   ]
  },
  {
   "cell_type": "code",
   "execution_count": 117,
   "metadata": {},
   "outputs": [
    {
     "name": "stdout",
     "output_type": "stream",
     "text": [
      "simplified instance = -1.0 * I(1) + X(2)\n",
      "type of simplified instance = <class 'pennylane.ops.op_math.sum.Sum'>\n",
      "instance(Observable) = False\n",
      "Identity info = {'Id_idx': 0, 'Id_wires': <Wires = [1, 2]>}\n",
      "coeffs = [-1.0, 1.0]\n",
      "obs = [I(1), X(2)]\n",
      "\n",
      "\n",
      "\n",
      "   (1.0) [X2]\n",
      "+ (-1.0) [I1,2]\n"
     ]
    }
   ],
   "source": [
    "opmath = qml.sum(-qml.Identity(w1), qml.X(w2))\n",
    "\n",
    "H = from_opmath_to_hamiltonian(opmath, True)\n",
    "print(\"\\n\\n\\n\", H)"
   ]
  },
  {
   "cell_type": "markdown",
   "metadata": {},
   "source": [
    "## Preparare domanda"
   ]
  },
  {
   "cell_type": "code",
   "execution_count": null,
   "metadata": {},
   "outputs": [
    {
     "data": {
      "text/plain": [
       "(-0.5 * (X(0) @ Z(1)), [I(0), X(0) @ Z(1)])"
      ]
     },
     "execution_count": 135,
     "metadata": {},
     "output_type": "execute_result"
    }
   ],
   "source": [
    "w0, w1 = [0, 1]\n",
    "coeffs = [0.5, -0.5]\n",
    "\n",
    "obs = [qml.Identity(w0), qml.X(w0) @ qml.Z(w1)]\n",
    "\n",
    "Hamiltonian_instance = qml.Hamiltonian(coeffs, obs)\n",
    "Sum_instance = qml.dot(coeffs, obs)\n",
    "Sum_coeffs, Sum_ops = Sum_instance.operands\n",
    "\n",
    "Sum_ops, Hamiltonian_instance.ops"
   ]
  },
  {
   "cell_type": "code",
   "execution_count": null,
   "metadata": {},
   "outputs": [
    {
     "data": {
      "text/plain": [
       "0.5 * I(0) + -0.5 * (X(0) @ Z(1))"
      ]
     },
     "execution_count": 142,
     "metadata": {},
     "output_type": "execute_result"
    }
   ],
   "source": [
    "Sum_instance"
   ]
  },
  {
   "cell_type": "code",
   "execution_count": null,
   "metadata": {},
   "outputs": [
    {
     "data": {
      "text/plain": [
       "([0.5, -0.5], [I(), Z(1) @ X(0)])"
      ]
     },
     "execution_count": 143,
     "metadata": {},
     "output_type": "execute_result"
    }
   ],
   "source": [
    "Sum_instance.terms()"
   ]
  },
  {
   "cell_type": "code",
   "execution_count": null,
   "metadata": {},
   "outputs": [
    {
     "data": {
      "text/plain": [
       "(0.5 * I(0), -0.5 * (X(0) @ Z(1)))"
      ]
     },
     "execution_count": 144,
     "metadata": {},
     "output_type": "execute_result"
    }
   ],
   "source": [
    "Sum_instance.operands"
   ]
  },
  {
   "cell_type": "code",
   "execution_count": null,
   "metadata": {},
   "outputs": [
    {
     "name": "stdout",
     "output_type": "stream",
     "text": [
      "0.5 * I(0) + -0.5 * (X(0) @ Z(1))\n"
     ]
    }
   ],
   "source": [
    "print(Sum_instance)\n",
    "assert isinstance(Sum_instance, qml.ops.op_math.Sum)"
   ]
  },
  {
   "cell_type": "code",
   "execution_count": null,
   "metadata": {},
   "outputs": [
    {
     "name": "stdout",
     "output_type": "stream",
     "text": [
      "  (0.5) [I0]\n",
      "+ (-0.5) [X0 Z1]\n"
     ]
    }
   ],
   "source": [
    "print(Hamiltonian_instance)\n",
    "assert isinstance(Hamiltonian_instance, qml.Hamiltonian)"
   ]
  },
  {
   "cell_type": "code",
   "execution_count": null,
   "metadata": {},
   "outputs": [],
   "source": [
    "Sum_coeffs, Sum_ops = Sum_instance.terms()"
   ]
  },
  {
   "cell_type": "code",
   "execution_count": null,
   "metadata": {},
   "outputs": [
    {
     "data": {
      "text/plain": [
       "[0.5, -0.5]"
      ]
     },
     "execution_count": 106,
     "metadata": {},
     "output_type": "execute_result"
    }
   ],
   "source": [
    "Sum_coeffs"
   ]
  },
  {
   "cell_type": "code",
   "execution_count": null,
   "metadata": {},
   "outputs": [
    {
     "data": {
      "text/plain": [
       "<Wires = []>"
      ]
     },
     "execution_count": 107,
     "metadata": {},
     "output_type": "execute_result"
    }
   ],
   "source": [
    "Sum_ops[0].wires"
   ]
  },
  {
   "cell_type": "code",
   "execution_count": null,
   "metadata": {},
   "outputs": [
    {
     "data": {
      "text/plain": [
       "[I(0), X(0) @ Z(1)]"
      ]
     },
     "execution_count": 108,
     "metadata": {},
     "output_type": "execute_result"
    }
   ],
   "source": [
    "Hamiltonian_instance.ops"
   ]
  },
  {
   "cell_type": "code",
   "execution_count": null,
   "metadata": {},
   "outputs": [
    {
     "data": {
      "text/plain": [
       "False"
      ]
     },
     "execution_count": 109,
     "metadata": {},
     "output_type": "execute_result"
    }
   ],
   "source": [
    "qml.equal(Hamiltonian_instance, Sum_instance)"
   ]
  },
  {
   "cell_type": "markdown",
   "metadata": {},
   "source": [
    "# Roba vecchia"
   ]
  },
  {
   "cell_type": "code",
   "execution_count": null,
   "metadata": {},
   "outputs": [],
   "source": [
    "from functools import reduce\n",
    "\n",
    "\n",
    "def _from_prod_to_tensor(Prod):\n",
    "    return reduce(lambda x, y: x @ operation.Tensor(y), Prod[1:], operation.Tensor(Prod[0]))"
   ]
  },
  {
   "cell_type": "code",
   "execution_count": null,
   "metadata": {},
   "outputs": [],
   "source": [
    "new_opmath_obs = new_opmath_instance.terms()[1]"
   ]
  },
  {
   "cell_type": "code",
   "execution_count": null,
   "metadata": {},
   "outputs": [],
   "source": [
    "for idx, prod in enumerate(new_opmath_obs):\n",
    "    new_opmath_obs[idx] = _from_prod_to_tensor(prod)"
   ]
  },
  {
   "cell_type": "code",
   "execution_count": null,
   "metadata": {},
   "outputs": [
    {
     "name": "stdout",
     "output_type": "stream",
     "text": [
      "  (-0.0625) [Y1 X0 X2 X3]\n",
      "+ (-0.0625) [X1 Y0 X2 X3]\n",
      "+ (-0.0625) [Y1 Y0 X2 Y3]\n",
      "+ (-0.0625) [Y1 Y0 Y2 X3]\n",
      "+ (0.0625) [X1 X0 X2 Y3]\n",
      "+ (0.0625) [X1 X0 Y2 X3]\n",
      "+ (0.0625) [Y1 X0 Y2 Y3]\n",
      "+ (0.0625) [X1 Y0 Y2 Y3]\n"
     ]
    }
   ],
   "source": [
    "qml.Hamiltonian(new_opmath_instance.terms()[0], new_opmath_obs)"
   ]
  },
  {
   "cell_type": "markdown",
   "metadata": {},
   "source": [
    "  (-0.0625) [X0 Y1 X2 X3]\n",
    "+ (-0.0625) [Y0 X1 X2 X3]\n",
    "+ (-0.0625) [Y0 Y1 X2 Y3]\n",
    "+ (-0.0625) [Y0 Y1 Y2 X3]\n",
    "+ (0.0625) [X0 X1 X2 Y3]\n",
    "+ (0.0625) [X0 X1 Y2 X3]\n",
    "+ (0.0625) [X0 Y1 Y2 Y3]\n",
    "+ (0.0625) [Y0 X1 Y2 Y3]"
   ]
  },
  {
   "cell_type": "code",
   "execution_count": null,
   "metadata": {},
   "outputs": [
    {
     "data": {
      "text/plain": [
       "X(1) @ X(0) @ X(2) @ Y(3)"
      ]
     },
     "execution_count": 27,
     "metadata": {},
     "output_type": "execute_result"
    }
   ],
   "source": [
    "Prod"
   ]
  },
  {
   "cell_type": "code",
   "execution_count": null,
   "metadata": {},
   "outputs": [
    {
     "data": {
      "text/plain": [
       "pennylane.ops.op_math.prod.Prod"
      ]
     },
     "execution_count": 28,
     "metadata": {},
     "output_type": "execute_result"
    }
   ],
   "source": [
    "type(Prod)"
   ]
  },
  {
   "cell_type": "code",
   "execution_count": null,
   "metadata": {},
   "outputs": [
    {
     "name": "stdout",
     "output_type": "stream",
     "text": [
      "True\n",
      "True\n",
      "True\n",
      "True\n"
     ]
    }
   ],
   "source": [
    "for i in Prod:\n",
    "    print(isinstance(i, operation.Observable))"
   ]
  },
  {
   "cell_type": "code",
   "execution_count": null,
   "metadata": {},
   "outputs": [],
   "source": []
  },
  {
   "cell_type": "code",
   "execution_count": null,
   "metadata": {},
   "outputs": [],
   "source": [
    "def _from_Prod_to_Tensor(Prod):\n",
    "\n",
    "    tensor = operation.Tensor(Prod[0])\n",
    "\n",
    "    for p in Prod[1:]:\n",
    "        tensor @= operation.Tensor(p)\n",
    "\n",
    "    return tensor"
   ]
  },
  {
   "cell_type": "code",
   "execution_count": null,
   "metadata": {},
   "outputs": [],
   "source": [
    "from functools import reduce\n",
    "\n",
    "\n",
    "def _from_Prod_to_Tensor(Prod):\n",
    "    return reduce(lambda x, y: x @ operation.Tensor(y), Prod[1:], operation.Tensor(Prod[0]))"
   ]
  },
  {
   "cell_type": "code",
   "execution_count": null,
   "metadata": {},
   "outputs": [],
   "source": [
    "from functools import reduce\n",
    "\n",
    "\n",
    "def _from_Prod_to_Tensor(Prod):\n",
    "    tensor = operation.Tensor(Prod[0])\n",
    "    return reduce(lambda x, y: x @ operation.Tensor(y), Prod[1:], tensor)"
   ]
  },
  {
   "cell_type": "markdown",
   "metadata": {},
   "source": [
    "# ECCO LA FUNZIONE PER SWITCHARE DA PROD A TENSOR"
   ]
  },
  {
   "cell_type": "code",
   "execution_count": null,
   "metadata": {},
   "outputs": [],
   "source": [
    "from functools import reduce\n",
    "\n",
    "\n",
    "def _from_Prod_to_Tensor(Prod):\n",
    "    return reduce(lambda x, y: x @ operation.Tensor(y), Prod[1:], operation.Tensor(Prod[0]))"
   ]
  },
  {
   "cell_type": "code",
   "execution_count": null,
   "metadata": {},
   "outputs": [],
   "source": [
    "aaa = qml.ops.op_math.SProd(1, qml.RX(0.2, wires=[0]))"
   ]
  },
  {
   "cell_type": "code",
   "execution_count": null,
   "metadata": {},
   "outputs": [
    {
     "data": {
      "text/plain": [
       "pennylane.ops.qubit.parametric_ops_single_qubit.RX"
      ]
     },
     "execution_count": 93,
     "metadata": {},
     "output_type": "execute_result"
    }
   ],
   "source": [
    "type(aaa.terms()[1][0])"
   ]
  },
  {
   "cell_type": "code",
   "execution_count": null,
   "metadata": {},
   "outputs": [],
   "source": [
    "tensor = _from_Prod_to_Tensor(Prod)"
   ]
  },
  {
   "cell_type": "code",
   "execution_count": null,
   "metadata": {},
   "outputs": [
    {
     "data": {
      "text/plain": [
       "X(1) @ X(0) @ X(2) @ Y(3)"
      ]
     },
     "execution_count": 79,
     "metadata": {},
     "output_type": "execute_result"
    }
   ],
   "source": [
    "tensor"
   ]
  },
  {
   "cell_type": "code",
   "execution_count": null,
   "metadata": {},
   "outputs": [
    {
     "data": {
      "text/plain": [
       "pennylane.operation.Tensor"
      ]
     },
     "execution_count": 36,
     "metadata": {},
     "output_type": "execute_result"
    }
   ],
   "source": [
    "type(tensor)"
   ]
  },
  {
   "cell_type": "code",
   "execution_count": null,
   "metadata": {},
   "outputs": [
    {
     "data": {
      "text/plain": [
       "pennylane.operation.Tensor"
      ]
     },
     "execution_count": 50,
     "metadata": {},
     "output_type": "execute_result"
    }
   ],
   "source": [
    "operation.Tensor"
   ]
  },
  {
   "cell_type": "code",
   "execution_count": null,
   "metadata": {},
   "outputs": [],
   "source": [
    "new_opmath_obs = new_opmath_instance.terms()[1]"
   ]
  },
  {
   "cell_type": "code",
   "execution_count": null,
   "metadata": {},
   "outputs": [
    {
     "data": {
      "text/plain": [
       "[X(1) @ X(0) @ X(2) @ Y(3),\n",
       " X(1) @ X(0) @ Y(2) @ X(3),\n",
       " Y(1) @ X(0) @ X(2) @ X(3),\n",
       " Y(1) @ X(0) @ Y(2) @ Y(3),\n",
       " X(1) @ Y(0) @ X(2) @ X(3),\n",
       " X(1) @ Y(0) @ Y(2) @ Y(3),\n",
       " Y(1) @ Y(0) @ X(2) @ Y(3),\n",
       " Y(1) @ Y(0) @ Y(2) @ X(3)]"
      ]
     },
     "execution_count": 46,
     "metadata": {},
     "output_type": "execute_result"
    }
   ],
   "source": [
    "new_opmath_obs"
   ]
  },
  {
   "cell_type": "code",
   "execution_count": null,
   "metadata": {},
   "outputs": [],
   "source": []
  }
 ],
 "metadata": {
  "kernelspec": {
   "display_name": "PennyLane",
   "language": "python",
   "name": "python3"
  },
  "language_info": {
   "codemirror_mode": {
    "name": "ipython",
    "version": 3
   },
   "file_extension": ".py",
   "mimetype": "text/x-python",
   "name": "python",
   "nbconvert_exporter": "python",
   "pygments_lexer": "ipython3",
   "version": "3.9.7"
  }
 },
 "nbformat": 4,
 "nbformat_minor": 2
}
