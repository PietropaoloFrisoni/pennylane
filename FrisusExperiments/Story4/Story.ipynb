{
 "cells": [
  {
   "cell_type": "markdown",
   "metadata": {},
   "source": [
    "# Generators use opmath"
   ]
  },
  {
   "cell_type": "code",
   "execution_count": 1,
   "metadata": {},
   "outputs": [
    {
     "name": "stdout",
     "output_type": "stream",
     "text": [
      "FRISUS LOG: transform e' stata chiamata\n",
      "FRISUS LOG: transform e' stata chiamata\n",
      "FRISUS LOG: transform e' stata chiamata\n",
      "FRISUS LOG: transform e' stata chiamata\n",
      "FRISUS LOG: transform e' stata chiamata\n",
      "FRISUS LOG: transform e' stata chiamata\n",
      "FRISUS LOG: transform e' stata chiamata\n",
      "FRISUS LOG: transform e' stata chiamata\n",
      "FRISUS LOG: transform e' stata chiamata\n",
      "FRISUS LOG: transform e' stata chiamata\n",
      "FRISUS LOG: transform e' stata chiamata\n",
      "FRISUS LOG: transform e' stata chiamata\n",
      "FRISUS LOG: transform e' stata chiamata\n",
      "FRISUS LOG: transform e' stata chiamata\n",
      "FRISUS LOG: transform e' stata chiamata\n",
      "FRISUS LOG: transform e' stata chiamata\n",
      "FRISUS LOG: transform e' stata chiamata\n",
      "FRISUS LOG: transform e' stata chiamata\n",
      "FRISUS LOG: transform e' stata chiamata\n",
      "FRISUS LOG: transform e' stata chiamata\n",
      "FRISUS LOG: transform e' stata chiamata\n",
      "FRISUS LOG: transform e' stata chiamata\n",
      "FRISUS LOG: transform e' stata chiamata\n",
      "FRISUS LOG: transform e' stata chiamata\n",
      "FRISUS LOG: transform e' stata chiamata\n",
      "FRISUS LOG: transform e' stata chiamata\n",
      "FRISUS LOG: transform e' stata chiamata\n",
      "FRISUS LOG: transform e' stata chiamata\n",
      "FRISUS LOG: transform e' stata chiamata\n",
      "FRISUS LOG: transform e' stata chiamata\n",
      "FRISUS LOG: transform e' stata chiamata\n",
      "FRISUS LOG: transform e' stata chiamata\n",
      "FRISUS LOG: transform e' stata chiamata\n",
      "FRISUS LOG: transform e' stata chiamata\n",
      "FRISUS LOG: transform e' stata chiamata\n",
      "FRISUS LOG: transform e' stata chiamata\n",
      "FRISUS LOG: transform e' stata chiamata\n",
      "FRISUS LOG: transform e' stata chiamata\n",
      "FRISUS LOG: transform e' stata chiamata\n",
      "FRISUS LOG: transform e' stata chiamata\n",
      "FRISUS LOG: transform e' stata chiamata\n",
      "FRISUS LOG: transform e' stata chiamata\n",
      "FRISUS LOG: transform e' stata chiamata\n",
      "FRISUS LOG: transform e' stata chiamata\n",
      "FRISUS LOG: transform e' stata chiamata\n",
      "FRISUS LOG: transform e' stata chiamata\n",
      "FRISUS LOG: transform e' stata chiamata\n",
      "FRISUS LOG: transform e' stata chiamata\n",
      "FRISUS LOG: transform e' stata chiamata\n",
      "FRISUS LOG: transform e' stata chiamata\n",
      "FRISUS LOG: transform e' stata chiamata\n",
      "FRISUS LOG: transform e' stata chiamata\n",
      "FRISUS LOG: transform e' stata chiamata\n",
      "FRISUS LOG: transform e' stata chiamata\n",
      "FRISUS LOG: transform e' stata chiamata\n",
      "FRISUS LOG: transform e' stata chiamata\n",
      "FRISUS LOG: transform e' stata chiamata\n",
      "FRISUS LOG: transform e' stata chiamata\n",
      "FRISUS LOG: transform e' stata chiamata\n",
      "FRISUS LOG: transform e' stata chiamata\n",
      "FRISUS LOG: transform e' stata chiamata\n",
      "FRISUS LOG: transform e' stata chiamata\n",
      "FRISUS LOG: transform e' stata chiamata\n",
      "FRISUS LOG: transform e' stata chiamata\n",
      "FRISUS LOG: transform e' stata chiamata\n"
     ]
    }
   ],
   "source": [
    "import pennylane as qml"
   ]
  },
  {
   "cell_type": "markdown",
   "metadata": {},
   "source": [
    "## Story's description\n",
    "\n",
    "More context: https://xanaduhq.slack.com/archives/C06DX049G49/p1705355151489519\n",
    "\n",
    "Some operators have a generator method and we want to make sure that they are using the new opmath (in particular, no Tensor or Hamiltonian instances)\n",
    "\n",
    "AC:\n",
    "\n",
    "no generator method uses hardcoded Hamiltonian or Tensor instances"
   ]
  },
  {
   "cell_type": "markdown",
   "metadata": {},
   "source": [
    "### I copy and paste here the *Slack* description of the thread in which the story was born\n",
    "\n",
    "**Christina Lee**\n",
    "I think we also need to switch all the generators to `Prod` as well.\n",
    "\n",
    "**Korbinian Kottmann**\n",
    "Can you elaborate, what do you mean by switching the generators? (edited) \n",
    "\n",
    "**Korbinian Kottmann**\n",
    "Like switch definitions like these to use s_prod, prod, and sum instead of *, @ and + for construction?\n",
    "https://github.com/PennyLaneAI/pennylane/blob/master/pennylane/ops/qubit/qchem_ops.py#L316\n",
    "qchem_ops.py\n",
    "    def generator(self):\n",
    "<https://github.com/PennyLaneAI/pennylane|PennyLaneAI/pennylane>PennyLaneAI/pennylane | Added by GitHub\n",
    "\n",
    "**Christina Lee**\n",
    "The generators might be hard coded to tensor or hamiltonian.\n",
    "\n",
    "**Korbinian Kottmann**\n",
    "Do you have an example? Would the example above constitute as such by having the generator defined as scalar * (op1 @ op2) ?\n",
    "qchem_ops.py\n",
    "    def generator(self):\n",
    "<https://github.com/PennyLaneAI/pennylane|PennyLaneAI/pennylane>PennyLaneAI/pennylane | Added by GitHub\n",
    "\n",
    "**Christina Lee**\n",
    "`DoubleExcitation` is returning a Hamiltonian.\n",
    "\n",
    "**Korbinian Kottmann**\n",
    "Thanks!\n",
    "\n",
    "**Korbinian Kottmann**\n",
    "Created a story so we dont forget about this (n.d.r.: this one)"
   ]
  },
  {
   "cell_type": "markdown",
   "metadata": {},
   "source": [
    "## Primi pensieri"
   ]
  },
  {
   "cell_type": "markdown",
   "metadata": {},
   "source": [
    "Penso che vogliano che io controlli che i `generators` (qualunque cosa essi siano) degli `operators` stiano usando le funzioni del modulo `pennylane/ops/opmath`, visto che Tensor e Hamiltonian sono in fase di deprecazione.\n",
    "\n",
    "Alcune domande:\n",
    "\n",
    "- Come faccio a capire quali `generators` devo guardare?\n",
    "- Come faccio a sapere se il `generator` che sto guardando deve essere modificato? La TZ parlava di `DoubleExcitation` (qualunque cosa sia), quindi potrei partire from there"
   ]
  },
  {
   "cell_type": "markdown",
   "metadata": {},
   "source": [
    "### Deeper description:"
   ]
  },
  {
   "cell_type": "markdown",
   "metadata": {},
   "source": [
    "Many operators have a generator method defined, e.g.\n",
    "https://github.com/PennyLaneAI/pennylane/blob/master/pennylane/ops/qubit/qchem_ops.py#L598\n",
    "\n",
    "The task of this story is to make sure that these returns new opmath instances `(SProd, Prod, Sum)`. In particular, currently the default for python operators `@` , `+` and `*` is to use \"old opmath\" and creates `Tensor` and `Hamiltonian` instances.\n",
    "\n",
    "So the task is basically to change in all `Operator.generator` definitions the following:\n",
    "\n",
    "`x * op` -> `qml.s_prod(x, op)` , `x+y` -> `qml.sum(x, y)` , `x @ y` -> `qml.prod(x, y)` and `qml.Hamiltonian(coeffs, ops)` -> `qml.dot(coeffs, ops)` \n",
    "\n",
    "then everything should be (nested) instances of `SProd` , `Prod` and `Sum` - the new opmath classes.\n",
    "\n",
    "I'd approach the task as follows:\n",
    "repo-search (e.g. in visual code with cmd-shift-f) `def generator(` in `pennylane/pennylane/` and make the above changes.\n",
    "\n",
    "Check if tests fail/pass.\n",
    "\n",
    "If fail if the test just needs an update (e.g. changing and `isinstance(op, Hamiltonian)` to `isinstance(op, Sum)`)\n",
    "\n",
    "If there is no failing test to change, consider updating the test of the generator method to check `isinstance(op, Sum)` (or whichever class the result is). Ideally if there already a test for the generator method in the class, update this one. If it doesnt fit, add a new one"
   ]
  },
  {
   "cell_type": "markdown",
   "metadata": {},
   "source": [
    "- Changed `/ops/qubit/parametric_ops_multi_qubit.py`, line 776 \n",
    "\n",
    "    from:\n",
    "\n",
    "    ```\n",
    "    def generator(self):\n",
    "        return -0.5 * PauliX(wires=self.wires[0]) @ PauliX(wires=self.wires[1])\n",
    "    ```    \n",
    "    to:\n",
    "\n",
    "    ```\n",
    "    def generator(self):\n",
    "        return qml.s_prod(-0.5, qml.prod(PauliX(wires=self.wires[0]), PauliX(wires=self.wires[1])))\n",
    "    ```    \n",
    "\n",
    "- Stessa modifica alla linea 912           \n",
    "\n",
    "- Stessa modifica alla linea 1055         \n",
    "\n",
    "- Changed line 1238 \n",
    "\n",
    "    from :\n",
    "\n",
    "    ```\n",
    "    def generator(self):\n",
    "        return 0.25 * (\n",
    "            PauliX(wires=self.wires[0]) @ PauliX(wires=self.wires[1])\n",
    "            + PauliY(wires=self.wires[0]) @ PauliY(wires=self.wires[1])\n",
    "        )\n",
    "\n",
    "    ```\n",
    "\n",
    "    to :\n",
    "\n",
    "    ```\n",
    "    def generator(self):\n",
    "        return qml.s_prod(\n",
    "            0.25,\n",
    "            qml.sum(\n",
    "                qml.prod(PauliX(wires=self.wires[0]), PauliX(wires=self.wires[1])),\n",
    "                qml.prod(PauliY(wires=self.wires[0]), PauliY(wires=self.wires[1])),\n",
    "            ),\n",
    "        )\n",
    "    ```\n",
    "\n",
    "STOP: devo interrompere questo reportage altrimenti ci metto troppo       "
   ]
  },
  {
   "cell_type": "code",
   "execution_count": 27,
   "metadata": {},
   "outputs": [
    {
     "name": "stdout",
     "output_type": "stream",
     "text": [
      "FRISUS LOG: pow generator chiamato\n"
     ]
    },
    {
     "data": {
      "text/plain": [
       "5 * -0.5 * X(0)"
      ]
     },
     "execution_count": 27,
     "metadata": {},
     "output_type": "execute_result"
    }
   ],
   "source": [
    "op = qml.RX(0.2, [0])\n",
    "op = qml.pow(op, 5)\n",
    "op.generator()"
   ]
  },
  {
   "cell_type": "code",
   "execution_count": 24,
   "metadata": {},
   "outputs": [
    {
     "name": "stdout",
     "output_type": "stream",
     "text": [
      "FRISUS LOG: pow generator chiamato\n"
     ]
    },
    {
     "data": {
      "text/plain": [
       "5 * -0.5 * X(0)"
      ]
     },
     "execution_count": 24,
     "metadata": {},
     "output_type": "execute_result"
    }
   ],
   "source": [
    "op.generator()"
   ]
  },
  {
   "cell_type": "code",
   "execution_count": 4,
   "metadata": {},
   "outputs": [],
   "source": [
    "op = qml.pow(op, 5)"
   ]
  },
  {
   "cell_type": "code",
   "execution_count": 5,
   "metadata": {},
   "outputs": [
    {
     "name": "stdout",
     "output_type": "stream",
     "text": [
      "FRISUS LOG: pow generator chiamato\n"
     ]
    },
    {
     "data": {
      "text/plain": [
       "5 * -0.5 * X(0)"
      ]
     },
     "execution_count": 5,
     "metadata": {},
     "output_type": "execute_result"
    }
   ],
   "source": [
    "op.generator()"
   ]
  },
  {
   "cell_type": "code",
   "execution_count": null,
   "metadata": {},
   "outputs": [],
   "source": []
  },
  {
   "cell_type": "code",
   "execution_count": null,
   "metadata": {},
   "outputs": [],
   "source": []
  },
  {
   "cell_type": "code",
   "execution_count": 6,
   "metadata": {},
   "outputs": [],
   "source": [
    "op = qml.CPhaseShift00(1.23, wires=[1, 2])"
   ]
  },
  {
   "cell_type": "code",
   "execution_count": 7,
   "metadata": {},
   "outputs": [
    {
     "data": {
      "text/plain": [
       "pennylane.ops.qubit.observables.BasisStateProjector"
      ]
     },
     "execution_count": 7,
     "metadata": {},
     "output_type": "execute_result"
    }
   ],
   "source": [
    "type(op.generator())"
   ]
  },
  {
   "cell_type": "code",
   "execution_count": 8,
   "metadata": {},
   "outputs": [
    {
     "name": "stdout",
     "output_type": "stream",
     "text": [
      "4 * RX(0.2, wires=[0])\n"
     ]
    }
   ],
   "source": [
    "op = qml.s_prod(4, qml.RX(0.2, [0]))\n",
    "print(op)"
   ]
  },
  {
   "cell_type": "code",
   "execution_count": 9,
   "metadata": {},
   "outputs": [
    {
     "name": "stdout",
     "output_type": "stream",
     "text": [
      "20 * RX(0.2, wires=[0])\n"
     ]
    }
   ],
   "source": [
    "op = qml.simplify(qml.s_prod(5, op))\n",
    "print(op)"
   ]
  },
  {
   "cell_type": "code",
   "execution_count": 10,
   "metadata": {},
   "outputs": [
    {
     "data": {
      "text/plain": [
       "20 * RX(0.2, wires=[0])"
      ]
     },
     "execution_count": 10,
     "metadata": {},
     "output_type": "execute_result"
    }
   ],
   "source": [
    "op.simplify()"
   ]
  },
  {
   "cell_type": "code",
   "execution_count": 11,
   "metadata": {},
   "outputs": [
    {
     "data": {
      "text/plain": [
       "X(0) @ Y(0)"
      ]
     },
     "execution_count": 11,
     "metadata": {},
     "output_type": "execute_result"
    }
   ],
   "source": [
    "qml.prod(qml.X(0), qml.Y(0))"
   ]
  },
  {
   "cell_type": "code",
   "execution_count": 12,
   "metadata": {},
   "outputs": [],
   "source": [
    "w0, w1, w2, w3 = [0, 1, 2, 3]\n",
    "coeffs = [0.0625, 0.0625, -0.0625, 0.0625, -0.0625, 0.0625, -0.0625, -0.0625]\n",
    "obs = [\n",
    "    qml.X(w0) @ qml.X(w1) @ qml.X(w2) @ qml.Y(w3),\n",
    "    qml.X(w0) @ qml.X(w1) @ qml.Y(w2) @ qml.X(w3),\n",
    "    qml.X(w0) @ qml.Y(w1) @ qml.X(w2) @ qml.X(w3),\n",
    "    qml.X(w0) @ qml.Y(w1) @ qml.Y(w2) @ qml.Y(w3),\n",
    "    qml.Y(w0) @ qml.X(w1) @ qml.X(w2) @ qml.X(w3),\n",
    "    qml.Y(w0) @ qml.X(w1) @ qml.Y(w2) @ qml.Y(w3),\n",
    "    qml.Y(w0) @ qml.Y(w1) @ qml.X(w2) @ qml.Y(w3),\n",
    "    qml.Y(w0) @ qml.Y(w1) @ qml.Y(w2) @ qml.X(w3),\n",
    "]\n",
    "op = qml.dot(coeffs, obs)\n",
    "# op = qml.Hamiltonian(coeffs, obs)"
   ]
  },
  {
   "cell_type": "code",
   "execution_count": 13,
   "metadata": {},
   "outputs": [],
   "source": [
    "coeff = op.terms()[0]"
   ]
  },
  {
   "cell_type": "code",
   "execution_count": 14,
   "metadata": {},
   "outputs": [],
   "source": [
    "ops = op.terms()[1]"
   ]
  },
  {
   "cell_type": "code",
   "execution_count": 15,
   "metadata": {},
   "outputs": [
    {
     "data": {
      "text/plain": [
       "pennylane.ops.op_math.prod.Prod"
      ]
     },
     "execution_count": 15,
     "metadata": {},
     "output_type": "execute_result"
    }
   ],
   "source": [
    "type(ops[0])"
   ]
  },
  {
   "cell_type": "code",
   "execution_count": 16,
   "metadata": {},
   "outputs": [
    {
     "data": {
      "text/plain": [
       "pennylane.operation.Tensor"
      ]
     },
     "execution_count": 16,
     "metadata": {},
     "output_type": "execute_result"
    }
   ],
   "source": [
    "type(obs[0])"
   ]
  },
  {
   "cell_type": "code",
   "execution_count": 17,
   "metadata": {},
   "outputs": [
    {
     "data": {
      "text/plain": [
       "list"
      ]
     },
     "execution_count": 17,
     "metadata": {},
     "output_type": "execute_result"
    }
   ],
   "source": [
    "type(ops)"
   ]
  },
  {
   "cell_type": "code",
   "execution_count": 18,
   "metadata": {},
   "outputs": [],
   "source": [
    "ops = [\n",
    "    qml.X(w0) @ qml.X(w1) @ qml.X(w2) @ qml.Y(w3),\n",
    "    qml.X(w0) @ qml.X(w1) @ qml.Y(w2) @ qml.X(w3),\n",
    "    qml.X(w0) @ qml.Y(w1) @ qml.X(w2) @ qml.X(w3),\n",
    "    qml.X(w0) @ qml.Y(w1) @ qml.Y(w2) @ qml.Y(w3),\n",
    "    qml.Y(w0) @ qml.X(w1) @ qml.X(w2) @ qml.X(w3),\n",
    "    qml.Y(w0) @ qml.X(w1) @ qml.Y(w2) @ qml.Y(w3),\n",
    "    qml.Y(w0) @ qml.Y(w1) @ qml.X(w2) @ qml.Y(w3),\n",
    "    qml.Y(w0) @ qml.Y(w1) @ qml.Y(w2) @ qml.X(w3),\n",
    "]"
   ]
  },
  {
   "cell_type": "code",
   "execution_count": 19,
   "metadata": {},
   "outputs": [
    {
     "data": {
      "text/plain": [
       "[X(0) @ X(1) @ X(2) @ Y(3),\n",
       " X(0) @ X(1) @ Y(2) @ X(3),\n",
       " X(0) @ Y(1) @ X(2) @ X(3),\n",
       " X(0) @ Y(1) @ Y(2) @ Y(3),\n",
       " Y(0) @ X(1) @ X(2) @ X(3),\n",
       " Y(0) @ X(1) @ Y(2) @ Y(3),\n",
       " Y(0) @ Y(1) @ X(2) @ Y(3),\n",
       " Y(0) @ Y(1) @ Y(2) @ X(3)]"
      ]
     },
     "execution_count": 19,
     "metadata": {},
     "output_type": "execute_result"
    }
   ],
   "source": [
    "ops"
   ]
  },
  {
   "cell_type": "code",
   "execution_count": 20,
   "metadata": {},
   "outputs": [
    {
     "data": {
      "text/plain": [
       "list"
      ]
     },
     "execution_count": 20,
     "metadata": {},
     "output_type": "execute_result"
    }
   ],
   "source": [
    "type(ops)"
   ]
  },
  {
   "cell_type": "code",
   "execution_count": 21,
   "metadata": {},
   "outputs": [
    {
     "name": "stdout",
     "output_type": "stream",
     "text": [
      "  (-0.0625) [X0 Y1 X2 X3]\n",
      "+ (-0.0625) [Y0 X1 X2 X3]\n",
      "+ (-0.0625) [Y0 Y1 X2 Y3]\n",
      "+ (-0.0625) [Y0 Y1 Y2 X3]\n",
      "+ (0.0625) [X0 X1 X2 Y3]\n",
      "+ (0.0625) [X0 X1 Y2 X3]\n",
      "+ (0.0625) [X0 Y1 Y2 Y3]\n",
      "+ (0.0625) [Y0 X1 Y2 Y3]\n"
     ]
    }
   ],
   "source": [
    "qml.Hamiltonian(coeffs=coeff, observables=ops)"
   ]
  },
  {
   "cell_type": "code",
   "execution_count": 22,
   "metadata": {},
   "outputs": [
    {
     "name": "stdout",
     "output_type": "stream",
     "text": [
      "FRISUS LOG: base generator chiamato!\n"
     ]
    },
    {
     "ename": "GeneratorUndefinedError",
     "evalue": "Operation Sum does not have a generator",
     "output_type": "error",
     "traceback": [
      "\u001b[0;31m---------------------------------------------------------------------------\u001b[0m",
      "\u001b[0;31mGeneratorUndefinedError\u001b[0m                   Traceback (most recent call last)",
      "Cell \u001b[0;32mIn[22], line 1\u001b[0m\n\u001b[0;32m----> 1\u001b[0m \u001b[38;5;28mtype\u001b[39m(\u001b[43mop\u001b[49m\u001b[38;5;241;43m.\u001b[39;49m\u001b[43mgenerator\u001b[49m\u001b[43m(\u001b[49m\u001b[43m)\u001b[49m)\n",
      "File \u001b[0;32m~/anaconda3/envs/PennyLane/lib/python3.9/site-packages/PennyLane-0.36.0.dev0-py3.9.egg/pennylane/operation.py:1409\u001b[0m, in \u001b[0;36mOperator.generator\u001b[0;34m(self)\u001b[0m\n\u001b[1;32m   1389\u001b[0m \u001b[38;5;250m\u001b[39m\u001b[38;5;124mr\u001b[39m\u001b[38;5;124;03m\"\"\"Generator of an operator that is in single-parameter-form.\u001b[39;00m\n\u001b[1;32m   1390\u001b[0m \n\u001b[1;32m   1391\u001b[0m \u001b[38;5;124;03mFor example, for operator\u001b[39;00m\n\u001b[0;32m   (...)\u001b[0m\n\u001b[1;32m   1406\u001b[0m \u001b[38;5;124;03mno defined generator.\u001b[39;00m\n\u001b[1;32m   1407\u001b[0m \u001b[38;5;124;03m\"\"\"\u001b[39;00m\n\u001b[1;32m   1408\u001b[0m \u001b[38;5;28mprint\u001b[39m(\u001b[38;5;124m\"\u001b[39m\u001b[38;5;124mFRISUS LOG: base generator chiamato!\u001b[39m\u001b[38;5;124m\"\u001b[39m)\n\u001b[0;32m-> 1409\u001b[0m \u001b[38;5;28;01mraise\u001b[39;00m GeneratorUndefinedError(\u001b[38;5;124mf\u001b[39m\u001b[38;5;124m\"\u001b[39m\u001b[38;5;124mOperation \u001b[39m\u001b[38;5;132;01m{\u001b[39;00m\u001b[38;5;28mself\u001b[39m\u001b[38;5;241m.\u001b[39mname\u001b[38;5;132;01m}\u001b[39;00m\u001b[38;5;124m does not have a generator\u001b[39m\u001b[38;5;124m\"\u001b[39m)\n",
      "\u001b[0;31mGeneratorUndefinedError\u001b[0m: Operation Sum does not have a generator"
     ]
    }
   ],
   "source": [
    "type(op.generator())"
   ]
  },
  {
   "cell_type": "code",
   "execution_count": null,
   "metadata": {},
   "outputs": [],
   "source": [
    "pot = qml.pow(op, -0.5)"
   ]
  },
  {
   "cell_type": "code",
   "execution_count": null,
   "metadata": {},
   "outputs": [
    {
     "name": "stdout",
     "output_type": "stream",
     "text": [
      "FRISUS LOG: pow generator chiamato\n"
     ]
    },
    {
     "data": {
      "text/plain": [
       "-0.5 * (0.0625 * (X(0) @ X(1) @ X(2) @ Y(3)) + 0.0625 * (X(0) @ X(1) @ Y(2) @ X(3)) + -0.0625 * (X(0) @ Y(1) @ X(2) @ X(3)) + 0.0625 * (X(0) @ Y(1) @ Y(2) @ Y(3)) + -0.0625 * (Y(0) @ X(1) @ X(2) @ X(3)) + 0.0625 * (Y(0) @ X(1) @ Y(2) @ Y(3)) + -0.0625 * (Y(0) @ Y(1) @ X(2) @ Y(3)) + -0.0625 * (Y(0) @ Y(1) @ Y(2) @ X(3)))"
      ]
     },
     "execution_count": 7,
     "metadata": {},
     "output_type": "execute_result"
    }
   ],
   "source": [
    "pot.generator()"
   ]
  },
  {
   "cell_type": "code",
   "execution_count": null,
   "metadata": {},
   "outputs": [],
   "source": [
    "op = qml.s_prod(5, qml.RX(0.3, [0]) + qml.RX(0.7, [2],))"
   ]
  },
  {
   "cell_type": "code",
   "execution_count": null,
   "metadata": {},
   "outputs": [
    {
     "data": {
      "text/plain": [
       "([5], [RX(0.3, wires=[0]) + RX(0.7, wires=[2])])"
      ]
     },
     "execution_count": 80,
     "metadata": {},
     "output_type": "execute_result"
    }
   ],
   "source": [
    "op.terms()"
   ]
  },
  {
   "cell_type": "markdown",
   "metadata": {},
   "source": [
    "## Another error to address later on"
   ]
  },
  {
   "cell_type": "code",
   "execution_count": null,
   "metadata": {},
   "outputs": [],
   "source": [
    "from pennylane.qchem.tapering import (\n",
    "    _kernel,\n",
    "    _reduced_row_echelon,\n",
    "    clifford,\n",
    "    optimal_sector,\n",
    "    taper_hf,\n",
    "    taper_operation,\n",
    "    _split_pauli_sentence,\n",
    "    _taper_pauli_sentence,\n",
    ")\n",
    "\n",
    "from pennylane import numpy as np\n",
    "\n",
    "\"\"\"\n",
    " @pytest.mark.parametrize(\n",
    "    (\"operation\", \"op_wires\", \"op_gen\"),\n",
    "    [\n",
    "        (\n",
    "            lambda phi, wires: qml.QubitUnitary(\n",
    "                qml.math.array(\n",
    "                    [\n",
    "                        [qml.math.cos(phi / 2), 0, 0, -1j * qml.math.sin(phi / 2)],\n",
    "                        [0, qml.math.cos(phi / 2), -1j * qml.math.sin(phi / 2), 0],\n",
    "                        [0, -1j * qml.math.sin(phi / 2), qml.math.cos(phi / 2), 0],\n",
    "                        [-1j * qml.math.sin(phi / 2), 0, 0, qml.math.cos(phi / 2)],\n",
    "                    ]\n",
    "                ),\n",
    "                wires=wires,\n",
    "            ),\n",
    "            [0, 2],\n",
    "            lambda phi, wires: qml.Hamiltonian(\n",
    "                [-0.5 * phi], [qml.PauliX(wires=wires[0]) @ qml.PauliX(wires=wires[1])]\n",
    "            ),\n",
    "        ),\n",
    "    ],\n",
    ")\n",
    "\"\"\"\n",
    "phi = 0.1\n",
    "\n",
    "operation = qml.math.cos(phi / 2), 0, 0, -1j * qml.math.sin(phi / 2)\n",
    "\n",
    "op_wires = ([0, 2],)\n",
    "\n",
    "\n",
    "def test_taper_matrix_ops(op_wires=[0, 2]):\n",
    "    \"\"\"Test that taper_operation can be used with gate operation built using matrices\"\"\"\n",
    "\n",
    "    op_wires = [0, 2]\n",
    "\n",
    "    symbols, geometry, charge = (\n",
    "        [\"He\", \"H\"],\n",
    "        np.array([[0.0, 0.0, 0.0], [0.0, 0.0, 1.4588684632]]),\n",
    "        1,\n",
    "    )\n",
    "    mol = qml.qchem.Molecule(symbols, geometry, charge)\n",
    "    hamiltonian = qml.qchem.diff_hamiltonian(mol)(geometry)\n",
    "\n",
    "    generators = qml.symmetry_generators(hamiltonian)\n",
    "    paulixops = qml.paulix_ops(generators, len(hamiltonian.wires))\n",
    "    paulix_sector = optimal_sector(hamiltonian, generators, mol.n_electrons)\n",
    "    wire_order = hamiltonian.wires\n",
    "\n",
    "    print(f\"generators = {generators}\")\n",
    "    print(f\"type(generators) = {generators}\")\n",
    "\n",
    "    taper_op1 = taper_operation(\n",
    "        qml.IsingXX,\n",
    "        generators,\n",
    "        paulixops,\n",
    "        paulix_sector,\n",
    "        wire_order,\n",
    "        op_wires=op_wires,\n",
    "    )\n",
    "    assert callable(taper_op1)"
   ]
  },
  {
   "cell_type": "code",
   "execution_count": null,
   "metadata": {},
   "outputs": [],
   "source": []
  },
  {
   "cell_type": "code",
   "execution_count": null,
   "metadata": {},
   "outputs": [
    {
     "name": "stdout",
     "output_type": "stream",
     "text": [
      "generators = [<Hamiltonian: terms=1, wires=[0, 2]>, <Hamiltonian: terms=1, wires=[1, 3]>]\n",
      "type(generators) = [<Hamiltonian: terms=1, wires=[0, 2]>, <Hamiltonian: terms=1, wires=[1, 3]>]\n",
      "FRISUS LOG: _generator_hamiltonian chiamata. gen = -0.5 * (X(0) @ X(2))\n",
      "FRISUS LOG: type(gen) = <class 'pennylane.ops.op_math.sprod.SProd'>\n"
     ]
    },
    {
     "ename": "NotImplementedError",
     "evalue": "Conversion of generator -0.5 * (X(0) @ X(2)) to Hamiltonian is currently not implemented.",
     "output_type": "error",
     "traceback": [
      "\u001b[0;31m---------------------------------------------------------------------------\u001b[0m",
      "\u001b[0;31mNotImplementedError\u001b[0m                       Traceback (most recent call last)",
      "Cell \u001b[0;32mIn[9], line 1\u001b[0m\n\u001b[0;32m----> 1\u001b[0m \u001b[43mtest_taper_matrix_ops\u001b[49m\u001b[43m(\u001b[49m\u001b[43m)\u001b[49m\n",
      "Cell \u001b[0;32mIn[8], line 66\u001b[0m, in \u001b[0;36mtest_taper_matrix_ops\u001b[0;34m(op_wires)\u001b[0m\n\u001b[1;32m     63\u001b[0m \u001b[38;5;28mprint\u001b[39m(\u001b[38;5;124mf\u001b[39m\u001b[38;5;124m\"\u001b[39m\u001b[38;5;124mgenerators = \u001b[39m\u001b[38;5;132;01m{\u001b[39;00mgenerators\u001b[38;5;132;01m}\u001b[39;00m\u001b[38;5;124m\"\u001b[39m)\n\u001b[1;32m     64\u001b[0m \u001b[38;5;28mprint\u001b[39m(\u001b[38;5;124mf\u001b[39m\u001b[38;5;124m\"\u001b[39m\u001b[38;5;124mtype(generators) = \u001b[39m\u001b[38;5;132;01m{\u001b[39;00mgenerators\u001b[38;5;132;01m}\u001b[39;00m\u001b[38;5;124m\"\u001b[39m)\n\u001b[0;32m---> 66\u001b[0m taper_op1 \u001b[38;5;241m=\u001b[39m \u001b[43mtaper_operation\u001b[49m\u001b[43m(\u001b[49m\n\u001b[1;32m     67\u001b[0m \u001b[43m    \u001b[49m\u001b[43mqml\u001b[49m\u001b[38;5;241;43m.\u001b[39;49m\u001b[43mIsingXX\u001b[49m\u001b[43m,\u001b[49m\n\u001b[1;32m     68\u001b[0m \u001b[43m    \u001b[49m\u001b[43mgenerators\u001b[49m\u001b[43m,\u001b[49m\n\u001b[1;32m     69\u001b[0m \u001b[43m    \u001b[49m\u001b[43mpaulixops\u001b[49m\u001b[43m,\u001b[49m\n\u001b[1;32m     70\u001b[0m \u001b[43m    \u001b[49m\u001b[43mpaulix_sector\u001b[49m\u001b[43m,\u001b[49m\n\u001b[1;32m     71\u001b[0m \u001b[43m    \u001b[49m\u001b[43mwire_order\u001b[49m\u001b[43m,\u001b[49m\n\u001b[1;32m     72\u001b[0m \u001b[43m    \u001b[49m\u001b[43mop_wires\u001b[49m\u001b[38;5;241;43m=\u001b[39;49m\u001b[43mop_wires\u001b[49m\u001b[43m,\u001b[49m\n\u001b[1;32m     73\u001b[0m \u001b[43m\u001b[49m\u001b[43m)\u001b[49m\n\u001b[1;32m     74\u001b[0m \u001b[38;5;28;01massert\u001b[39;00m \u001b[38;5;28mcallable\u001b[39m(taper_op1)\n",
      "File \u001b[0;32m~/anaconda3/envs/PennyLane/lib/python3.9/site-packages/PennyLane-0.36.0.dev0-py3.9.egg/pennylane/qchem/tapering.py:758\u001b[0m, in \u001b[0;36mtaper_operation\u001b[0;34m(operation, generators, paulixops, paulix_sector, wire_order, op_wires, op_gen)\u001b[0m\n\u001b[1;32m    755\u001b[0m operation, op_gen \u001b[38;5;241m=\u001b[39m _build_callables(operation, op_wires\u001b[38;5;241m=\u001b[39mop_wires, op_gen\u001b[38;5;241m=\u001b[39mop_gen)\n\u001b[1;32m    757\u001b[0m \u001b[38;5;66;03m# build generator for the operation either internally or using the provided op_gen\u001b[39;00m\n\u001b[0;32m--> 758\u001b[0m op_gen \u001b[38;5;241m=\u001b[39m \u001b[43m_build_generator\u001b[49m\u001b[43m(\u001b[49m\u001b[43moperation\u001b[49m\u001b[43m,\u001b[49m\u001b[43m \u001b[49m\u001b[43mwire_order\u001b[49m\u001b[43m,\u001b[49m\u001b[43m \u001b[49m\u001b[43mop_gen\u001b[49m\u001b[38;5;241;43m=\u001b[39;49m\u001b[43mop_gen\u001b[49m\u001b[43m)\u001b[49m\n\u001b[1;32m    759\u001b[0m \u001b[38;5;66;03m# check compatibility between the generator and the symmeteries\u001b[39;00m\n\u001b[1;32m    760\u001b[0m \u001b[38;5;28;01mif\u001b[39;00m np\u001b[38;5;241m.\u001b[39mall(\n\u001b[1;32m    761\u001b[0m     [\n\u001b[1;32m    762\u001b[0m         [\n\u001b[0;32m   (...)\u001b[0m\n\u001b[1;32m    767\u001b[0m     ]\n\u001b[1;32m    768\u001b[0m ) \u001b[38;5;129;01mand\u001b[39;00m \u001b[38;5;129;01mnot\u001b[39;00m np\u001b[38;5;241m.\u001b[39mall(np\u001b[38;5;241m.\u001b[39misclose(op_gen\u001b[38;5;241m.\u001b[39mcoeffs, np\u001b[38;5;241m.\u001b[39mzeros_like(op_gen\u001b[38;5;241m.\u001b[39mcoeffs), rtol\u001b[38;5;241m=\u001b[39m\u001b[38;5;241m1e-8\u001b[39m)):\n",
      "File \u001b[0;32m~/anaconda3/envs/PennyLane/lib/python3.9/site-packages/PennyLane-0.36.0.dev0-py3.9.egg/pennylane/qchem/tapering.py:587\u001b[0m, in \u001b[0;36m_build_generator\u001b[0;34m(operation, wire_order, op_gen)\u001b[0m\n\u001b[1;32m    585\u001b[0m \u001b[38;5;28;01melse\u001b[39;00m:  \u001b[38;5;66;03m# Single-parameter gates\u001b[39;00m\n\u001b[1;32m    586\u001b[0m     \u001b[38;5;28;01mtry\u001b[39;00m:\n\u001b[0;32m--> 587\u001b[0m         op_gen \u001b[38;5;241m=\u001b[39m \u001b[43mqml\u001b[49m\u001b[38;5;241;43m.\u001b[39;49m\u001b[43mgenerator\u001b[49m\u001b[43m(\u001b[49m\u001b[43moperation\u001b[49m\u001b[43m,\u001b[49m\u001b[43m \u001b[49m\u001b[38;5;124;43m\"\u001b[39;49m\u001b[38;5;124;43mhamiltonian\u001b[39;49m\u001b[38;5;124;43m\"\u001b[39;49m\u001b[43m)\u001b[49m\n\u001b[1;32m    589\u001b[0m     \u001b[38;5;28;01mexcept\u001b[39;00m \u001b[38;5;167;01mValueError\u001b[39;00m \u001b[38;5;28;01mas\u001b[39;00m exc:\n\u001b[1;32m    590\u001b[0m         \u001b[38;5;28;01mraise\u001b[39;00m \u001b[38;5;167;01mNotImplementedError\u001b[39;00m(\n\u001b[1;32m    591\u001b[0m             \u001b[38;5;124mf\u001b[39m\u001b[38;5;124m\"\u001b[39m\u001b[38;5;124mGenerator for \u001b[39m\u001b[38;5;132;01m{\u001b[39;00moperation\u001b[38;5;132;01m}\u001b[39;00m\u001b[38;5;124m is not implemented, please provide it with \u001b[39m\u001b[38;5;124m'\u001b[39m\u001b[38;5;124mop_gen\u001b[39m\u001b[38;5;124m'\u001b[39m\u001b[38;5;124m args.\u001b[39m\u001b[38;5;124m\"\u001b[39m\n\u001b[1;32m    592\u001b[0m         ) \u001b[38;5;28;01mfrom\u001b[39;00m \u001b[38;5;21;01mexc\u001b[39;00m\n",
      "File \u001b[0;32m~/anaconda3/envs/PennyLane/lib/python3.9/site-packages/PennyLane-0.36.0.dev0-py3.9.egg/pennylane/ops/functions/generator.py:251\u001b[0m, in \u001b[0;36mgenerator\u001b[0;34m(op, format)\u001b[0m\n\u001b[1;32m    249\u001b[0m \u001b[38;5;28;01mif\u001b[39;00m \u001b[38;5;28mcallable\u001b[39m(op):\n\u001b[1;32m    250\u001b[0m     \u001b[38;5;28;01mreturn\u001b[39;00m processing_fn\n\u001b[0;32m--> 251\u001b[0m \u001b[38;5;28;01mreturn\u001b[39;00m \u001b[43mprocessing_fn\u001b[49m\u001b[43m(\u001b[49m\u001b[43m)\u001b[49m\n",
      "File \u001b[0;32m~/anaconda3/envs/PennyLane/lib/python3.9/site-packages/PennyLane-0.36.0.dev0-py3.9.egg/pennylane/ops/functions/generator.py:236\u001b[0m, in \u001b[0;36mgenerator.<locals>.processing_fn\u001b[0;34m(*args, **kwargs)\u001b[0m\n\u001b[1;32m    233\u001b[0m     \u001b[38;5;28;01mreturn\u001b[39;00m _generator_prefactor(gen)\n\u001b[1;32m    235\u001b[0m \u001b[38;5;28;01mif\u001b[39;00m \u001b[38;5;28mformat\u001b[39m \u001b[38;5;241m==\u001b[39m \u001b[38;5;124m\"\u001b[39m\u001b[38;5;124mhamiltonian\u001b[39m\u001b[38;5;124m\"\u001b[39m:\n\u001b[0;32m--> 236\u001b[0m     \u001b[38;5;28;01mreturn\u001b[39;00m \u001b[43m_generator_hamiltonian\u001b[49m\u001b[43m(\u001b[49m\u001b[43mgen\u001b[49m\u001b[43m,\u001b[49m\u001b[43m \u001b[49m\u001b[43mgen_op\u001b[49m\u001b[43m)\u001b[49m\n\u001b[1;32m    238\u001b[0m \u001b[38;5;28;01mif\u001b[39;00m \u001b[38;5;28mformat\u001b[39m \u001b[38;5;241m==\u001b[39m \u001b[38;5;124m\"\u001b[39m\u001b[38;5;124marithmetic\u001b[39m\u001b[38;5;124m\"\u001b[39m:\n\u001b[1;32m    239\u001b[0m     h \u001b[38;5;241m=\u001b[39m _generator_hamiltonian(gen, gen_op)\n",
      "File \u001b[0;32m~/anaconda3/envs/PennyLane/lib/python3.9/site-packages/PennyLane-0.36.0.dev0-py3.9.egg/pennylane/ops/functions/generator.py:70\u001b[0m, in \u001b[0;36m_generator_hamiltonian\u001b[0;34m(gen, op)\u001b[0m\n\u001b[1;32m     67\u001b[0m             H \u001b[38;5;241m=\u001b[39m gen[\u001b[38;5;241m0\u001b[39m] \u001b[38;5;241m+\u001b[39m gen[\u001b[38;5;241m1\u001b[39m]\n\u001b[1;32m     69\u001b[0m \u001b[38;5;28;01mif\u001b[39;00m H \u001b[38;5;129;01mis\u001b[39;00m \u001b[38;5;28;01mNone\u001b[39;00m:\n\u001b[0;32m---> 70\u001b[0m     \u001b[38;5;28;01mraise\u001b[39;00m \u001b[38;5;167;01mNotImplementedError\u001b[39;00m(\n\u001b[1;32m     71\u001b[0m         \u001b[38;5;124mf\u001b[39m\u001b[38;5;124m\"\u001b[39m\u001b[38;5;124mConversion of generator \u001b[39m\u001b[38;5;132;01m{\u001b[39;00mgen\u001b[38;5;132;01m}\u001b[39;00m\u001b[38;5;124m to Hamiltonian is currently not implemented.\u001b[39m\u001b[38;5;124m\"\u001b[39m\n\u001b[1;32m     72\u001b[0m     )\n\u001b[1;32m     74\u001b[0m \u001b[38;5;28;01mreturn\u001b[39;00m H\n",
      "\u001b[0;31mNotImplementedError\u001b[0m: Conversion of generator -0.5 * (X(0) @ X(2)) to Hamiltonian is currently not implemented."
     ]
    }
   ],
   "source": [
    "test_taper_matrix_ops()"
   ]
  },
  {
   "cell_type": "code",
   "execution_count": null,
   "metadata": {},
   "outputs": [
    {
     "data": {
      "text/plain": [
       "([2.0], [X(0) + Z(0)])"
      ]
     },
     "execution_count": 4,
     "metadata": {},
     "output_type": "execute_result"
    }
   ],
   "source": [
    "(2.0 * qml.sum(qml.X(0), qml.Z(0))).terms()"
   ]
  },
  {
   "cell_type": "code",
   "execution_count": null,
   "metadata": {},
   "outputs": [],
   "source": []
  },
  {
   "cell_type": "code",
   "execution_count": null,
   "metadata": {},
   "outputs": [],
   "source": [
    "gen = qml.X(0) + qml.X(2)"
   ]
  },
  {
   "cell_type": "code",
   "execution_count": null,
   "metadata": {},
   "outputs": [],
   "source": [
    "gen.ops"
   ]
  },
  {
   "cell_type": "code",
   "execution_count": null,
   "metadata": {},
   "outputs": [
    {
     "data": {
      "text/plain": [
       "1"
      ]
     },
     "execution_count": 106,
     "metadata": {},
     "output_type": "execute_result"
    }
   ],
   "source": [
    "gen.arithmetic_depth"
   ]
  },
  {
   "cell_type": "code",
   "execution_count": null,
   "metadata": {},
   "outputs": [
    {
     "data": {
      "text/plain": [
       "pennylane.ops.op_math.sum.Sum"
      ]
     },
     "execution_count": 107,
     "metadata": {},
     "output_type": "execute_result"
    }
   ],
   "source": [
    "type(gen)"
   ]
  },
  {
   "cell_type": "code",
   "execution_count": null,
   "metadata": {},
   "outputs": [
    {
     "ename": "AttributeError",
     "evalue": "'Prod' object has no attribute 'base'",
     "output_type": "error",
     "traceback": [
      "\u001b[0;31m---------------------------------------------------------------------------\u001b[0m",
      "\u001b[0;31mAttributeError\u001b[0m                            Traceback (most recent call last)",
      "Cell \u001b[0;32mIn[69], line 1\u001b[0m\n\u001b[0;32m----> 1\u001b[0m \u001b[43mgen\u001b[49m\u001b[38;5;241;43m.\u001b[39;49m\u001b[43mbase\u001b[49m\n",
      "\u001b[0;31mAttributeError\u001b[0m: 'Prod' object has no attribute 'base'"
     ]
    }
   ],
   "source": [
    "gen.base"
   ]
  },
  {
   "cell_type": "code",
   "execution_count": null,
   "metadata": {},
   "outputs": [
    {
     "data": {
      "text/plain": [
       "pennylane.ops.op_math.prod.Prod"
      ]
     },
     "execution_count": 51,
     "metadata": {},
     "output_type": "execute_result"
    }
   ],
   "source": [
    "type(gen.base)"
   ]
  },
  {
   "cell_type": "code",
   "execution_count": null,
   "metadata": {},
   "outputs": [
    {
     "data": {
      "text/plain": [
       "X(0) @ X(2)"
      ]
     },
     "execution_count": 61,
     "metadata": {},
     "output_type": "execute_result"
    }
   ],
   "source": [
    "gen.base[0] @ gen.base[1]"
   ]
  },
  {
   "cell_type": "code",
   "execution_count": null,
   "metadata": {},
   "outputs": [
    {
     "data": {
      "text/plain": [
       "pennylane.ops.qubit.hamiltonian.Hamiltonian"
      ]
     },
     "execution_count": 110,
     "metadata": {},
     "output_type": "execute_result"
    }
   ],
   "source": [
    "type(gen[0] + gen[1])"
   ]
  },
  {
   "cell_type": "code",
   "execution_count": null,
   "metadata": {},
   "outputs": [
    {
     "ename": "NameError",
     "evalue": "name 'm' is not defined",
     "output_type": "error",
     "traceback": [
      "\u001b[0;31m---------------------------------------------------------------------------\u001b[0m",
      "\u001b[0;31mNameError\u001b[0m                                 Traceback (most recent call last)",
      "Cell \u001b[0;32mIn[114], line 1\u001b[0m\n\u001b[0;32m----> 1\u001b[0m \u001b[43mm\u001b[49m \u001b[38;5;129;01mis\u001b[39;00m \u001b[38;5;28;01mNone\u001b[39;00m\n",
      "\u001b[0;31mNameError\u001b[0m: name 'm' is not defined"
     ]
    }
   ],
   "source": []
  },
  {
   "cell_type": "code",
   "execution_count": null,
   "metadata": {},
   "outputs": [
    {
     "name": "stdout",
     "output_type": "stream",
     "text": [
      "  (-0.5) [X0 X2]\n"
     ]
    }
   ],
   "source": [
    "qml.Hamiltonian([gen.scalar], [qml.X(0) @ qml.X(2)])"
   ]
  },
  {
   "cell_type": "code",
   "execution_count": null,
   "metadata": {},
   "outputs": [],
   "source": [
    "gen = gen.scalar * gen.base"
   ]
  },
  {
   "cell_type": "code",
   "execution_count": null,
   "metadata": {},
   "outputs": [
    {
     "data": {
      "text/plain": [
       "pennylane.ops.op_math.sprod.SProd"
      ]
     },
     "execution_count": 19,
     "metadata": {},
     "output_type": "execute_result"
    }
   ],
   "source": [
    "type(gen)"
   ]
  },
  {
   "cell_type": "code",
   "execution_count": null,
   "metadata": {},
   "outputs": [
    {
     "data": {
      "text/plain": [
       "{}"
      ]
     },
     "execution_count": 14,
     "metadata": {},
     "output_type": "execute_result"
    }
   ],
   "source": [
    "gen.base.hyperparameters"
   ]
  },
  {
   "cell_type": "code",
   "execution_count": null,
   "metadata": {},
   "outputs": [],
   "source": [
    "gen = -0.5 * (qml.X(0) @ qml.X(2))"
   ]
  },
  {
   "cell_type": "code",
   "execution_count": null,
   "metadata": {},
   "outputs": [
    {
     "data": {
      "text/plain": [
       "pennylane.ops.qubit.hamiltonian.Hamiltonian"
      ]
     },
     "execution_count": 12,
     "metadata": {},
     "output_type": "execute_result"
    }
   ],
   "source": [
    "type(gen)"
   ]
  },
  {
   "cell_type": "code",
   "execution_count": null,
   "metadata": {},
   "outputs": [],
   "source": [
    "op = qml.RZ(1.0, wires=[3])"
   ]
  },
  {
   "cell_type": "code",
   "execution_count": null,
   "metadata": {},
   "outputs": [],
   "source": []
  },
  {
   "cell_type": "markdown",
   "metadata": {},
   "source": [
    "## This is just a matter of style, ma ci sono priorities ben more urgent!"
   ]
  },
  {
   "cell_type": "code",
   "execution_count": null,
   "metadata": {},
   "outputs": [],
   "source": [
    "wires = [0, 1]\n",
    "\n",
    "w1, w2 = wires"
   ]
  },
  {
   "cell_type": "code",
   "execution_count": null,
   "metadata": {},
   "outputs": [],
   "source": [
    "w0, w1, w2, w3 = [0, 1, 2, 3]\n",
    "coeffs = [0.0625, 0.0625, -0.0625, 0.0625, -0.0625, 0.0625, -0.0625, -0.0625]\n",
    "obs = [\n",
    "    qml.X(w0) @ qml.X(w1) @ qml.X(w2) @ qml.Y(w3),\n",
    "    qml.X(w0) @ qml.X(w1) @ qml.Y(w2) @ qml.X(w3),\n",
    "    qml.X(w0) @ qml.Y(w1) @ qml.X(w2) @ qml.X(w3),\n",
    "    qml.X(w0) @ qml.Y(w1) @ qml.Y(w2) @ qml.Y(w3),\n",
    "    qml.Y(w0) @ qml.X(w1) @ qml.X(w2) @ qml.X(w3),\n",
    "    qml.Y(w0) @ qml.X(w1) @ qml.Y(w2) @ qml.Y(w3),\n",
    "    qml.Y(w0) @ qml.Y(w1) @ qml.X(w2) @ qml.Y(w3),\n",
    "    qml.Y(w0) @ qml.Y(w1) @ qml.Y(w2) @ qml.X(w3),\n",
    "]\n",
    "Ham = qml.Hamiltonian(coeffs, obs)"
   ]
  },
  {
   "cell_type": "code",
   "execution_count": null,
   "metadata": {},
   "outputs": [
    {
     "data": {
      "text/plain": [
       "[0.0625, 0.0625, -0.0625, 0.0625, -0.0625, 0.0625, -0.0625, -0.0625]"
      ]
     },
     "execution_count": 40,
     "metadata": {},
     "output_type": "execute_result"
    }
   ],
   "source": [
    "Ham.coeffs"
   ]
  },
  {
   "cell_type": "code",
   "execution_count": null,
   "metadata": {},
   "outputs": [],
   "source": [
    "Rep = qml.sum(\n",
    "    qml.s_prod(0.0625, qml.X(w0) @ qml.X(w1) @ qml.X(w2) @ qml.Y(w3)),\n",
    "    qml.s_prod(0.0625, qml.X(w0) @ qml.X(w1) @ qml.Y(w2) @ qml.X(w3)),\n",
    "    qml.s_prod(-0.0625, qml.X(w0) @ qml.Y(w1) @ qml.X(w2) @ qml.X(w3)),\n",
    "    qml.s_prod(0.0625, qml.X(w0) @ qml.Y(w1) @ qml.Y(w2) @ qml.Y(w3)),\n",
    "    qml.s_prod(-0.0625, qml.Y(w0) @ qml.X(w1) @ qml.X(w2) @ qml.X(w3)),\n",
    "    qml.s_prod(0.0625, qml.Y(w0) @ qml.X(w1) @ qml.Y(w2) @ qml.Y(w3)),\n",
    "    qml.s_prod(-0.0625, qml.Y(w0) @ qml.Y(w1) @ qml.X(w2) @ qml.Y(w3)),\n",
    "    qml.s_prod(-0.0625, qml.Y(w0) @ qml.Y(w1) @ qml.Y(w2) @ qml.X(w3)),\n",
    ")"
   ]
  },
  {
   "cell_type": "code",
   "execution_count": null,
   "metadata": {},
   "outputs": [
    {
     "data": {
      "text/plain": [
       "<bound method Sum.terms of (\n",
       "    0.0625 * (X(0) @ X(1) @ X(2) @ Y(3))\n",
       "  + 0.0625 * (X(0) @ X(1) @ Y(2) @ X(3))\n",
       "  + -0.0625 * (X(0) @ Y(1) @ X(2) @ X(3))\n",
       "  + 0.0625 * (X(0) @ Y(1) @ Y(2) @ Y(3))\n",
       "  + -0.0625 * (Y(0) @ X(1) @ X(2) @ X(3))\n",
       "  + 0.0625 * (Y(0) @ X(1) @ Y(2) @ Y(3))\n",
       "  + -0.0625 * (Y(0) @ Y(1) @ X(2) @ Y(3))\n",
       "  + -0.0625 * (Y(0) @ Y(1) @ Y(2) @ X(3))\n",
       ")>"
      ]
     },
     "execution_count": 46,
     "metadata": {},
     "output_type": "execute_result"
    }
   ],
   "source": [
    "Rep.terms"
   ]
  },
  {
   "cell_type": "code",
   "execution_count": null,
   "metadata": {},
   "outputs": [],
   "source": [
    "coeffs = [0.0625, 0.0625, -0.0625, 0.0625, -0.0625, 0.0625, -0.0625, -0.0625]\n",
    "obs = [\n",
    "    qml.X(w0) @ qml.X(w1) @ qml.X(w2) @ qml.Y(w3),\n",
    "    qml.X(w0) @ qml.X(w1) @ qml.Y(w2) @ qml.X(w3),\n",
    "    qml.X(w0) @ qml.Y(w1) @ qml.X(w2) @ qml.X(w3),\n",
    "    qml.X(w0) @ qml.Y(w1) @ qml.Y(w2) @ qml.Y(w3),\n",
    "    qml.Y(w0) @ qml.X(w1) @ qml.X(w2) @ qml.X(w3),\n",
    "    qml.Y(w0) @ qml.X(w1) @ qml.Y(w2) @ qml.Y(w3),\n",
    "    qml.Y(w0) @ qml.Y(w1) @ qml.X(w2) @ qml.Y(w3),\n",
    "    qml.Y(w0) @ qml.Y(w1) @ qml.Y(w2) @ qml.X(w3),\n",
    "]\n",
    "\n",
    "op = qml.s_prod(scalar=coeffs, operator=obs)"
   ]
  },
  {
   "cell_type": "code",
   "execution_count": null,
   "metadata": {},
   "outputs": [],
   "source": [
    "from pennylane.operation import gen_is_multi_term_hamiltonian"
   ]
  },
  {
   "cell_type": "code",
   "execution_count": null,
   "metadata": {},
   "outputs": [],
   "source": [
    "doubleExcitation = qml.DoubleExcitation(0.1, wires=[0, 1, 2, 3])"
   ]
  },
  {
   "cell_type": "code",
   "execution_count": null,
   "metadata": {},
   "outputs": [
    {
     "data": {
      "text/plain": [
       "True"
      ]
     },
     "execution_count": 10,
     "metadata": {},
     "output_type": "execute_result"
    }
   ],
   "source": [
    "gen_is_multi_term_hamiltonian(doubleExcitation)"
   ]
  },
  {
   "cell_type": "code",
   "execution_count": null,
   "metadata": {},
   "outputs": [
    {
     "data": {
      "text/plain": [
       "pennylane.ops.qubit.hamiltonian.Hamiltonian"
      ]
     },
     "execution_count": 11,
     "metadata": {},
     "output_type": "execute_result"
    }
   ],
   "source": [
    "type(doubleExcitation.generator())"
   ]
  },
  {
   "cell_type": "code",
   "execution_count": null,
   "metadata": {},
   "outputs": [],
   "source": []
  }
 ],
 "metadata": {
  "kernelspec": {
   "display_name": "PennyLane",
   "language": "python",
   "name": "python3"
  },
  "language_info": {
   "codemirror_mode": {
    "name": "ipython",
    "version": 3
   },
   "file_extension": ".py",
   "mimetype": "text/x-python",
   "name": "python",
   "nbconvert_exporter": "python",
   "pygments_lexer": "ipython3",
   "version": "3.9.7"
  }
 },
 "nbformat": 4,
 "nbformat_minor": 2
}
