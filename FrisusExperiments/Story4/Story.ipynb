{
 "cells": [
  {
   "cell_type": "markdown",
   "metadata": {},
   "source": [
    "# Generators use opmath"
   ]
  },
  {
   "cell_type": "code",
   "execution_count": 1,
   "metadata": {},
   "outputs": [],
   "source": [
    "import pennylane as qml"
   ]
  },
  {
   "cell_type": "markdown",
   "metadata": {},
   "source": [
    "## Story's description\n",
    "\n",
    "More context: https://xanaduhq.slack.com/archives/C06DX049G49/p1705355151489519\n",
    "\n",
    "Some operators have a generator method and we want to make sure that they are using the new opmath (in particular, no Tensor or Hamiltonian instances)\n",
    "\n",
    "AC:\n",
    "\n",
    "no generator method uses hardcoded Hamiltonian or Tensor instances"
   ]
  },
  {
   "cell_type": "markdown",
   "metadata": {},
   "source": [
    "### I copy and paste here the *Slack* description of the thread in which the story was born\n",
    "\n",
    "**Christina Lee**\n",
    "I think we also need to switch all the generators to `Prod` as well.\n",
    "\n",
    "**Korbinian Kottmann**\n",
    "Can you elaborate, what do you mean by switching the generators? (edited) \n",
    "\n",
    "**Korbinian Kottmann**\n",
    "Like switch definitions like these to use s_prod, prod, and sum instead of *, @ and + for construction?\n",
    "https://github.com/PennyLaneAI/pennylane/blob/master/pennylane/ops/qubit/qchem_ops.py#L316\n",
    "qchem_ops.py\n",
    "    def generator(self):\n",
    "<https://github.com/PennyLaneAI/pennylane|PennyLaneAI/pennylane>PennyLaneAI/pennylane | Added by GitHub\n",
    "\n",
    "**Christina Lee**\n",
    "The generators might be hard coded to tensor or hamiltonian.\n",
    "\n",
    "**Korbinian Kottmann**\n",
    "Do you have an example? Would the example above constitute as such by having the generator defined as scalar * (op1 @ op2) ?\n",
    "qchem_ops.py\n",
    "    def generator(self):\n",
    "<https://github.com/PennyLaneAI/pennylane|PennyLaneAI/pennylane>PennyLaneAI/pennylane | Added by GitHub\n",
    "\n",
    "**Christina Lee**\n",
    "`DoubleExcitation` is returning a Hamiltonian.\n",
    "\n",
    "**Korbinian Kottmann**\n",
    "Thanks!\n",
    "\n",
    "**Korbinian Kottmann**\n",
    "Created a story so we dont forget about this (n.d.r.: this one)"
   ]
  },
  {
   "cell_type": "markdown",
   "metadata": {},
   "source": [
    "## Primi pensieri"
   ]
  },
  {
   "cell_type": "markdown",
   "metadata": {},
   "source": [
    "Penso che vogliano che io controlli che i `generators` (qualunque cosa essi siano) degli `operators` stiano usando le funzioni del modulo `pennylane/ops/opmath`, visto che Tensor e Hamiltonian sono in fase di deprecazione.\n",
    "\n",
    "Alcune domande:\n",
    "\n",
    "- Come faccio a capire quali `generators` devo guardare?\n",
    "- Come faccio a sapere se il `generator` che sto guardando deve essere modificato? La TZ parlava di `DoubleExcitation` (qualunque cosa sia), quindi potrei partire from there"
   ]
  },
  {
   "cell_type": "markdown",
   "metadata": {},
   "source": [
    "### Deeper description:"
   ]
  },
  {
   "cell_type": "markdown",
   "metadata": {},
   "source": [
    "Many operators have a generator method defined, e.g.\n",
    "https://github.com/PennyLaneAI/pennylane/blob/master/pennylane/ops/qubit/qchem_ops.py#L598\n",
    "\n",
    "The task of this story is to make sure that these returns new opmath instances `(SProd, Prod, Sum)`. In particular, currently the default for python operators `@` , `+` and `*` is to use \"old opmath\" and creates `Tensor` and `Hamiltonian` instances.\n",
    "\n",
    "So the task is basically to change in all `Operator.generator` definitions the following:\n",
    "\n",
    "`x * op` -> `qml.s_prod(x, op)` , `x+y` -> `qml.sum(x, y)` , `x @ y` -> `qml.prod(x, y)` and `qml.Hamiltonian(coeffs, ops)` -> `qml.dot(coeffs, ops)` \n",
    "\n",
    "then everything should be (nested) instances of `SProd` , `Prod` and `Sum` - the new opmath classes.\n",
    "\n",
    "I'd approach the task as follows:\n",
    "repo-search (e.g. in visual code with cmd-shift-f) `def generator(` in `pennylane/pennylane/` and make the above changes.\n",
    "\n",
    "Check if tests fail/pass.\n",
    "\n",
    "If fail if the test just needs an update (e.g. changing and `isinstance(op, Hamiltonian)` to `isinstance(op, Sum)`)\n",
    "\n",
    "If there is no failing test to change, consider updating the test of the generator method to check `isinstance(op, Sum)` (or whichever class the result is). Ideally if there already a test for the generator method in the class, update this one. If it doesnt fit, add a new one"
   ]
  },
  {
   "cell_type": "markdown",
   "metadata": {},
   "source": [
    "- Changed `/ops/qubit/parametric_ops_multi_qubit.py`, line 776 \n",
    "\n",
    "    from:\n",
    "\n",
    "    ```\n",
    "    def generator(self):\n",
    "        return -0.5 * PauliX(wires=self.wires[0]) @ PauliX(wires=self.wires[1])\n",
    "    ```    \n",
    "    to:\n",
    "\n",
    "    ```\n",
    "    def generator(self):\n",
    "        return qml.s_prod(-0.5, qml.prod(PauliX(wires=self.wires[0]), PauliX(wires=self.wires[1])))\n",
    "    ```    \n",
    "\n",
    "- Stessa modifica alla linea 912           \n",
    "\n",
    "- Stessa modifica alla linea 1055         \n",
    "\n",
    "- Changed line 1238 \n",
    "\n",
    "    from :\n",
    "\n",
    "    ```\n",
    "    def generator(self):\n",
    "        return 0.25 * (\n",
    "            PauliX(wires=self.wires[0]) @ PauliX(wires=self.wires[1])\n",
    "            + PauliY(wires=self.wires[0]) @ PauliY(wires=self.wires[1])\n",
    "        )\n",
    "\n",
    "    ```\n",
    "\n",
    "    to :\n",
    "\n",
    "    ```\n",
    "    def generator(self):\n",
    "        return qml.s_prod(\n",
    "            0.25,\n",
    "            qml.sum(\n",
    "                qml.prod(PauliX(wires=self.wires[0]), PauliX(wires=self.wires[1])),\n",
    "                qml.prod(PauliY(wires=self.wires[0]), PauliY(wires=self.wires[1])),\n",
    "            ),\n",
    "        )\n",
    "    ```\n",
    "\n",
    "STOP: devo interrompere questo reportage altrimenti ci metto troppo       "
   ]
  },
  {
   "cell_type": "markdown",
   "metadata": {},
   "source": []
  },
  {
   "cell_type": "code",
   "execution_count": 2,
   "metadata": {},
   "outputs": [
    {
     "data": {
      "text/plain": [
       "(X(1) @ Projector(array([1]), wires=[0]), -0.5)"
      ]
     },
     "execution_count": 2,
     "metadata": {},
     "output_type": "execute_result"
    }
   ],
   "source": [
    "op = qml.CRX(0.6, wires=[0, 1])\n",
    "qml.generator(op)\n",
    "#    (Projector([1], wires=[0]) @ X(1), -0.5)"
   ]
  },
  {
   "cell_type": "code",
   "execution_count": 3,
   "metadata": {},
   "outputs": [
    {
     "data": {
      "text/plain": [
       "pennylane.ops.op_math.sprod.SProd"
      ]
     },
     "execution_count": 3,
     "metadata": {},
     "output_type": "execute_result"
    }
   ],
   "source": [
    "type(qml.s_prod(-0.5, qml.prod(qml.PauliX(wires=[1]), qml.PauliX(wires=[0]))))"
   ]
  },
  {
   "cell_type": "code",
   "execution_count": 4,
   "metadata": {},
   "outputs": [
    {
     "name": "stdout",
     "output_type": "stream",
     "text": [
      "<class 'pennylane.ops.qubit.hamiltonian.Hamiltonian'>\n",
      "  (-0.5) [Z0 Z1 Z2]\n"
     ]
    }
   ],
   "source": [
    "import functools\n",
    "from operator import matmul\n",
    "\n",
    "old = -0.5 * functools.reduce(matmul, [qml.PauliZ(w) for w in [0, 1, 2]])\n",
    "print(type(old))\n",
    "print(old)"
   ]
  },
  {
   "cell_type": "code",
   "execution_count": 5,
   "metadata": {},
   "outputs": [
    {
     "name": "stdout",
     "output_type": "stream",
     "text": [
      "<class 'pennylane.ops.op_math.sprod.SProd'>\n",
      "-0.5 * (Z(0) @ Z(1) @ Z(2))\n"
     ]
    }
   ],
   "source": [
    "new = qml.s_prod(-0.5, functools.reduce(matmul, [qml.PauliZ(w) for w in [0, 1, 2]]))\n",
    "print(type(new))\n",
    "print(new)"
   ]
  },
  {
   "cell_type": "code",
   "execution_count": 6,
   "metadata": {},
   "outputs": [
    {
     "data": {
      "text/plain": [
       "pennylane.ops.qubit.hamiltonian.Hamiltonian"
      ]
     },
     "execution_count": 6,
     "metadata": {},
     "output_type": "execute_result"
    }
   ],
   "source": [
    "type(old)"
   ]
  },
  {
   "cell_type": "code",
   "execution_count": 7,
   "metadata": {},
   "outputs": [
    {
     "data": {
      "text/plain": [
       "<bound method Hamiltonian.compare of <Hamiltonian: terms=1, wires=[0, 1, 2]>>"
      ]
     },
     "execution_count": 7,
     "metadata": {},
     "output_type": "execute_result"
    }
   ],
   "source": [
    "old.compare"
   ]
  },
  {
   "cell_type": "code",
   "execution_count": 8,
   "metadata": {},
   "outputs": [],
   "source": [
    "from pennylane.qchem.tapering import (\n",
    "    _kernel,\n",
    "    _reduced_row_echelon,\n",
    "    clifford,\n",
    "    optimal_sector,\n",
    "    taper_hf,\n",
    "    taper_operation,\n",
    "    _split_pauli_sentence,\n",
    "    _taper_pauli_sentence,\n",
    ")\n",
    "\n",
    "from pennylane import numpy as np\n",
    "\n",
    "\"\"\"\n",
    " @pytest.mark.parametrize(\n",
    "    (\"operation\", \"op_wires\", \"op_gen\"),\n",
    "    [\n",
    "        (\n",
    "            lambda phi, wires: qml.QubitUnitary(\n",
    "                qml.math.array(\n",
    "                    [\n",
    "                        [qml.math.cos(phi / 2), 0, 0, -1j * qml.math.sin(phi / 2)],\n",
    "                        [0, qml.math.cos(phi / 2), -1j * qml.math.sin(phi / 2), 0],\n",
    "                        [0, -1j * qml.math.sin(phi / 2), qml.math.cos(phi / 2), 0],\n",
    "                        [-1j * qml.math.sin(phi / 2), 0, 0, qml.math.cos(phi / 2)],\n",
    "                    ]\n",
    "                ),\n",
    "                wires=wires,\n",
    "            ),\n",
    "            [0, 2],\n",
    "            lambda phi, wires: qml.Hamiltonian(\n",
    "                [-0.5 * phi], [qml.PauliX(wires=wires[0]) @ qml.PauliX(wires=wires[1])]\n",
    "            ),\n",
    "        ),\n",
    "    ],\n",
    ")\n",
    "\"\"\"\n",
    "phi = 0.1\n",
    "\n",
    "operation = qml.math.cos(phi / 2), 0, 0, -1j * qml.math.sin(phi / 2)\n",
    "\n",
    "op_wires = ([0, 2],)\n",
    "\n",
    "\n",
    "def test_taper_matrix_ops(op_wires=[0, 2]):\n",
    "    \"\"\"Test that taper_operation can be used with gate operation built using matrices\"\"\"\n",
    "\n",
    "    op_wires = [0, 2]\n",
    "\n",
    "    symbols, geometry, charge = (\n",
    "        [\"He\", \"H\"],\n",
    "        np.array([[0.0, 0.0, 0.0], [0.0, 0.0, 1.4588684632]]),\n",
    "        1,\n",
    "    )\n",
    "    mol = qml.qchem.Molecule(symbols, geometry, charge)\n",
    "    hamiltonian = qml.qchem.diff_hamiltonian(mol)(geometry)\n",
    "\n",
    "    generators = qml.symmetry_generators(hamiltonian)\n",
    "    paulixops = qml.paulix_ops(generators, len(hamiltonian.wires))\n",
    "    paulix_sector = optimal_sector(hamiltonian, generators, mol.n_electrons)\n",
    "    wire_order = hamiltonian.wires\n",
    "\n",
    "    taper_op1 = taper_operation(\n",
    "        qml.IsingXX,\n",
    "        generators,\n",
    "        paulixops,\n",
    "        paulix_sector,\n",
    "        wire_order,\n",
    "        op_wires=op_wires,\n",
    "    )\n",
    "    assert callable(taper_op1)"
   ]
  },
  {
   "cell_type": "code",
   "execution_count": 9,
   "metadata": {},
   "outputs": [],
   "source": [
    "# test_taper_matrix_ops()"
   ]
  },
  {
   "cell_type": "code",
   "execution_count": 23,
   "metadata": {},
   "outputs": [],
   "source": [
    "from pennylane.ops.op_math.pow import Pow\n",
    "\n",
    "\"\"\"Test that the generator is the base's generator multiplied by the power.\"\"\"\n",
    "z = 2.5\n",
    "base = qml.RX(2.34, wires=0)\n",
    "op = Pow(base, z)\n",
    "\n",
    "base_gen_op, base_gen_coeff = qml.generator(base, format=\"prefactor\")\n",
    "op_gen_op, op_gen_coeff = qml.generator(op, format=\"prefactor\")\n",
    "\n",
    "assert qml.math.allclose(base_gen_coeff * z, op_gen_coeff)\n",
    "assert base_gen_op.__class__ is op_gen_op.__class__"
   ]
  },
  {
   "cell_type": "code",
   "execution_count": 26,
   "metadata": {},
   "outputs": [
    {
     "data": {
      "text/plain": [
       "numpy.float64"
      ]
     },
     "execution_count": 26,
     "metadata": {},
     "output_type": "execute_result"
    }
   ],
   "source": [
    "type(base_gen_coeff * z)"
   ]
  },
  {
   "cell_type": "code",
   "execution_count": 11,
   "metadata": {},
   "outputs": [
    {
     "data": {
      "text/plain": [
       "pennylane.ops.qubit.non_parametric_ops.X"
      ]
     },
     "execution_count": 11,
     "metadata": {},
     "output_type": "execute_result"
    }
   ],
   "source": [
    "type(op_gen_op)"
   ]
  },
  {
   "cell_type": "code",
   "execution_count": 12,
   "metadata": {},
   "outputs": [
    {
     "data": {
      "text/plain": [
       "numpy.float64"
      ]
     },
     "execution_count": 12,
     "metadata": {},
     "output_type": "execute_result"
    }
   ],
   "source": [
    "type(op_gen_coeff)"
   ]
  },
  {
   "cell_type": "code",
   "execution_count": 13,
   "metadata": {},
   "outputs": [
    {
     "data": {
      "text/plain": [
       "pennylane.ops.qubit.non_parametric_ops.X"
      ]
     },
     "execution_count": 13,
     "metadata": {},
     "output_type": "execute_result"
    }
   ],
   "source": [
    "type(base_gen_op)"
   ]
  },
  {
   "cell_type": "code",
   "execution_count": 14,
   "metadata": {},
   "outputs": [
    {
     "data": {
      "text/plain": [
       "numpy.float64"
      ]
     },
     "execution_count": 14,
     "metadata": {},
     "output_type": "execute_result"
    }
   ],
   "source": [
    "type(base_gen_coeff)"
   ]
  },
  {
   "cell_type": "code",
   "execution_count": 30,
   "metadata": {},
   "outputs": [
    {
     "data": {
      "text/plain": [
       "-0.5 * X(0)"
      ]
     },
     "execution_count": 30,
     "metadata": {},
     "output_type": "execute_result"
    }
   ],
   "source": [
    "qml.generator(base, format=\"arithmetic\")"
   ]
  },
  {
   "cell_type": "code",
   "execution_count": 31,
   "metadata": {},
   "outputs": [
    {
     "data": {
      "text/plain": [
       "-1.25 * X(0)"
      ]
     },
     "execution_count": 31,
     "metadata": {},
     "output_type": "execute_result"
    }
   ],
   "source": [
    "qml.generator(op, format=\"arithmetic\")"
   ]
  },
  {
   "cell_type": "code",
   "execution_count": 27,
   "metadata": {},
   "outputs": [
    {
     "data": {
      "text/plain": [
       "-0.5 * 2.5"
      ]
     },
     "execution_count": 27,
     "metadata": {},
     "output_type": "execute_result"
    }
   ],
   "source": [
    "qml.s_prod(base_gen_coeff, z)"
   ]
  },
  {
   "cell_type": "code",
   "execution_count": 28,
   "metadata": {},
   "outputs": [
    {
     "data": {
      "text/plain": [
       "-1.25"
      ]
     },
     "execution_count": 28,
     "metadata": {},
     "output_type": "execute_result"
    }
   ],
   "source": [
    "op_gen_coeff"
   ]
  },
  {
   "cell_type": "code",
   "execution_count": 32,
   "metadata": {},
   "outputs": [],
   "source": [
    "op_gen_op, op_gen_coeff = qml.generator(op, format=\"prefactor\")"
   ]
  },
  {
   "cell_type": "code",
   "execution_count": null,
   "metadata": {},
   "outputs": [],
   "source": []
  },
  {
   "cell_type": "markdown",
   "metadata": {},
   "source": [
    "## This is just a matter of style, ma ci sono priorities ben more urgent!"
   ]
  },
  {
   "cell_type": "code",
   "execution_count": 19,
   "metadata": {},
   "outputs": [],
   "source": [
    "wires = [0, 1]\n",
    "\n",
    "w1, w2 = wires"
   ]
  },
  {
   "cell_type": "code",
   "execution_count": 20,
   "metadata": {},
   "outputs": [
    {
     "name": "stdout",
     "output_type": "stream",
     "text": [
      "  (-0.0625) [X0 Y1 X2 X3]\n",
      "+ (-0.0625) [Y0 X1 X2 X3]\n",
      "+ (-0.0625) [Y0 Y1 X2 Y3]\n",
      "+ (-0.0625) [Y0 Y1 Y2 X3]\n",
      "+ (0.0625) [X0 X1 X2 Y3]\n",
      "+ (0.0625) [X0 X1 Y2 X3]\n",
      "+ (0.0625) [X0 Y1 Y2 Y3]\n",
      "+ (0.0625) [Y0 X1 Y2 Y3]\n"
     ]
    }
   ],
   "source": [
    "w0, w1, w2, w3 = [0, 1, 2, 3]\n",
    "coeffs = [0.0625, 0.0625, -0.0625, 0.0625, -0.0625, 0.0625, -0.0625, -0.0625]\n",
    "obs = [\n",
    "    qml.X(w0) @ qml.X(w1) @ qml.X(w2) @ qml.Y(w3),\n",
    "    qml.X(w0) @ qml.X(w1) @ qml.Y(w2) @ qml.X(w3),\n",
    "    qml.X(w0) @ qml.Y(w1) @ qml.X(w2) @ qml.X(w3),\n",
    "    qml.X(w0) @ qml.Y(w1) @ qml.Y(w2) @ qml.Y(w3),\n",
    "    qml.Y(w0) @ qml.X(w1) @ qml.X(w2) @ qml.X(w3),\n",
    "    qml.Y(w0) @ qml.X(w1) @ qml.Y(w2) @ qml.Y(w3),\n",
    "    qml.Y(w0) @ qml.Y(w1) @ qml.X(w2) @ qml.Y(w3),\n",
    "    qml.Y(w0) @ qml.Y(w1) @ qml.Y(w2) @ qml.X(w3),\n",
    "]\n",
    "qml.Hamiltonian(coeffs, obs)"
   ]
  },
  {
   "cell_type": "code",
   "execution_count": 21,
   "metadata": {},
   "outputs": [
    {
     "data": {
      "text/plain": [
       "(\n",
       "    0.0625 * (X(0) @ X(1) @ X(2) @ Y(3))\n",
       "  + 0.0625 * (X(0) @ X(1) @ Y(2) @ X(3))\n",
       "  + -0.0625 * (X(0) @ Y(1) @ X(2) @ X(3))\n",
       "  + 0.0625 * (X(0) @ Y(1) @ Y(2) @ Y(3))\n",
       "  + -0.0625 * (Y(0) @ X(1) @ X(2) @ X(3))\n",
       "  + 0.0625 * (Y(0) @ X(1) @ Y(2) @ Y(3))\n",
       "  + -0.0625 * (Y(0) @ Y(1) @ X(2) @ Y(3))\n",
       "  + -0.0625 * (Y(0) @ Y(1) @ Y(2) @ X(3))\n",
       ")"
      ]
     },
     "execution_count": 21,
     "metadata": {},
     "output_type": "execute_result"
    }
   ],
   "source": [
    "qml.sum(\n",
    "    qml.s_prod(0.0625, qml.X(w0) @ qml.X(w1) @ qml.X(w2) @ qml.Y(w3)),\n",
    "    qml.s_prod(0.0625, qml.X(w0) @ qml.X(w1) @ qml.Y(w2) @ qml.X(w3)),\n",
    "    qml.s_prod(-0.0625, qml.X(w0) @ qml.Y(w1) @ qml.X(w2) @ qml.X(w3)),\n",
    "    qml.s_prod(0.0625, qml.X(w0) @ qml.Y(w1) @ qml.Y(w2) @ qml.Y(w3)),\n",
    "    qml.s_prod(-0.0625, qml.Y(w0) @ qml.X(w1) @ qml.X(w2) @ qml.X(w3)),\n",
    "    qml.s_prod(0.0625, qml.Y(w0) @ qml.X(w1) @ qml.Y(w2) @ qml.Y(w3)),\n",
    "    qml.s_prod(-0.0625, qml.Y(w0) @ qml.Y(w1) @ qml.X(w2) @ qml.Y(w3)),\n",
    "    qml.s_prod(-0.0625, qml.Y(w0) @ qml.Y(w1) @ qml.Y(w2) @ qml.X(w3)),\n",
    ")"
   ]
  },
  {
   "cell_type": "code",
   "execution_count": 22,
   "metadata": {},
   "outputs": [],
   "source": [
    "coeffs = [0.0625, 0.0625, -0.0625, 0.0625, -0.0625, 0.0625, -0.0625, -0.0625]\n",
    "obs = [\n",
    "    qml.X(w0) @ qml.X(w1) @ qml.X(w2) @ qml.Y(w3),\n",
    "    qml.X(w0) @ qml.X(w1) @ qml.Y(w2) @ qml.X(w3),\n",
    "    qml.X(w0) @ qml.Y(w1) @ qml.X(w2) @ qml.X(w3),\n",
    "    qml.X(w0) @ qml.Y(w1) @ qml.Y(w2) @ qml.Y(w3),\n",
    "    qml.Y(w0) @ qml.X(w1) @ qml.X(w2) @ qml.X(w3),\n",
    "    qml.Y(w0) @ qml.X(w1) @ qml.Y(w2) @ qml.Y(w3),\n",
    "    qml.Y(w0) @ qml.Y(w1) @ qml.X(w2) @ qml.Y(w3),\n",
    "    qml.Y(w0) @ qml.Y(w1) @ qml.Y(w2) @ qml.X(w3),\n",
    "]\n",
    "\n",
    "op = qml.s_prod(scalar=coeffs, operator=obs)"
   ]
  },
  {
   "cell_type": "code",
   "execution_count": null,
   "metadata": {},
   "outputs": [],
   "source": []
  }
 ],
 "metadata": {
  "kernelspec": {
   "display_name": "PennyLane",
   "language": "python",
   "name": "python3"
  },
  "language_info": {
   "codemirror_mode": {
    "name": "ipython",
    "version": 3
   },
   "file_extension": ".py",
   "mimetype": "text/x-python",
   "name": "python",
   "nbconvert_exporter": "python",
   "pygments_lexer": "ipython3",
   "version": "3.9.7"
  }
 },
 "nbformat": 4,
 "nbformat_minor": 2
}
