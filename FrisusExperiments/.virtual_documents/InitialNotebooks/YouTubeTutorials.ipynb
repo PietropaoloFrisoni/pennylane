








import pennylane as qml
from pennylane import numpy as np

import matplotlib.pyplot as plt


# quantum device
dev = qml.device("default.qubit", wires=2)


# quantum node
@qml.qnode(dev)
# quantum function
def circuit(theta):
    qml.PauliX(wires=1)
    qml.CNOT(wires=[1, 0])
    qml.RY(theta, wires=0)

    return qml.expval(qml.PauliZ(wires=0))


qml.drawer.use_style("black_white")
theta = np.pi

print(circuit(theta), "\n")

print(qml.draw(circuit)(theta), "\n")

fig, ax = qml.draw_mpl(circuit)(theta)
plt.show()


thetas = np.arange(-np.pi, np.pi, 0.01)
measurements = np.zeros(len(thetas))

for i, theta in enumerate(thetas):
    measurements[i] = circuit(theta)

plt.plot(thetas, measurements)
plt.show()








import pennylane as qml

dev = qml.device("default.qubit", wires=1)


@qml.qnode(dev)
def circuit():
    qml.Hadamard(wires=0)
    return qml.probs(wires=0)


circuit()





dev = qml.device("lightning.qubit", wires=1)


@qml.qnode(dev)
def circuit():
    qml.Hadamard(wires=0)
    return qml.probs(wires=0)


circuit()





dev = qml.device("default.mixed", wires=1)


@qml.qnode(dev)
def circuit():
    qml.BitFlip(0.5, wires=0)
    return qml.probs(wires=0)


circuit()











import pennylane as qml
from pennylane import numpy as np

import matplotlib.pyplot as plt


dev = qml.device("lightning.qubit", wires=1)


@qml.qnode(dev)
def circuit(theta):
    qml.PauliX(wires=0)
    qml.RY(theta, wires=0)
    return qml.expval(qml.PauliZ(0))


circuit(0.1)


thetas = np.linspace(-np.pi, np.pi, 50)

measurements = []

for theta in thetas:
    measurements.append(circuit(theta))


fig, ax = plt.subplots()
ax.plot(thetas, measurements)





theta = np.array([-2.0], requires_grad=True)


opt = qml.GradientDescentOptimizer(stepsize=0.1)


n_it = 100

for it in range(n_it):
    theta, prev_cost = opt.step_and_cost(circuit, theta)
    if it % 10 == 0:
        print(f"Theta: {theta}, Cost: {circuit(theta)}")
