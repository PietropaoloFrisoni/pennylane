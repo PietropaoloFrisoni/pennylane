{
 "cells": [
  {
   "cell_type": "markdown",
   "metadata": {},
   "source": [
    "# Updating `is_commuting` function to accept opmath instances"
   ]
  },
  {
   "cell_type": "markdown",
   "metadata": {},
   "source": [
    "Currently, the `is_commuting` function does not accept the following operators: `prod`, `sprod` and `sum`. \n",
    "\n",
    "The goal is to remove this limitation and accept those operators.\n",
    "\n",
    "## Implementation Details\n",
    "\n",
    "In order to make that work:\n",
    "\n",
    "In pennylane/ops/functions/is_commuting.py:\n",
    "- Remove `Prod`, `Sum`, `SProd` from the unsupported_operations list.\n",
    "- Update the logic in is_commuting to support those operations.\n",
    "- Avoid using matrix multiplication where it is not necessary\n"
   ]
  },
  {
   "cell_type": "code",
   "execution_count": 1,
   "metadata": {},
   "outputs": [],
   "source": [
    "import pennylane as qml\n",
    "\n",
    "from pennylane.pauli.utils import is_pauli_word"
   ]
  },
  {
   "cell_type": "code",
   "execution_count": 2,
   "metadata": {},
   "outputs": [],
   "source": [
    "import numpy as np\n",
    "from pennylane.pauli.utils import is_pauli_word, pauli_to_binary, _wire_map_from_pauli_pair\n",
    "\n",
    "\n",
    "def _pword_is_commuting(pauli_word_1, pauli_word_2, wire_map=None):\n",
    "    r\"\"\"Checks if two Pauli words commute.\n",
    "\n",
    "    To determine if two Pauli words commute, we can check the value of the\n",
    "    symplectic inner product of their binary vector representations.\n",
    "    For two binary vectors representing Pauli words, :math:`p_1 = [x_1, z_1]`\n",
    "    and :math:`p_2 = [x_2, z_2],` the symplectic inner product is defined as\n",
    "    :math:`\\langle p_1, p_2 \\rangle_{symp} = z_1 x_2^T + z_2 x_1^T`. If the symplectic\n",
    "    product is :math:`0` they commute, while if it is :math:`1`, they don't commute.\n",
    "\n",
    "    Args:\n",
    "        pauli_word_1 (Observable): first Pauli word in commutator\n",
    "        pauli_word_2 (Observable): second Pauli word in commutator\n",
    "        wire_map (dict[Union[str, int], int]): dictionary containing all wire labels used in\n",
    "            the Pauli word as keys, and unique integer labels as their values\n",
    "\n",
    "    Returns:\n",
    "        bool: returns True if the input Pauli commute, False otherwise\n",
    "\n",
    "    **Example**\n",
    "\n",
    "    >>> wire_map = {'a' : 0, 'b' : 1, 'c' : 2}\n",
    "    >>> pauli_word_1 = qml.X('a') @ qml.Y('b')\n",
    "    >>> pauli_word_2 = qml.Z('a') @ qml.Z('c')\n",
    "    >>> is_commuting(pauli_word_1, pauli_word_2, wire_map=wire_map)\n",
    "    False\n",
    "    \"\"\"\n",
    "\n",
    "    if wire_map is None:\n",
    "        wire_map = _wire_map_from_pauli_pair(pauli_word_1, pauli_word_2)\n",
    "\n",
    "    n_qubits = len(wire_map)\n",
    "\n",
    "    pauli_vec_1 = pauli_to_binary(pauli_word_1, n_qubits=n_qubits, wire_map=wire_map)\n",
    "    pauli_vec_2 = pauli_to_binary(pauli_word_2, n_qubits=n_qubits, wire_map=wire_map)\n",
    "\n",
    "    x1, z1 = pauli_vec_1[:n_qubits], pauli_vec_1[n_qubits:]\n",
    "    x2, z2 = pauli_vec_2[:n_qubits], pauli_vec_2[n_qubits:]\n",
    "\n",
    "    return (np.dot(z1, x2) + np.dot(z2, x1)) % 2 == 0"
   ]
  },
  {
   "cell_type": "code",
   "execution_count": 3,
   "metadata": {},
   "outputs": [
    {
     "data": {
      "text/plain": [
       "True"
      ]
     },
     "execution_count": 3,
     "metadata": {},
     "output_type": "execute_result"
    }
   ],
   "source": [
    "_pword_is_commuting(qml.prod(qml.PauliX(0), qml.PauliX(1) @ qml.Identity(2)), qml.PauliX(0))"
   ]
  },
  {
   "cell_type": "code",
   "execution_count": 4,
   "metadata": {},
   "outputs": [],
   "source": [
    "def intersection(wires1, wires2):\n",
    "    r\"\"\"Check if two sets of wires intersect.\n",
    "\n",
    "    Args:\n",
    "        wires1 (pennylane.wires.Wires): First set of wires.\n",
    "        wires2 (pennylane.wires.Wires: Second set of wires.\n",
    "\n",
    "    Returns:\n",
    "         bool: True if the two sets of wires are not disjoint and False if disjoint.\n",
    "    \"\"\"\n",
    "    return len(qml.wires.Wires.shared_wires([wires1, wires2])) != 0"
   ]
  },
  {
   "cell_type": "markdown",
   "metadata": {},
   "source": [
    "@pytest.mark.parametrize(\n",
    "        \"pauli_word_1,pauli_word_2,wire_map,commute_status\",\n",
    "        [\n",
    "            (qml.Identity(0), qml.PauliZ(0), {0: 0}, True),\n",
    "            (qml.PauliY(0), qml.PauliZ(0), {0: 0}, False),\n",
    "            (qml.PauliX(0), qml.PauliX(1), {0: 0, 1: 1}, True),\n",
    "            (qml.PauliY(\"x\"), qml.PauliX(\"y\"), None, True),\n",
    "            (\n",
    "                qml.PauliZ(\"a\") @ qml.PauliY(\"b\") @ qml.PauliZ(\"d\"),\n",
    "                qml.PauliX(\"a\") @ qml.PauliZ(\"c\") @ qml.PauliY(\"d\"),\n",
    "                {\"a\": 0, \"b\": 1, \"c\": 2, \"d\": 3},\n",
    "                True,\n",
    "            ),\n",
    "            (\n",
    "                qml.PauliX(\"a\") @ qml.PauliY(\"b\") @ qml.PauliZ(\"d\"),\n",
    "                qml.PauliX(\"a\") @ qml.PauliZ(\"c\") @ qml.PauliY(\"d\"),\n",
    "                {\"a\": 0, \"b\": 1, \"c\": 2, \"d\": 3},\n",
    "                False,\n",
    "            ),\n",
    "        ],\n",
    "    )\n",
    "    def test_pauli_words(self, pauli_word_1, pauli_word_2, wire_map, commute_status):\n",
    "        \"\"\"Test that (non)-commuting Pauli words are correctly identified.\"\"\"\n",
    "        do_they_commute = qml.is_commuting(pauli_word_1, pauli_word_2, wire_map=wire_map)\n",
    "        assert do_they_commute == commute_status"
   ]
  },
  {
   "cell_type": "code",
   "execution_count": 5,
   "metadata": {},
   "outputs": [
    {
     "ename": "AssertionError",
     "evalue": "",
     "output_type": "error",
     "traceback": [
      "\u001b[0;31m---------------------------------------------------------------------------\u001b[0m",
      "\u001b[0;31mAssertionError\u001b[0m                            Traceback (most recent call last)",
      "Cell \u001b[0;32mIn[5], line 6\u001b[0m\n\u001b[1;32m      4\u001b[0m pauli_word_2 \u001b[38;5;241m=\u001b[39m qml\u001b[38;5;241m.\u001b[39mPauliX(\u001b[38;5;241m0\u001b[39m) \u001b[38;5;241m@\u001b[39m qml\u001b[38;5;241m.\u001b[39mPauliY(\u001b[38;5;241m2\u001b[39m)\n\u001b[1;32m      5\u001b[0m wire_map \u001b[38;5;241m=\u001b[39m {\u001b[38;5;124m\"\u001b[39m\u001b[38;5;124ma\u001b[39m\u001b[38;5;124m\"\u001b[39m: \u001b[38;5;241m0\u001b[39m, \u001b[38;5;124m\"\u001b[39m\u001b[38;5;124mb\u001b[39m\u001b[38;5;124m\"\u001b[39m: \u001b[38;5;241m0\u001b[39m, \u001b[38;5;124m\"\u001b[39m\u001b[38;5;124mc\u001b[39m\u001b[38;5;124m\"\u001b[39m: \u001b[38;5;241m2\u001b[39m, \u001b[38;5;124m\"\u001b[39m\u001b[38;5;124md\u001b[39m\u001b[38;5;124m\"\u001b[39m: \u001b[38;5;241m3\u001b[39m}\n\u001b[0;32m----> 6\u001b[0m \u001b[38;5;28;01massert\u001b[39;00m is_pauli_word(pauli_word_1)\n\u001b[1;32m      7\u001b[0m \u001b[38;5;28;01massert\u001b[39;00m is_pauli_word(pauli_word_2)\n\u001b[1;32m      8\u001b[0m \u001b[38;5;28mtype\u001b[39m(pauli_word_1), \u001b[38;5;28mtype\u001b[39m(pauli_word_2)\n",
      "\u001b[0;31mAssertionError\u001b[0m: "
     ]
    }
   ],
   "source": [
    "qml.operation.enable_new_opmath()\n",
    "# qml.operation.disable_new_opmath()\n",
    "pauli_word_1 = qml.PauliX(0) @ qml.Hadamard(1) @ qml.Identity(2)\n",
    "pauli_word_2 = qml.PauliX(0) @ qml.PauliY(2)\n",
    "wire_map = {\"a\": 0, \"b\": 0, \"c\": 2, \"d\": 3}\n",
    "assert is_pauli_word(pauli_word_1)\n",
    "assert is_pauli_word(pauli_word_2)\n",
    "type(pauli_word_1), type(pauli_word_2)"
   ]
  },
  {
   "cell_type": "code",
   "execution_count": 59,
   "metadata": {},
   "outputs": [
    {
     "data": {
      "text/plain": [
       "True"
      ]
     },
     "execution_count": 59,
     "metadata": {},
     "output_type": "execute_result"
    }
   ],
   "source": [
    "candidate_pauli = qml.s_prod(4, qml.PauliX(0) @ qml.PauliY(1))\n",
    "is_pauli_word(candidate_pauli)"
   ]
  },
  {
   "cell_type": "code",
   "execution_count": 7,
   "metadata": {},
   "outputs": [
    {
     "ename": "QuantumFunctionError",
     "evalue": "Prod operations are only supported for Pauli words.",
     "output_type": "error",
     "traceback": [
      "\u001b[0;31m---------------------------------------------------------------------------\u001b[0m",
      "\u001b[0;31mQuantumFunctionError\u001b[0m                      Traceback (most recent call last)",
      "Cell \u001b[0;32mIn[7], line 1\u001b[0m\n\u001b[0;32m----> 1\u001b[0m \u001b[43mqml\u001b[49m\u001b[38;5;241;43m.\u001b[39;49m\u001b[43mis_commuting\u001b[49m\u001b[43m(\u001b[49m\u001b[43mpauli_word_1\u001b[49m\u001b[43m,\u001b[49m\u001b[43m \u001b[49m\u001b[43mpauli_word_2\u001b[49m\u001b[43m,\u001b[49m\u001b[43m \u001b[49m\u001b[43mwire_map\u001b[49m\u001b[38;5;241;43m=\u001b[39;49m\u001b[43mwire_map\u001b[49m\u001b[43m)\u001b[49m\n",
      "File \u001b[0;32m~/anaconda3/envs/PennyLane/lib/python3.9/site-packages/PennyLane-0.36.0.dev0-py3.9.egg/pennylane/ops/functions/is_commuting.py:396\u001b[0m, in \u001b[0;36mis_commuting\u001b[0;34m(operation1, operation2, wire_map)\u001b[0m\n\u001b[1;32m    393\u001b[0m     operation1 \u001b[38;5;241m=\u001b[39m qml\u001b[38;5;241m.\u001b[39msimplify(operation1)\n\u001b[1;32m    394\u001b[0m     operation2 \u001b[38;5;241m=\u001b[39m qml\u001b[38;5;241m.\u001b[39msimplify(operation2)\n\u001b[0;32m--> 396\u001b[0m \u001b[43m_check_operations\u001b[49m\u001b[43m(\u001b[49m\u001b[43m[\u001b[49m\u001b[43moperation1\u001b[49m\u001b[43m,\u001b[49m\u001b[43m \u001b[49m\u001b[43moperation2\u001b[49m\u001b[43m]\u001b[49m\u001b[43m)\u001b[49m\n\u001b[1;32m    398\u001b[0m \u001b[38;5;66;03m# Operation is in the non commuting list\u001b[39;00m\n\u001b[1;32m    399\u001b[0m \u001b[38;5;28;01mif\u001b[39;00m operation1\u001b[38;5;241m.\u001b[39mname \u001b[38;5;129;01min\u001b[39;00m non_commuting_operations \u001b[38;5;129;01mor\u001b[39;00m operation2\u001b[38;5;241m.\u001b[39mname \u001b[38;5;129;01min\u001b[39;00m non_commuting_operations:\n",
      "File \u001b[0;32m~/anaconda3/envs/PennyLane/lib/python3.9/site-packages/PennyLane-0.36.0.dev0-py3.9.egg/pennylane/ops/functions/is_commuting.py:192\u001b[0m, in \u001b[0;36m_check_operations\u001b[0;34m(operations)\u001b[0m\n\u001b[1;32m    189\u001b[0m         _check_single_operation(op_summand)\n\u001b[1;32m    191\u001b[0m \u001b[38;5;28;01melse\u001b[39;00m:\n\u001b[0;32m--> 192\u001b[0m     \u001b[43m_check_single_operation\u001b[49m\u001b[43m(\u001b[49m\u001b[43mop\u001b[49m\u001b[43m)\u001b[49m\n",
      "File \u001b[0;32m~/anaconda3/envs/PennyLane/lib/python3.9/site-packages/PennyLane-0.36.0.dev0-py3.9.egg/pennylane/ops/functions/is_commuting.py:176\u001b[0m, in \u001b[0;36m_check_operations.<locals>._check_single_operation\u001b[0;34m(op)\u001b[0m\n\u001b[1;32m    173\u001b[0m     \u001b[38;5;28;01mraise\u001b[39;00m qml\u001b[38;5;241m.\u001b[39mQuantumFunctionError(\u001b[38;5;124m\"\u001b[39m\u001b[38;5;124mSProd operations are only supported for Pauli words.\u001b[39m\u001b[38;5;124m\"\u001b[39m)\n\u001b[1;32m    175\u001b[0m \u001b[38;5;28;01melif\u001b[39;00m \u001b[38;5;28misinstance\u001b[39m(op, Prod):\n\u001b[0;32m--> 176\u001b[0m     \u001b[38;5;28;01mraise\u001b[39;00m qml\u001b[38;5;241m.\u001b[39mQuantumFunctionError(\u001b[38;5;124m\"\u001b[39m\u001b[38;5;124mProd operations are only supported for Pauli words.\u001b[39m\u001b[38;5;124m\"\u001b[39m)\n",
      "\u001b[0;31mQuantumFunctionError\u001b[0m: Prod operations are only supported for Pauli words."
     ]
    }
   ],
   "source": [
    "qml.is_commuting(pauli_word_1, pauli_word_2, wire_map=wire_map)"
   ]
  },
  {
   "cell_type": "code",
   "execution_count": null,
   "metadata": {},
   "outputs": [],
   "source": []
  },
  {
   "cell_type": "code",
   "execution_count": 8,
   "metadata": {},
   "outputs": [
    {
     "name": "stdout",
     "output_type": "stream",
     "text": [
      "Y(1)\n",
      "Hadamard(wires=[0])\n"
     ]
    },
    {
     "ename": "QuantumFunctionError",
     "evalue": "Sum operations are only supported for Pauli words.",
     "output_type": "error",
     "traceback": [
      "\u001b[0;31m---------------------------------------------------------------------------\u001b[0m",
      "\u001b[0;31mQuantumFunctionError\u001b[0m                      Traceback (most recent call last)",
      "Cell \u001b[0;32mIn[8], line 1\u001b[0m\n\u001b[0;32m----> 1\u001b[0m \u001b[43mqml\u001b[49m\u001b[38;5;241;43m.\u001b[39;49m\u001b[43mis_commuting\u001b[49m\u001b[43m(\u001b[49m\u001b[43mqml\u001b[49m\u001b[38;5;241;43m.\u001b[39;49m\u001b[43msum\u001b[49m\u001b[43m(\u001b[49m\u001b[43mqml\u001b[49m\u001b[38;5;241;43m.\u001b[39;49m\u001b[43mPauliY\u001b[49m\u001b[43m(\u001b[49m\u001b[38;5;241;43m1\u001b[39;49m\u001b[43m)\u001b[49m\u001b[43m,\u001b[49m\u001b[43m \u001b[49m\u001b[43mqml\u001b[49m\u001b[38;5;241;43m.\u001b[39;49m\u001b[43mHadamard\u001b[49m\u001b[43m(\u001b[49m\u001b[38;5;241;43m0\u001b[39;49m\u001b[43m)\u001b[49m\u001b[43m)\u001b[49m\u001b[43m,\u001b[49m\u001b[43m \u001b[49m\u001b[43mqml\u001b[49m\u001b[38;5;241;43m.\u001b[39;49m\u001b[43msum\u001b[49m\u001b[43m(\u001b[49m\u001b[43mqml\u001b[49m\u001b[38;5;241;43m.\u001b[39;49m\u001b[43mPauliX\u001b[49m\u001b[43m(\u001b[49m\u001b[38;5;241;43m0\u001b[39;49m\u001b[43m)\u001b[49m\u001b[43m \u001b[49m\u001b[38;5;241;43m@\u001b[39;49m\u001b[43m \u001b[49m\u001b[43mqml\u001b[49m\u001b[38;5;241;43m.\u001b[39;49m\u001b[43mPauliY\u001b[49m\u001b[43m(\u001b[49m\u001b[38;5;241;43m1\u001b[39;49m\u001b[43m)\u001b[49m\u001b[43m,\u001b[49m\u001b[43m \u001b[49m\u001b[43mqml\u001b[49m\u001b[38;5;241;43m.\u001b[39;49m\u001b[43mPauliX\u001b[49m\u001b[43m(\u001b[49m\u001b[38;5;241;43m0\u001b[39;49m\u001b[43m)\u001b[49m\u001b[43m)\u001b[49m\u001b[43m)\u001b[49m\n",
      "File \u001b[0;32m~/anaconda3/envs/PennyLane/lib/python3.9/site-packages/PennyLane-0.36.0.dev0-py3.9.egg/pennylane/ops/functions/is_commuting.py:396\u001b[0m, in \u001b[0;36mis_commuting\u001b[0;34m(operation1, operation2, wire_map)\u001b[0m\n\u001b[1;32m    393\u001b[0m     operation1 \u001b[38;5;241m=\u001b[39m qml\u001b[38;5;241m.\u001b[39msimplify(operation1)\n\u001b[1;32m    394\u001b[0m     operation2 \u001b[38;5;241m=\u001b[39m qml\u001b[38;5;241m.\u001b[39msimplify(operation2)\n\u001b[0;32m--> 396\u001b[0m \u001b[43m_check_operations\u001b[49m\u001b[43m(\u001b[49m\u001b[43m[\u001b[49m\u001b[43moperation1\u001b[49m\u001b[43m,\u001b[49m\u001b[43m \u001b[49m\u001b[43moperation2\u001b[49m\u001b[43m]\u001b[49m\u001b[43m)\u001b[49m\n\u001b[1;32m    398\u001b[0m \u001b[38;5;66;03m# Operation is in the non commuting list\u001b[39;00m\n\u001b[1;32m    399\u001b[0m \u001b[38;5;28;01mif\u001b[39;00m operation1\u001b[38;5;241m.\u001b[39mname \u001b[38;5;129;01min\u001b[39;00m non_commuting_operations \u001b[38;5;129;01mor\u001b[39;00m operation2\u001b[38;5;241m.\u001b[39mname \u001b[38;5;129;01min\u001b[39;00m non_commuting_operations:\n",
      "File \u001b[0;32m~/anaconda3/envs/PennyLane/lib/python3.9/site-packages/PennyLane-0.36.0.dev0-py3.9.egg/pennylane/ops/functions/is_commuting.py:186\u001b[0m, in \u001b[0;36m_check_operations\u001b[0;34m(operations)\u001b[0m\n\u001b[1;32m    184\u001b[0m         \u001b[38;5;28mprint\u001b[39m(op_summand)\n\u001b[1;32m    185\u001b[0m         \u001b[38;5;28;01mif\u001b[39;00m \u001b[38;5;129;01mnot\u001b[39;00m is_pauli_word(op_summand):\n\u001b[0;32m--> 186\u001b[0m             \u001b[38;5;28;01mraise\u001b[39;00m qml\u001b[38;5;241m.\u001b[39mQuantumFunctionError(\n\u001b[1;32m    187\u001b[0m                 \u001b[38;5;124m\"\u001b[39m\u001b[38;5;124mSum operations are only supported for Pauli words.\u001b[39m\u001b[38;5;124m\"\u001b[39m\n\u001b[1;32m    188\u001b[0m             )\n\u001b[1;32m    189\u001b[0m         _check_single_operation(op_summand)\n\u001b[1;32m    191\u001b[0m \u001b[38;5;28;01melse\u001b[39;00m:\n",
      "\u001b[0;31mQuantumFunctionError\u001b[0m: Sum operations are only supported for Pauli words."
     ]
    }
   ],
   "source": [
    "qml.is_commuting(\n",
    "    qml.sum(qml.PauliY(1), qml.Hadamard(0)), qml.sum(qml.PauliX(0) @ qml.PauliY(1), qml.PauliX(0))\n",
    ")"
   ]
  },
  {
   "cell_type": "code",
   "execution_count": 9,
   "metadata": {},
   "outputs": [
    {
     "data": {
      "text/plain": [
       "1j * Z(0) + Hadamard(wires=[0])"
      ]
     },
     "execution_count": 9,
     "metadata": {},
     "output_type": "execute_result"
    }
   ],
   "source": [
    "qml.simplify(qml.sum(qml.PauliX(0) @ qml.PauliY(0), qml.Hadamard(0)))"
   ]
  },
  {
   "cell_type": "code",
   "execution_count": 25,
   "metadata": {},
   "outputs": [
    {
     "ename": "AttributeError",
     "evalue": "'tuple' object has no attribute 'map_wires'",
     "output_type": "error",
     "traceback": [
      "\u001b[0;31m---------------------------------------------------------------------------\u001b[0m",
      "\u001b[0;31mAttributeError\u001b[0m                            Traceback (most recent call last)",
      "Cell \u001b[0;32mIn[25], line 3\u001b[0m\n\u001b[1;32m      1\u001b[0m p1 \u001b[38;5;241m=\u001b[39m qml\u001b[38;5;241m.\u001b[39msum(qml\u001b[38;5;241m.\u001b[39mPauliZ(\u001b[38;5;124m\"\u001b[39m\u001b[38;5;124ma\u001b[39m\u001b[38;5;124m\"\u001b[39m), qml\u001b[38;5;241m.\u001b[39mPauliY(\u001b[38;5;124m\"\u001b[39m\u001b[38;5;124mb\u001b[39m\u001b[38;5;124m\"\u001b[39m), qml\u001b[38;5;241m.\u001b[39mPauliZ(\u001b[38;5;124m\"\u001b[39m\u001b[38;5;124md\u001b[39m\u001b[38;5;124m\"\u001b[39m)),\n\u001b[0;32m----> 3\u001b[0m \u001b[43mp1\u001b[49m\u001b[38;5;241;43m.\u001b[39;49m\u001b[43mmap_wires\u001b[49m\n",
      "\u001b[0;31mAttributeError\u001b[0m: 'tuple' object has no attribute 'map_wires'"
     ]
    }
   ],
   "source": [
    "p1 = (qml.sum(qml.PauliZ(\"a\"), qml.PauliY(\"b\"), qml.PauliZ(\"d\")),)\n",
    "\n",
    "p1.map_wires"
   ]
  },
  {
   "cell_type": "code",
   "execution_count": 24,
   "metadata": {},
   "outputs": [
    {
     "data": {
      "text/plain": [
       "False"
      ]
     },
     "execution_count": 24,
     "metadata": {},
     "output_type": "execute_result"
    }
   ],
   "source": [
    "p1 = qml.sum(qml.PauliZ(0), qml.PauliY(1), qml.PauliZ(3))\n",
    "p2 = qml.sum(qml.PauliZ(0), qml.PauliY(1), qml.PauliZ(3))\n",
    "# {\"a\": 0, \"b\": 1, \"c\": 2, \"d\": 3},\n",
    "\n",
    "type(qml.commutator(p1, p2))\n",
    "\n",
    "qml.is_commuting(p1, p2)"
   ]
  },
  {
   "cell_type": "code",
   "execution_count": 30,
   "metadata": {},
   "outputs": [
    {
     "data": {
      "text/plain": [
       "2j * Y('a') + -2j * X('d')"
      ]
     },
     "execution_count": 30,
     "metadata": {},
     "output_type": "execute_result"
    }
   ],
   "source": [
    "p1 = qml.sum(qml.PauliZ(\"a\"), qml.PauliY(\"b\"), qml.PauliZ(\"d\"))\n",
    "p2 = qml.sum(qml.PauliX(\"a\"), qml.PauliZ(\"c\"), qml.PauliY(\"d\"))\n",
    "wire_map = {\"a\": 0, \"b\": 1, \"c\": 2, \"d\": 3}\n",
    "\n",
    "qml.is_commuting(p1, p2, wire_map)\n",
    "\n",
    "qml.commutator(p1, p2)"
   ]
  },
  {
   "cell_type": "code",
   "execution_count": 57,
   "metadata": {},
   "outputs": [
    {
     "data": {
      "text/plain": [
       "2j * Y('a') + 2j * Y('d')"
      ]
     },
     "execution_count": 57,
     "metadata": {},
     "output_type": "execute_result"
    }
   ],
   "source": [
    "p1 = qml.sum(qml.PauliZ(\"a\"), qml.PauliY(\"b\"), qml.PauliZ(\"d\"))\n",
    "p2 = qml.sum(qml.PauliX(\"a\"), qml.PauliX(\"c\"), qml.PauliX(\"d\"))\n",
    "wire_map = {\"a\": 0, \"b\": 0, \"c\": 0, \"d\": 0}\n",
    "\n",
    "qml.is_commuting(p1, p2, wire_map)\n",
    "\n",
    "qml.commutator(p1, p2)\n",
    "\n"
   ]
  },
  {
   "cell_type": "code",
   "execution_count": 48,
   "metadata": {},
   "outputs": [
    {
     "data": {
      "text/plain": [
       "-2j * X('a')"
      ]
     },
     "execution_count": 48,
     "metadata": {},
     "output_type": "execute_result"
    }
   ],
   "source": [
    "p1 = qml.sum(qml.PauliZ(\"a\"), qml.PauliY(\"b\"), qml.PauliZ(\"d\"))\n",
    "p2 = qml.PauliY(\"a\")\n",
    "wire_map = {\"a\": 0, \"b\": 1, \"c\": 2, \"d\": 3}\n",
    "\n",
    "qml.is_commuting(p1, p2, wire_map)\n",
    "\n",
    "qml.commutator(p1, p2) == qml.s_prod(0, qml.Identity())\n",
    "\n",
    "qml.commutator(p1, p2)"
   ]
  },
  {
   "cell_type": "code",
   "execution_count": 38,
   "metadata": {},
   "outputs": [
    {
     "data": {
      "text/plain": [
       "0 * I(2)"
      ]
     },
     "execution_count": 38,
     "metadata": {},
     "output_type": "execute_result"
    }
   ],
   "source": [
    "qml.simplify(qml.s_prod(0, qml.Identity(2)))"
   ]
  },
  {
   "cell_type": "code",
   "execution_count": 41,
   "metadata": {},
   "outputs": [
    {
     "data": {
      "text/plain": [
       "0 * I(0)"
      ]
     },
     "execution_count": 41,
     "metadata": {},
     "output_type": "execute_result"
    }
   ],
   "source": [
    "qml.simplify(qml.s_prod(0, qml.X(0)))"
   ]
  },
  {
   "cell_type": "code",
   "execution_count": null,
   "metadata": {},
   "outputs": [],
   "source": []
  }
 ],
 "metadata": {
  "kernelspec": {
   "display_name": "PennyLane",
   "language": "python",
   "name": "python3"
  },
  "language_info": {
   "codemirror_mode": {
    "name": "ipython",
    "version": 3
   },
   "file_extension": ".py",
   "mimetype": "text/x-python",
   "name": "python",
   "nbconvert_exporter": "python",
   "pygments_lexer": "ipython3",
   "version": "3.9.7"
  }
 },
 "nbformat": 4,
 "nbformat_minor": 2
}
