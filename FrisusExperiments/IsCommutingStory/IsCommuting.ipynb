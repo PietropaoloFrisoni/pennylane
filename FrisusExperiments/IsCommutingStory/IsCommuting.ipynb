{
 "cells": [
  {
   "cell_type": "markdown",
   "metadata": {},
   "source": [
    "# Updating `is_commuting` function to accept opmath instances"
   ]
  },
  {
   "cell_type": "markdown",
   "metadata": {},
   "source": [
    "Currently, the `is_commuting` function does not accept the following operators: `prod`, `sprod` and `sum`. \n",
    "\n",
    "The goal is to remove this limitation and accept those operators.\n",
    "\n",
    "## Implementation Details\n",
    "\n",
    "In order to make that work:\n",
    "\n",
    "In pennylane/ops/functions/is_commuting.py:\n",
    "- Remove `Prod`, `Sum`, `SProd` from the unsupported_operations list.\n",
    "- Update the logic in is_commuting to support those operations.\n",
    "- Avoid using matrix multiplication where it is not necessary\n"
   ]
  },
  {
   "cell_type": "code",
   "execution_count": null,
   "metadata": {},
   "outputs": [],
   "source": [
    "import pennylane as qml\n",
    "\n",
    "from pennylane.pauli.utils import is_pauli_word"
   ]
  },
  {
   "cell_type": "code",
   "execution_count": null,
   "metadata": {},
   "outputs": [],
   "source": [
    "import numpy as np\n",
    "from pennylane.pauli.utils import is_pauli_word, pauli_to_binary, _wire_map_from_pauli_pair\n",
    "\n",
    "def _pword_is_commuting(pauli_word_1, pauli_word_2, wire_map=None):\n",
    "    r\"\"\"Checks if two Pauli words commute.\n",
    "\n",
    "    To determine if two Pauli words commute, we can check the value of the\n",
    "    symplectic inner product of their binary vector representations.\n",
    "    For two binary vectors representing Pauli words, :math:`p_1 = [x_1, z_1]`\n",
    "    and :math:`p_2 = [x_2, z_2],` the symplectic inner product is defined as\n",
    "    :math:`\\langle p_1, p_2 \\rangle_{symp} = z_1 x_2^T + z_2 x_1^T`. If the symplectic\n",
    "    product is :math:`0` they commute, while if it is :math:`1`, they don't commute.\n",
    "\n",
    "    Args:\n",
    "        pauli_word_1 (Observable): first Pauli word in commutator\n",
    "        pauli_word_2 (Observable): second Pauli word in commutator\n",
    "        wire_map (dict[Union[str, int], int]): dictionary containing all wire labels used in\n",
    "            the Pauli word as keys, and unique integer labels as their values\n",
    "\n",
    "    Returns:\n",
    "        bool: returns True if the input Pauli commute, False otherwise\n",
    "\n",
    "    **Example**\n",
    "\n",
    "    >>> wire_map = {'a' : 0, 'b' : 1, 'c' : 2}\n",
    "    >>> pauli_word_1 = qml.X('a') @ qml.Y('b')\n",
    "    >>> pauli_word_2 = qml.Z('a') @ qml.Z('c')\n",
    "    >>> is_commuting(pauli_word_1, pauli_word_2, wire_map=wire_map)\n",
    "    False\n",
    "    \"\"\"\n",
    "\n",
    "    if wire_map is None:\n",
    "        wire_map = _wire_map_from_pauli_pair(pauli_word_1, pauli_word_2)\n",
    "\n",
    "    n_qubits = len(wire_map)\n",
    "\n",
    "    pauli_vec_1 = pauli_to_binary(pauli_word_1, n_qubits=n_qubits, wire_map=wire_map)\n",
    "    pauli_vec_2 = pauli_to_binary(pauli_word_2, n_qubits=n_qubits, wire_map=wire_map)\n",
    "\n",
    "    x1, z1 = pauli_vec_1[:n_qubits], pauli_vec_1[n_qubits:]\n",
    "    x2, z2 = pauli_vec_2[:n_qubits], pauli_vec_2[n_qubits:]\n",
    "\n",
    "    return (np.dot(z1, x2) + np.dot(z2, x1)) % 2 == 0"
   ]
  },
  {
   "cell_type": "code",
   "execution_count": null,
   "metadata": {},
   "outputs": [],
   "source": [
    "_pword_is_commuting(qml.prod(qml.PauliX(0) , qml.PauliX(1) @ qml.Identity(2)), qml.PauliX(0))"
   ]
  },
  {
   "cell_type": "code",
   "execution_count": null,
   "metadata": {},
   "outputs": [],
   "source": [
    "def intersection(wires1, wires2):\n",
    "    r\"\"\"Check if two sets of wires intersect.\n",
    "\n",
    "    Args:\n",
    "        wires1 (pennylane.wires.Wires): First set of wires.\n",
    "        wires2 (pennylane.wires.Wires: Second set of wires.\n",
    "\n",
    "    Returns:\n",
    "         bool: True if the two sets of wires are not disjoint and False if disjoint.\n",
    "    \"\"\"\n",
    "    return len(qml.wires.Wires.shared_wires([wires1, wires2])) != 0"
   ]
  },
  {
   "cell_type": "markdown",
   "metadata": {},
   "source": [
    "@pytest.mark.parametrize(\n",
    "        \"pauli_word_1,pauli_word_2,wire_map,commute_status\",\n",
    "        [\n",
    "            (qml.Identity(0), qml.PauliZ(0), {0: 0}, True),\n",
    "            (qml.PauliY(0), qml.PauliZ(0), {0: 0}, False),\n",
    "            (qml.PauliX(0), qml.PauliX(1), {0: 0, 1: 1}, True),\n",
    "            (qml.PauliY(\"x\"), qml.PauliX(\"y\"), None, True),\n",
    "            (\n",
    "                qml.PauliZ(\"a\") @ qml.PauliY(\"b\") @ qml.PauliZ(\"d\"),\n",
    "                qml.PauliX(\"a\") @ qml.PauliZ(\"c\") @ qml.PauliY(\"d\"),\n",
    "                {\"a\": 0, \"b\": 1, \"c\": 2, \"d\": 3},\n",
    "                True,\n",
    "            ),\n",
    "            (\n",
    "                qml.PauliX(\"a\") @ qml.PauliY(\"b\") @ qml.PauliZ(\"d\"),\n",
    "                qml.PauliX(\"a\") @ qml.PauliZ(\"c\") @ qml.PauliY(\"d\"),\n",
    "                {\"a\": 0, \"b\": 1, \"c\": 2, \"d\": 3},\n",
    "                False,\n",
    "            ),\n",
    "        ],\n",
    "    )\n",
    "    def test_pauli_words(self, pauli_word_1, pauli_word_2, wire_map, commute_status):\n",
    "        \"\"\"Test that (non)-commuting Pauli words are correctly identified.\"\"\"\n",
    "        do_they_commute = qml.is_commuting(pauli_word_1, pauli_word_2, wire_map=wire_map)\n",
    "        assert do_they_commute == commute_status"
   ]
  },
  {
   "cell_type": "code",
   "execution_count": null,
   "metadata": {},
   "outputs": [],
   "source": [
    "qml.operation.enable_new_opmath()\n",
    "# qml.operation.disable_new_opmath()\n",
    "pauli_word_1 = qml.PauliX(0) @ qml.Hadamard(1) @ qml.Identity(2)\n",
    "pauli_word_2 = qml.PauliX(0) @ qml.PauliY(2)\n",
    "wire_map = {\"a\": 0, \"b\": 0, \"c\": 2, \"d\": 3}\n",
    "assert is_pauli_word(pauli_word_1)\n",
    "assert is_pauli_word(pauli_word_2)\n",
    "type(pauli_word_1), type(pauli_word_2)"
   ]
  },
  {
   "cell_type": "code",
   "execution_count": null,
   "metadata": {},
   "outputs": [],
   "source": [
    "candidate_pauli = qml.sum(qml.PauliX(0) @ qml.PauliY(1), qml.PauliX(0))\n",
    "is_pauli_word(candidate_pauli)"
   ]
  },
  {
   "cell_type": "code",
   "execution_count": null,
   "metadata": {},
   "outputs": [],
   "source": [
    "qml.is_commuting(pauli_word_1, pauli_word_2, wire_map=wire_map)"
   ]
  },
  {
   "cell_type": "code",
   "execution_count": null,
   "metadata": {},
   "outputs": [],
   "source": []
  },
  {
   "cell_type": "code",
   "execution_count": null,
   "metadata": {},
   "outputs": [],
   "source": [
    "qml.is_commuting(qml.sum(qml.PauliY(1), qml.Hadamard(0)), qml.sum(qml.PauliX(0) @ qml.PauliY(1), qml.PauliX(0)))"
   ]
  },
  {
   "cell_type": "code",
   "execution_count": null,
   "metadata": {},
   "outputs": [],
   "source": [
    "qml.simplify(qml.sum(qml.PauliX(0) @ qml.PauliY(0), qml.Hadamard(0)))"
   ]
  },
  {
   "cell_type": "code",
   "execution_count": null,
   "metadata": {},
   "outputs": [],
   "source": [
    "qml.commutator(qml.sum(qml.PauliX(0) @ qml.PauliY(0), qml.PauliX(0)), qml.sum(qml.PauliX(0) @ qml.PauliY(1), qml.PauliX(0)))"
   ]
  },
  {
   "cell_type": "code",
   "execution_count": null,
   "metadata": {},
   "outputs": [],
   "source": []
  }
 ],
 "metadata": {
  "kernelspec": {
   "display_name": "PennyLane",
   "language": "python",
   "name": "python3"
  },
  "language_info": {
   "codemirror_mode": {
    "name": "ipython",
    "version": 3
   },
   "file_extension": ".py",
   "mimetype": "text/x-python",
   "name": "python",
   "nbconvert_exporter": "python",
   "pygments_lexer": "ipython3",
   "version": "3.12.0"
  }
 },
 "nbformat": 4,
 "nbformat_minor": 2
}
