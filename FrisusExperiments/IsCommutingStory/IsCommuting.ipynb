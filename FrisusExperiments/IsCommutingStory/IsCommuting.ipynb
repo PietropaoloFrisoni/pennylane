{
 "cells": [
  {
   "cell_type": "markdown",
   "metadata": {},
   "source": [
    "# Updating `is_commuting` function to accept opmath instances"
   ]
  },
  {
   "cell_type": "markdown",
   "metadata": {},
   "source": [
    "Currently, the `is_commuting` function does not accept the following operators: `prod`, `sprod` and `sum`. \n",
    "\n",
    "The goal is to remove this limitation and accept those operators.\n",
    "\n",
    "## Implementation Details\n",
    "\n",
    "In order to make that work:\n",
    "\n",
    "In pennylane/ops/functions/is_commuting.py:\n",
    "- Remove `Prod`, `Sum`, `SProd` from the unsupported_operations list.\n",
    "- Update the logic in is_commuting to support those operations.\n",
    "- Avoid using matrix multiplication where it is not necessary\n"
   ]
  },
  {
   "cell_type": "code",
   "execution_count": 54,
   "metadata": {},
   "outputs": [],
   "source": [
    "import pennylane as qml\n",
    "\n",
    "from pennylane.pauli.utils import is_pauli_word"
   ]
  },
  {
   "cell_type": "code",
   "execution_count": 8,
   "metadata": {},
   "outputs": [],
   "source": [
    "def intersection(wires1, wires2):\n",
    "    r\"\"\"Check if two sets of wires intersect.\n",
    "\n",
    "    Args:\n",
    "        wires1 (pennylane.wires.Wires): First set of wires.\n",
    "        wires2 (pennylane.wires.Wires: Second set of wires.\n",
    "\n",
    "    Returns:\n",
    "         bool: True if the two sets of wires are not disjoint and False if disjoint.\n",
    "    \"\"\"\n",
    "    return len(qml.wires.Wires.shared_wires([wires1, wires2])) != 0"
   ]
  },
  {
   "cell_type": "markdown",
   "metadata": {},
   "source": [
    "@pytest.mark.parametrize(\n",
    "        \"pauli_word_1,pauli_word_2,wire_map,commute_status\",\n",
    "        [\n",
    "            (qml.Identity(0), qml.PauliZ(0), {0: 0}, True),\n",
    "            (qml.PauliY(0), qml.PauliZ(0), {0: 0}, False),\n",
    "            (qml.PauliX(0), qml.PauliX(1), {0: 0, 1: 1}, True),\n",
    "            (qml.PauliY(\"x\"), qml.PauliX(\"y\"), None, True),\n",
    "            (\n",
    "                qml.PauliZ(\"a\") @ qml.PauliY(\"b\") @ qml.PauliZ(\"d\"),\n",
    "                qml.PauliX(\"a\") @ qml.PauliZ(\"c\") @ qml.PauliY(\"d\"),\n",
    "                {\"a\": 0, \"b\": 1, \"c\": 2, \"d\": 3},\n",
    "                True,\n",
    "            ),\n",
    "            (\n",
    "                qml.PauliX(\"a\") @ qml.PauliY(\"b\") @ qml.PauliZ(\"d\"),\n",
    "                qml.PauliX(\"a\") @ qml.PauliZ(\"c\") @ qml.PauliY(\"d\"),\n",
    "                {\"a\": 0, \"b\": 1, \"c\": 2, \"d\": 3},\n",
    "                False,\n",
    "            ),\n",
    "        ],\n",
    "    )\n",
    "    def test_pauli_words(self, pauli_word_1, pauli_word_2, wire_map, commute_status):\n",
    "        \"\"\"Test that (non)-commuting Pauli words are correctly identified.\"\"\"\n",
    "        do_they_commute = qml.is_commuting(pauli_word_1, pauli_word_2, wire_map=wire_map)\n",
    "        assert do_they_commute == commute_status"
   ]
  },
  {
   "cell_type": "code",
   "execution_count": 66,
   "metadata": {},
   "outputs": [
    {
     "ename": "AssertionError",
     "evalue": "",
     "output_type": "error",
     "traceback": [
      "\u001b[0;31m---------------------------------------------------------------------------\u001b[0m",
      "\u001b[0;31mAssertionError\u001b[0m                            Traceback (most recent call last)",
      "Cell \u001b[0;32mIn[66], line 6\u001b[0m\n\u001b[1;32m      4\u001b[0m pauli_word_2 \u001b[38;5;241m=\u001b[39m qml\u001b[38;5;241m.\u001b[39mPauliX(\u001b[38;5;241m0\u001b[39m) \u001b[38;5;241m@\u001b[39m qml\u001b[38;5;241m.\u001b[39mPauliY(\u001b[38;5;241m2\u001b[39m)\n\u001b[1;32m      5\u001b[0m wire_map \u001b[38;5;241m=\u001b[39m {\u001b[38;5;124m\"\u001b[39m\u001b[38;5;124ma\u001b[39m\u001b[38;5;124m\"\u001b[39m: \u001b[38;5;241m0\u001b[39m, \u001b[38;5;124m\"\u001b[39m\u001b[38;5;124mb\u001b[39m\u001b[38;5;124m\"\u001b[39m: \u001b[38;5;241m0\u001b[39m, \u001b[38;5;124m\"\u001b[39m\u001b[38;5;124mc\u001b[39m\u001b[38;5;124m\"\u001b[39m: \u001b[38;5;241m2\u001b[39m, \u001b[38;5;124m\"\u001b[39m\u001b[38;5;124md\u001b[39m\u001b[38;5;124m\"\u001b[39m: \u001b[38;5;241m3\u001b[39m}\n\u001b[0;32m----> 6\u001b[0m \u001b[38;5;28;01massert\u001b[39;00m is_pauli_word(pauli_word_1)\n\u001b[1;32m      7\u001b[0m \u001b[38;5;28;01massert\u001b[39;00m is_pauli_word(pauli_word_2)\n\u001b[1;32m      8\u001b[0m \u001b[38;5;28mtype\u001b[39m(pauli_word_1), \u001b[38;5;28mtype\u001b[39m(pauli_word_2)\n",
      "\u001b[0;31mAssertionError\u001b[0m: "
     ]
    }
   ],
   "source": [
    "qml.operation.enable_new_opmath()\n",
    "# qml.operation.disable_new_opmath()\n",
    "pauli_word_1 = qml.PauliX(0) @ qml.Hadamard(1) @ qml.Identity(2)\n",
    "pauli_word_2 = qml.PauliX(0) @ qml.PauliY(2)\n",
    "wire_map = {\"a\": 0, \"b\": 0, \"c\": 2, \"d\": 3}\n",
    "assert is_pauli_word(pauli_word_1)\n",
    "assert is_pauli_word(pauli_word_2)\n",
    "type(pauli_word_1), type(pauli_word_2)"
   ]
  },
  {
   "cell_type": "code",
   "execution_count": 67,
   "metadata": {},
   "outputs": [
    {
     "data": {
      "text/plain": [
       "pennylane.ops.op_math.sum.Sum"
      ]
     },
     "execution_count": 67,
     "metadata": {},
     "output_type": "execute_result"
    }
   ],
   "source": [
    "type(qml.PauliX(0) + qml.Hadamard(1) @ qml.Identity(2))"
   ]
  },
  {
   "cell_type": "code",
   "execution_count": 60,
   "metadata": {},
   "outputs": [
    {
     "data": {
      "text/plain": [
       "4 * ((Z('a') @ Y('b')) @ Z('d'))"
      ]
     },
     "execution_count": 60,
     "metadata": {},
     "output_type": "execute_result"
    }
   ],
   "source": [
    "pauli_word_1"
   ]
  },
  {
   "cell_type": "code",
   "execution_count": 61,
   "metadata": {},
   "outputs": [
    {
     "data": {
      "text/plain": [
       "True"
      ]
     },
     "execution_count": 61,
     "metadata": {},
     "output_type": "execute_result"
    }
   ],
   "source": [
    "qml.is_commuting(pauli_word_1, pauli_word_2, wire_map=wire_map)"
   ]
  },
  {
   "cell_type": "code",
   "execution_count": 62,
   "metadata": {},
   "outputs": [
    {
     "data": {
      "text/plain": [
       "True"
      ]
     },
     "execution_count": 62,
     "metadata": {},
     "output_type": "execute_result"
    }
   ],
   "source": [
    "intersection(pauli_word_1.wires, pauli_word_2.wires)"
   ]
  },
  {
   "cell_type": "code",
   "execution_count": null,
   "metadata": {},
   "outputs": [],
   "source": []
  }
 ],
 "metadata": {
  "kernelspec": {
   "display_name": "PennyLane",
   "language": "python",
   "name": "python3"
  },
  "language_info": {
   "codemirror_mode": {
    "name": "ipython",
    "version": 3
   },
   "file_extension": ".py",
   "mimetype": "text/x-python",
   "name": "python",
   "nbconvert_exporter": "python",
   "pygments_lexer": "ipython3",
   "version": "3.9.7"
  }
 },
 "nbformat": 4,
 "nbformat_minor": 2
}
