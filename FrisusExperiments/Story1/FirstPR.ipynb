{
 "cells": [
  {
   "cell_type": "markdown",
   "metadata": {},
   "source": [
    "# Pull Request n.1 (#5163)"
   ]
  },
  {
   "cell_type": "markdown",
   "metadata": {},
   "source": [
    "- ## Cosa e' una Transform in PennyLane?\n",
    "\n",
    "*A quantum transform is a crucial concept in PennyLane, and refers to mapping a quantum circuit to one or more circuits, alongside a classical post-processing function. Once a transform is registered with PennyLane, the transformed circuits will be executed, and the classical post-processing function automatically applied to the outputs. This becomes particularly valuable when a transform generates multiple circuits, requiring a method to aggregate or reduce the results*\n",
    "\n",
    "Mi sembra che la funzione chiave sia `qml.transform`. *qml.transform can be used to define custom transformations that work with PennyLane QNodes; such transformations can map a circuit to one or many new circuits alongside associated classical post-processing.*\n",
    "To streamline the creation of transforms and ensure their versatility across various circuit abstractions in PennyLane, `qml.transform` or the `pennylane.transform()` (sono al 100% la stessa cosa) is available. This decorator registers transforms that accept a `QuantumTape` as its primary input, and returns a sequence of QuantumTape **and an associated processing function.**\n",
    "\n",
    "La TZ scrive che *transforms are composable on the qnode, but they are unwieldy to compose when working with tapes and batches of tapes.* Penso si riferisca al fatto che comporre usando (ad esempio) @qml.compile sopra @qml.node e' in effetti abbastanza semplice.\n",
    "\n",
    "*PennyLane offers multiple tools for compiling circuits. We use the term “compilation” here in a loose sense as the process of transforming one circuit into one or more differing circuits.* \n",
    "\n",
    "**A circuit could be either a quantum function or a sequence of operators**. *For example, such a transformation could replace a gate type with another, fuse gates, exploit mathematical relations that simplify an observable, or replace a large circuit by a number of smaller circuits.*\n"
   ]
  },
  {
   "cell_type": "markdown",
   "metadata": {},
   "source": [
    "***Esempio di applicatione di `qml.transform`***\n",
    "\n",
    "We first define an input quantum transform with the necessary structure defined in https://docs.pennylane.ai/en/stable/code/api/pennylane.transform.html. \n",
    "\n",
    "In this example we copy the tape and sum the results of the execution of the two tapes. La somma dei circuiti viene eseguita dalla post-processing function interna. \n",
    "\n",
    "NB: come spiegato nella risposta ad una domanda piu' in basso, **un tape e' una particolare data structure di pennylane che puo' rappresentare quantum circuits e measurement statistics.**"
   ]
  },
  {
   "cell_type": "code",
   "execution_count": 1,
   "metadata": {},
   "outputs": [
    {
     "name": "stdout",
     "output_type": "stream",
     "text": [
      "FRISUS LOG: transform e' stata chiamata\n",
      "FRISUS LOG: transform e' stata chiamata\n",
      "FRISUS LOG: transform e' stata chiamata\n",
      "FRISUS LOG: transform e' stata chiamata\n",
      "FRISUS LOG: transform e' stata chiamata\n",
      "FRISUS LOG: transform e' stata chiamata\n",
      "FRISUS LOG: transform e' stata chiamata\n",
      "FRISUS LOG: transform e' stata chiamata\n",
      "FRISUS LOG: transform e' stata chiamata\n",
      "FRISUS LOG: transform e' stata chiamata\n",
      "FRISUS LOG: transform e' stata chiamata\n",
      "FRISUS LOG: transform e' stata chiamata\n",
      "FRISUS LOG: transform e' stata chiamata\n",
      "FRISUS LOG: transform e' stata chiamata\n",
      "FRISUS LOG: transform e' stata chiamata\n",
      "FRISUS LOG: transform e' stata chiamata\n",
      "FRISUS LOG: transform e' stata chiamata\n",
      "FRISUS LOG: transform e' stata chiamata\n",
      "FRISUS LOG: transform e' stata chiamata\n",
      "FRISUS LOG: transform e' stata chiamata\n",
      "FRISUS LOG: transform e' stata chiamata\n",
      "FRISUS LOG: transform e' stata chiamata\n",
      "FRISUS LOG: transform e' stata chiamata\n",
      "FRISUS LOG: transform e' stata chiamata\n",
      "FRISUS LOG: transform e' stata chiamata\n",
      "FRISUS LOG: transform e' stata chiamata\n",
      "FRISUS LOG: transform e' stata chiamata\n",
      "FRISUS LOG: transform e' stata chiamata\n",
      "FRISUS LOG: transform e' stata chiamata\n",
      "FRISUS LOG: transform e' stata chiamata\n",
      "FRISUS LOG: transform e' stata chiamata\n",
      "FRISUS LOG: transform e' stata chiamata\n",
      "FRISUS LOG: transform e' stata chiamata\n",
      "FRISUS LOG: transform e' stata chiamata\n",
      "FRISUS LOG: transform e' stata chiamata\n",
      "FRISUS LOG: transform e' stata chiamata\n",
      "FRISUS LOG: transform e' stata chiamata\n",
      "FRISUS LOG: transform e' stata chiamata\n",
      "FRISUS LOG: transform e' stata chiamata\n",
      "FRISUS LOG: transform e' stata chiamata\n",
      "FRISUS LOG: transform e' stata chiamata\n",
      "FRISUS LOG: transform e' stata chiamata\n",
      "FRISUS LOG: transform e' stata chiamata\n",
      "FRISUS LOG: transform e' stata chiamata\n",
      "FRISUS LOG: transform e' stata chiamata\n",
      "FRISUS LOG: transform e' stata chiamata\n",
      "FRISUS LOG: transform e' stata chiamata\n",
      "FRISUS LOG: transform e' stata chiamata\n",
      "FRISUS LOG: transform e' stata chiamata\n",
      "FRISUS LOG: transform e' stata chiamata\n",
      "FRISUS LOG: transform e' stata chiamata\n",
      "FRISUS LOG: transform e' stata chiamata\n",
      "FRISUS LOG: transform e' stata chiamata\n",
      "FRISUS LOG: transform e' stata chiamata\n",
      "FRISUS LOG: transform e' stata chiamata\n",
      "FRISUS LOG: transform e' stata chiamata\n",
      "FRISUS LOG: transform e' stata chiamata\n",
      "FRISUS LOG: transform e' stata chiamata\n",
      "FRISUS LOG: transform e' stata chiamata\n",
      "FRISUS LOG: transform e' stata chiamata\n",
      "FRISUS LOG: transform e' stata chiamata\n",
      "FRISUS LOG: transform e' stata chiamata\n",
      "FRISUS LOG: transform e' stata chiamata\n",
      "FRISUS LOG: transform e' stata chiamata\n",
      "FRISUS LOG: transform e' stata chiamata\n"
     ]
    }
   ],
   "source": [
    "import pennylane as qml\n",
    "\n",
    "from typing import Sequence, Callable\n",
    "\n",
    "\n",
    "def my_quantum_transform(tape: qml.tape.QuantumTape) -> (Sequence[qml.tape.QuantumTape], Callable):  # type: ignore\n",
    "\n",
    "    print(f\"\\n`my_quantum_transform` has been called\\n\")\n",
    "\n",
    "    tape1 = tape\n",
    "    tape2 = tape.copy()\n",
    "\n",
    "    def post_processing_fn(results):\n",
    "        print(\n",
    "            f\"The inner post-processing function in `my_quantum_transform` has been called, and results={results}\"\n",
    "        )\n",
    "        return qml.math.sum(results)\n",
    "\n",
    "    return [tape1, tape2], post_processing_fn"
   ]
  },
  {
   "cell_type": "markdown",
   "metadata": {},
   "source": [
    "We want to be able to apply this transform on both a `qfunc` and a `pennylane.QNode` and will use transform to achieve this. \n",
    "\n",
    "**transform validates the signature of your input quantum transform and makes it capable of transforming qfunc and pennylane.QNode in addition to quantum tapes.**\n",
    "\n",
    "Cioe' in pratica mi sembra che transform serva per passare concretamente dalla trasformazione teorica del circuito che voglio effettuare alla trasformazione pratica, nel senso di agire concretamente su un qnode.\n",
    "Questo e' confermato anche dalla frase esterna che *in order to make your transform applicable to both QNode and quantum functions, you can use the pennylane.transform() decorator.*\n",
    "\n",
    "Let’s define a circuit as a pennylane.QNode:"
   ]
  },
  {
   "cell_type": "code",
   "execution_count": 2,
   "metadata": {},
   "outputs": [
    {
     "name": "stdout",
     "output_type": "stream",
     "text": [
      "<class 'pennylane.workflow.qnode.QNode'> \n",
      "\n",
      "0: ──H─╭●──X────────┤  <Z>\n",
      "1: ────╰X──RZ(0.20)─┤     \n"
     ]
    }
   ],
   "source": [
    "dev = qml.device(\"default.qubit\")\n",
    "\n",
    "\n",
    "@qml.qnode(device=dev)\n",
    "def qnode_circuit(a):\n",
    "    qml.Hadamard(wires=0)\n",
    "    qml.CNOT(wires=[0, 1])\n",
    "    qml.PauliX(wires=0)\n",
    "    qml.RZ(a, wires=1)\n",
    "    return qml.expval(qml.PauliZ(wires=0))\n",
    "\n",
    "\n",
    "print(type(qnode_circuit), \"\\n\")\n",
    "\n",
    "print(qml.draw(qnode_circuit)(0.2))"
   ]
  },
  {
   "cell_type": "markdown",
   "metadata": {},
   "source": [
    "We first apply transform to my_quantum_transform:"
   ]
  },
  {
   "cell_type": "code",
   "execution_count": 3,
   "metadata": {},
   "outputs": [
    {
     "name": "stdout",
     "output_type": "stream",
     "text": [
      "FRISUS LOG: transform e' stata chiamata\n",
      "qml.transform returns a TransformDispatcher: <class 'pennylane.transforms.core.transform_dispatcher.TransformDispatcher'>\n"
     ]
    }
   ],
   "source": [
    "dispatched_transform = qml.transform(quantum_transform=my_quantum_transform)\n",
    "\n",
    "print(f\"qml.transform returns a TransformDispatcher: {type(dispatched_transform)}\")"
   ]
  },
  {
   "cell_type": "markdown",
   "metadata": {},
   "source": [
    "Now I can use the dispatched transform directly on a `pennylane.QNode`, perche' un TransformDispatcher consente proprio di agire (anche) su un `pennylane.QNode`.\n",
    "\n",
    "For pennylane.QNode, the dispatched transform populates the TransformProgram of your QNode. The transform and its processing function are applied in the execution.\n",
    "\n",
    "~~Assumo che qui 'processing function' si riferisca alla funzione che io ho scritto, cioe' my_quantum_transform.~~\n",
    "Nope, la postprocessing function is a classical function returning a physical information acting on the results of circuit's execution."
   ]
  },
  {
   "cell_type": "code",
   "execution_count": 4,
   "metadata": {},
   "outputs": [
    {
     "name": "stdout",
     "output_type": "stream",
     "text": [
      "The TransformDispatcher has returned a QNode: <class 'pennylane.workflow.qnode.QNode'>\n",
      "\n",
      "`my_quantum_transform` has been called\n",
      "\n",
      "0: ──H─╭●──X────────┤  <Z>\n",
      "1: ────╰X──RZ(0.40)─┤     \n",
      "\n",
      "0: ──H─╭●──X────────┤  <Z>\n",
      "1: ────╰X──RZ(0.40)─┤     \n"
     ]
    }
   ],
   "source": [
    "transformed_qnode = dispatched_transform(qnode_circuit)\n",
    "\n",
    "print(f\"The TransformDispatcher has returned a QNode: {type(transformed_qnode)}\")\n",
    "\n",
    "print(qml.draw(transformed_qnode)(0.4))"
   ]
  },
  {
   "cell_type": "markdown",
   "metadata": {},
   "source": [
    "Per chiamare la funzione interna definita dentro a my_quantum_transform, apparentemente devo fare come segue.\n",
    "\n",
    "Questo non risulta altro che la conferma della frase sopra: **The transform and its processing function are applied in the execution.** Ed io non sto facendo altro che eseguire il circuito."
   ]
  },
  {
   "cell_type": "code",
   "execution_count": 5,
   "metadata": {},
   "outputs": [
    {
     "name": "stdout",
     "output_type": "stream",
     "text": [
      "\n",
      "`my_quantum_transform` has been called\n",
      "\n",
      "The inner post-processing function in `my_quantum_transform` has been called, and results=(tensor(0., requires_grad=True), tensor(0., requires_grad=True))\n"
     ]
    }
   ],
   "source": [
    "batch = transformed_qnode(0.4)"
   ]
  },
  {
   "cell_type": "code",
   "execution_count": 6,
   "metadata": {},
   "outputs": [
    {
     "name": "stdout",
     "output_type": "stream",
     "text": [
      "\n",
      "`my_quantum_transform` has been called\n",
      "\n",
      "0: ──H─╭●──X────────┤  <Z>\n",
      "1: ────╰X──RZ(0.40)─┤     \n",
      "\n",
      "0: ──H─╭●──X────────┤  <Z>\n",
      "1: ────╰X──RZ(0.40)─┤     \n"
     ]
    }
   ],
   "source": [
    "transformed_qnode.transform_program\n",
    "\n",
    "print(qml.draw(transformed_qnode)(0.4))"
   ]
  },
  {
   "cell_type": "markdown",
   "metadata": {},
   "source": [
    "If we apply dispatched_transform a second time to the pennylane.QNode, we would add it to the transform program again and therefore the transform would be applied twice before execution."
   ]
  },
  {
   "cell_type": "code",
   "execution_count": 7,
   "metadata": {},
   "outputs": [
    {
     "name": "stdout",
     "output_type": "stream",
     "text": [
      "\n",
      "`my_quantum_transform` has been called\n",
      "\n",
      "\n",
      "`my_quantum_transform` has been called\n",
      "\n",
      "\n",
      "`my_quantum_transform` has been called\n",
      "\n",
      "0: ──H─╭●──X────────┤  <Z>\n",
      "1: ────╰X──RZ(0.40)─┤     \n",
      "\n",
      "0: ──H─╭●──X────────┤  <Z>\n",
      "1: ────╰X──RZ(0.40)─┤     \n",
      "\n",
      "0: ──H─╭●──X────────┤  <Z>\n",
      "1: ────╰X──RZ(0.40)─┤     \n",
      "\n",
      "0: ──H─╭●──X────────┤  <Z>\n",
      "1: ────╰X──RZ(0.40)─┤     \n"
     ]
    }
   ],
   "source": [
    "transformed_qnode = dispatched_transform(transformed_qnode)\n",
    "transformed_qnode.transform_program\n",
    "\n",
    "print(qml.draw(transformed_qnode)(0.4))"
   ]
  },
  {
   "cell_type": "markdown",
   "metadata": {},
   "source": [
    "When a transformed QNode is executed, the QNode’s transform program is applied to the generated tape and creates a sequence of tapes to be executed. The execution results are then post-processed in the reverse order of the transform program to obtain the final results. Figo!"
   ]
  },
  {
   "cell_type": "code",
   "execution_count": 8,
   "metadata": {},
   "outputs": [
    {
     "name": "stdout",
     "output_type": "stream",
     "text": [
      "\n",
      "`my_quantum_transform` has been called\n",
      "\n",
      "\n",
      "`my_quantum_transform` has been called\n",
      "\n",
      "\n",
      "`my_quantum_transform` has been called\n",
      "\n",
      "The inner post-processing function in `my_quantum_transform` has been called, and results=(tensor(0., requires_grad=True), tensor(0., requires_grad=True))\n",
      "The inner post-processing function in `my_quantum_transform` has been called, and results=(tensor(0., requires_grad=True), tensor(0., requires_grad=True))\n",
      "The inner post-processing function in `my_quantum_transform` has been called, and results=(0.0, 0.0)\n"
     ]
    },
    {
     "data": {
      "text/plain": [
       "0.0"
      ]
     },
     "execution_count": 8,
     "metadata": {},
     "output_type": "execute_result"
    }
   ],
   "source": [
    "transformed_qnode(0.4)"
   ]
  },
  {
   "cell_type": "markdown",
   "metadata": {},
   "source": [
    "- ## In che senso le transforms sono composable?\n",
    "\n",
    "*Transforms are inherently composable on a QNode, meaning that transforms with compatible post-processing functions can be successively applied to QNodes.* \n",
    "\n",
    "For example, this allows for the application of multiple compilation passes on a QNode to maximize gate reduction before execution:\n",
    "\n",
    "~~TODO: la documentazione a https://docs.pennylane.ai/en/stable/code/qml_transforms.html deve essere aggiornata, in quanto si utilizzano ancora le transforms come decoratori invece di usare @partial (come richiesto ora). Qui di seguito riporto la documentazione corretta.~~"
   ]
  },
  {
   "cell_type": "code",
   "execution_count": 9,
   "metadata": {},
   "outputs": [],
   "source": [
    "from pennylane.transforms.optimization import cancel_inverses, merge_rotations\n",
    "\n",
    "from functools import partial\n",
    "\n",
    "dev = qml.device(\"default.qubit\", wires=1)\n",
    "\n",
    "\n",
    "@partial(merge_rotations)\n",
    "@partial(cancel_inverses)\n",
    "@qml.qnode(\n",
    "    device=dev\n",
    ")  # TODO ci sono due punti di troppo nella documentazione a https://docs.pennylane.ai/en/stable/code/qml_transforms.html in fondo che posso e voglio correggere\n",
    "def circuit(x, y):\n",
    "    qml.Hadamard(wires=0)\n",
    "    qml.Hadamard(wires=0)\n",
    "    qml.RX(x, wires=0)\n",
    "    qml.RY(y, wires=0)\n",
    "    qml.RZ(y, wires=0)\n",
    "    qml.RY(x, wires=0)\n",
    "    return qml.expval(qml.PauliZ(wires=0))"
   ]
  },
  {
   "cell_type": "code",
   "execution_count": 10,
   "metadata": {},
   "outputs": [
    {
     "name": "stdout",
     "output_type": "stream",
     "text": [
      "FRISUS LOG: transform e' stata chiamata\n"
     ]
    }
   ],
   "source": [
    "from typing import Sequence, Callable\n",
    "from pennylane.tape import QuantumTape\n",
    "\n",
    "\n",
    "@qml.transform\n",
    "def sum_circuit_and_adjoint(tape: QuantumTape) -> (Sequence[QuantumTape], Callable):\n",
    "\n",
    "    operations = [qml.adjoint(op) for op in tape.operation]\n",
    "    new_tape = type(tape)(operations, tape.measurements, shots=tape.shots)\n",
    "\n",
    "    def null_postprocessing(results):\n",
    "        return qml.sum(results)\n",
    "\n",
    "    return [tape, shifted_tape], null_postprocessing\n",
    "\n",
    "\n",
    "dev = qml.device(\"default.qubit\", wires=1)\n",
    "\n",
    "\n",
    "@qml.transforms.merge_rotations\n",
    "@qml.transforms.cancel_inverses\n",
    "@qml.qnode(device=dev)\n",
    "def circuit(x, y):\n",
    "    qml.Hadamard(wires=0)\n",
    "    qml.Hadamard(wires=0)\n",
    "    qml.RX(x, wires=0)\n",
    "    qml.RY(y, wires=0)\n",
    "    qml.RZ(y, wires=0)\n",
    "    qml.RY(x, wires=0)\n",
    "    return qml.expval(qml.PauliZ(wires=0))"
   ]
  },
  {
   "cell_type": "markdown",
   "metadata": {},
   "source": [
    "- ## Che minchia e' un transform dispatcher?\n",
    "\n",
    "Tecnicamente parlando, `TransformDispatcher` e' un tipo, cioe' una classe, returnato da qml.transform. \n",
    "\n",
    "Stando a https://docs.pennylane.ai/en/stable/code/api/pennylane.transforms.core.transform_dispatcher.TransformDispatcher.html, *converts a transform that has the signature (tape -> Sequence(tape), fn) to a transform dispatcher that can act on pennylane.tape.QuantumTape, quantum function, pennylane.QNode, pennylane.devices.Device.*\n",
    "\n"
   ]
  },
  {
   "cell_type": "markdown",
   "metadata": {},
   "source": [
    "- ## Passando ad un esempio concreto e reale di transform, che cosa fa nel dettaglio compile()?\n",
    "\n",
    "***Compilation functionality is mostly designed as transforms***\n",
    "\n",
    "The default behaviour of compile() applies a sequence of three transforms: commute_controlled(), cancel_inverses(), and then merge_rotations()."
   ]
  },
  {
   "cell_type": "markdown",
   "metadata": {},
   "source": [
    "WITHOUT @qml.compile"
   ]
  },
  {
   "cell_type": "code",
   "execution_count": 11,
   "metadata": {},
   "outputs": [
    {
     "name": "stdout",
     "output_type": "stream",
     "text": [
      "0: ──H──RX(0.40)────╭X──────────RX(0.20)─╭X────┤  <Z>\n",
      "1: ──H───────────╭X─╰●───────────────────╰●─╭●─┤     \n",
      "2: ──H──RZ(0.40)─╰●──RZ(-0.40)──RX(0.30)──Y─╰Z─┤     \n"
     ]
    }
   ],
   "source": [
    "dev = qml.device(\"default.qubit\", wires=[0, 1, 2])\n",
    "\n",
    "\n",
    "@qml.qnode(dev)\n",
    "def circuitNC(x, y, z):\n",
    "    qml.Hadamard(wires=0)\n",
    "    qml.Hadamard(wires=1)\n",
    "    qml.Hadamard(wires=2)\n",
    "    qml.RZ(z, wires=2)\n",
    "    qml.CNOT(wires=[2, 1])\n",
    "    qml.RX(z, wires=0)\n",
    "    qml.CNOT(wires=[1, 0])\n",
    "    qml.RX(x, wires=0)\n",
    "    qml.CNOT(wires=[1, 0])\n",
    "    qml.RZ(-z, wires=2)\n",
    "    qml.RX(y, wires=2)\n",
    "    qml.PauliY(wires=2)\n",
    "    qml.CZ(wires=[1, 2])\n",
    "    return qml.expval(qml.PauliZ(wires=0))\n",
    "\n",
    "\n",
    "print(qml.draw(circuitNC)(0.2, 0.3, 0.4))"
   ]
  },
  {
   "cell_type": "markdown",
   "metadata": {},
   "source": [
    "WITH @qml.compile"
   ]
  },
  {
   "cell_type": "code",
   "execution_count": 12,
   "metadata": {},
   "outputs": [
    {
     "name": "stdout",
     "output_type": "stream",
     "text": [
      "FRISUS LOG: compile e' stata chiamata\n",
      "0: ──H──RX(0.60)─────────────────┤  <Z>\n",
      "1: ──H─╭X─────────────────────╭●─┤     \n",
      "2: ──H─╰●─────────RX(0.30)──Y─╰Z─┤     \n"
     ]
    }
   ],
   "source": [
    "dev = qml.device(\"default.qubit\", wires=[0, 1, 2])\n",
    "\n",
    "\n",
    "@qml.compile\n",
    "@qml.qnode(dev)\n",
    "def circuit(x, y, z):\n",
    "    qml.Hadamard(wires=0)\n",
    "    qml.Hadamard(wires=1)\n",
    "    qml.Hadamard(wires=2)\n",
    "    qml.RZ(z, wires=2)\n",
    "    qml.CNOT(wires=[2, 1])\n",
    "    qml.RX(z, wires=0)\n",
    "    qml.CNOT(wires=[1, 0])\n",
    "    qml.RX(x, wires=0)\n",
    "    qml.CNOT(wires=[1, 0])\n",
    "    qml.RZ(-z, wires=2)\n",
    "    qml.RX(y, wires=2)\n",
    "    qml.PauliY(wires=2)\n",
    "    qml.CZ(wires=[1, 2])\n",
    "    return qml.expval(qml.PauliZ(wires=0))\n",
    "\n",
    "\n",
    "print(qml.draw(circuit)(0.2, 0.3, 0.4))"
   ]
  },
  {
   "cell_type": "markdown",
   "metadata": {},
   "source": [
    "Partendo dal primo circuito non compilato circuito NC, posso compilare direttamente anche cosi':"
   ]
  },
  {
   "cell_type": "code",
   "execution_count": 13,
   "metadata": {},
   "outputs": [
    {
     "name": "stdout",
     "output_type": "stream",
     "text": [
      "FRISUS LOG: compile e' stata chiamata\n",
      "0: ──H──RX(0.60)─────────────────┤  <Z>\n",
      "1: ──H─╭X─────────────────────╭●─┤     \n",
      "2: ──H─╰●─────────RX(0.30)──Y─╰Z─┤     \n"
     ]
    }
   ],
   "source": [
    "compiled_circuit = qml.compile(circuitNC)\n",
    "compiled_qnode = qml.QNode(compiled_circuit, dev)\n",
    "print(qml.draw(compiled_circuit)(0.2, 0.3, 0.4))\n",
    "# print(qml.draw(compiled_qnode)(0.2, 0.3, 0.4)) NB questo printa il circuito NON compilato, nonostante sia presente nella documentazione.\n",
    "# Che sia un \"bug\" nella documentazione? Spero di si, cosi' ho qualcosa da proporre!"
   ]
  },
  {
   "cell_type": "markdown",
   "metadata": {},
   "source": [
    "Cioe' in pratica compile() ha trasformato un ciclo in un altro. ~~Immagino che abbia preservato una qualche proprieta' del circuito stesso.~~ (si, lo ha solo semplificato ma il risultato non risulta cambiato). \n",
    "\n",
    "Da quei FDP vedo che compile() chiama 3 sotto-trasformazioni. E se io volessi chiamarne solo una, ad esempio commute_controlled()? Mi sembra talmente banale che non vale neanche la pena di farlo (comunque l'ho fatto sotto)"
   ]
  },
  {
   "cell_type": "code",
   "execution_count": 14,
   "metadata": {},
   "outputs": [
    {
     "name": "stdout",
     "output_type": "stream",
     "text": [
      "0: ──H──RX(0.40)────╭X──────────RX(0.20)─╭X────┤  <Z>\n",
      "1: ──H───────────╭X─╰●───────────────────╰●─╭●─┤     \n",
      "2: ──H──RZ(0.40)─╰●──RZ(-0.40)──RX(0.30)──Y─╰Z─┤     \n"
     ]
    }
   ],
   "source": [
    "from pennylane.transforms.optimization import (\n",
    "    cancel_inverses,\n",
    "    commute_controlled,\n",
    "    merge_rotations,\n",
    "    remove_barrier,\n",
    ")\n",
    "\n",
    "compile_default_pipeline = [commute_controlled, cancel_inverses, merge_rotations, remove_barrier]\n",
    "\n",
    "dev = qml.device(\"default.qubit\", wires=[0, 1, 2])\n",
    "\n",
    "\n",
    "@qml.qnode(dev)\n",
    "def circuit(x, y, z):\n",
    "    qml.Hadamard(wires=0)\n",
    "    qml.Hadamard(wires=1)\n",
    "    qml.Hadamard(wires=2)\n",
    "    qml.RZ(z, wires=2)\n",
    "    qml.CNOT(wires=[2, 1])\n",
    "    qml.RX(z, wires=0)\n",
    "    qml.CNOT(wires=[1, 0])\n",
    "    qml.RX(x, wires=0)\n",
    "    qml.CNOT(wires=[1, 0])\n",
    "    qml.RZ(-z, wires=2)\n",
    "    qml.RX(y, wires=2)\n",
    "    qml.PauliY(wires=2)\n",
    "    qml.CZ(wires=[1, 2])\n",
    "    return qml.expval(qml.PauliZ(wires=0))\n",
    "\n",
    "\n",
    "print(qml.draw(circuit)(0.2, 0.3, 0.4))\n",
    "\n",
    "transformed_circuit = qml.transforms.commute_controlled(circuit)"
   ]
  },
  {
   "cell_type": "markdown",
   "metadata": {},
   "source": [
    "Per usare solo una trasform di `compile`, posso fare come segue (copiato dalla documentation di PennyLane):"
   ]
  },
  {
   "cell_type": "code",
   "execution_count": 15,
   "metadata": {},
   "outputs": [
    {
     "name": "stdout",
     "output_type": "stream",
     "text": [
      "FRISUS LOG: compile e' stata chiamata\n",
      "0: ──H────╭X────────╭X──────────RX(0.40)──RX(0.20)────┤  <Z>\n",
      "1: ──H─╭X─╰●────────╰●─────────────────────────────╭●─┤     \n",
      "2: ──H─╰●──RZ(0.40)──RZ(-0.40)──RX(0.30)──Y────────╰Z─┤     \n"
     ]
    }
   ],
   "source": [
    "from pennylane.transforms.optimization import (\n",
    "    cancel_inverses,\n",
    "    commute_controlled,\n",
    "    merge_rotations,\n",
    "    remove_barrier,\n",
    ")\n",
    "\n",
    "from functools import partial\n",
    "\n",
    "compile_default_pipeline = [commute_controlled, cancel_inverses, merge_rotations, remove_barrier]\n",
    "\n",
    "dev = qml.device(\"default.qubit\", wires=[0, 1, 2])\n",
    "\n",
    "\n",
    "@partial(qml.compile, pipeline=[commute_controlled])\n",
    "# OR @partial(commute_controlled) instead of the one above, which produces exactly the same output\n",
    "@qml.qnode(dev)\n",
    "def circuit(x, y, z):\n",
    "    qml.Hadamard(wires=0)\n",
    "    qml.Hadamard(wires=1)\n",
    "    qml.Hadamard(wires=2)\n",
    "    qml.RZ(z, wires=2)\n",
    "    qml.CNOT(wires=[2, 1])\n",
    "    qml.RX(z, wires=0)\n",
    "    qml.CNOT(wires=[1, 0])\n",
    "    qml.RX(x, wires=0)\n",
    "    qml.CNOT(wires=[1, 0])\n",
    "    qml.RZ(-z, wires=2)\n",
    "    qml.RX(y, wires=2)\n",
    "    qml.PauliY(wires=2)\n",
    "    qml.CZ(wires=[1, 2])\n",
    "    return qml.expval(qml.PauliZ(wires=0))\n",
    "\n",
    "\n",
    "print(qml.draw(circuit)(0.2, 0.3, 0.4))"
   ]
  },
  {
   "cell_type": "markdown",
   "metadata": {},
   "source": [
    "\n",
    "- ## Che cazzo e' una tape in PennyLane?\n",
    "\n",
    "Dalla description di qml.compile, mi pare di intuire che un *tape* sia solo un modo stronzo di dire circuito.\n",
    "\n",
    "Piu' nel dettaglio, stando a https://docs.pennylane.ai/en/stable/code/qml_tape.html, *Quantum tapes are a datastructure that can represent quantum circuits and measurement statistics in PennyLane. They are queuing contexts that can record and process quantum operations and measurements. In addition to being created internally by QNodes, quantum tapes can also be created, nested, expanded (via expand()), and executed manually.*\n",
    "\n",
    "- ## Che cazzo e' una batch in PennyLane?\n",
    "\n",
    "In the pennylane source code, a \"batch\" is a fundamental pennylane object."
   ]
  },
  {
   "cell_type": "markdown",
   "metadata": {},
   "source": [
    "- ## Cosa fa esattamente `map_batch_transform` e come posso usarla? \n",
    "\n",
    "**Questo turns out to be estremamente rilevante per quello che devo fare in questa PR.**"
   ]
  },
  {
   "cell_type": "markdown",
   "metadata": {},
   "source": [
    "Per capire sta roba, supponiamo di avere due `tapes` seguenti:"
   ]
  },
  {
   "cell_type": "code",
   "execution_count": 36,
   "metadata": {},
   "outputs": [],
   "source": [
    "from pennylane.transforms import (\n",
    "    map_batch_transform,\n",
    ")  # Questa linea consente di vedere qualcosa hooverando con vscode\n",
    "\n",
    "from pennylane.transforms import (\n",
    "    hamiltonian_expand,\n",
    ")  # Questa linea consente di vedere qualcosa hooverando con vscode\n",
    "\n",
    "H = qml.PauliZ(0) @ qml.PauliZ(1) - qml.PauliX(0)\n",
    "\n",
    "ops1 = [qml.RX(0.5, wires=0), qml.RY(0.1, wires=1), qml.CNOT(wires=(0, 1))]\n",
    "measurements1 = [qml.expval(H)]\n",
    "tape1 = qml.tape.QuantumTape(ops1, measurements1)\n",
    "\n",
    "ops2 = [qml.Hadamard(0), qml.CRX(0.5, wires=(0, 1)), qml.CNOT((0, 1))]\n",
    "measurements2 = [qml.expval(H + 0.5 * qml.PauliY(0))]\n",
    "tape2 = qml.tape.QuantumTape(ops2, measurements2)"
   ]
  },
  {
   "cell_type": "markdown",
   "metadata": {},
   "source": [
    "Noto che questi tapes non sono Qnodes, ma c'e' comunque informazione sul circuito.\n",
    "\n",
    "We can use `map_batch_transform` to map a single transform across both of the these tapes in such a way that allows us to submit a single job for execution:"
   ]
  },
  {
   "cell_type": "code",
   "execution_count": 39,
   "metadata": {},
   "outputs": [
    {
     "name": "stdout",
     "output_type": "stream",
     "text": [
      "\n",
      "Executing `map_batch_transform` MODIFIED BY FRISUS\n",
      "\n",
      "input transform=<transform: hamiltonian_expand>\n",
      "input tapes=[<QuantumTape: wires=[0, 1], params=4>, <QuantumTape: wires=[0, 1], params=4>]\n",
      "\n",
      "\n",
      "current tape in for cycle=<QuantumTape: wires=[0, 1], params=4>\n",
      "FRISUS LOG: hamiltonian_expand e' stata chiamata\n",
      "new_tapes=[<QuantumTape: wires=[0, 1], params=2>, <QuantumTape: wires=[0, 1], params=2>]\n",
      "fn=<function hamiltonian_expand.<locals>.processing_fn at 0x7fb4650ab8b0>\n",
      "\n",
      "\n",
      "current tape in for cycle=<QuantumTape: wires=[0, 1], params=4>\n",
      "FRISUS LOG: hamiltonian_expand e' stata chiamata\n",
      "new_tapes=[<QuantumTape: wires=[0, 1], params=1>, <QuantumTape: wires=[0, 1], params=1>, <QuantumTape: wires=[0, 1], params=1>]\n",
      "fn=<function hamiltonian_expand.<locals>.processing_fn at 0x7fb464912160>\n",
      "\n",
      "map_batch_transform.processing_fn inner function has been called.\n",
      "FRISUS LOG: e' stata chiamata la postp. function within hamiltonian_expand\n",
      "Sta agendo su res=(0.0, 0.9950041652780257)\n",
      "FRISUS LOG: e' stata chiamata la postp. function within hamiltonian_expand\n",
      "Sta agendo su res=(0.0, 0.9387912809451862, -0.24740395925452285)\n",
      "The final results of the post processing functions are {final_results}\n"
     ]
    },
    {
     "data": {
      "text/plain": [
       "[array(0.99500417), array(0.8150893)]"
      ]
     },
     "execution_count": 39,
     "metadata": {},
     "output_type": "execute_result"
    }
   ],
   "source": [
    "tapes, fn = map_batch_transform(transform=hamiltonian_expand, tapes=[tape1, tape2])\n",
    "\n",
    "dev = qml.device(\"default.qubit\", wires=2)\n",
    "\n",
    "fn(qml.execute(tapes, dev, qml.gradients.param_shift))"
   ]
  },
  {
   "cell_type": "code",
   "execution_count": 18,
   "metadata": {},
   "outputs": [
    {
     "name": "stdout",
     "output_type": "stream",
     "text": [
      "\n",
      "Executing `map_batch_transform` MODIFIED BY FRISUS\n",
      "\n",
      "input transform=<transform: hamiltonian_expand>\n",
      "input tapes=[<QuantumTape: wires=[0, 1], params=4>, <QuantumTape: wires=[0, 1], params=4>]\n",
      "\n",
      "\n",
      "current tape in for cycle=<QuantumTape: wires=[0, 1], params=4>\n",
      "FRISUS LOG: hamiltonian_expand e' stata chiamata\n",
      "new_tapes=[<QuantumTape: wires=[0, 1], params=2>, <QuantumTape: wires=[0, 1], params=2>]\n",
      "fn=<function hamiltonian_expand.<locals>.processing_fn at 0x7fb464fcfd30>\n",
      "\n",
      "\n",
      "current tape in for cycle=<QuantumTape: wires=[0, 1], params=4>\n",
      "FRISUS LOG: hamiltonian_expand e' stata chiamata\n",
      "new_tapes=[<QuantumTape: wires=[0, 1], params=1>, <QuantumTape: wires=[0, 1], params=1>, <QuantumTape: wires=[0, 1], params=1>]\n",
      "fn=<function hamiltonian_expand.<locals>.processing_fn at 0x7fb464fcfe50>\n",
      "\n"
     ]
    },
    {
     "data": {
      "text/plain": [
       "([<QuantumTape: wires=[0, 1], params=2>,\n",
       "  <QuantumTape: wires=[0, 1], params=2>,\n",
       "  <QuantumTape: wires=[0, 1], params=1>,\n",
       "  <QuantumTape: wires=[0, 1], params=1>,\n",
       "  <QuantumTape: wires=[0, 1], params=1>],\n",
       " <function pennylane.transforms.batch_transform.map_batch_transform.<locals>.processing_fn(res: Tuple[~Result]) -> Tuple[~Result]>)"
      ]
     },
     "execution_count": 18,
     "metadata": {},
     "output_type": "execute_result"
    }
   ],
   "source": [
    "map_batch_transform(transform=hamiltonian_expand, tapes=[tape1, tape2])"
   ]
  },
  {
   "cell_type": "markdown",
   "metadata": {},
   "source": [
    "- ## Che roba e' un `QuantumScript`?\n",
    "\n",
    "Un QuantumScript e' un tipo (cioe' una classe) che rappresenta le istruzioni da eseguire su un quantum device"
   ]
  },
  {
   "cell_type": "markdown",
   "metadata": {},
   "source": [
    "Da https://docs.pennylane.ai/en/stable/code/api/pennylane.tape.QuantumScript.html copio il seguente snippettino che fa vedere cosa sia"
   ]
  },
  {
   "cell_type": "code",
   "execution_count": 40,
   "metadata": {},
   "outputs": [],
   "source": [
    "from pennylane.tape import QuantumScript\n",
    "\n",
    "from pennylane import numpy as np\n",
    "\n",
    "ops = [\n",
    "    qml.BasisState(np.array([1, 1]), wires=(0, \"a\")),\n",
    "    qml.RX(0.432, 0),\n",
    "    qml.RY(0.543, 0),\n",
    "    qml.CNOT((0, \"a\")),\n",
    "    qml.RX(0.133, \"a\"),\n",
    "]\n",
    "\n",
    "qscript = QuantumScript(ops=ops, measurements=[qml.expval(qml.PauliZ(0))])"
   ]
  },
  {
   "cell_type": "markdown",
   "metadata": {},
   "source": [
    "Da qui apprezziamo che qscript contiene sia operations che measurements (unione di due insiemi disgiunti)"
   ]
  },
  {
   "cell_type": "code",
   "execution_count": 20,
   "metadata": {},
   "outputs": [
    {
     "data": {
      "text/plain": [
       "[BasisState(tensor([1, 1], requires_grad=True), wires=[0, 'a']),\n",
       " RX(0.432, wires=[0]),\n",
       " RY(0.543, wires=[0]),\n",
       " CNOT(wires=[0, 'a']),\n",
       " RX(0.133, wires=['a']),\n",
       " expval(Z(0))]"
      ]
     },
     "execution_count": 20,
     "metadata": {},
     "output_type": "execute_result"
    }
   ],
   "source": [
    "list(qscript)"
   ]
  },
  {
   "cell_type": "code",
   "execution_count": 21,
   "metadata": {},
   "outputs": [
    {
     "data": {
      "text/plain": [
       "[BasisState(tensor([1, 1], requires_grad=True), wires=[0, 'a']),\n",
       " RX(0.432, wires=[0]),\n",
       " RY(0.543, wires=[0]),\n",
       " CNOT(wires=[0, 'a']),\n",
       " RX(0.133, wires=['a'])]"
      ]
     },
     "execution_count": 21,
     "metadata": {},
     "output_type": "execute_result"
    }
   ],
   "source": [
    "qscript.operations"
   ]
  },
  {
   "cell_type": "code",
   "execution_count": 22,
   "metadata": {},
   "outputs": [
    {
     "data": {
      "text/plain": [
       "[expval(Z(0))]"
      ]
     },
     "execution_count": 22,
     "metadata": {},
     "output_type": "execute_result"
    }
   ],
   "source": [
    "qscript.measurements"
   ]
  },
  {
   "cell_type": "markdown",
   "metadata": {},
   "source": [
    "- ## Qual e' l'opzione attuale per comporre due transforms quando si lavora con il tape paradigm?\n",
    "\n",
    "**NB Questo e' riportato anche nella descizione della mia storia**"
   ]
  },
  {
   "cell_type": "code",
   "execution_count": 41,
   "metadata": {},
   "outputs": [
    {
     "name": "stdout",
     "output_type": "stream",
     "text": [
      "tape1=<QuantumTape: wires=[0, 1], params=4>\n",
      "tape2=<QuantumTape: wires=[0, 1], params=4>\n"
     ]
    }
   ],
   "source": [
    "H = qml.PauliZ(0) @ qml.PauliZ(1) - qml.PauliX(0)\n",
    "\n",
    "ops1 = [qml.RX(0.5, wires=0), qml.RY(0.1, wires=1), qml.CNOT(wires=(0, 1))]\n",
    "measurements1 = [qml.expval(H)]\n",
    "tape1 = qml.tape.QuantumTape(ops1, measurements1)\n",
    "\n",
    "print(f\"tape1={tape1}\")\n",
    "\n",
    "ops2 = [qml.Hadamard(0), qml.CRX(0.5, wires=(0, 1)), qml.CNOT((0, 1))]\n",
    "measurements2 = [qml.expval(H + 0.5 * qml.PauliY(0))]\n",
    "tape2 = qml.tape.QuantumTape(ops2, measurements2)\n",
    "\n",
    "print(f\"tape2={tape2}\")"
   ]
  },
  {
   "cell_type": "code",
   "execution_count": 24,
   "metadata": {},
   "outputs": [
    {
     "name": "stdout",
     "output_type": "stream",
     "text": [
      "FRISUS LOG: hamiltonian_expand e' stata chiamata\n",
      "batch1=[<QuantumTape: wires=[0, 1], params=2>, <QuantumTape: wires=[0, 1], params=2>], \n",
      "fn1=<function hamiltonian_expand.<locals>.processing_fn at 0x7fb46505e550>\n",
      "\n",
      "Executing `map_batch_transform` MODIFIED BY FRISUS\n",
      "\n",
      "input transform=<transform: hamiltonian_expand>\n",
      "input tapes=[<QuantumTape: wires=[0, 1], params=4>]\n",
      "\n",
      "\n",
      "current tape in for cycle=<QuantumTape: wires=[0, 1], params=4>\n",
      "FRISUS LOG: hamiltonian_expand e' stata chiamata\n",
      "new_tapes=[<QuantumTape: wires=[0, 1], params=1>, <QuantumTape: wires=[0, 1], params=1>, <QuantumTape: wires=[0, 1], params=1>]\n",
      "fn=<function hamiltonian_expand.<locals>.processing_fn at 0x7fb46505e310>\n",
      "\n",
      "map_batch_transform.processing_fn inner function has been called.\n",
      "FRISUS LOG: e' stata chiamata la postp. function within hamiltonian_expand\n",
      "Sta agendo su res=(tensor(0., requires_grad=True), tensor(0., requires_grad=True))\n",
      "The final results of the post processing functions are {final_results}\n",
      "FRISUS LOG: e' stata chiamata la postp. function within hamiltonian_expand\n",
      "Sta agendo su res=[tensor(0., requires_grad=True)]\n"
     ]
    },
    {
     "data": {
      "text/plain": [
       "tensor(0., requires_grad=True)"
      ]
     },
     "execution_count": 24,
     "metadata": {},
     "output_type": "execute_result"
    }
   ],
   "source": [
    "# NB se provo a compilare con tape=tape1 mi da errore! TODO indagare...\n",
    "batch1, fn1 = hamiltonian_expand(tape1)\n",
    "\n",
    "print(f\"batch1={batch1}, \\nfn1={fn1}\")\n",
    "# fn1 e' la processing function interna definita dentro hamiltonian expand.\n",
    "\n",
    "batch2, fn2 = map_batch_transform(transform=hamiltonian_expand, tapes=[tape2])\n",
    "\n",
    "\n",
    "def combined_postprocessing(results):\n",
    "    return fn1(fn2(results))\n",
    "\n",
    "\n",
    "combined_postprocessing(\n",
    "    results=(qml.numpy.tensor(0.0, requires_grad=True), qml.numpy.tensor(0.0, requires_grad=True))\n",
    ")"
   ]
  },
  {
   "cell_type": "markdown",
   "metadata": {},
   "source": [
    "- ## Qual e' la soluzione proposta?"
   ]
  },
  {
   "cell_type": "code",
   "execution_count": 42,
   "metadata": {},
   "outputs": [
    {
     "name": "stdout",
     "output_type": "stream",
     "text": [
      "SET-UP\n",
      "####################################################\n",
      "dev=<default.qubit device (wires=3) at 0x7fb46490e880>\n",
      "printed tape:\n",
      " 0: ──H─╭●─┤ ╭<𝓗>\n",
      "1: ────╰X─┤ ├<𝓗>\n",
      "2: ──X────┤ ╰<𝓗>\n",
      "first_transform=<transform: hamiltonian_expand>\n",
      "second_transform=<transform: broadcast_expand>\n",
      "####################################################\n",
      "\n",
      "EXECUTING FIRST TRANSFORM ON TAPE\n",
      "####################################################\n",
      "FRISUS LOG: hamiltonian_expand e' stata chiamata\n",
      "batch1=[<QuantumTape: wires=[0, 1, 2], params=0>, <QuantumTape: wires=[0, 1, 2], params=0>]\n",
      "printed tape 0:\n",
      " 0: ──H─╭●─┤  <Z>\n",
      "1: ────╰X─┤  <Z>\n",
      "2: ──X────┤  <Z>\n",
      "printed tape 1:\n",
      " 0: ──H─╭●─┤       \n",
      "1: ────╰X─┤ ╭<Y@Z>\n",
      "2: ──X────┤ ╰<Y@Z>\n",
      "fn1=<function hamiltonian_expand.<locals>.processing_fn at 0x7fb464fcf8b0>\n",
      "result of execution=((-0.9999999999999998, 0.0, 0.0), 0.0)\n",
      "FRISUS LOG: e' stata chiamata la postp. function within hamiltonian_expand\n",
      "Sta agendo su res=((-0.9999999999999998, 0.0, 0.0), 0.0)\n",
      "result of post proc. func=-0.4999999999999999\n",
      "####################################################\n",
      "\n",
      "EXECUTING (FIRST) TRANSFORM ON TAPE USING transform + dispatched_transform\n",
      "####################################################\n",
      "FRISUS LOG: transform e' stata chiamata\n",
      "FRISUS LOG: hamiltonian_expand e' stata chiamata\n",
      "batch1exp=[<QuantumTape: wires=[0, 1, 2], params=0>, <QuantumTape: wires=[0, 1, 2], params=0>]\n",
      "printed tape 0:\n",
      " 0: ──H─╭●─┤  <Z>\n",
      "1: ────╰X─┤  <Z>\n",
      "2: ──X────┤  <Z>\n",
      "printed tape 1:\n",
      " 0: ──H─╭●─┤       \n",
      "1: ────╰X─┤ ╭<Y@Z>\n",
      "2: ──X────┤ ╰<Y@Z>\n",
      "fn1exp=<function hamiltonian_expand.<locals>.processing_fn at 0x7fb464a05430>\n",
      "result of execution=((-0.9999999999999998, 0.0, 0.0), 0.0)\n",
      "FRISUS LOG: e' stata chiamata la postp. function within hamiltonian_expand\n",
      "Sta agendo su res=((-0.9999999999999998, 0.0, 0.0), 0.0)\n",
      "result of post proc. func=-0.4999999999999999\n",
      "####################################################\n",
      "\n",
      "EXECUTING SECOND TRANSFORM ON TAPE\n",
      "####################################################\n",
      "FRISUS LOG: broadcast_expand e' stata chiamata\n",
      "batch2=[<QuantumTape: wires=[0, 1, 2], params=4>]\n",
      "printed tape 0:\n",
      " 0: ──H─╭●─┤ ╭<𝓗>\n",
      "1: ────╰X─┤ ├<𝓗>\n",
      "2: ──X────┤ ╰<𝓗>\n",
      "fn2=<function broadcast_expand.<locals>.null_postprocessing at 0x7fb4648f6e50>\n",
      "result of execution=(array(-0.5),)\n",
      "result of post proc. func=-0.4999999999999999\n",
      "####################################################\n",
      "\n",
      "EXECUTING SECOND TRANSFORM ON BATCH OF TAPES FROM FIRST TRANSFORM\n",
      "####################################################\n",
      "FRISUS LOG: my new function _batch_transform function e stata chiamata\n",
      "FRISUS LOG: broadcast_expand e' stata chiamata\n",
      "FRISUS LOG: broadcast_expand e' stata chiamata\n",
      "batch2=(<QuantumTape: wires=[0, 1, 2], params=0>, <QuantumTape: wires=[0, 1, 2], params=0>)\n",
      "fn2=<function TransformDispatcher._batch_transform.<locals>.processing_fn at 0x7fb465076310>\n",
      "result of execution=((-0.9999999999999998, 0.0, 0.0), 0.0)\n",
      "FRISUS LOG: e' stata chiamata la postp. function within _batch_transform\n",
      "Sta agendo su res=((-0.9999999999999998, 0.0, 0.0), 0.0)\n",
      "result of post proc. func=((-0.9999999999999998, 0.0, 0.0), 0.0)\n",
      "####################################################\n",
      "\n",
      "COMBINING THE TWO POST-PROCESSING FUNCTIONS\n",
      "####################################################\n",
      "FRISUS LOG: e' stata chiamata la postp. function within _batch_transform\n",
      "Sta agendo su res=((-0.9999999999999998, 0.0, 0.0), 0.0)\n",
      "FRISUS LOG: e' stata chiamata la postp. function within hamiltonian_expand\n",
      "Sta agendo su res=((-0.9999999999999998, 0.0, 0.0), 0.0)\n",
      "####################################################\n"
     ]
    }
   ],
   "source": [
    "from pennylane.transforms import compile, broadcast_expand, transform\n",
    "\n",
    "qml.drawer.use_style(\"black_white\")\n",
    "\n",
    "print(f\"SET-UP\")\n",
    "print(f\"####################################################\")\n",
    "# Device used to test the tape\n",
    "dev = qml.device(\"default.qubit\", wires=3)\n",
    "print(f\"dev={dev}\")\n",
    "first_transform = hamiltonian_expand\n",
    "second_transform = broadcast_expand\n",
    "# Let's create an Hamiltonian and a tape\n",
    "H = (\n",
    "    qml.PauliY(wires=2) @ qml.PauliZ(wires=1)\n",
    "    + 0.5 * qml.PauliZ(wires=2)\n",
    "    + qml.PauliZ(wires=1)\n",
    "    + qml.PauliZ(wires=0)\n",
    ")\n",
    "ops = [qml.Hadamard(wires=0), qml.CNOT(wires=(0, 1)), qml.PauliX(wires=2)]\n",
    "measurements = [qml.expval(H)]\n",
    "tape = QuantumTape(ops, measurements)\n",
    "# print(f\"H={H}\")\n",
    "# print(f\"ops={ops}\")\n",
    "# print(f\"tape={tape}\")\n",
    "# print(f\"measurements={measurements}\")\n",
    "print(f\"printed tape:\\n\", qml.tape.QuantumTape.draw(tape))\n",
    "print(f\"first_transform={first_transform}\")\n",
    "print(f\"second_transform={second_transform}\")\n",
    "print(f\"####################################################\")\n",
    "\n",
    "print(f\"\\nEXECUTING FIRST TRANSFORM ON TAPE\")\n",
    "print(f\"####################################################\")\n",
    "batch1, fn1 = first_transform(tape)\n",
    "print(f\"batch1={batch1}\")\n",
    "for i in range(len(batch1)):\n",
    "    print(f\"printed tape {i}:\\n\", qml.tape.QuantumTape.draw(batch1[i]))\n",
    "print(f\"fn1={fn1}\")\n",
    "res = dev.execute(batch1)\n",
    "print(f\"result of execution={res}\")\n",
    "print(f\"result of post proc. func={fn1(res)}\")\n",
    "print(f\"####################################################\")\n",
    "\n",
    "# TODO: capire perche' questo risulta diverso\n",
    "print(f\"\\nEXECUTING (FIRST) TRANSFORM ON TAPE USING transform + dispatched_transform\")\n",
    "print(f\"####################################################\")\n",
    "dispatched_transform1 = transform(first_transform)\n",
    "batch1exp, fn1exp = dispatched_transform1(tape)\n",
    "print(f\"batch1exp={batch1exp}\")\n",
    "for i in range(len(batch1exp)):\n",
    "    print(f\"printed tape {i}:\\n\", qml.tape.QuantumTape.draw(batch1exp[i]))\n",
    "print(f\"fn1exp={fn1exp}\")\n",
    "res = dev.execute(batch1exp)\n",
    "print(f\"result of execution={res}\")\n",
    "print(f\"result of post proc. func={fn1exp(res)}\")\n",
    "print(f\"####################################################\")\n",
    "# Anche se ancora non sono sicuro, questo modo esplicito di usare transform\n",
    "# dovrebbe servire per generalizzare una funzione che trasforma tapes in\n",
    "# qualcosa che puo trasformare tante altre cose. Quindi forse e per questo\n",
    "# che batch1 e batch1exp non sono la stessa cosa, anche se i risultati delle esecuzioni sono gli stessi.\n",
    "\n",
    "print(f\"\\nEXECUTING SECOND TRANSFORM ON TAPE\")\n",
    "print(f\"####################################################\")\n",
    "batch2, fn2 = second_transform(tape)\n",
    "print(f\"batch2={batch2}\")\n",
    "for i in range(len(batch2)):\n",
    "    print(f\"printed tape {i}:\\n\", qml.tape.QuantumTape.draw(batch2[i]))\n",
    "print(f\"fn2={fn2}\")\n",
    "res = dev.execute(batch2)\n",
    "print(f\"result of execution={res}\")\n",
    "print(f\"result of post proc. func={fn2(res)}\")\n",
    "print(f\"####################################################\")\n",
    "\n",
    "print(f\"\\nEXECUTING SECOND TRANSFORM ON BATCH OF TAPES FROM FIRST TRANSFORM\")\n",
    "print(f\"####################################################\")\n",
    "batch2, fn2 = second_transform(batch1)\n",
    "print(f\"batch2={batch2}\")\n",
    "print(f\"fn2={fn2}\")\n",
    "res = dev.execute(batch2)\n",
    "print(f\"result of execution={res}\")\n",
    "print(f\"result of post proc. func={fn2(res)}\")\n",
    "print(f\"####################################################\")\n",
    "\n",
    "\n",
    "print(f\"\\nCOMBINING THE TWO POST-PROCESSING FUNCTIONS\")\n",
    "print(f\"####################################################\")\n",
    "\n",
    "\n",
    "def combined_postprocessing(results):\n",
    "    return fn1(fn2(results))\n",
    "\n",
    "\n",
    "combined_postprocessing(results=res)\n",
    "print(f\"####################################################\")"
   ]
  },
  {
   "cell_type": "code",
   "execution_count": 26,
   "metadata": {},
   "outputs": [
    {
     "name": "stdout",
     "output_type": "stream",
     "text": [
      "FRISUS LOG: e' stata chiamata la postp. function within _batch_transform\n",
      "Sta agendo su res=(tensor([0., 1., 5.], requires_grad=True), tensor([1.5, 3. , 6.8], requires_grad=True))\n"
     ]
    },
    {
     "data": {
      "text/plain": [
       "(tensor([0., 1., 5.], requires_grad=True),\n",
       " tensor([1.5, 3. , 6.8], requires_grad=True))"
      ]
     },
     "execution_count": 26,
     "metadata": {},
     "output_type": "execute_result"
    }
   ],
   "source": [
    "results = (\n",
    "    qml.numpy.tensor([0.0, 1.0, 5.0], requires_grad=True),\n",
    "    qml.numpy.tensor([1.5, 3.0, 6.8], requires_grad=True),\n",
    ")\n",
    "\n",
    "fn2(results)"
   ]
  },
  {
   "cell_type": "markdown",
   "metadata": {},
   "source": [
    "**NB** (Scrivo questo dopo che la PR e' stata approvata e il mio livello di conoscenza generale risulta a malapena superiore rispetto a quella che avevo quando scrissi questo notebook in the first place e non uso la punteggiatura STI CAZZI).\n",
    "\n",
    "Se dichiaro un quantum tape con `QuantumTape`, questo viene recognized as an instance of `QuantumScript`. However, if I declare a tape as `QuantumScript`, this is not recognized as instance of `QuantumTape`. Interessante!"
   ]
  },
  {
   "cell_type": "markdown",
   "metadata": {},
   "source": [
    "# First review - Required actions"
   ]
  },
  {
   "cell_type": "markdown",
   "metadata": {},
   "source": [
    "- ### First thing to remember: always check argument name when copying and pasting\n",
    "\n",
    "- ### Second thing to remember: It is better to loop over objects themselves, rather than loop over an index into them (using `zip`)\n",
    "\n",
    "- ### Third thing to remember: Tuples are better than lists. In fact, tuples are both more performant and protected from accidental mutation. Basically lists get optimized for the ability to be quickly mutated. This means they take up a lot more space and have an extra level of indirection on lookup."
   ]
  },
  {
   "cell_type": "markdown",
   "metadata": {},
   "source": [
    "- ## Adding additional test(s)\n",
    "\n",
    "Message from LZ:\n",
    "\n",
    "**I think I'd actually prefer to add an additional test or two that is a bit more concrete and specific. While this technically works to cover the behaviour, there could be a lot of things not being caught. Are the postprocessing functions actually being called on the right slices?**\n",
    "\n",
    "**Potentially we could add some batch tests to some of the concrete transforms, like `tests/transforms/test_split_non_commuting.py`, `tests/transforms/test_broadcast_expand.py`, and `tests/transforms/test_optimization/test_merge_rotations.py` or something.**\n",
    "\n",
    "Another message from LZ in a second round of review:\n",
    "\n",
    "**I'm aiming to be able to replace map_batch_transform and deprecate it. Luckily in this case, we know exactly what the output should be. The first tape should split in two, one measuring [qml.expval(qml.X(0)), qml.expval(qml.X(1))] and the second measuring [qml.expval(qml.Z(0)), qml.expval(qml.Y(0))].**\n",
    "\n",
    "**We should also test function too.**\n",
    "\n",
    "**Since the output for `split_non_commuting` is just reshuffling, one thing I like to do in this case is use strings in place of the result values, so we can focus on their reshuffling. Something like:**\n",
    "\n",
    "``\n",
    "result = (\"a\", \"b\", \"c\", \"d\") assert fn(result) == [(\"a\", \"b\"), (\"c\", d\")]\n",
    "``"
   ]
  },
  {
   "cell_type": "markdown",
   "metadata": {},
   "source": [
    "- ## First test I added"
   ]
  },
  {
   "cell_type": "code",
   "execution_count": 28,
   "metadata": {},
   "outputs": [
    {
     "name": "stdout",
     "output_type": "stream",
     "text": [
      "FRISUS LOG: my new function _batch_transform function e stata chiamata\n",
      "FRISUS LOG: e' stata chiamata la postp. function within _batch_transform\n",
      "Sta agendo su res=(<QuantumScript: wires=[0, 1], params=1>, <QuantumScript: wires=[0], params=1>, <QuantumScript: wires=[0], params=1>, <QuantumScript: wires=[0], params=1>)\n",
      "FRISUS LOG: e' stata chiamata la postp. function within _batch_transform\n",
      "Sta agendo su res=('expval1', 'expval2', 'expval3', 'expval4')\n"
     ]
    }
   ],
   "source": [
    "from pennylane.transforms import split_non_commuting\n",
    "\n",
    "\"\"\"Test that `split_non_commuting` can transform a batch of tapes\"\"\"\n",
    "\n",
    "# create a batch with two fictitious tapes\n",
    "tape1 = qml.tape.QuantumScript(\n",
    "    [qml.RX(1.2, 0)], [qml.expval(qml.X(0)), qml.expval(qml.Y(0)), qml.expval(qml.X(1))]\n",
    ")\n",
    "tape2 = qml.tape.QuantumScript([qml.RY(0.5, 0)], [qml.expval(qml.Z(0)), qml.expval(qml.Y(0))])\n",
    "batch = [tape1, tape2]\n",
    "\n",
    "# test transform on the batch\n",
    "new_batch, post_proc_fn = split_non_commuting(batch)\n",
    "\n",
    "# test that transform has been applied correctly on the batch by explicitly comparing with splitted tapes\n",
    "tp1 = qml.tape.QuantumScript([qml.RX(1.2, 0)], [qml.expval(qml.X(0)), qml.expval(qml.X(1))])\n",
    "tp2 = qml.tape.QuantumScript([qml.RX(1.2, 0)], [qml.expval(qml.Y(0))])\n",
    "tp3 = qml.tape.QuantumScript([qml.RY(0.5, 0)], [qml.expval(qml.Z(0))])\n",
    "tp4 = qml.tape.QuantumScript([qml.RY(0.5, 0)], [qml.expval(qml.Y(0))])\n",
    "\n",
    "\n",
    "assert all(qml.equal(tape1, tape2) for tape1, tape2 in zip(new_batch, [tp1, tp2, tp3, tp4]))\n",
    "\n",
    "# test postprocessing function applied to the transformed batch\n",
    "assert all(\n",
    "    qml.equal(tapeA, tapeB)\n",
    "    for sublist1, sublist2 in zip(post_proc_fn(new_batch), ((tp1, tp2), (tp3, tp4)))\n",
    "    for tapeA, tapeB in zip(sublist1, sublist2)\n",
    ")\n",
    "\n",
    "# final (double) check: test postprocessing function on a fictitious results\n",
    "result = (\"expval1\", \"expval2\", \"expval3\", \"expval4\")\n",
    "assert post_proc_fn(result) == ((\"expval1\", \"expval2\"), (\"expval3\", \"expval4\"))"
   ]
  },
  {
   "cell_type": "markdown",
   "metadata": {},
   "source": [
    "- ## Second test I added\n",
    "\n",
    "I want to be sure that post-processing functions are called the same way as before"
   ]
  },
  {
   "cell_type": "code",
   "execution_count": 29,
   "metadata": {},
   "outputs": [
    {
     "name": "stdout",
     "output_type": "stream",
     "text": [
      "FRISUS LOG: transform e' stata chiamata\n",
      "FRISUS LOG: transform e' stata chiamata\n",
      "FRISUS LOG: my new function _batch_transform function e stata chiamata\n",
      "FRISUS LOG: e' stata chiamata la postp. function within _batch_transform\n",
      "Sta agendo su res=(array(1.32533561),)\n",
      "FRISUS LOG: hamiltonian_expand e' stata chiamata\n",
      "FRISUS LOG: my new function _batch_transform function e stata chiamata\n",
      "FRISUS LOG: e' stata chiamata la postp. function within _batch_transform\n",
      "Sta agendo su res=((0.9999999999999998, 0.0), 0.0)\n",
      "FRISUS LOG: e' stata chiamata la postp. function within hamiltonian_expand\n",
      "Sta agendo su res=((0.9999999999999998, 0.0), 0.0)\n"
     ]
    }
   ],
   "source": [
    "from pennylane.transforms import compile, broadcast_expand, transform\n",
    "\n",
    "from pennylane.typing import TensorLike\n",
    "\n",
    "\n",
    "def first_valid_transform(\n",
    "    tape: qml.tape.QuantumTape, index: int\n",
    ") -> (Sequence[qml.tape.QuantumTape], Callable): # type: ignore\n",
    "    \"\"\"A valid transform.\"\"\"\n",
    "    tape = tape.copy()\n",
    "    tape._ops.pop(index)  # pylint:disable=protected-access\n",
    "    _ = (qml.PauliX(0), qml.S(0))\n",
    "    return [tape], lambda x: x\n",
    "\n",
    "\n",
    "def second_valid_transform(\n",
    "    tape: qml.tape.QuantumTape, index: int\n",
    ") -> (Sequence[qml.tape.QuantumTape], Callable): # type: ignore\n",
    "    \"\"\"A valid trasnform.\"\"\"\n",
    "    tape1 = tape.copy()\n",
    "    tape2 = tape.copy()\n",
    "    tape._ops.pop(index)  # pylint:disable=protected-access\n",
    "\n",
    "    def fn(results):\n",
    "        return qml.math.sum(results)\n",
    "\n",
    "    return [tape1, tape2], fn\n",
    "\n",
    "\n",
    "valid_transforms = [first_valid_transform, second_valid_transform]\n",
    "\n",
    "valid_transform = valid_transforms[0]\n",
    "\n",
    "\"\"\"Test that dispatcher can dispatch onto a batch of tapes.\"\"\"\n",
    "\n",
    "\n",
    "def check_batch(batch):\n",
    "    return isinstance(batch, Sequence) and all(\n",
    "        isinstance(tape, qml.tape.QuantumScript) for tape in batch\n",
    "    )\n",
    "\n",
    "\n",
    "def comb_postproc(results: TensorLike, fn1: Callable, fn2: Callable):\n",
    "    return fn1(fn2(results))\n",
    "\n",
    "\n",
    "# Create a simple tape\n",
    "\n",
    "H = qml.PauliY(2) @ qml.PauliZ(1) + 0.5 * qml.PauliZ(2) + qml.PauliZ(1)\n",
    "measur = [qml.expval(H)]\n",
    "ops = [qml.Hadamard(0), qml.RX(0.2, 0), qml.RX(0.6, 0), qml.CNOT((0, 1))]\n",
    "\n",
    "tape = qml.tape.QuantumTape(ops, measur)\n",
    "\n",
    "############################################################\n",
    "### Test with two elementary user-defined transforms\n",
    "############################################################\n",
    "dispatched_transform1 = transform(valid_transform)\n",
    "dispatched_transform2 = transform(valid_transform)\n",
    "batch1, fn1 = dispatched_transform1(tape, index=0)\n",
    "batch2, fn2 = dispatched_transform2(batch1, index=0)\n",
    "\n",
    "result = dev.execute(batch2)\n",
    "\n",
    "assert check_batch(batch1) and check_batch(batch2)\n",
    "assert isinstance(comb_postproc(result, fn1, fn2), TensorLike)\n",
    "\n",
    "############################################################\n",
    "### Test with two `concrete` transforms\n",
    "############################################################\n",
    "batch1, fn1 = qml.transforms.hamiltonian_expand(tape)\n",
    "batch2, fn2 = qml.transforms.merge_rotations(batch1)\n",
    "result = dev.execute(batch2)\n",
    "\n",
    "\n",
    "# check that final batch and post-processing functions are what we expect after the two transforms\n",
    "final_ops = [qml.Hadamard(0), qml.RX(0.8, 0), qml.CNOT([0, 1])]\n",
    "final_batch = (\n",
    "    qml.tape.QuantumTape(final_ops, [qml.expval(qml.PauliZ(2)), qml.expval(qml.PauliZ(1))]),\n",
    "    qml.tape.QuantumTape(final_ops, [qml.expval(qml.PauliY(2) @ qml.PauliZ(1))]),\n",
    ")\n",
    "numerical_margin = 1e-8\n",
    "\n",
    "assert all(qml.equal(tapeA, tapeB) for tapeA, tapeB in zip(final_batch, batch2))\n",
    "assert abs(comb_postproc(result, fn1, fn2).item() - 0.5) < numerical_margin"
   ]
  },
  {
   "cell_type": "code",
   "execution_count": 30,
   "metadata": {},
   "outputs": [
    {
     "name": "stdout",
     "output_type": "stream",
     "text": [
      "<QuantumTape: wires=[0, 1, 2], params=5>\n",
      "[<QuantumTape: wires=[0, 1, 2], params=2>, <QuantumTape: wires=[0, 1, 2], params=2>]\n",
      "(<QuantumTape: wires=[0, 1, 2], params=1>, <QuantumTape: wires=[0, 1, 2], params=1>)\n"
     ]
    }
   ],
   "source": [
    "print(tape)\n",
    "print(batch1)\n",
    "print(batch2)"
   ]
  },
  {
   "cell_type": "code",
   "execution_count": 31,
   "metadata": {},
   "outputs": [
    {
     "name": "stdout",
     "output_type": "stream",
     "text": [
      "printed original tape:\n",
      " 0: ──H──RX──RX─╭●─┤     \n",
      "1: ────────────╰X─┤ ╭<𝓗>\n",
      "2: ───────────────┤ ╰<𝓗>\n"
     ]
    }
   ],
   "source": [
    "print(f\"printed original tape:\\n\", qml.tape.QuantumTape.draw(tape))"
   ]
  },
  {
   "cell_type": "code",
   "execution_count": 32,
   "metadata": {},
   "outputs": [
    {
     "name": "stdout",
     "output_type": "stream",
     "text": [
      "printed intermediate tape 0:\n",
      " 0: ──H──RX──RX─╭●─┤     \n",
      "1: ────────────╰X─┤  <Z>\n",
      "2: ───────────────┤  <Z>\n",
      "printed intermediate tape 1:\n",
      " 0: ──H──RX──RX─╭●─┤       \n",
      "1: ────────────╰X─┤ ╭<Y@Z>\n",
      "2: ───────────────┤ ╰<Y@Z>\n"
     ]
    }
   ],
   "source": [
    "for i in range(len(batch1)):\n",
    "    print(f\"printed intermediate tape {i}:\\n\", qml.tape.QuantumTape.draw(batch1[i]))"
   ]
  },
  {
   "cell_type": "code",
   "execution_count": 33,
   "metadata": {},
   "outputs": [
    {
     "name": "stdout",
     "output_type": "stream",
     "text": [
      "printed final tape 0:\n",
      " 0: ──H──RX─╭●─┤     \n",
      "1: ────────╰X─┤  <Z>\n",
      "2: ───────────┤  <Z>\n",
      "printed final tape 1:\n",
      " 0: ──H──RX─╭●─┤       \n",
      "1: ────────╰X─┤ ╭<Y@Z>\n",
      "2: ───────────┤ ╰<Y@Z>\n"
     ]
    }
   ],
   "source": [
    "for i in range(len(batch2)):\n",
    "    print(f\"printed final tape {i}:\\n\", qml.tape.QuantumTape.draw(batch2[i]))"
   ]
  },
  {
   "cell_type": "code",
   "execution_count": 34,
   "metadata": {},
   "outputs": [
    {
     "name": "stdout",
     "output_type": "stream",
     "text": [
      "printed tape 0:\n",
      " 0: ──H──RX──RX─╭●─┤     \n",
      "1: ────────────╰X─┤  <Z>\n",
      "2: ───────────────┤  <Z>\n",
      "printed tape 1:\n",
      " 0: ──H──RX──RX─╭●─┤       \n",
      "1: ────────────╰X─┤ ╭<Y@Z>\n",
      "2: ───────────────┤ ╰<Y@Z>\n"
     ]
    }
   ],
   "source": [
    "for i in range(len(batch1)):\n",
    "    print(f\"printed tape {i}:\\n\", qml.tape.QuantumTape.draw(batch1[i]))"
   ]
  },
  {
   "cell_type": "code",
   "execution_count": null,
   "metadata": {},
   "outputs": [],
   "source": []
  }
 ],
 "metadata": {
  "kernelspec": {
   "display_name": "PennyLane",
   "language": "python",
   "name": "python3"
  },
  "language_info": {
   "codemirror_mode": {
    "name": "ipython",
    "version": 3
   },
   "file_extension": ".py",
   "mimetype": "text/x-python",
   "name": "python",
   "nbconvert_exporter": "python",
   "pygments_lexer": "ipython3",
   "version": "3.9.7"
  }
 },
 "nbformat": 4,
 "nbformat_minor": 2
}
