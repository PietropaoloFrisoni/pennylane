{
 "cells": [
  {
   "cell_type": "markdown",
   "metadata": {},
   "source": [
    "# Pull Request n.2 (#5212)"
   ]
  },
  {
   "cell_type": "code",
   "execution_count": 1,
   "metadata": {},
   "outputs": [],
   "source": [
    "import pennylane as qml"
   ]
  },
  {
   "cell_type": "markdown",
   "metadata": {},
   "source": [
    "Lo scopo di questa PR is quello di rimpiazzare l'uso di `map_batch_transform` nel codice sorgente.\n",
    "La TZ vuole dichiarare questa funzione come deprecata in futuro, quindi tanto vale rimpiazzare il current usage. \n",
    "\n",
    "Al momento la funzione si trova nei seguenti punti:\n",
    "\n",
    "- ~~https://github.com/PennyLaneAI/pennylane/blob/4542986500c41a1c77022bc7728ccb26dc4b938d/pennylane/_device.py#L806~~  \n",
    "- ~~https://github.com/PennyLaneAI/pennylane/blob/4542986500c41a1c77022bc7728ccb26dc4b938d/pennylane/workflow/jacobian_products.py#L314~~ \n",
    "- ~~https://github.com/PennyLaneAI/pennylane/blob/4542986500c41a1c77022bc7728ccb26dc4b938d/pennylane/workflow/jacobian_products.py#L331~~\n",
    "- ~~https://github.com/PennyLaneAI/pennylane/blob/4542986500c41a1c77022bc7728ccb26dc4b938d/pennylane/workflow/execution.py#L200~~\n",
    "\n",
    "La TZ scrive anche:\n",
    "\n",
    "**Note that a partial was used together with `map_batch_transform`, as `map_batch_transform` didn't accept args and kwargs.**\n",
    "\n",
    "(...)\n",
    "\n",
    "**But we would need to turn `dev_batch_transform` into a `qml.transform` before applying it to the batch.**"
   ]
  },
  {
   "cell_type": "markdown",
   "metadata": {},
   "source": [
    "To replace the usage in `pennylane/workflow/jacobian_products.py#L314` sto utilizzando il test `tests/interfaces/test_jacobian_products.py`, in cui la funzione viene di fatto chiamata.\n",
    "\n",
    "Sono riuscito ad estrapolare il code snippet in cui tale funzione viene chiamata, in questo modo posso testarla meglio."
   ]
  },
  {
   "cell_type": "code",
   "execution_count": 2,
   "metadata": {},
   "outputs": [],
   "source": [
    "from pennylane.workflow.jacobian_products import TransformJacobianProducts\n",
    "\n",
    "dev = qml.device(\"default.qubit\")\n",
    "\n",
    "\n",
    "def inner_execute_numpy(tapes):\n",
    "    return dev.execute(tapes)\n",
    "\n",
    "\n",
    "jpc = TransformJacobianProducts(inner_execute_numpy, qml.gradients.param_shift)\n",
    "\n",
    "x = 1.62\n",
    "tape = qml.tape.QuantumScript([qml.RX(x, 0)], [qml.expval(qml.PauliZ(0))], shots=10000)\n",
    "results, jacs = jpc.execute_and_compute_jacobian((tape,))\n",
    "\n",
    "jac = jpc.compute_jacobian((tape,))"
   ]
  },
  {
   "cell_type": "markdown",
   "metadata": {},
   "source": [
    "Con un po' piu di fatica sono riuscito ad estrapolare da `tests/circuit_graph/test_circuit_graph.py` un code snippet che esegue la `map_batch_transform` da rimpiazzare in `pennylane/workflow/execution.py#L200`"
   ]
  },
  {
   "cell_type": "code",
   "execution_count": 4,
   "metadata": {},
   "outputs": [],
   "source": [
    "from pennylane import numpy as pnp\n",
    "\n",
    "\n",
    "def parameterized_circuit_gaussian_fixture(wires):\n",
    "    def qfunc(a, b, c, d, e, f):\n",
    "        qml.Rotation(a, wires=wires[0])\n",
    "        qml.Rotation(b, wires=wires[1])\n",
    "        qml.Rotation(c, wires=wires[2])\n",
    "        qml.Beamsplitter(d, 1, wires=[wires[0], wires[1]])\n",
    "        qml.Rotation(1, wires=wires[0])\n",
    "        qml.Rotation(e, wires=wires[1])\n",
    "        qml.Rotation(f, wires=wires[2])\n",
    "\n",
    "        return qml.expval(qml.ops.NumberOperator(wires=wires[0]))\n",
    "\n",
    "    return qfunc\n",
    "\n",
    "\n",
    "wires = [\"a\", \"q1\", 3]\n",
    "\n",
    "dev = qml.device(\"default.gaussian\", wires=wires)\n",
    "qnode = qml.QNode(parameterized_circuit_gaussian_fixture(wires), dev)\n",
    "\n",
    "\n",
    "qnode(*pnp.array([0.1, 0.2, 0.3, 0.4, 0.5, 0.6], requires_grad=True))\n",
    "\n",
    "\n",
    "circuit = qnode.qtape.graph\n",
    "layers = circuit.parametrized_layers\n",
    "ops = circuit.operations"
   ]
  }
 ],
 "metadata": {
  "kernelspec": {
   "display_name": "PennyLane",
   "language": "python",
   "name": "python3"
  },
  "language_info": {
   "codemirror_mode": {
    "name": "ipython",
    "version": 3
   },
   "file_extension": ".py",
   "mimetype": "text/x-python",
   "name": "python",
   "nbconvert_exporter": "python",
   "pygments_lexer": "ipython3",
   "version": "3.9.7"
  }
 },
 "nbformat": 4,
 "nbformat_minor": 2
}
