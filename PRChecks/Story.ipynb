{
 "cells": [
  {
   "cell_type": "markdown",
   "metadata": {},
   "source": [
    "# PR checks"
   ]
  },
  {
   "cell_type": "code",
   "execution_count": 1,
   "metadata": {},
   "outputs": [],
   "source": [
    "import pennylane as qml"
   ]
  },
  {
   "cell_type": "markdown",
   "metadata": {},
   "source": [
    "## PR 1\n",
    "\n",
    "https://github.com/PennyLaneAI/pennylane/pull/5036"
   ]
  },
  {
   "cell_type": "markdown",
   "metadata": {},
   "source": [
    "Checking docstrings:"
   ]
  },
  {
   "cell_type": "code",
   "execution_count": 2,
   "metadata": {},
   "outputs": [
    {
     "name": "stdout",
     "output_type": "stream",
     "text": [
      "[<Hamiltonian: terms=18, wires=[0, 1, 2, 3, 4, 5]>, <Hamiltonian: terms=18, wires=[0, 1, 2, 3, 4, 5]>, <Hamiltonian: terms=1, wires=[0]>]\n"
     ]
    }
   ],
   "source": [
    "from pennylane.qchem.openfermion_obs import dipole_of\n",
    "from pennylane import numpy as np\n",
    "\n",
    "symbols = [\"H\", \"H\", \"H\"]\n",
    "coordinates = np.array([0.028, 0.054, 0.0, 0.986, 1.610, 0.0, 1.855, 0.002, 0.0])\n",
    "dipole_obs = dipole_of(symbols, coordinates, charge=1)\n",
    "print(dipole_obs)"
   ]
  },
  {
   "cell_type": "code",
   "execution_count": 3,
   "metadata": {},
   "outputs": [
    {
     "name": "stdout",
     "output_type": "stream",
     "text": [
      "  (0.24190977644638015) [Z4]\n",
      "+ (0.24190977644638015) [Z5]\n",
      "+ (0.4781123173263871) [Z0]\n",
      "+ (0.4781123173263871) [Z1]\n",
      "+ (0.7144779061811476) [Z2]\n",
      "+ (0.7144779061811476) [Z3]\n",
      "+ (-0.39136384894889287) [Y0 Z1 Y2]\n",
      "+ (-0.39136384894889287) [X0 Z1 X2]\n",
      "+ (-0.39136384894889287) [Y1 Z2 Y3]\n",
      "+ (-0.39136384894889287) [X1 Z2 X3]\n",
      "+ (-0.11734958781015546) [Y2 Z3 Y4]\n",
      "+ (-0.11734958781015546) [X2 Z3 X4]\n",
      "+ (-0.11734958781015546) [Y3 Z4 Y5]\n",
      "+ (-0.11734958781015546) [X3 Z4 X5]\n",
      "+ (0.26611147045283673) [Y0 Z1 Z2 Z3 Y4]\n",
      "+ (0.26611147045283673) [X0 Z1 Z2 Z3 X4]\n",
      "+ (0.26611147045283673) [Y1 Z2 Z3 Z4 Y5]\n",
      "+ (0.26611147045283673) [X1 Z2 Z3 Z4 X5]\n"
     ]
    }
   ],
   "source": [
    "print(dipole_obs[0])  # x-component of D"
   ]
  },
  {
   "cell_type": "markdown",
   "metadata": {},
   "source": [
    "Docstring are correctly rendered in documentation"
   ]
  },
  {
   "cell_type": "markdown",
   "metadata": {},
   "source": [
    "## PR 2\n",
    "\n",
    "https://github.com/PennyLaneAI/pennylane/pull/5083"
   ]
  },
  {
   "cell_type": "markdown",
   "metadata": {},
   "source": [
    "This is simply a modification to the deprecations and removals guide. I think there is nothing to test.\n",
    "\n",
    "I asked Matt and noticed where changes in the documentations are.\n",
    "\n",
    "Docstring are correctly rendered in documentation"
   ]
  },
  {
   "cell_type": "markdown",
   "metadata": {},
   "source": [
    "## PR 3\n",
    "\n",
    "https://github.com/PennyLaneAI/pennylane/pull/5237"
   ]
  },
  {
   "cell_type": "markdown",
   "metadata": {},
   "source": [
    "Checking docstrings:"
   ]
  },
  {
   "cell_type": "code",
   "execution_count": 4,
   "metadata": {},
   "outputs": [],
   "source": [
    "dev = qml.device(\"default.qubit\", shots=10)\n",
    "\n",
    "\n",
    "@qml.qnode(dev, diff_method=\"parameter-shift\")\n",
    "def circuit(angle):\n",
    "    qml.RX(angle, wires=0)\n",
    "    return qml.sample(qml.PauliX(0))\n",
    "\n",
    "\n",
    "angle = qml.numpy.array(0.1)\n",
    "res = qml.jacobian(circuit)(angle)"
   ]
  },
  {
   "cell_type": "code",
   "execution_count": 5,
   "metadata": {},
   "outputs": [],
   "source": [
    "dev = qml.device(\"default.qubit\", shots=[(1, 10)])\n",
    "\n",
    "\n",
    "@qml.qnode(dev, diff_method=\"parameter-shift\")\n",
    "def circuit(angle):\n",
    "    qml.RX(angle, wires=0)\n",
    "    return qml.expval(qml.PauliX(0))\n",
    "\n",
    "\n",
    "def cost(angle):\n",
    "    return qml.math.hstack(circuit(angle))\n",
    "\n",
    "\n",
    "angle = qml.numpy.array(0.1)\n",
    "res = qml.jacobian(cost)(angle)"
   ]
  },
  {
   "cell_type": "markdown",
   "metadata": {},
   "source": [
    "Docstring are correctly rendered in documentation"
   ]
  }
 ],
 "metadata": {
  "kernelspec": {
   "display_name": "PennyLane",
   "language": "python",
   "name": "python3"
  },
  "language_info": {
   "codemirror_mode": {
    "name": "ipython",
    "version": 3
   },
   "file_extension": ".py",
   "mimetype": "text/x-python",
   "name": "python",
   "nbconvert_exporter": "python",
   "pygments_lexer": "ipython3",
   "version": "3.9.7"
  }
 },
 "nbformat": 4,
 "nbformat_minor": 2
}
