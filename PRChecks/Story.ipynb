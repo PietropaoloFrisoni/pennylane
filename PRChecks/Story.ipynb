{
 "cells": [
  {
   "cell_type": "markdown",
   "metadata": {},
   "source": [
    "# PR checks"
   ]
  },
  {
   "cell_type": "code",
   "execution_count": 1,
   "metadata": {},
   "outputs": [],
   "source": [
    "import pennylane as qml"
   ]
  },
  {
   "cell_type": "markdown",
   "metadata": {},
   "source": [
    "## PR 1\n",
    "\n",
    "https://github.com/PennyLaneAI/pennylane/pull/5036"
   ]
  },
  {
   "cell_type": "markdown",
   "metadata": {},
   "source": [
    "Checking docstrings:"
   ]
  },
  {
   "cell_type": "code",
   "execution_count": 2,
   "metadata": {},
   "outputs": [
    {
     "name": "stdout",
     "output_type": "stream",
     "text": [
      "[<Hamiltonian: terms=18, wires=[0, 1, 2, 3, 4, 5]>, <Hamiltonian: terms=18, wires=[0, 1, 2, 3, 4, 5]>, <Hamiltonian: terms=1, wires=[0]>]\n"
     ]
    }
   ],
   "source": [
    "from pennylane.qchem.openfermion_obs import dipole_of\n",
    "from pennylane import numpy as np\n",
    "\n",
    "symbols = [\"H\", \"H\", \"H\"]\n",
    "coordinates = np.array([0.028, 0.054, 0.0, 0.986, 1.610, 0.0, 1.855, 0.002, 0.0])\n",
    "dipole_obs = dipole_of(symbols, coordinates, charge=1)\n",
    "print(dipole_obs)"
   ]
  },
  {
   "cell_type": "code",
   "execution_count": 3,
   "metadata": {},
   "outputs": [
    {
     "name": "stdout",
     "output_type": "stream",
     "text": [
      "  (0.24190977644638015) [Z4]\n",
      "+ (0.24190977644638015) [Z5]\n",
      "+ (0.4781123173263871) [Z0]\n",
      "+ (0.4781123173263871) [Z1]\n",
      "+ (0.7144779061811476) [Z2]\n",
      "+ (0.7144779061811476) [Z3]\n",
      "+ (-0.39136384894889287) [Y0 Z1 Y2]\n",
      "+ (-0.39136384894889287) [X0 Z1 X2]\n",
      "+ (-0.39136384894889287) [Y1 Z2 Y3]\n",
      "+ (-0.39136384894889287) [X1 Z2 X3]\n",
      "+ (-0.11734958781015546) [Y2 Z3 Y4]\n",
      "+ (-0.11734958781015546) [X2 Z3 X4]\n",
      "+ (-0.11734958781015546) [Y3 Z4 Y5]\n",
      "+ (-0.11734958781015546) [X3 Z4 X5]\n",
      "+ (0.26611147045283673) [Y0 Z1 Z2 Z3 Y4]\n",
      "+ (0.26611147045283673) [X0 Z1 Z2 Z3 X4]\n",
      "+ (0.26611147045283673) [Y1 Z2 Z3 Z4 Y5]\n",
      "+ (0.26611147045283673) [X1 Z2 Z3 Z4 X5]\n"
     ]
    }
   ],
   "source": [
    "print(dipole_obs[0])  # x-component of D"
   ]
  },
  {
   "cell_type": "markdown",
   "metadata": {},
   "source": [
    "Docstring are correctly rendered in documentation"
   ]
  },
  {
   "cell_type": "markdown",
   "metadata": {},
   "source": [
    "## PR 2\n",
    "\n",
    "https://github.com/PennyLaneAI/pennylane/pull/5083"
   ]
  },
  {
   "cell_type": "markdown",
   "metadata": {},
   "source": [
    "This is simply a modification to the deprecations and removals guide. I think there is nothing to test.\n",
    "\n",
    "I asked Matt and noticed where changes in the documentations are.\n",
    "\n",
    "Docstring are correctly rendered in documentation"
   ]
  },
  {
   "cell_type": "markdown",
   "metadata": {},
   "source": [
    "## PR 3\n",
    "\n",
    "https://github.com/PennyLaneAI/pennylane/pull/5237"
   ]
  },
  {
   "cell_type": "markdown",
   "metadata": {},
   "source": [
    "Checking docstrings:"
   ]
  },
  {
   "cell_type": "code",
   "execution_count": 4,
   "metadata": {},
   "outputs": [],
   "source": [
    "dev = qml.device(\"default.qubit\", shots=10)\n",
    "\n",
    "\n",
    "@qml.qnode(dev, diff_method=\"parameter-shift\")\n",
    "def circuit(angle):\n",
    "    qml.RX(angle, wires=0)\n",
    "    return qml.sample(qml.PauliX(0))\n",
    "\n",
    "\n",
    "angle = qml.numpy.array(0.1)\n",
    "res = qml.jacobian(circuit)(angle)"
   ]
  },
  {
   "cell_type": "code",
   "execution_count": 5,
   "metadata": {},
   "outputs": [],
   "source": [
    "dev = qml.device(\"default.qubit\", shots=[(1, 10)])\n",
    "\n",
    "\n",
    "@qml.qnode(dev, diff_method=\"parameter-shift\")\n",
    "def circuit(angle):\n",
    "    qml.RX(angle, wires=0)\n",
    "    return qml.expval(qml.PauliX(0))\n",
    "\n",
    "\n",
    "def cost(angle):\n",
    "    return qml.math.hstack(circuit(angle))\n",
    "\n",
    "\n",
    "angle = qml.numpy.array(0.1)\n",
    "res = qml.jacobian(cost)(angle)"
   ]
  },
  {
   "cell_type": "markdown",
   "metadata": {},
   "source": [
    "Docstring are correctly rendered in documentation"
   ]
  },
  {
   "cell_type": "markdown",
   "metadata": {},
   "source": [
    "## PR 4\n",
    "\n",
    "https://github.com/PennyLaneAI/pennylane/pull/5080"
   ]
  },
  {
   "cell_type": "markdown",
   "metadata": {},
   "source": [
    "Testing tests:"
   ]
  },
  {
   "cell_type": "code",
   "execution_count": 6,
   "metadata": {},
   "outputs": [],
   "source": [
    "op = qml.CosineWindow([2, 1])\n",
    "res = op.state_vector(wire_order=[0, 1, 2])\n",
    "assert res.shape == (2, 2, 2)\n",
    "\n",
    "expected_10 = qml.CosineWindow([0, 1]).state_vector(wire_order=[1, 0])\n",
    "expected = np.stack([expected_10, np.zeros_like(expected_10)])\n",
    "assert np.allclose(res, expected)"
   ]
  },
  {
   "cell_type": "markdown",
   "metadata": {},
   "source": [
    "Everything seems fine. I could double check that the new code lines are actually executed, but I'll do that later if I have time"
   ]
  },
  {
   "cell_type": "markdown",
   "metadata": {},
   "source": [
    "## PR 5\n",
    "\n",
    "https://github.com/PennyLaneAI/pennylane/pull/5178"
   ]
  },
  {
   "cell_type": "markdown",
   "metadata": {},
   "source": [
    "Checking the bug report to be sure it is fixed:"
   ]
  },
  {
   "cell_type": "code",
   "execution_count": 7,
   "metadata": {},
   "outputs": [
    {
     "name": "stderr",
     "output_type": "stream",
     "text": [
      "2024-02-28 09:38:45.653246: I tensorflow/core/util/port.cc:113] oneDNN custom operations are on. You may see slightly different numerical results due to floating-point round-off errors from different computation orders. To turn them off, set the environment variable `TF_ENABLE_ONEDNN_OPTS=0`.\n",
      "2024-02-28 09:38:45.679734: E external/local_xla/xla/stream_executor/cuda/cuda_dnn.cc:9261] Unable to register cuDNN factory: Attempting to register factory for plugin cuDNN when one has already been registered\n",
      "2024-02-28 09:38:45.679758: E external/local_xla/xla/stream_executor/cuda/cuda_fft.cc:607] Unable to register cuFFT factory: Attempting to register factory for plugin cuFFT when one has already been registered\n",
      "2024-02-28 09:38:45.680470: E external/local_xla/xla/stream_executor/cuda/cuda_blas.cc:1515] Unable to register cuBLAS factory: Attempting to register factory for plugin cuBLAS when one has already been registered\n",
      "2024-02-28 09:38:45.685222: I tensorflow/core/platform/cpu_feature_guard.cc:182] This TensorFlow binary is optimized to use available CPU instructions in performance-critical operations.\n",
      "To enable the following instructions: AVX2 AVX512F AVX512_VNNI FMA, in other operations, rebuild TensorFlow with the appropriate compiler flags.\n",
      "2024-02-28 09:38:46.228476: W tensorflow/compiler/tf2tensorrt/utils/py_utils.cc:38] TF-TRT Warning: Could not find TensorRT\n"
     ]
    },
    {
     "name": "stdout",
     "output_type": "stream",
     "text": [
      "WARNING:tensorflow:You are casting an input of type complex128 to an incompatible dtype float32.  This will discard the imaginary part and may not be what you intended.\n",
      "WARNING:tensorflow:You are casting an input of type complex128 to an incompatible dtype float32.  This will discard the imaginary part and may not be what you intended.\n",
      "WARNING:tensorflow:You are casting an input of type complex128 to an incompatible dtype float32.  This will discard the imaginary part and may not be what you intended.\n",
      "WARNING:tensorflow:You are casting an input of type complex128 to an incompatible dtype float32.  This will discard the imaginary part and may not be what you intended.\n"
     ]
    }
   ],
   "source": [
    "import tensorflow as tf\n",
    "\n",
    "\n",
    "def grad(f):\n",
    "    def wrapper(x):\n",
    "        with tf.GradientTape() as tape:\n",
    "            y = f(x)\n",
    "\n",
    "        return tape.gradient(y, x)\n",
    "\n",
    "    return wrapper\n",
    "\n",
    "\n",
    "dev = qml.device(\"default.qubit\")\n",
    "\n",
    "\n",
    "@qml.qnode(dev)\n",
    "def circuit(theta):\n",
    "    meas = qml.iterative_qpe(qml.RZ(theta, wires=[0]), [1], iters=2)\n",
    "    return qml.expval(meas[0])\n",
    "\n",
    "\n",
    "@qml.qnode(dev)\n",
    "def manual_circuit(phi):\n",
    "    qml.Hadamard(wires=[1])\n",
    "    qml.ctrl(qml.RZ(phi, wires=[0]) ** 2, control=[1])\n",
    "    qml.Hadamard(wires=[1])\n",
    "    qml.CNOT(wires=[1, 2])\n",
    "    qml.CNOT(wires=[2, 1])\n",
    "    qml.Hadamard(wires=[1])\n",
    "    qml.ctrl(qml.RZ(phi, wires=[0]), control=[1])\n",
    "    qml.ctrl(qml.PhaseShift(-np.pi / 2, wires=[1]), control=[2])\n",
    "    qml.Hadamard(wires=[1])\n",
    "    qml.CNOT(wires=[1, 3])\n",
    "    qml.CNOT(wires=[3, 1])\n",
    "\n",
    "    return qml.expval(qml.Hermitian([[0, 0], [0, 1]], wires=3))\n",
    "\n",
    "\n",
    "phi = tf.Variable(1.0)\n",
    "assert np.isclose(grad(circuit)(phi), grad(manual_circuit)(phi))"
   ]
  },
  {
   "cell_type": "markdown",
   "metadata": {},
   "source": [
    "## PR 6\n",
    "\n",
    "https://github.com/PennyLaneAI/pennylane/pull/5233"
   ]
  },
  {
   "cell_type": "code",
   "execution_count": 8,
   "metadata": {},
   "outputs": [
    {
     "data": {
      "text/plain": [
       "array(0.)"
      ]
     },
     "execution_count": 8,
     "metadata": {},
     "output_type": "execute_result"
    }
   ],
   "source": [
    "import pennylane as qml\n",
    "from pennylane import numpy as pnp\n",
    "\n",
    "import numpy as np\n",
    "\n",
    "\n",
    "@qml.qnode(qml.device(\"default.qubit\", wires=3), diff_method=\"adjoint\")\n",
    "def circuit(x):\n",
    "    qml.RX(x, 0)\n",
    "    qml.QubitUnitary(np.eye(8), [0, 1, 2])\n",
    "    return qml.expval(qml.PauliZ(2))\n",
    "\n",
    "\n",
    "x = pnp.array(1.1, requires_grad=True)\n",
    "qml.jacobian(circuit)(x)"
   ]
  },
  {
   "cell_type": "markdown",
   "metadata": {},
   "source": [
    "Solved: for this specific error there was an import error that needed to be changed: `numpy` had to be imported not from `pennylane`"
   ]
  },
  {
   "cell_type": "markdown",
   "metadata": {},
   "source": [
    "## PR 7\n",
    "\n",
    "https://github.com/PennyLaneAI/pennylane/pull/5091"
   ]
  },
  {
   "cell_type": "markdown",
   "metadata": {},
   "source": [
    "This is just a changing in the doc. The modification is also present in the official documentation, so everything is fine."
   ]
  },
  {
   "cell_type": "markdown",
   "metadata": {},
   "source": [
    "## PR 8\n",
    "\n",
    "https://github.com/PennyLaneAI/pennylane/pull/5047"
   ]
  },
  {
   "cell_type": "markdown",
   "metadata": {},
   "source": [
    "Learned from Matt that I need to change to `latest` in the doc to see last modifications"
   ]
  },
  {
   "cell_type": "markdown",
   "metadata": {},
   "source": [
    "## PR 9\n",
    "\n",
    "https://github.com/PennyLaneAI/pennylane/pull/5031"
   ]
  },
  {
   "cell_type": "markdown",
   "metadata": {},
   "source": [
    "Everything seems fine. \n",
    "\n",
    "By the way, this might be extremely useful for learning how to convert `Hamiltonian` and `Tensor` instances to `op_math`, since this is precisely what is happening in this PR   "
   ]
  },
  {
   "cell_type": "markdown",
   "metadata": {},
   "source": [
    "## PR 10\n",
    "\n",
    "https://github.com/PennyLaneAI/pennylane/pull/5001"
   ]
  },
  {
   "cell_type": "markdown",
   "metadata": {},
   "source": [
    "Everything seems fine. \n",
    "\n",
    "This might be relevant for my current project (here it was implemented addition between `PauliWord` and `PauliSentence`)"
   ]
  },
  {
   "cell_type": "code",
   "execution_count": 9,
   "metadata": {},
   "outputs": [
    {
     "data": {
      "text/plain": [
       "True"
      ]
     },
     "execution_count": 9,
     "metadata": {},
     "output_type": "execute_result"
    }
   ],
   "source": [
    "XX = qml.pauli.pauli_arithmetic.PauliWord({0: \"X\", 1: \"X\"})\n",
    "YY = qml.pauli.pauli_arithmetic.PauliWord({0: \"Y\", 1: \"Y\"})\n",
    "\n",
    "H = 0.5 * XX + 0.7 * YY\n",
    "isinstance(H, qml.pauli.pauli_arithmetic.PauliSentence)\n",
    "True"
   ]
  },
  {
   "cell_type": "markdown",
   "metadata": {},
   "source": [
    "## PR 11\n",
    "\n",
    "https://github.com/PennyLaneAI/pennylane/pull/5003"
   ]
  },
  {
   "cell_type": "markdown",
   "metadata": {},
   "source": [
    "Same as above. In this case, it was implemented subtraction to `PauliSentence` and `PauliWord`"
   ]
  },
  {
   "cell_type": "markdown",
   "metadata": {},
   "source": [
    "## PR 12\n",
    "\n",
    "https://github.com/PennyLaneAI/pennylane/pull/5018"
   ]
  },
  {
   "cell_type": "code",
   "execution_count": 10,
   "metadata": {},
   "outputs": [
    {
     "data": {
      "text/plain": [
       "True"
      ]
     },
     "execution_count": 10,
     "metadata": {},
     "output_type": "execute_result"
    }
   ],
   "source": [
    "X0 = qml.pauli.pauli_arithmetic.PauliWord({0: \"X\"})\n",
    "\n",
    "np.allclose(qml.matrix(X0), X0.to_mat())"
   ]
  },
  {
   "cell_type": "markdown",
   "metadata": {},
   "source": [
    "Everything seems good, but I left a note about some code lines not covered by tests"
   ]
  },
  {
   "cell_type": "markdown",
   "metadata": {},
   "source": [
    "## PR 13\n",
    "\n",
    "https://github.com/PennyLaneAI/pennylane/pull/5027"
   ]
  },
  {
   "cell_type": "code",
   "execution_count": 11,
   "metadata": {},
   "outputs": [
    {
     "data": {
      "text/plain": [
       "X(0) + X(0)"
      ]
     },
     "execution_count": 11,
     "metadata": {},
     "output_type": "execute_result"
    }
   ],
   "source": [
    "qml.dot([1.0, 1.0], [qml.PauliX(0), qml.PauliX(0)])"
   ]
  },
  {
   "cell_type": "code",
   "execution_count": 12,
   "metadata": {},
   "outputs": [
    {
     "data": {
      "text/plain": [
       "2.0 * X(0)"
      ]
     },
     "execution_count": 12,
     "metadata": {},
     "output_type": "execute_result"
    }
   ],
   "source": [
    "qml.dot([1.0, 1.0], [qml.PauliX(0), qml.PauliX(0)]).simplify()"
   ]
  },
  {
   "cell_type": "markdown",
   "metadata": {},
   "source": [
    "Mai una gioia. C'era una modifica da fare nelle docstring ma pare che sia gia stata cambiata 5 giorni fa nel rc branch"
   ]
  },
  {
   "cell_type": "markdown",
   "metadata": {},
   "source": [
    "## PR 14\n",
    "\n",
    "https://github.com/PennyLaneAI/pennylane/pull/5026"
   ]
  },
  {
   "cell_type": "code",
   "execution_count": 13,
   "metadata": {},
   "outputs": [
    {
     "name": "stdout",
     "output_type": "stream",
     "text": [
      "tensor([-0.2894, -0.2894], dtype=torch.float64, grad_fn=<ViewBackward0>)\n"
     ]
    }
   ],
   "source": [
    "import torch\n",
    "import torch.nn as nn\n",
    "import pennylane as qml\n",
    "import pennylane.numpy as np\n",
    "\n",
    "\n",
    "def QuantumLayer():\n",
    "    n_qubits = 4\n",
    "    dev = qml.device(\"default.qubit\", wires=n_qubits)\n",
    "\n",
    "    def _circuit(inputs, weights):\n",
    "        qml.StatePrep(inputs, wires=[1, 2, 3])\n",
    "        qml.RY(phi=weights, wires=[0])\n",
    "        return qml.expval(qml.PauliZ(wires=0))\n",
    "\n",
    "    qlayer = qml.QNode(_circuit, dev, interface=\"torch\")\n",
    "    weight_shapes = {\"weights\": (1)}\n",
    "    return qml.qnn.TorchLayer(qlayer, weight_shapes)\n",
    "\n",
    "\n",
    "class SimpleQuantumModel(nn.Module):\n",
    "    def __init__(self):\n",
    "        super(SimpleQuantumModel, self).__init__()\n",
    "        self.quantum_layer = QuantumLayer()\n",
    "\n",
    "    def forward(self, x):\n",
    "        return self.quantum_layer(x)\n",
    "\n",
    "\n",
    "model = SimpleQuantumModel()\n",
    "features = torch.tensor(\n",
    "    np.array([[1.0, 0.0, 0.0, 0.0, 0.0, 0.0, 0.0, 0.0], [0.0, 1.0, 0.0, 0.0, 0.0, 0.0, 0.0, 0.0]]),\n",
    "    requires_grad=True,\n",
    ")\n",
    "\n",
    "print(model(features))"
   ]
  },
  {
   "cell_type": "markdown",
   "metadata": {},
   "source": [
    "## PR 15\n",
    "\n",
    "https://github.com/PennyLaneAI/pennylane/pull/5137"
   ]
  },
  {
   "cell_type": "markdown",
   "metadata": {},
   "source": [
    "Waiting for answer from Lillian (devo controllare la doc rendered by pennylane.templates)"
   ]
  },
  {
   "cell_type": "code",
   "execution_count": 14,
   "metadata": {},
   "outputs": [
    {
     "data": {
      "text/plain": [
       "(\n",
       "    <lambda>(params_0, t) * X(0)\n",
       "  + <lambda>(params_1, t) * Y(0)\n",
       ")"
      ]
     },
     "execution_count": 14,
     "metadata": {},
     "output_type": "execute_result"
    }
   ],
   "source": [
    "coeffs = [lambda p, t: p * jnp.sin(t) for _ in range(2)]\n",
    "ops = [qml.X(0), qml.Y(0)]\n",
    "qml.dot(coeffs, ops)"
   ]
  },
  {
   "cell_type": "markdown",
   "metadata": {},
   "source": [
    "## PR 16\n",
    "\n",
    "https://github.com/PennyLaneAI/pennylane/pull/5215"
   ]
  },
  {
   "cell_type": "markdown",
   "metadata": {},
   "source": [
    "Ho installato jax per testare le docstrings. Questo is the result, and everything seems fine to me:"
   ]
  },
  {
   "cell_type": "code",
   "execution_count": 17,
   "metadata": {},
   "outputs": [
    {
     "data": {
      "text/plain": [
       "1.1 * X(0) + 2.2 * Y(0)"
      ]
     },
     "execution_count": 17,
     "metadata": {},
     "output_type": "execute_result"
    }
   ],
   "source": [
    "coeffs = np.array([1.1, 2.2])\n",
    "ops = [qml.X(0), qml.Y(0)]\n",
    "qml.dot(coeffs, ops)"
   ]
  },
  {
   "cell_type": "code",
   "execution_count": 18,
   "metadata": {},
   "outputs": [
    {
     "data": {
      "text/plain": [
       "1.1 * X(0)\n",
       "+ 2.2 * Y(0)"
      ]
     },
     "execution_count": 18,
     "metadata": {},
     "output_type": "execute_result"
    }
   ],
   "source": [
    "qml.dot(coeffs, ops, pauli=True)"
   ]
  },
  {
   "cell_type": "code",
   "execution_count": 19,
   "metadata": {},
   "outputs": [
    {
     "data": {
      "text/plain": [
       "X(0) + X(0)"
      ]
     },
     "execution_count": 19,
     "metadata": {},
     "output_type": "execute_result"
    }
   ],
   "source": [
    "qml.dot([1.0, 1.0], [qml.X(0), qml.X(0)])"
   ]
  },
  {
   "cell_type": "code",
   "execution_count": 20,
   "metadata": {},
   "outputs": [
    {
     "data": {
      "text/plain": [
       "2.0 * X(0)"
      ]
     },
     "execution_count": 20,
     "metadata": {},
     "output_type": "execute_result"
    }
   ],
   "source": [
    "qml.dot([1.0, 1.0], [qml.X(0), qml.X(0)]).simplify()"
   ]
  },
  {
   "cell_type": "code",
   "execution_count": 21,
   "metadata": {},
   "outputs": [
    {
     "data": {
      "text/plain": [
       "3.0 * X(0)"
      ]
     },
     "execution_count": 21,
     "metadata": {},
     "output_type": "execute_result"
    }
   ],
   "source": [
    "qml.dot([1, 2], [qml.X(0), qml.X(0)], pauli=True).operation()"
   ]
  },
  {
   "cell_type": "code",
   "execution_count": 22,
   "metadata": {},
   "outputs": [
    {
     "data": {
      "text/plain": [
       "(\n",
       "    <lambda>(params_0, t) * X(0)\n",
       "  + <lambda>(params_1, t) * Y(0)\n",
       ")"
      ]
     },
     "execution_count": 22,
     "metadata": {},
     "output_type": "execute_result"
    }
   ],
   "source": [
    "import jax.numpy as jnp\n",
    "\n",
    "coeffs = [lambda p, t: p * jnp.sin(t) for _ in range(2)]\n",
    "ops = [qml.X(0), qml.Y(0)]\n",
    "qml.dot(coeffs, ops)"
   ]
  },
  {
   "cell_type": "code",
   "execution_count": 23,
   "metadata": {},
   "outputs": [],
   "source": [
    "import pennylane as qml\n",
    "from jax import numpy as jnp\n",
    "\n",
    "# defining the coefficients fj(p, t) for the two parametrized terms\n",
    "f1 = lambda p, t: p * jnp.sin(t) * (t - 1)\n",
    "f2 = lambda p, t: p[0] * jnp.cos(p[1] * t**2)\n",
    "\n",
    "# defining the operations for the three terms in the Hamiltonian\n",
    "XX = qml.X(0) @ qml.X(1)\n",
    "YY = qml.Y(0) @ qml.Y(1)\n",
    "ZZ = qml.Z(0) @ qml.Z(1)"
   ]
  },
  {
   "cell_type": "code",
   "execution_count": 24,
   "metadata": {},
   "outputs": [],
   "source": [
    "# Option 1\n",
    "H1 = 2 * XX + f1 * YY + f2 * ZZ\n",
    "\n",
    "# Option 2\n",
    "coeffs = [2, f1, f2]\n",
    "ops = [XX, YY, ZZ]\n",
    "H2 = qml.dot(coeffs, ops)"
   ]
  },
  {
   "cell_type": "code",
   "execution_count": 25,
   "metadata": {},
   "outputs": [
    {
     "data": {
      "text/plain": [
       "(\n",
       "    2 * X(0) @ X(1)\n",
       "  + <lambda>(params_0, t) * Y(0) @ Y(1)\n",
       "  + <lambda>(params_1, t) * Z(0) @ Z(1)\n",
       ")"
      ]
     },
     "execution_count": 25,
     "metadata": {},
     "output_type": "execute_result"
    }
   ],
   "source": [
    "H1"
   ]
  },
  {
   "cell_type": "markdown",
   "metadata": {},
   "source": [
    "## PR 17\n",
    "\n",
    "https://github.com/PennyLaneAI/pennylane/pull/5039"
   ]
  },
  {
   "cell_type": "markdown",
   "metadata": {},
   "source": [
    "Tutto ok "
   ]
  },
  {
   "cell_type": "markdown",
   "metadata": {},
   "source": [
    "## PR 18\n",
    "\n",
    "https://github.com/PennyLaneAI/pennylane/pull/5218"
   ]
  },
  {
   "cell_type": "markdown",
   "metadata": {},
   "source": [
    "Tutto ok"
   ]
  },
  {
   "cell_type": "markdown",
   "metadata": {},
   "source": [
    "## PR 19\n",
    "\n",
    "https://github.com/PennyLaneAI/pennylane/pull/4857\n",
    "\n",
    "Questa mi sembra solo una cosa che toglie alcune dipendenze"
   ]
  },
  {
   "cell_type": "markdown",
   "metadata": {},
   "source": [
    "## PR 20\n",
    "\n",
    "https://github.com/PennyLaneAI/pennylane/pull/5155\n",
    "\n",
    "Questo is un bugfix. Risolve il problema in quanto:"
   ]
  },
  {
   "cell_type": "code",
   "execution_count": 16,
   "metadata": {},
   "outputs": [
    {
     "data": {
      "text/plain": [
       "<tf.Tensor: shape=(4,), dtype=float64, numpy=array([ 0.09469968,  0.01266057, -0.18701663,  0.3980241 ])>"
      ]
     },
     "execution_count": 16,
     "metadata": {},
     "output_type": "execute_result"
    }
   ],
   "source": [
    "import pennylane as qml\n",
    "from pennylane import numpy as np\n",
    "\n",
    "import tensorflow as tf\n",
    "\n",
    "nqbits = 4\n",
    "depth = 2\n",
    "\n",
    "dev = qml.device(\"default.mixed\", wires=nqbits)\n",
    "\n",
    "\n",
    "@qml.qnode(dev)\n",
    "def mitigated_qnode(inputs, weights):\n",
    "\n",
    "    qml.AmplitudeEmbedding(features=inputs, wires=range(nqbits), normalize=True)\n",
    "    qml.templates.StronglyEntanglingLayers(weights, wires=range(nqbits))\n",
    "\n",
    "    return [qml.expval(qml.PauliZ(wires=i)) for i in range(nqbits)]\n",
    "\n",
    "\n",
    "weight_shapes = {\"weights\": (depth, nqbits, 3)}\n",
    "qlayer = qml.qnn.KerasLayer(mitigated_qnode, weight_shapes, output_dim=nqbits)\n",
    "\n",
    "inputs = np.random.uniform(0, 1, size=(2**nqbits,), requires_grad=False)\n",
    "inputs = tf.convert_to_tensor(inputs)\n",
    "\n",
    "qlayer(inputs)"
   ]
  },
  {
   "cell_type": "code",
   "execution_count": null,
   "metadata": {},
   "outputs": [],
   "source": []
  }
 ],
 "metadata": {
  "kernelspec": {
   "display_name": "PennyLane",
   "language": "python",
   "name": "python3"
  },
  "language_info": {
   "codemirror_mode": {
    "name": "ipython",
    "version": 3
   },
   "file_extension": ".py",
   "mimetype": "text/x-python",
   "name": "python",
   "nbconvert_exporter": "python",
   "pygments_lexer": "ipython3",
   "version": "3.9.7"
  }
 },
 "nbformat": 4,
 "nbformat_minor": 2
}
