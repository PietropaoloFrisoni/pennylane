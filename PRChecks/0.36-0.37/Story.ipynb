{
 "cells": [
  {
   "cell_type": "markdown",
   "metadata": {},
   "source": [
    "# PR checks"
   ]
  },
  {
   "cell_type": "code",
   "execution_count": 1,
   "metadata": {},
   "outputs": [],
   "source": [
    "import pennylane as qml"
   ]
  },
  {
   "cell_type": "markdown",
   "metadata": {},
   "source": [
    "## PR 1\n",
    "\n",
    "https://github.com/PennyLaneAI/pennylane/pull/5348"
   ]
  },
  {
   "cell_type": "markdown",
   "metadata": {},
   "source": [
    "- Checking docstrings:"
   ]
  },
  {
   "cell_type": "code",
   "execution_count": 2,
   "metadata": {},
   "outputs": [],
   "source": [
    "dev = qml.device('default.qubit', wires=[0, 1, 2])"
   ]
  },
  {
   "cell_type": "code",
   "execution_count": 3,
   "metadata": {},
   "outputs": [],
   "source": [
    "@qml.compile                ### DEVE ESSERE AGGIUNTO IL DECORATORE @qml.compile\n",
    "@qml.qnode(device=dev)\n",
    "def circuit(x, y, z):\n",
    "    qml.Hadamard(wires=0)\n",
    "    qml.Hadamard(wires=1)\n",
    "    qml.Hadamard(wires=2)\n",
    "    qml.RZ(z, wires=2)\n",
    "    qml.CNOT(wires=[2, 1])\n",
    "    qml.RX(z, wires=0)\n",
    "    qml.CNOT(wires=[1, 0])\n",
    "    qml.RX(x, wires=0)\n",
    "    qml.CNOT(wires=[1, 0])\n",
    "    qml.RZ(-z, wires=2)\n",
    "    qml.RX(y, wires=2)\n",
    "    qml.Y(2)\n",
    "    qml.CY(wires=[1, 2])\n",
    "    return qml.expval(qml.Z(0))"
   ]
  },
  {
   "cell_type": "code",
   "execution_count": 4,
   "metadata": {},
   "outputs": [],
   "source": [
    "def qfunc(x, y, z):\n",
    "    qml.Hadamard(wires=0)\n",
    "    qml.Hadamard(wires=1)\n",
    "    qml.Hadamard(wires=2)\n",
    "    qml.RZ(z, wires=2)\n",
    "    qml.CNOT(wires=[2, 1])\n",
    "    qml.RX(z, wires=0)\n",
    "    qml.CNOT(wires=[1, 0])\n",
    "    qml.RX(x, wires=0)\n",
    "    qml.CNOT(wires=[1, 0])\n",
    "    qml.RZ(-z, wires=2)\n",
    "    qml.RX(y, wires=2)\n",
    "    qml.Y(2)\n",
    "    qml.CY(wires=[1, 2])\n",
    "    return qml.expval(qml.Z(0))"
   ]
  },
  {
   "cell_type": "code",
   "execution_count": 5,
   "metadata": {},
   "outputs": [
    {
     "name": "stdout",
     "output_type": "stream",
     "text": [
      "0: ──H──RX(0.40)────╭X──────────RX(0.20)─╭X────┤  <Z>\n",
      "1: ──H───────────╭X─╰●───────────────────╰●─╭●─┤     \n",
      "2: ──H──RZ(0.40)─╰●──RZ(-0.40)──RX(0.30)──Y─╰Y─┤     \n"
     ]
    }
   ],
   "source": [
    "qnode = qml.QNode(qfunc, dev)\n",
    "print(qml.draw(qnode)(0.2, 0.3, 0.4))"
   ]
  },
  {
   "cell_type": "code",
   "execution_count": 6,
   "metadata": {},
   "outputs": [
    {
     "name": "stdout",
     "output_type": "stream",
     "text": [
      "0: ──H──RX(0.60)─────────────────┤  <Z>\n",
      "1: ──H─╭X──────────────────╭●────┤     \n",
      "2: ──H─╰●─────────RX(0.30)─╰Y──Y─┤     \n"
     ]
    }
   ],
   "source": [
    "compiled_qnode = qml.compile(qnode)\n",
    "print(qml.draw(compiled_qnode)(0.2, 0.3, 0.4))"
   ]
  },
  {
   "cell_type": "code",
   "execution_count": 7,
   "metadata": {},
   "outputs": [
    {
     "name": "stdout",
     "output_type": "stream",
     "text": [
      "0: ──RZ(1.57)──RX(1.57)──RZ(1.57)──RX(0.60)─────────────────────────────────────────────────────\n",
      "1: ──RZ(1.57)──RX(1.57)──RZ(1.57)─╭X─────────RZ(1.57)─────────────────────────────────────────╭●\n",
      "2: ──RZ(1.57)──RX(1.57)──RZ(1.57)─╰●─────────RX(0.30)──RZ(1.57)──RY(3.14)──RZ(1.57)──RY(1.57)─╰X\n",
      "\n",
      "────────────────┤  <Z>\n",
      "─────────────╭●─┤     \n",
      "───RY(-1.57)─╰X─┤     \n"
     ]
    }
   ],
   "source": [
    "from functools import partial ### DEVE ESSERE AGGIUNTO\n",
    "\n",
    "compiled_qnode = qml.compile(\n",
    "    qnode,\n",
    "    pipeline=[\n",
    "        partial(qml.transforms.commute_controlled, direction=\"left\"),\n",
    "        partial(qml.transforms.merge_rotations, atol=1e-6),\n",
    "        qml.transforms.cancel_inverses\n",
    "    ],\n",
    "    basis_set=[\"CNOT\", \"RX\", \"RY\", \"RZ\"],\n",
    "    num_passes=2\n",
    ")\n",
    "\n",
    "print(qml.draw(compiled_qnode)(0.2, 0.3, 0.4))"
   ]
  },
  {
   "cell_type": "markdown",
   "metadata": {},
   "source": [
    "Due cambiamenti da apportare. Da notare che quel coglione ha linkato la doc stable, ma bisogna guardare la 'latest'"
   ]
  },
  {
   "cell_type": "markdown",
   "metadata": {},
   "source": [
    "## PR 2\n",
    "\n",
    "https://github.com/PennyLaneAI/pennylane/pull/5339"
   ]
  },
  {
   "cell_type": "markdown",
   "metadata": {},
   "source": [
    "Questa is una rimozione from deprecation and removal, quindi penso sia tutto a posto"
   ]
  },
  {
   "cell_type": "markdown",
   "metadata": {},
   "source": [
    "## PR 3\n",
    "\n",
    "https://github.com/PennyLaneAI/pennylane/pull/5347"
   ]
  },
  {
   "cell_type": "code",
   "execution_count": 8,
   "metadata": {},
   "outputs": [
    {
     "data": {
      "text/plain": [
       "Evolution(-2j PauliX)"
      ]
     },
     "execution_count": 8,
     "metadata": {},
     "output_type": "execute_result"
    }
   ],
   "source": [
    "op = qml.evolve(qml.X(0), coeff=2)\n",
    "op"
   ]
  },
  {
   "cell_type": "code",
   "execution_count": 9,
   "metadata": {},
   "outputs": [],
   "source": [
    "coeffs = [lambda p, t: p * t for _ in range(4)]\n",
    "ops = [qml.X(i) for i in range(4)]\n",
    "\n",
    "# ParametrizedHamiltonian\n",
    "H = qml.dot(coeffs, ops)\n",
    "\n",
    "# ParametrizedEvolution\n",
    "ev = qml.evolve(H)"
   ]
  },
  {
   "cell_type": "code",
   "execution_count": 10,
   "metadata": {},
   "outputs": [
    {
     "data": {
      "text/plain": [
       "ParametrizedEvolution(wires=[0, 1, 2, 3])"
      ]
     },
     "execution_count": 10,
     "metadata": {},
     "output_type": "execute_result"
    }
   ],
   "source": [
    "ev"
   ]
  },
  {
   "cell_type": "code",
   "execution_count": 11,
   "metadata": {},
   "outputs": [
    {
     "data": {
      "text/plain": [
       "Array([[ 0.04929843+0.j        ,  0.        -0.03258221j,\n",
       "         0.        +0.10526j   ,  0.06956796+0.j        ,\n",
       "         0.        -0.01481935j, -0.00979378+0.j        ,\n",
       "         0.03164092+0.j        ,  0.        -0.02091208j,\n",
       "         0.        +0.33525273j,  0.22157252+0.j        ,\n",
       "        -0.7158268 +0.j        ,  0.        +0.4730951j ,\n",
       "         0.10077609+0.j        ,  0.        -0.06660434j,\n",
       "         0.        +0.21517362j,  0.14221084+0.j        ],\n",
       "       [ 0.        -0.03258221j,  0.04929843+0.j        ,\n",
       "         0.06956796+0.j        ,  0.        +0.10526j   ,\n",
       "        -0.00979378+0.j        ,  0.        -0.01481935j,\n",
       "         0.        -0.02091208j,  0.03164092+0.j        ,\n",
       "         0.22157252+0.j        ,  0.        +0.33525273j,\n",
       "         0.        +0.4730951j , -0.7158268 +0.j        ,\n",
       "         0.        -0.06660434j,  0.10077609+0.j        ,\n",
       "         0.14221084+0.j        ,  0.        +0.21517362j],\n",
       "       [ 0.        +0.10526j   ,  0.06956796+0.j        ,\n",
       "         0.04929843+0.j        ,  0.        -0.03258221j,\n",
       "         0.03164092+0.j        ,  0.        -0.02091208j,\n",
       "         0.        -0.01481935j, -0.00979378+0.j        ,\n",
       "        -0.7158268 +0.j        ,  0.        +0.4730951j ,\n",
       "         0.        +0.33525273j,  0.22157252+0.j        ,\n",
       "         0.        +0.21517362j,  0.14221084+0.j        ,\n",
       "         0.10077609+0.j        ,  0.        -0.06660434j],\n",
       "       [ 0.06956796+0.j        ,  0.        +0.10526j   ,\n",
       "         0.        -0.03258221j,  0.04929843+0.j        ,\n",
       "         0.        -0.02091208j,  0.03164092+0.j        ,\n",
       "        -0.00979378+0.j        ,  0.        -0.01481935j,\n",
       "         0.        +0.4730951j , -0.7158268 +0.j        ,\n",
       "         0.22157252+0.j        ,  0.        +0.33525273j,\n",
       "         0.14221084+0.j        ,  0.        +0.21517362j,\n",
       "         0.        -0.06660434j,  0.10077609+0.j        ],\n",
       "       [ 0.        -0.01481935j, -0.00979378+0.j        ,\n",
       "         0.03164092+0.j        ,  0.        -0.02091208j,\n",
       "         0.04929843+0.j        ,  0.        -0.03258221j,\n",
       "         0.        +0.10526j   ,  0.06956796+0.j        ,\n",
       "         0.10077609+0.j        ,  0.        -0.06660434j,\n",
       "         0.        +0.21517362j,  0.14221084+0.j        ,\n",
       "         0.        +0.33525273j,  0.22157252+0.j        ,\n",
       "        -0.7158268 +0.j        ,  0.        +0.4730951j ],\n",
       "       [-0.00979378+0.j        ,  0.        -0.01481935j,\n",
       "         0.        -0.02091208j,  0.03164092+0.j        ,\n",
       "         0.        -0.03258221j,  0.04929843+0.j        ,\n",
       "         0.06956796+0.j        ,  0.        +0.10526j   ,\n",
       "         0.        -0.06660434j,  0.10077609+0.j        ,\n",
       "         0.14221084+0.j        ,  0.        +0.21517362j,\n",
       "         0.22157252+0.j        ,  0.        +0.33525273j,\n",
       "         0.        +0.4730951j , -0.7158268 +0.j        ],\n",
       "       [ 0.03164092+0.j        ,  0.        -0.02091208j,\n",
       "         0.        -0.01481935j, -0.00979378+0.j        ,\n",
       "         0.        +0.10526j   ,  0.06956796+0.j        ,\n",
       "         0.04929843+0.j        ,  0.        -0.03258221j,\n",
       "         0.        +0.21517362j,  0.14221084+0.j        ,\n",
       "         0.10077609+0.j        ,  0.        -0.06660434j,\n",
       "        -0.7158268 +0.j        ,  0.        +0.4730951j ,\n",
       "         0.        +0.33525273j,  0.22157252+0.j        ],\n",
       "       [ 0.        -0.02091208j,  0.03164092+0.j        ,\n",
       "        -0.00979378+0.j        ,  0.        -0.01481935j,\n",
       "         0.06956796+0.j        ,  0.        +0.10526j   ,\n",
       "         0.        -0.03258221j,  0.04929843+0.j        ,\n",
       "         0.14221084+0.j        ,  0.        +0.21517362j,\n",
       "         0.        -0.06660434j,  0.10077609+0.j        ,\n",
       "         0.        +0.4730951j , -0.7158268 +0.j        ,\n",
       "         0.22157252+0.j        ,  0.        +0.33525273j],\n",
       "       [ 0.        +0.33525273j,  0.22157252+0.j        ,\n",
       "        -0.7158268 +0.j        ,  0.        +0.4730951j ,\n",
       "         0.10077609+0.j        ,  0.        -0.06660434j,\n",
       "         0.        +0.21517362j,  0.14221084+0.j        ,\n",
       "         0.04929843+0.j        ,  0.        -0.03258221j,\n",
       "         0.        +0.10526j   ,  0.06956796+0.j        ,\n",
       "         0.        -0.01481935j, -0.00979378+0.j        ,\n",
       "         0.03164092+0.j        ,  0.        -0.02091208j],\n",
       "       [ 0.22157252+0.j        ,  0.        +0.33525273j,\n",
       "         0.        +0.4730951j , -0.7158268 +0.j        ,\n",
       "         0.        -0.06660434j,  0.10077609+0.j        ,\n",
       "         0.14221084+0.j        ,  0.        +0.21517362j,\n",
       "         0.        -0.03258221j,  0.04929843+0.j        ,\n",
       "         0.06956796+0.j        ,  0.        +0.10526j   ,\n",
       "        -0.00979378+0.j        ,  0.        -0.01481935j,\n",
       "         0.        -0.02091208j,  0.03164092+0.j        ],\n",
       "       [-0.7158268 +0.j        ,  0.        +0.4730951j ,\n",
       "         0.        +0.33525273j,  0.22157252+0.j        ,\n",
       "         0.        +0.21517362j,  0.14221084+0.j        ,\n",
       "         0.10077609+0.j        ,  0.        -0.06660434j,\n",
       "         0.        +0.10526j   ,  0.06956796+0.j        ,\n",
       "         0.04929843+0.j        ,  0.        -0.03258221j,\n",
       "         0.03164092+0.j        ,  0.        -0.02091208j,\n",
       "         0.        -0.01481935j, -0.00979378+0.j        ],\n",
       "       [ 0.        +0.4730951j , -0.7158268 +0.j        ,\n",
       "         0.22157252+0.j        ,  0.        +0.33525273j,\n",
       "         0.14221084+0.j        ,  0.        +0.21517362j,\n",
       "         0.        -0.06660434j,  0.10077609+0.j        ,\n",
       "         0.06956796+0.j        ,  0.        +0.10526j   ,\n",
       "         0.        -0.03258221j,  0.04929843+0.j        ,\n",
       "         0.        -0.02091208j,  0.03164092+0.j        ,\n",
       "        -0.00979378+0.j        ,  0.        -0.01481935j],\n",
       "       [ 0.10077609+0.j        ,  0.        -0.06660434j,\n",
       "         0.        +0.21517362j,  0.14221084+0.j        ,\n",
       "         0.        +0.33525273j,  0.22157252+0.j        ,\n",
       "        -0.7158268 +0.j        ,  0.        +0.4730951j ,\n",
       "         0.        -0.01481935j, -0.00979378+0.j        ,\n",
       "         0.03164092+0.j        ,  0.        -0.02091208j,\n",
       "         0.04929843+0.j        ,  0.        -0.03258221j,\n",
       "         0.        +0.10526j   ,  0.06956796+0.j        ],\n",
       "       [ 0.        -0.06660434j,  0.10077609+0.j        ,\n",
       "         0.14221084+0.j        ,  0.        +0.21517362j,\n",
       "         0.22157252+0.j        ,  0.        +0.33525273j,\n",
       "         0.        +0.4730951j , -0.7158268 +0.j        ,\n",
       "        -0.00979378+0.j        ,  0.        -0.01481935j,\n",
       "         0.        -0.02091208j,  0.03164092+0.j        ,\n",
       "         0.        -0.03258221j,  0.04929843+0.j        ,\n",
       "         0.06956796+0.j        ,  0.        +0.10526j   ],\n",
       "       [ 0.        +0.21517362j,  0.14221084+0.j        ,\n",
       "         0.10077609+0.j        ,  0.        -0.06660434j,\n",
       "        -0.7158268 +0.j        ,  0.        +0.4730951j ,\n",
       "         0.        +0.33525273j,  0.22157252+0.j        ,\n",
       "         0.03164092+0.j        ,  0.        -0.02091208j,\n",
       "         0.        -0.01481935j, -0.00979378+0.j        ,\n",
       "         0.        +0.10526j   ,  0.06956796+0.j        ,\n",
       "         0.04929843+0.j        ,  0.        -0.03258221j],\n",
       "       [ 0.14221084+0.j        ,  0.        +0.21517362j,\n",
       "         0.        -0.06660434j,  0.10077609+0.j        ,\n",
       "         0.        +0.4730951j , -0.7158268 +0.j        ,\n",
       "         0.22157252+0.j        ,  0.        +0.33525273j,\n",
       "         0.        -0.02091208j,  0.03164092+0.j        ,\n",
       "        -0.00979378+0.j        ,  0.        -0.01481935j,\n",
       "         0.06956796+0.j        ,  0.        +0.10526j   ,\n",
       "         0.        -0.03258221j,  0.04929843+0.j        ]],      dtype=complex64)"
      ]
     },
     "execution_count": 11,
     "metadata": {},
     "output_type": "execute_result"
    }
   ],
   "source": [
    "qml.matrix(ev([1., 2., 3., 4.], t=[0, 4]))"
   ]
  },
  {
   "cell_type": "code",
   "execution_count": 12,
   "metadata": {},
   "outputs": [],
   "source": [
    "import jax\n",
    "\n",
    "dev = qml.device(\"default.qubit.jax\", wires=4)\n",
    "@jax.jit\n",
    "@qml.qnode(dev, interface=\"jax\")\n",
    "def circuit(params):\n",
    "    qml.evolve(H)(params, t=[0, 10])\n",
    "    return qml.expval(qml.Z(0))"
   ]
  },
  {
   "cell_type": "code",
   "execution_count": 13,
   "metadata": {},
   "outputs": [
    {
     "data": {
      "text/plain": [
       "Array(0.8609962, dtype=float32)"
      ]
     },
     "execution_count": 13,
     "metadata": {},
     "output_type": "execute_result"
    }
   ],
   "source": [
    "params = [1., 2., 3., 4.]\n",
    "circuit(params)"
   ]
  },
  {
   "cell_type": "code",
   "execution_count": 14,
   "metadata": {},
   "outputs": [
    {
     "data": {
      "text/plain": [
       "[Array(50.85762, dtype=float32),\n",
       " Array(-5.347459e-05, dtype=float32),\n",
       " Array(-9.281231e-05, dtype=float32),\n",
       " Array(-0.00013054, dtype=float32)]"
      ]
     },
     "execution_count": 14,
     "metadata": {},
     "output_type": "execute_result"
    }
   ],
   "source": [
    "jax.grad(circuit)(params)"
   ]
  },
  {
   "cell_type": "markdown",
   "metadata": {},
   "source": [
    "## PR 4\n",
    "\n",
    "https://github.com/PennyLaneAI/pennylane/pull/5430/files"
   ]
  },
  {
   "cell_type": "markdown",
   "metadata": {},
   "source": [
    "## PR 5\n",
    "\n",
    "https://github.com/PennyLaneAI/pennylane/pull/5422"
   ]
  },
  {
   "cell_type": "code",
   "execution_count": 16,
   "metadata": {},
   "outputs": [],
   "source": [
    "import jax\n",
    "\n",
    "jax.config.update(\"jax_enable_x64\", True)\n",
    "\n",
    "dev = qml.device(\"default.qubit\", wires=2, shots=100)\n",
    "\n",
    "@qml.qnode(dev, interface=\"jax\")\n",
    "def circuit(x):\n",
    "    qml.RX(x, wires=0)\n",
    "    return qml.sample(qml.PauliX(0) @ qml.PauliY(1))\n",
    "\n",
    "results = jax.jit(circuit)(jax.numpy.array(0.123, dtype=jax.numpy.float64))\n",
    "\n",
    "import jax\n",
    "\n",
    "jax.config.update(\"jax_enable_x64\", True)\n",
    "\n",
    "dev = qml.device(\"default.qubit\", wires=2, shots=100)\n",
    "\n",
    "@qml.qnode(dev, interface=\"jax\")\n",
    "def circuit(x):\n",
    "    qml.RX(x, wires=0)\n",
    "    return qml.sample(qml.PauliX(0) @ qml.PauliY(1))\n",
    "\n",
    "results = jax.jit(circuit)(jax.numpy.array(0.123, dtype=jax.numpy.float64))"
   ]
  },
  {
   "cell_type": "markdown",
   "metadata": {},
   "source": [
    "## PR 6\n",
    "\n",
    "https://github.com/PennyLaneAI/pennylane/pull/5459"
   ]
  },
  {
   "cell_type": "markdown",
   "metadata": {},
   "source": [
    "## PR 7\n",
    "\n",
    "https://github.com/PennyLaneAI/pennylane/pull/5441"
   ]
  },
  {
   "cell_type": "code",
   "execution_count": 17,
   "metadata": {},
   "outputs": [],
   "source": [
    "dev = qml.device(\"default.qubit\")\n",
    "\n",
    "@qml.qnode(dev)\n",
    "def circuit(x, y):\n",
    "    qml.RX(x, wires=0)\n",
    "    qml.RY(y, wires=1)\n",
    "    m0 = qml.measure(1)\n",
    "    return (\n",
    "        qml.sample(m0), qml.expval(m0), qml.var(m0), qml.probs(op=m0), qml.counts(op=m0),\n",
    "    )"
   ]
  },
  {
   "cell_type": "code",
   "execution_count": 18,
   "metadata": {},
   "outputs": [
    {
     "data": {
      "text/plain": [
       "(array([1, 1, 0, 1, 1, 1, 1, 0, 1, 0, 1, 0, 1, 1, 0, 0, 1, 1, 1, 1, 1, 0,\n",
       "        0, 1, 0, 1, 1, 1, 1, 1, 1, 0, 1, 1, 1, 1, 1, 1, 0, 1, 0, 1, 1, 1,\n",
       "        1, 0, 1, 1, 0, 0, 1, 1, 0, 0, 1, 1, 1, 1, 1, 1, 1, 1, 0, 1, 1, 1,\n",
       "        1, 1, 1, 1, 1, 1, 1, 0, 1, 0, 1, 0, 1, 0, 0, 0, 1, 1, 1, 1, 1, 1,\n",
       "        1, 0, 1, 1, 1, 1, 1, 1, 1, 1, 1, 1, 1, 1, 1, 1, 1, 1, 1, 1, 0, 1,\n",
       "        0, 0, 1, 0, 1, 1, 1, 0, 1, 1, 1, 1, 1, 1, 0, 1, 1, 1, 0, 0, 0, 1,\n",
       "        1, 1, 1, 0, 1, 1, 0, 1, 0, 1, 1, 1, 1, 1, 0, 1, 1, 1, 1, 0, 1, 0,\n",
       "        0, 1, 1, 1, 1, 1, 1, 0, 1, 1, 1, 0, 1, 1, 0, 1, 1, 0, 1, 1, 1, 1,\n",
       "        1, 1, 1, 0, 1, 1, 1, 1, 1, 1, 1, 1, 1, 0, 1, 1, 1, 0, 1, 0, 1, 0,\n",
       "        1, 1, 1, 1, 1, 0, 0, 1, 1, 1, 1, 0, 1, 0, 0, 1, 0, 1, 1, 1, 1, 1,\n",
       "        1, 1, 1, 0, 1, 0, 1, 0, 1, 0, 1, 1, 1, 1, 0, 1, 1, 0, 0, 0, 1, 1,\n",
       "        0, 1, 1, 1, 1, 1, 1, 1, 1, 1, 1, 0, 1, 1, 1, 1, 0, 1, 1, 1, 0, 1,\n",
       "        0, 1, 1, 1, 0, 0, 1, 1, 0, 0, 1, 1, 1, 1, 0, 0, 0, 1, 0, 0, 0, 1,\n",
       "        1, 0, 1, 0, 1, 1, 1, 1, 0, 1, 0, 1, 1, 1, 1, 1, 1, 1, 0, 1, 0, 1,\n",
       "        0, 1, 1, 0, 1, 0, 1, 0, 0, 0, 1, 1, 1, 0, 1, 1, 0, 1, 1, 1, 1, 1,\n",
       "        1, 1, 1, 1, 1, 1, 1, 1, 1, 1, 1, 1, 1, 0, 1, 1, 0, 1, 1, 1, 0, 1,\n",
       "        1, 0, 1, 0, 0, 1, 1, 1, 0, 1, 0, 0, 1, 1, 1, 1, 0, 0, 1, 1, 1, 1,\n",
       "        1, 0, 0, 1, 1, 1, 1, 0, 0, 1, 0, 1, 0, 1, 1, 0, 1, 1, 1, 0, 0, 1,\n",
       "        0, 1, 1, 1, 1, 1, 0, 1, 1, 0, 1, 1, 1, 0, 1, 1, 1, 0, 0, 1, 1, 1,\n",
       "        1, 1, 1, 1, 1, 0, 0, 0, 0, 1, 1, 0, 1, 1, 0, 0, 1, 1, 1, 0, 1, 0,\n",
       "        1, 1, 0, 1, 1, 1, 1, 1, 1, 1, 1, 0, 0, 0, 0, 1, 1, 1, 1, 1, 1, 1,\n",
       "        1, 1, 1, 1, 0, 1, 1, 1, 1, 1, 1, 1, 0, 1, 1, 0, 0, 1, 0, 1, 0, 0,\n",
       "        0, 1, 1, 0, 1, 0, 1, 0, 1, 1, 0, 1, 0, 1, 1, 1, 1, 0, 1, 1, 1, 1,\n",
       "        1, 1, 1, 0, 1, 1, 1, 0, 1, 0, 1, 1, 1, 1, 1, 1, 1, 1, 0, 1, 1, 1,\n",
       "        1, 1, 0, 1, 1, 0, 1, 1, 1, 0, 1, 0, 1, 1, 1, 1, 1, 1, 0, 1, 1, 1,\n",
       "        1, 0, 1, 1, 1, 0, 1, 0, 0, 1, 1, 1, 0, 1, 1, 0, 1, 1, 0, 0, 1, 1,\n",
       "        1, 1, 1, 1, 1, 1, 0, 1, 0, 1, 1, 1, 0, 1, 1, 0, 0, 1, 0, 0, 0, 1,\n",
       "        0, 0, 1, 1, 0, 1, 1, 1, 1, 0, 0, 1, 1, 1, 0, 0, 1, 0, 1, 1, 1, 0,\n",
       "        1, 1, 1, 1, 1, 1, 1, 1, 1, 1, 1, 1, 1, 0, 1, 1, 1, 1, 1, 0, 1, 1,\n",
       "        0, 1, 1, 1, 0, 1, 1, 1, 1, 1, 1, 1, 0, 1, 1, 0, 0, 1, 0, 1, 0, 0,\n",
       "        1, 1, 1, 1, 1, 1, 1, 0, 1, 0, 0, 0, 0, 1, 1, 0, 0, 1, 1, 1, 0, 1,\n",
       "        1, 1, 1, 1, 1, 1, 1, 1, 1, 0, 1, 1, 1, 0, 1, 1, 0, 1, 1, 0, 1, 1,\n",
       "        1, 1, 0, 1, 0, 1, 0, 1, 1, 0, 0, 1, 1, 0, 1, 0, 1, 1, 1, 1, 1, 1,\n",
       "        1, 0, 0, 1, 1, 1, 0, 0, 1, 1, 0, 0, 1, 1, 1, 0, 1, 0, 1, 1, 1, 1,\n",
       "        1, 0, 1, 1, 1, 0, 1, 0, 1, 1, 0, 1, 1, 1, 1, 1, 0, 0, 0, 1, 0, 1,\n",
       "        1, 1, 1, 0, 0, 1, 1, 1, 0, 1, 0, 1, 1, 1, 0, 0, 1, 0, 1, 1, 0, 1,\n",
       "        0, 1, 1, 1, 1, 1, 0, 1, 1, 0, 1, 0, 1, 1, 1, 1, 1, 1, 0, 1, 1, 1,\n",
       "        0, 0, 0, 1, 0, 1, 0, 1, 1, 1, 1, 1, 1, 0, 0, 0, 1, 1, 1, 1, 1, 1,\n",
       "        0, 1, 1, 1, 1, 1, 1, 1, 1, 1, 0, 0, 1, 0, 1, 0, 1, 1, 1, 1, 1, 0,\n",
       "        1, 0, 1, 0, 1, 0, 0, 1, 1, 0, 1, 1, 1, 1, 1, 1, 1, 1, 1, 1, 1, 0,\n",
       "        1, 1, 1, 1, 1, 1, 1, 0, 1, 1, 1, 1, 1, 0, 0, 1, 1, 1, 1, 1, 1, 0,\n",
       "        1, 1, 0, 1, 0, 0, 0, 1, 1, 1, 1, 1, 1, 1, 1, 1, 1, 1, 1, 1, 1, 1,\n",
       "        1, 1, 1, 1, 1, 1, 1, 1, 1, 0, 1, 0, 0, 1, 1, 1, 1, 1, 1, 1, 1, 1,\n",
       "        0, 0, 0, 1, 1, 1, 1, 0, 1, 1, 1, 1, 0, 1, 0, 1, 1, 1, 1, 0, 1, 1,\n",
       "        1, 1, 1, 0, 1, 1, 1, 1, 1, 0, 1, 1, 1, 0, 0, 1, 1, 1, 1, 1, 1, 0,\n",
       "        1, 1, 0, 0, 0, 1, 1, 1, 1, 1]),\n",
       " 0.715,\n",
       " 0.20377499999999998,\n",
       " array([0.285, 0.715]),\n",
       " {0: 285, 1: 715})"
      ]
     },
     "execution_count": 18,
     "metadata": {},
     "output_type": "execute_result"
    }
   ],
   "source": [
    "circuit(1.0, 2.0, shots=1000)"
   ]
  },
  {
   "cell_type": "markdown",
   "metadata": {},
   "source": [
    "## PR 8\n",
    "\n",
    "https://github.com/PennyLaneAI/pennylane/pull/5455"
   ]
  },
  {
   "cell_type": "markdown",
   "metadata": {},
   "source": [
    "Modifica da fare al changelog"
   ]
  },
  {
   "cell_type": "markdown",
   "metadata": {},
   "source": [
    "## PR 9\n",
    "\n",
    "https://github.com/PennyLaneAI/pennylane/pull/"
   ]
  },
  {
   "cell_type": "code",
   "execution_count": 19,
   "metadata": {},
   "outputs": [
    {
     "name": "stdout",
     "output_type": "stream",
     "text": [
      "<class 'pennylane.numpy.tensor.tensor'>\n",
      "<class 'pennylane.numpy.tensor.tensor'>\n",
      "<class 'pennylane.numpy.tensor.tensor'>\n"
     ]
    }
   ],
   "source": [
    "import pennylane as qml\n",
    "from pennylane import numpy as np\n",
    "\n",
    "dev = qml.device(\"default.qubit\")\n",
    "@qml.qnode(dev)\n",
    "def cost(params):\n",
    "    qml.RX(params[0], wires=0)\n",
    "    qml.CRY(params[1], wires=[0, 1])\n",
    "    return qml.expval(qml.Z(0) @ qml.Z(1))\n",
    "\n",
    "params = np.random.rand(2)\n",
    "opt = qml.QNSPSAOptimizer(stepsize=5e-2)\n",
    "\n",
    "for _ in range(3):\n",
    "    print(type(params))\n",
    "    params, loss = opt.step_and_cost(cost, params)\n",
    "    #params = np.array(params) # this fixes the error"
   ]
  },
  {
   "cell_type": "markdown",
   "metadata": {},
   "source": [
    "## PR 10\n",
    "\n",
    "https://github.com/PennyLaneAI/pennylane/pull/5450"
   ]
  },
  {
   "cell_type": "markdown",
   "metadata": {},
   "source": []
  }
 ],
 "metadata": {
  "kernelspec": {
   "display_name": "PennyLane",
   "language": "python",
   "name": "python3"
  },
  "language_info": {
   "codemirror_mode": {
    "name": "ipython",
    "version": 3
   },
   "file_extension": ".py",
   "mimetype": "text/x-python",
   "name": "python",
   "nbconvert_exporter": "python",
   "pygments_lexer": "ipython3",
   "version": "3.9.7"
  }
 },
 "nbformat": 4,
 "nbformat_minor": 2
}
