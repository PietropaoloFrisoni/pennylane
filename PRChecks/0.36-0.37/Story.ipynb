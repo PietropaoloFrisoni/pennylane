{
 "cells": [
  {
   "cell_type": "markdown",
   "metadata": {},
   "source": [
    "# PR checks"
   ]
  },
  {
   "cell_type": "code",
   "execution_count": 1,
   "metadata": {},
   "outputs": [],
   "source": [
    "import pennylane as qml"
   ]
  },
  {
   "cell_type": "markdown",
   "metadata": {},
   "source": [
    "## PR 1\n",
    "\n",
    "https://github.com/PennyLaneAI/pennylane/pull/5348"
   ]
  },
  {
   "cell_type": "code",
   "execution_count": 2,
   "metadata": {},
   "outputs": [],
   "source": [
    "dev = qml.device('default.qubit', wires=[0, 1, 2])"
   ]
  },
  {
   "cell_type": "code",
   "execution_count": 4,
   "metadata": {},
   "outputs": [],
   "source": [
    "@qml.compile                ### DEVE ESSERE AGGIUNTO IL DECORATORE @qml.compile\n",
    "@qml.qnode(device=dev)\n",
    "def circuit(x, y, z):\n",
    "    qml.Hadamard(wires=0)\n",
    "    qml.Hadamard(wires=1)\n",
    "    qml.Hadamard(wires=2)\n",
    "    qml.RZ(z, wires=2)\n",
    "    qml.CNOT(wires=[2, 1])\n",
    "    qml.RX(z, wires=0)\n",
    "    qml.CNOT(wires=[1, 0])\n",
    "    qml.RX(x, wires=0)\n",
    "    qml.CNOT(wires=[1, 0])\n",
    "    qml.RZ(-z, wires=2)\n",
    "    qml.RX(y, wires=2)\n",
    "    qml.Y(2)\n",
    "    qml.CY(wires=[1, 2])\n",
    "    return qml.expval(qml.Z(0))"
   ]
  },
  {
   "cell_type": "code",
   "execution_count": 5,
   "metadata": {},
   "outputs": [],
   "source": [
    "def qfunc(x, y, z):\n",
    "    qml.Hadamard(wires=0)\n",
    "    qml.Hadamard(wires=1)\n",
    "    qml.Hadamard(wires=2)\n",
    "    qml.RZ(z, wires=2)\n",
    "    qml.CNOT(wires=[2, 1])\n",
    "    qml.RX(z, wires=0)\n",
    "    qml.CNOT(wires=[1, 0])\n",
    "    qml.RX(x, wires=0)\n",
    "    qml.CNOT(wires=[1, 0])\n",
    "    qml.RZ(-z, wires=2)\n",
    "    qml.RX(y, wires=2)\n",
    "    qml.Y(2)\n",
    "    qml.CY(wires=[1, 2])\n",
    "    return qml.expval(qml.Z(0))"
   ]
  },
  {
   "cell_type": "code",
   "execution_count": 6,
   "metadata": {},
   "outputs": [
    {
     "name": "stdout",
     "output_type": "stream",
     "text": [
      "0: ──H──RX(0.40)────╭X──────────RX(0.20)─╭X────┤  <Z>\n",
      "1: ──H───────────╭X─╰●───────────────────╰●─╭●─┤     \n",
      "2: ──H──RZ(0.40)─╰●──RZ(-0.40)──RX(0.30)──Y─╰Y─┤     \n"
     ]
    }
   ],
   "source": [
    "qnode = qml.QNode(qfunc, dev)\n",
    "print(qml.draw(qnode)(0.2, 0.3, 0.4))"
   ]
  },
  {
   "cell_type": "code",
   "execution_count": 7,
   "metadata": {},
   "outputs": [
    {
     "name": "stdout",
     "output_type": "stream",
     "text": [
      "0: ──H──RX(0.60)─────────────────┤  <Z>\n",
      "1: ──H─╭X──────────────────╭●────┤     \n",
      "2: ──H─╰●─────────RX(0.30)─╰Y──Y─┤     \n"
     ]
    }
   ],
   "source": [
    "compiled_qnode = qml.compile(qnode)\n",
    "print(qml.draw(compiled_qnode)(0.2, 0.3, 0.4))"
   ]
  },
  {
   "cell_type": "code",
   "execution_count": 8,
   "metadata": {},
   "outputs": [
    {
     "name": "stdout",
     "output_type": "stream",
     "text": [
      "0: ──RZ(1.57)──RX(1.57)──RZ(1.57)──RX(0.60)─────────────────────────────────────────────────────\n",
      "1: ──RZ(1.57)──RX(1.57)──RZ(1.57)─╭X─────────RZ(1.57)─────────────────────────────────────────╭●\n",
      "2: ──RZ(1.57)──RX(1.57)──RZ(1.57)─╰●─────────RX(0.30)──RZ(1.57)──RY(3.14)──RZ(1.57)──RY(1.57)─╰X\n",
      "\n",
      "────────────────┤  <Z>\n",
      "─────────────╭●─┤     \n",
      "───RY(-1.57)─╰X─┤     \n"
     ]
    }
   ],
   "source": [
    "from functools import partial ### DEVE ESSERE AGGIUNTO\n",
    "\n",
    "compiled_qnode = qml.compile(\n",
    "    qnode,\n",
    "    pipeline=[\n",
    "        partial(qml.transforms.commute_controlled, direction=\"left\"),\n",
    "        partial(qml.transforms.merge_rotations, atol=1e-6),\n",
    "        qml.transforms.cancel_inverses\n",
    "    ],\n",
    "    basis_set=[\"CNOT\", \"RX\", \"RY\", \"RZ\"],\n",
    "    num_passes=2\n",
    ")\n",
    "\n",
    "print(qml.draw(compiled_qnode)(0.2, 0.3, 0.4))"
   ]
  },
  {
   "cell_type": "markdown",
   "metadata": {},
   "source": [
    "Due cambiamenti da apportare. Da notare che quel coglione ha linkato la doc stable, ma bisogna guardare la 'latest'"
   ]
  },
  {
   "cell_type": "markdown",
   "metadata": {},
   "source": [
    "## PR 2\n",
    "\n",
    "https://github.com/PennyLaneAI/pennylane/pull/5339"
   ]
  },
  {
   "cell_type": "markdown",
   "metadata": {},
   "source": [
    "Questa is una rimozione from deprecation and removal, quindi penso sia tutto a posto"
   ]
  },
  {
   "cell_type": "markdown",
   "metadata": {},
   "source": [
    "## PR 3\n",
    "\n",
    "https://github.com/PennyLaneAI/pennylane/pull/5347"
   ]
  },
  {
   "cell_type": "code",
   "execution_count": 8,
   "metadata": {},
   "outputs": [
    {
     "data": {
      "text/plain": [
       "Evolution(-2j PauliX)"
      ]
     },
     "execution_count": 8,
     "metadata": {},
     "output_type": "execute_result"
    }
   ],
   "source": [
    "op = qml.evolve(qml.X(0), coeff=2)\n",
    "op"
   ]
  },
  {
   "cell_type": "code",
   "execution_count": 9,
   "metadata": {},
   "outputs": [],
   "source": [
    "coeffs = [lambda p, t: p * t for _ in range(4)]\n",
    "ops = [qml.X(i) for i in range(4)]\n",
    "\n",
    "# ParametrizedHamiltonian\n",
    "H = qml.dot(coeffs, ops)\n",
    "\n",
    "# ParametrizedEvolution\n",
    "ev = qml.evolve(H)"
   ]
  },
  {
   "cell_type": "code",
   "execution_count": 10,
   "metadata": {},
   "outputs": [
    {
     "data": {
      "text/plain": [
       "ParametrizedEvolution(wires=[0, 1, 2, 3])"
      ]
     },
     "execution_count": 10,
     "metadata": {},
     "output_type": "execute_result"
    }
   ],
   "source": [
    "ev"
   ]
  },
  {
   "cell_type": "code",
   "execution_count": 11,
   "metadata": {},
   "outputs": [
    {
     "data": {
      "text/plain": [
       "Array([[ 0.04929843+0.j        ,  0.        -0.03258221j,\n",
       "         0.        +0.10526j   ,  0.06956796+0.j        ,\n",
       "         0.        -0.01481935j, -0.00979378+0.j        ,\n",
       "         0.03164092+0.j        ,  0.        -0.02091208j,\n",
       "         0.        +0.33525273j,  0.22157252+0.j        ,\n",
       "        -0.7158268 +0.j        ,  0.        +0.4730951j ,\n",
       "         0.10077609+0.j        ,  0.        -0.06660434j,\n",
       "         0.        +0.21517362j,  0.14221084+0.j        ],\n",
       "       [ 0.        -0.03258221j,  0.04929843+0.j        ,\n",
       "         0.06956796+0.j        ,  0.        +0.10526j   ,\n",
       "        -0.00979378+0.j        ,  0.        -0.01481935j,\n",
       "         0.        -0.02091208j,  0.03164092+0.j        ,\n",
       "         0.22157252+0.j        ,  0.        +0.33525273j,\n",
       "         0.        +0.4730951j , -0.7158268 +0.j        ,\n",
       "         0.        -0.06660434j,  0.10077609+0.j        ,\n",
       "         0.14221084+0.j        ,  0.        +0.21517362j],\n",
       "       [ 0.        +0.10526j   ,  0.06956796+0.j        ,\n",
       "         0.04929843+0.j        ,  0.        -0.03258221j,\n",
       "         0.03164092+0.j        ,  0.        -0.02091208j,\n",
       "         0.        -0.01481935j, -0.00979378+0.j        ,\n",
       "        -0.7158268 +0.j        ,  0.        +0.4730951j ,\n",
       "         0.        +0.33525273j,  0.22157252+0.j        ,\n",
       "         0.        +0.21517362j,  0.14221084+0.j        ,\n",
       "         0.10077609+0.j        ,  0.        -0.06660434j],\n",
       "       [ 0.06956796+0.j        ,  0.        +0.10526j   ,\n",
       "         0.        -0.03258221j,  0.04929843+0.j        ,\n",
       "         0.        -0.02091208j,  0.03164092+0.j        ,\n",
       "        -0.00979378+0.j        ,  0.        -0.01481935j,\n",
       "         0.        +0.4730951j , -0.7158268 +0.j        ,\n",
       "         0.22157252+0.j        ,  0.        +0.33525273j,\n",
       "         0.14221084+0.j        ,  0.        +0.21517362j,\n",
       "         0.        -0.06660434j,  0.10077609+0.j        ],\n",
       "       [ 0.        -0.01481935j, -0.00979378+0.j        ,\n",
       "         0.03164092+0.j        ,  0.        -0.02091208j,\n",
       "         0.04929843+0.j        ,  0.        -0.03258221j,\n",
       "         0.        +0.10526j   ,  0.06956796+0.j        ,\n",
       "         0.10077609+0.j        ,  0.        -0.06660434j,\n",
       "         0.        +0.21517362j,  0.14221084+0.j        ,\n",
       "         0.        +0.33525273j,  0.22157252+0.j        ,\n",
       "        -0.7158268 +0.j        ,  0.        +0.4730951j ],\n",
       "       [-0.00979378+0.j        ,  0.        -0.01481935j,\n",
       "         0.        -0.02091208j,  0.03164092+0.j        ,\n",
       "         0.        -0.03258221j,  0.04929843+0.j        ,\n",
       "         0.06956796+0.j        ,  0.        +0.10526j   ,\n",
       "         0.        -0.06660434j,  0.10077609+0.j        ,\n",
       "         0.14221084+0.j        ,  0.        +0.21517362j,\n",
       "         0.22157252+0.j        ,  0.        +0.33525273j,\n",
       "         0.        +0.4730951j , -0.7158268 +0.j        ],\n",
       "       [ 0.03164092+0.j        ,  0.        -0.02091208j,\n",
       "         0.        -0.01481935j, -0.00979378+0.j        ,\n",
       "         0.        +0.10526j   ,  0.06956796+0.j        ,\n",
       "         0.04929843+0.j        ,  0.        -0.03258221j,\n",
       "         0.        +0.21517362j,  0.14221084+0.j        ,\n",
       "         0.10077609+0.j        ,  0.        -0.06660434j,\n",
       "        -0.7158268 +0.j        ,  0.        +0.4730951j ,\n",
       "         0.        +0.33525273j,  0.22157252+0.j        ],\n",
       "       [ 0.        -0.02091208j,  0.03164092+0.j        ,\n",
       "        -0.00979378+0.j        ,  0.        -0.01481935j,\n",
       "         0.06956796+0.j        ,  0.        +0.10526j   ,\n",
       "         0.        -0.03258221j,  0.04929843+0.j        ,\n",
       "         0.14221084+0.j        ,  0.        +0.21517362j,\n",
       "         0.        -0.06660434j,  0.10077609+0.j        ,\n",
       "         0.        +0.4730951j , -0.7158268 +0.j        ,\n",
       "         0.22157252+0.j        ,  0.        +0.33525273j],\n",
       "       [ 0.        +0.33525273j,  0.22157252+0.j        ,\n",
       "        -0.7158268 +0.j        ,  0.        +0.4730951j ,\n",
       "         0.10077609+0.j        ,  0.        -0.06660434j,\n",
       "         0.        +0.21517362j,  0.14221084+0.j        ,\n",
       "         0.04929843+0.j        ,  0.        -0.03258221j,\n",
       "         0.        +0.10526j   ,  0.06956796+0.j        ,\n",
       "         0.        -0.01481935j, -0.00979378+0.j        ,\n",
       "         0.03164092+0.j        ,  0.        -0.02091208j],\n",
       "       [ 0.22157252+0.j        ,  0.        +0.33525273j,\n",
       "         0.        +0.4730951j , -0.7158268 +0.j        ,\n",
       "         0.        -0.06660434j,  0.10077609+0.j        ,\n",
       "         0.14221084+0.j        ,  0.        +0.21517362j,\n",
       "         0.        -0.03258221j,  0.04929843+0.j        ,\n",
       "         0.06956796+0.j        ,  0.        +0.10526j   ,\n",
       "        -0.00979378+0.j        ,  0.        -0.01481935j,\n",
       "         0.        -0.02091208j,  0.03164092+0.j        ],\n",
       "       [-0.7158268 +0.j        ,  0.        +0.4730951j ,\n",
       "         0.        +0.33525273j,  0.22157252+0.j        ,\n",
       "         0.        +0.21517362j,  0.14221084+0.j        ,\n",
       "         0.10077609+0.j        ,  0.        -0.06660434j,\n",
       "         0.        +0.10526j   ,  0.06956796+0.j        ,\n",
       "         0.04929843+0.j        ,  0.        -0.03258221j,\n",
       "         0.03164092+0.j        ,  0.        -0.02091208j,\n",
       "         0.        -0.01481935j, -0.00979378+0.j        ],\n",
       "       [ 0.        +0.4730951j , -0.7158268 +0.j        ,\n",
       "         0.22157252+0.j        ,  0.        +0.33525273j,\n",
       "         0.14221084+0.j        ,  0.        +0.21517362j,\n",
       "         0.        -0.06660434j,  0.10077609+0.j        ,\n",
       "         0.06956796+0.j        ,  0.        +0.10526j   ,\n",
       "         0.        -0.03258221j,  0.04929843+0.j        ,\n",
       "         0.        -0.02091208j,  0.03164092+0.j        ,\n",
       "        -0.00979378+0.j        ,  0.        -0.01481935j],\n",
       "       [ 0.10077609+0.j        ,  0.        -0.06660434j,\n",
       "         0.        +0.21517362j,  0.14221084+0.j        ,\n",
       "         0.        +0.33525273j,  0.22157252+0.j        ,\n",
       "        -0.7158268 +0.j        ,  0.        +0.4730951j ,\n",
       "         0.        -0.01481935j, -0.00979378+0.j        ,\n",
       "         0.03164092+0.j        ,  0.        -0.02091208j,\n",
       "         0.04929843+0.j        ,  0.        -0.03258221j,\n",
       "         0.        +0.10526j   ,  0.06956796+0.j        ],\n",
       "       [ 0.        -0.06660434j,  0.10077609+0.j        ,\n",
       "         0.14221084+0.j        ,  0.        +0.21517362j,\n",
       "         0.22157252+0.j        ,  0.        +0.33525273j,\n",
       "         0.        +0.4730951j , -0.7158268 +0.j        ,\n",
       "        -0.00979378+0.j        ,  0.        -0.01481935j,\n",
       "         0.        -0.02091208j,  0.03164092+0.j        ,\n",
       "         0.        -0.03258221j,  0.04929843+0.j        ,\n",
       "         0.06956796+0.j        ,  0.        +0.10526j   ],\n",
       "       [ 0.        +0.21517362j,  0.14221084+0.j        ,\n",
       "         0.10077609+0.j        ,  0.        -0.06660434j,\n",
       "        -0.7158268 +0.j        ,  0.        +0.4730951j ,\n",
       "         0.        +0.33525273j,  0.22157252+0.j        ,\n",
       "         0.03164092+0.j        ,  0.        -0.02091208j,\n",
       "         0.        -0.01481935j, -0.00979378+0.j        ,\n",
       "         0.        +0.10526j   ,  0.06956796+0.j        ,\n",
       "         0.04929843+0.j        ,  0.        -0.03258221j],\n",
       "       [ 0.14221084+0.j        ,  0.        +0.21517362j,\n",
       "         0.        -0.06660434j,  0.10077609+0.j        ,\n",
       "         0.        +0.4730951j , -0.7158268 +0.j        ,\n",
       "         0.22157252+0.j        ,  0.        +0.33525273j,\n",
       "         0.        -0.02091208j,  0.03164092+0.j        ,\n",
       "        -0.00979378+0.j        ,  0.        -0.01481935j,\n",
       "         0.06956796+0.j        ,  0.        +0.10526j   ,\n",
       "         0.        -0.03258221j,  0.04929843+0.j        ]],      dtype=complex64)"
      ]
     },
     "execution_count": 11,
     "metadata": {},
     "output_type": "execute_result"
    }
   ],
   "source": [
    "qml.matrix(ev([1., 2., 3., 4.], t=[0, 4]))"
   ]
  },
  {
   "cell_type": "code",
   "execution_count": 12,
   "metadata": {},
   "outputs": [],
   "source": [
    "import jax\n",
    "\n",
    "dev = qml.device(\"default.qubit.jax\", wires=4)\n",
    "@jax.jit\n",
    "@qml.qnode(dev, interface=\"jax\")\n",
    "def circuit(params):\n",
    "    qml.evolve(H)(params, t=[0, 10])\n",
    "    return qml.expval(qml.Z(0))"
   ]
  },
  {
   "cell_type": "code",
   "execution_count": 13,
   "metadata": {},
   "outputs": [
    {
     "data": {
      "text/plain": [
       "Array(0.8609962, dtype=float32)"
      ]
     },
     "execution_count": 13,
     "metadata": {},
     "output_type": "execute_result"
    }
   ],
   "source": [
    "params = [1., 2., 3., 4.]\n",
    "circuit(params)"
   ]
  },
  {
   "cell_type": "code",
   "execution_count": 14,
   "metadata": {},
   "outputs": [
    {
     "data": {
      "text/plain": [
       "[Array(50.85762, dtype=float32),\n",
       " Array(-5.347459e-05, dtype=float32),\n",
       " Array(-9.281231e-05, dtype=float32),\n",
       " Array(-0.00013054, dtype=float32)]"
      ]
     },
     "execution_count": 14,
     "metadata": {},
     "output_type": "execute_result"
    }
   ],
   "source": [
    "jax.grad(circuit)(params)"
   ]
  },
  {
   "cell_type": "markdown",
   "metadata": {},
   "source": [
    "## PR 4\n",
    "\n",
    "https://github.com/PennyLaneAI/pennylane/pull/5430/files"
   ]
  },
  {
   "cell_type": "markdown",
   "metadata": {},
   "source": [
    "## PR 5\n",
    "\n",
    "https://github.com/PennyLaneAI/pennylane/pull/5422"
   ]
  },
  {
   "cell_type": "code",
   "execution_count": 15,
   "metadata": {},
   "outputs": [],
   "source": [
    "import jax\n",
    "\n",
    "jax.config.update(\"jax_enable_x64\", True)\n",
    "\n",
    "dev = qml.device(\"default.qubit\", wires=2, shots=100)\n",
    "\n",
    "@qml.qnode(dev, interface=\"jax\")\n",
    "def circuit(x):\n",
    "    qml.RX(x, wires=0)\n",
    "    return qml.sample(qml.PauliX(0) @ qml.PauliY(1))\n",
    "\n",
    "results = jax.jit(circuit)(jax.numpy.array(0.123, dtype=jax.numpy.float64))\n",
    "\n",
    "import jax\n",
    "\n",
    "jax.config.update(\"jax_enable_x64\", True)\n",
    "\n",
    "dev = qml.device(\"default.qubit\", wires=2, shots=100)\n",
    "\n",
    "@qml.qnode(dev, interface=\"jax\")\n",
    "def circuit(x):\n",
    "    qml.RX(x, wires=0)\n",
    "    return qml.sample(qml.PauliX(0) @ qml.PauliY(1))\n",
    "\n",
    "results = jax.jit(circuit)(jax.numpy.array(0.123, dtype=jax.numpy.float64))"
   ]
  },
  {
   "cell_type": "markdown",
   "metadata": {},
   "source": [
    "## PR 6\n",
    "\n",
    "https://github.com/PennyLaneAI/pennylane/pull/5459"
   ]
  },
  {
   "cell_type": "markdown",
   "metadata": {},
   "source": [
    "## PR 7\n",
    "\n",
    "https://github.com/PennyLaneAI/pennylane/pull/5441"
   ]
  },
  {
   "cell_type": "code",
   "execution_count": 16,
   "metadata": {},
   "outputs": [],
   "source": [
    "dev = qml.device(\"default.qubit\")\n",
    "\n",
    "@qml.qnode(dev)\n",
    "def circuit(x, y):\n",
    "    qml.RX(x, wires=0)\n",
    "    qml.RY(y, wires=1)\n",
    "    m0 = qml.measure(1)\n",
    "    return (\n",
    "        qml.sample(m0), qml.expval(m0), qml.var(m0), qml.probs(op=m0), qml.counts(op=m0),\n",
    "    )"
   ]
  },
  {
   "cell_type": "code",
   "execution_count": 17,
   "metadata": {},
   "outputs": [
    {
     "data": {
      "text/plain": [
       "(array([1, 0, 1, 0, 1, 0, 1, 1, 1, 1, 1, 0, 0, 0, 0, 1, 0, 0, 0, 0, 1, 1,\n",
       "        0, 0, 0, 1, 1, 1, 0, 0, 1, 1, 1, 0, 1, 1, 1, 0, 0, 1, 0, 1, 1, 1,\n",
       "        0, 1, 1, 1, 1, 0, 1, 1, 0, 1, 1, 1, 0, 1, 1, 0, 0, 1, 1, 1, 0, 0,\n",
       "        0, 1, 1, 1, 1, 1, 1, 1, 0, 1, 1, 1, 1, 1, 1, 1, 0, 1, 1, 1, 1, 1,\n",
       "        1, 1, 1, 0, 1, 0, 1, 1, 0, 1, 0, 1, 0, 1, 1, 1, 1, 0, 1, 1, 0, 1,\n",
       "        0, 1, 1, 1, 0, 1, 1, 1, 1, 1, 1, 1, 0, 1, 1, 0, 0, 1, 1, 1, 1, 1,\n",
       "        1, 0, 0, 1, 1, 1, 0, 1, 1, 1, 0, 1, 0, 1, 1, 0, 1, 1, 1, 0, 1, 1,\n",
       "        1, 0, 1, 0, 1, 1, 1, 0, 0, 0, 0, 0, 0, 1, 1, 1, 1, 1, 1, 1, 1, 1,\n",
       "        1, 1, 1, 0, 1, 1, 1, 1, 1, 1, 1, 1, 0, 1, 1, 0, 0, 1, 0, 1, 0, 1,\n",
       "        0, 1, 0, 0, 1, 1, 1, 1, 0, 1, 1, 1, 1, 1, 1, 1, 1, 0, 1, 1, 1, 1,\n",
       "        1, 0, 0, 1, 1, 1, 0, 1, 0, 1, 1, 0, 1, 1, 0, 1, 0, 0, 0, 0, 1, 0,\n",
       "        0, 0, 0, 1, 0, 1, 0, 0, 1, 0, 1, 0, 1, 1, 1, 1, 1, 1, 1, 1, 1, 1,\n",
       "        1, 1, 1, 1, 1, 1, 1, 1, 0, 1, 1, 1, 0, 1, 1, 1, 1, 1, 1, 1, 0, 1,\n",
       "        1, 0, 0, 1, 0, 1, 1, 1, 1, 1, 1, 0, 1, 1, 1, 1, 0, 1, 1, 1, 0, 0,\n",
       "        1, 1, 1, 1, 1, 0, 1, 1, 0, 1, 1, 1, 1, 0, 1, 1, 0, 1, 0, 0, 1, 1,\n",
       "        0, 1, 1, 1, 1, 1, 0, 1, 0, 0, 1, 1, 0, 1, 0, 0, 1, 1, 1, 1, 0, 1,\n",
       "        1, 1, 1, 1, 1, 1, 1, 1, 0, 1, 1, 1, 0, 1, 0, 1, 0, 1, 1, 1, 1, 1,\n",
       "        1, 1, 1, 0, 0, 0, 1, 1, 1, 1, 1, 1, 1, 1, 1, 0, 0, 0, 1, 0, 1, 1,\n",
       "        0, 1, 0, 1, 0, 0, 1, 1, 1, 1, 1, 1, 1, 1, 1, 0, 1, 1, 1, 1, 1, 1,\n",
       "        1, 1, 0, 0, 1, 1, 0, 1, 1, 1, 1, 1, 1, 1, 1, 1, 1, 0, 1, 0, 1, 1,\n",
       "        1, 1, 0, 1, 1, 1, 1, 1, 1, 1, 1, 1, 0, 1, 1, 1, 1, 1, 1, 1, 1, 1,\n",
       "        1, 1, 1, 1, 0, 0, 1, 1, 1, 0, 1, 1, 1, 0, 1, 1, 0, 0, 1, 1, 1, 1,\n",
       "        1, 1, 1, 1, 1, 0, 1, 1, 1, 1, 1, 1, 1, 1, 1, 0, 1, 1, 0, 1, 1, 0,\n",
       "        1, 1, 0, 1, 0, 1, 0, 0, 0, 1, 1, 1, 1, 1, 0, 0, 1, 1, 1, 1, 1, 1,\n",
       "        1, 1, 1, 1, 0, 1, 1, 1, 1, 0, 1, 0, 1, 1, 1, 1, 1, 1, 0, 1, 1, 1,\n",
       "        1, 1, 1, 0, 0, 1, 1, 1, 1, 1, 0, 1, 1, 1, 0, 1, 0, 1, 1, 1, 1, 0,\n",
       "        0, 1, 1, 1, 1, 1, 1, 1, 1, 1, 1, 0, 1, 0, 1, 0, 0, 0, 0, 1, 1, 0,\n",
       "        1, 0, 1, 1, 1, 1, 0, 1, 1, 1, 1, 1, 0, 1, 1, 1, 0, 1, 0, 1, 1, 1,\n",
       "        1, 1, 0, 1, 0, 0, 0, 1, 1, 0, 1, 1, 1, 0, 1, 1, 1, 1, 0, 1, 1, 1,\n",
       "        1, 0, 1, 0, 1, 0, 1, 1, 1, 0, 1, 1, 1, 1, 1, 0, 1, 0, 1, 1, 0, 1,\n",
       "        0, 1, 1, 1, 1, 1, 1, 1, 1, 0, 1, 0, 1, 1, 0, 0, 0, 1, 1, 1, 1, 0,\n",
       "        0, 1, 1, 1, 1, 1, 1, 0, 1, 1, 1, 1, 1, 0, 0, 1, 1, 1, 1, 0, 1, 0,\n",
       "        1, 0, 1, 1, 1, 1, 0, 1, 1, 1, 0, 1, 1, 1, 1, 1, 1, 1, 0, 1, 1, 1,\n",
       "        1, 0, 1, 1, 1, 1, 0, 1, 1, 1, 0, 1, 0, 0, 1, 0, 1, 1, 1, 1, 1, 0,\n",
       "        1, 1, 0, 0, 0, 1, 0, 1, 0, 0, 1, 1, 1, 1, 0, 0, 1, 0, 1, 0, 0, 1,\n",
       "        1, 0, 0, 1, 1, 1, 0, 1, 1, 1, 1, 0, 1, 1, 1, 1, 1, 0, 1, 0, 1, 1,\n",
       "        1, 1, 1, 1, 1, 1, 0, 1, 1, 1, 1, 0, 1, 1, 0, 1, 1, 1, 0, 1, 1, 1,\n",
       "        1, 1, 0, 1, 1, 1, 0, 0, 1, 1, 1, 1, 0, 1, 0, 1, 0, 1, 0, 1, 0, 1,\n",
       "        1, 1, 1, 0, 1, 1, 1, 1, 1, 1, 1, 1, 1, 0, 0, 0, 1, 0, 1, 1, 1, 1,\n",
       "        1, 1, 1, 1, 1, 0, 0, 0, 1, 1, 1, 1, 1, 1, 0, 1, 1, 1, 1, 0, 1, 1,\n",
       "        0, 1, 1, 1, 1, 1, 0, 1, 1, 0, 0, 1, 0, 1, 1, 1, 0, 0, 1, 1, 1, 0,\n",
       "        1, 0, 0, 1, 1, 1, 0, 0, 1, 1, 1, 0, 0, 0, 1, 1, 0, 1, 1, 0, 1, 1,\n",
       "        1, 0, 1, 1, 0, 1, 0, 1, 1, 1, 1, 0, 1, 0, 0, 1, 1, 1, 0, 1, 0, 1,\n",
       "        1, 0, 1, 1, 0, 1, 1, 1, 0, 1, 0, 0, 1, 0, 0, 1, 1, 1, 0, 1, 0, 1,\n",
       "        1, 1, 1, 1, 1, 1, 1, 1, 0, 1, 0, 1, 1, 1, 1, 1, 0, 0, 1, 1, 1, 1,\n",
       "        0, 0, 1, 1, 1, 1, 1, 1, 1, 0]),\n",
       " 0.707,\n",
       " 0.207151,\n",
       " array([0.293, 0.707]),\n",
       " {0: 293, 1: 707})"
      ]
     },
     "execution_count": 17,
     "metadata": {},
     "output_type": "execute_result"
    }
   ],
   "source": [
    "circuit(1.0, 2.0, shots=1000)"
   ]
  },
  {
   "cell_type": "markdown",
   "metadata": {},
   "source": [
    "## PR 8\n",
    "\n",
    "https://github.com/PennyLaneAI/pennylane/pull/5455"
   ]
  },
  {
   "cell_type": "markdown",
   "metadata": {},
   "source": [
    "Modifica da fare al changelog"
   ]
  },
  {
   "cell_type": "markdown",
   "metadata": {},
   "source": [
    "## PR 9\n",
    "\n",
    "https://github.com/PennyLaneAI/pennylane/pull/"
   ]
  },
  {
   "cell_type": "code",
   "execution_count": 18,
   "metadata": {},
   "outputs": [
    {
     "name": "stdout",
     "output_type": "stream",
     "text": [
      "<class 'pennylane.numpy.tensor.tensor'>\n",
      "<class 'pennylane.numpy.tensor.tensor'>\n",
      "<class 'pennylane.numpy.tensor.tensor'>\n"
     ]
    }
   ],
   "source": [
    "import pennylane as qml\n",
    "from pennylane import numpy as np\n",
    "\n",
    "dev = qml.device(\"default.qubit\")\n",
    "@qml.qnode(dev)\n",
    "def cost(params):\n",
    "    qml.RX(params[0], wires=0)\n",
    "    qml.CRY(params[1], wires=[0, 1])\n",
    "    return qml.expval(qml.Z(0) @ qml.Z(1))\n",
    "\n",
    "params = np.random.rand(2)\n",
    "opt = qml.QNSPSAOptimizer(stepsize=5e-2)\n",
    "\n",
    "for _ in range(3):\n",
    "    print(type(params))\n",
    "    params, loss = opt.step_and_cost(cost, params)\n",
    "    #params = np.array(params) # this fixes the error"
   ]
  },
  {
   "cell_type": "markdown",
   "metadata": {},
   "source": [
    "## PR 10\n",
    "\n",
    "https://github.com/PennyLaneAI/pennylane/pull/5450"
   ]
  },
  {
   "cell_type": "markdown",
   "metadata": {},
   "source": [
    "## PR 11\n",
    "\n",
    "https://github.com/PennyLaneAI/pennylane/pull/5352"
   ]
  },
  {
   "cell_type": "markdown",
   "metadata": {},
   "source": [
    "## PR 12\n",
    "\n",
    "https://github.com/PennyLaneAI/pennylane/pull/5395"
   ]
  },
  {
   "cell_type": "code",
   "execution_count": 19,
   "metadata": {},
   "outputs": [
    {
     "data": {
      "text/plain": [
       "tensor([[1],\n",
       "        [1],\n",
       "        [1],\n",
       "        [0],\n",
       "        [1],\n",
       "        [1],\n",
       "        [0],\n",
       "        [1],\n",
       "        [0],\n",
       "        [0]], requires_grad=True)"
      ]
     },
     "execution_count": 19,
     "metadata": {},
     "output_type": "execute_result"
    }
   ],
   "source": [
    "@qml.qnode(qml.device('default.qubit'))\n",
    "def circuit():\n",
    "    qml.Hadamard(0)\n",
    "    return qml.sample(wires=(0,1))\n",
    "\n",
    "samples = circuit(shots=10)\n",
    "qml.sample(wires=0).process_samples(samples, wire_order=qml.wires.Wires((0,1)))"
   ]
  },
  {
   "cell_type": "code",
   "execution_count": 20,
   "metadata": {},
   "outputs": [
    {
     "data": {
      "text/plain": [
       "array([0, 0, 1, 1, 1])"
      ]
     },
     "execution_count": 20,
     "metadata": {},
     "output_type": "execute_result"
    }
   ],
   "source": [
    "counts = {'00': 2, '10': 3}\n",
    "qml.sample(wires=(0,1)).process_counts(counts, wire_order=qml.wires.Wires((0,1)))\n",
    "qml.sample(wires=0).process_counts(counts, wire_order=qml.wires.Wires((0,1)))"
   ]
  },
  {
   "cell_type": "markdown",
   "metadata": {},
   "source": [
    "## PR 13\n",
    "\n",
    "https://github.com/PennyLaneAI/pennylane/pull/5449"
   ]
  },
  {
   "cell_type": "markdown",
   "metadata": {},
   "source": [
    "## PR 14\n",
    "\n",
    "https://github.com/PennyLaneAI/pennylane/pull/5463"
   ]
  },
  {
   "cell_type": "code",
   "execution_count": 21,
   "metadata": {},
   "outputs": [
    {
     "data": {
      "text/plain": [
       "(1, 10)"
      ]
     },
     "execution_count": 21,
     "metadata": {},
     "output_type": "execute_result"
    }
   ],
   "source": [
    "from pennylane.devices.qubit.sampling import get_num_shots_and_executions, _group_measurements\n",
    "\n",
    "prod = qml.prod(qml.PauliX(0), qml.PauliY(1))\n",
    "tensor = qml.operation.Tensor(qml.PauliX(0), qml.PauliY(1))\n",
    "\n",
    "tape1 = qml.tape.QuantumScript([], measurements=[qml.expval(qml.PauliX(0)), qml.expval(prod)], shots=10)\n",
    "get_num_shots_and_executions(tape1)"
   ]
  },
  {
   "cell_type": "code",
   "execution_count": 22,
   "metadata": {},
   "outputs": [
    {
     "data": {
      "text/plain": [
       "[[expval(X(0)), expval(X(0) @ Y(1))]]"
      ]
     },
     "execution_count": 22,
     "metadata": {},
     "output_type": "execute_result"
    }
   ],
   "source": [
    "all_mp_groups, all_indices = _group_measurements(tape1.measurements)\n",
    "all_mp_groups"
   ]
  },
  {
   "cell_type": "code",
   "execution_count": 23,
   "metadata": {},
   "outputs": [
    {
     "data": {
      "text/plain": [
       "(1, 10)"
      ]
     },
     "execution_count": 23,
     "metadata": {},
     "output_type": "execute_result"
    }
   ],
   "source": [
    "tape2 = qml.tape.QuantumScript([], measurements=[qml.expval(qml.PauliX(0)), qml.expval(tensor)], shots=10)\n",
    "get_num_shots_and_executions(tape2)"
   ]
  },
  {
   "cell_type": "code",
   "execution_count": 24,
   "metadata": {},
   "outputs": [
    {
     "data": {
      "text/plain": [
       "[[expval(X(0)), expval(X(0) @ Y(1))]]"
      ]
     },
     "execution_count": 24,
     "metadata": {},
     "output_type": "execute_result"
    }
   ],
   "source": [
    "all_mp_groups, all_indices = _group_measurements(tape2.measurements)\n",
    "all_mp_groups"
   ]
  },
  {
   "cell_type": "markdown",
   "metadata": {},
   "source": [
    "## PR 15\n",
    "\n",
    "https://github.com/PennyLaneAI/pennylane/pull/5525"
   ]
  },
  {
   "cell_type": "markdown",
   "metadata": {},
   "source": [
    "Bisogna cambiare il changelog (the issue was linked rather than the PR)"
   ]
  },
  {
   "cell_type": "markdown",
   "metadata": {},
   "source": [
    "## PR 16\n",
    "\n",
    "https://github.com/PennyLaneAI/pennylane/pull/5515"
   ]
  },
  {
   "cell_type": "markdown",
   "metadata": {},
   "source": [
    "## PR 17\n",
    "\n",
    "https://github.com/PennyLaneAI/pennylane/pull/5562"
   ]
  },
  {
   "cell_type": "code",
   "execution_count": 25,
   "metadata": {},
   "outputs": [
    {
     "data": {
      "text/plain": [
       "True"
      ]
     },
     "execution_count": 25,
     "metadata": {},
     "output_type": "execute_result"
    }
   ],
   "source": [
    "qml.equal(qml.PauliX(0)@qml.GlobalPhase(np.pi), qml.PauliX(0)@qml.GlobalPhase(np.pi))"
   ]
  },
  {
   "cell_type": "markdown",
   "metadata": {},
   "source": [
    "## PR 18\n",
    "\n",
    "https://github.com/PennyLaneAI/pennylane/pull/5524"
   ]
  },
  {
   "cell_type": "markdown",
   "metadata": {},
   "source": [
    "## PR 19\n",
    "\n",
    "https://github.com/PennyLaneAI/pennylane/pull/5479"
   ]
  },
  {
   "cell_type": "markdown",
   "metadata": {},
   "source": [
    "`doc/introduction/data.rst`"
   ]
  },
  {
   "cell_type": "code",
   "execution_count": 1,
   "metadata": {},
   "outputs": [
    {
     "data": {
      "text/plain": [
       "1.0 * Z(0) + 0.5 * X(1)"
      ]
     },
     "execution_count": 1,
     "metadata": {},
     "output_type": "execute_result"
    }
   ],
   "source": [
    "import pennylane as qml\n",
    "\n",
    "import numpy as np\n",
    "\n",
    "coeffs = [1, 0.5]\n",
    "observables = [qml.Z(0), qml.X(1)]\n",
    "H = qml.Hamiltonian(coeffs, observables)\n",
    "energies, _ = np.linalg.eigh(qml.matrix(H)) #Calculate the energies\n",
    "dataset = qml.data.Dataset(data_name = \"Example\", hamiltonian=H, energies=energies)\n",
    "dataset.data_name\n",
    "dataset.hamiltonian\n",
    "#dataset.energies"
   ]
  },
  {
   "cell_type": "code",
   "execution_count": 41,
   "metadata": {},
   "outputs": [],
   "source": [
    "# Questo non posso eseguirlo, ma chi se ne frega\n",
    "\n",
    "dataset.write(\"./path/to/dataset.h5\")\n",
    "read_dataset = qml.data.Dataset()\n",
    "read_dataset.read(\"./path/to/dataset.h5\")\n",
    "read_dataset.data_name\n",
    "read_dataset.hamiltonian\n",
    "read_dataset.energies"
   ]
  },
  {
   "cell_type": "markdown",
   "metadata": {},
   "source": [
    "`doc/introduction/operations.rst`"
   ]
  },
  {
   "cell_type": "code",
   "execution_count": 43,
   "metadata": {},
   "outputs": [
    {
     "data": {
      "text/plain": [
       "pennylane.ops.op_math.linear_combination.LinearCombination"
      ]
     },
     "execution_count": 43,
     "metadata": {},
     "output_type": "execute_result"
    }
   ],
   "source": [
    "mat = np.array([[1, 1], [1, -1]])\n",
    "h = qml.pauli_decompose(mat)\n",
    "type(h)\n",
    "\n",
    "#print(h)"
   ]
  },
  {
   "cell_type": "markdown",
   "metadata": {},
   "source": [
    "`pennylane/data/__init__.py`"
   ]
  },
  {
   "cell_type": "markdown",
   "metadata": {},
   "source": [
    "Mi fido"
   ]
  },
  {
   "cell_type": "markdown",
   "metadata": {},
   "source": [
    "... mi fido per quasi tutte (chissene). "
   ]
  },
  {
   "cell_type": "markdown",
   "metadata": {},
   "source": [
    "`pennylane/qaoa/cycle.py`"
   ]
  },
  {
   "cell_type": "code",
   "execution_count": 2,
   "metadata": {},
   "outputs": [
    {
     "data": {
      "text/plain": [
       "(\n",
       "    -0.6931471805599453 * Z(0)\n",
       "  + 0.0 * Z(1)\n",
       "  + 0.4054651081081644 * Z(2)\n",
       "  + 0.6931471805599453 * Z(3)\n",
       "  + 0.916290731874155 * Z(4)\n",
       "  + 1.0986122886681096 * Z(5)\n",
       ")"
      ]
     },
     "execution_count": 2,
     "metadata": {},
     "output_type": "execute_result"
    }
   ],
   "source": [
    "import networkx as nx\n",
    "g = nx.complete_graph(3).to_directed()\n",
    "edge_weight_data = {edge: (i + 1) * 0.5 for i, edge in enumerate(g.edges)}\n",
    "for k, v in edge_weight_data.items():\n",
    "    g[k[0]][k[1]][\"weight\"] = v\n",
    "h = qml.qaoa.cycle.loss_hamiltonian(g)\n",
    "h"
   ]
  },
  {
   "cell_type": "code",
   "execution_count": 3,
   "metadata": {},
   "outputs": [
    {
     "ename": "ValueError",
     "evalue": "0 is not in list",
     "output_type": "error",
     "traceback": [
      "\u001b[0;31m---------------------------------------------------------------------------\u001b[0m",
      "\u001b[0;31mValueError\u001b[0m                                Traceback (most recent call last)",
      "Cell \u001b[0;32mIn[3], line 7\u001b[0m\n\u001b[1;32m      5\u001b[0m \u001b[38;5;28;01mfor\u001b[39;00m k, v \u001b[38;5;129;01min\u001b[39;00m edge_weight_data\u001b[38;5;241m.\u001b[39mitems():\n\u001b[1;32m      6\u001b[0m     g\u001b[38;5;241m.\u001b[39mupdate_edge(k[\u001b[38;5;241m0\u001b[39m], k[\u001b[38;5;241m1\u001b[39m], {\u001b[38;5;124m\"\u001b[39m\u001b[38;5;124mweight\u001b[39m\u001b[38;5;124m\"\u001b[39m: v})\n\u001b[0;32m----> 7\u001b[0m h \u001b[38;5;241m=\u001b[39m \u001b[43mqml\u001b[49m\u001b[38;5;241;43m.\u001b[39;49m\u001b[43mqaoa\u001b[49m\u001b[38;5;241;43m.\u001b[39;49m\u001b[43mcycle\u001b[49m\u001b[38;5;241;43m.\u001b[39;49m\u001b[43mloss_hamiltonian\u001b[49m\u001b[43m(\u001b[49m\u001b[43mg\u001b[49m\u001b[43m)\u001b[49m\n\u001b[1;32m      8\u001b[0m \u001b[38;5;28mprint\u001b[39m(h)\n",
      "File \u001b[0;32m~/anaconda3/envs/PennyLane/lib/python3.9/site-packages/PennyLane-0.37.0.dev0-py3.9.egg/pennylane/qaoa/cycle.py:380\u001b[0m, in \u001b[0;36mloss_hamiltonian\u001b[0;34m(graph)\u001b[0m\n\u001b[1;32m    375\u001b[0m \u001b[38;5;28;01mif\u001b[39;00m \u001b[38;5;129;01mnot\u001b[39;00m \u001b[38;5;28misinstance\u001b[39m(graph, (nx\u001b[38;5;241m.\u001b[39mGraph, rx\u001b[38;5;241m.\u001b[39mPyGraph, rx\u001b[38;5;241m.\u001b[39mPyDiGraph)):\n\u001b[1;32m    376\u001b[0m     \u001b[38;5;28;01mraise\u001b[39;00m \u001b[38;5;167;01mValueError\u001b[39;00m(\n\u001b[1;32m    377\u001b[0m         \u001b[38;5;124mf\u001b[39m\u001b[38;5;124m\"\u001b[39m\u001b[38;5;124mInput graph must be a nx.Graph or rx.PyGraph or rx.PyDiGraph, got \u001b[39m\u001b[38;5;132;01m{\u001b[39;00m\u001b[38;5;28mtype\u001b[39m(graph)\u001b[38;5;241m.\u001b[39m\u001b[38;5;18m__name__\u001b[39m\u001b[38;5;132;01m}\u001b[39;00m\u001b[38;5;124m\"\u001b[39m\n\u001b[1;32m    378\u001b[0m     )\n\u001b[0;32m--> 380\u001b[0m edges_to_qubits \u001b[38;5;241m=\u001b[39m \u001b[43medges_to_wires\u001b[49m\u001b[43m(\u001b[49m\u001b[43mgraph\u001b[49m\u001b[43m)\u001b[49m\n\u001b[1;32m    382\u001b[0m coeffs \u001b[38;5;241m=\u001b[39m []\n\u001b[1;32m    383\u001b[0m ops \u001b[38;5;241m=\u001b[39m []\n",
      "File \u001b[0;32m~/anaconda3/envs/PennyLane/lib/python3.9/site-packages/PennyLane-0.37.0.dev0-py3.9.egg/pennylane/qaoa/cycle.py:73\u001b[0m, in \u001b[0;36medges_to_wires\u001b[0;34m(graph)\u001b[0m\n\u001b[1;32m     71\u001b[0m \u001b[38;5;28;01mif\u001b[39;00m \u001b[38;5;28misinstance\u001b[39m(graph, (rx\u001b[38;5;241m.\u001b[39mPyGraph, rx\u001b[38;5;241m.\u001b[39mPyDiGraph)):\n\u001b[1;32m     72\u001b[0m     gnodes \u001b[38;5;241m=\u001b[39m graph\u001b[38;5;241m.\u001b[39mnodes()\n\u001b[0;32m---> 73\u001b[0m     \u001b[38;5;28;01mreturn\u001b[39;00m {\n\u001b[1;32m     74\u001b[0m         (gnodes\u001b[38;5;241m.\u001b[39mindex(e[\u001b[38;5;241m0\u001b[39m]), gnodes\u001b[38;5;241m.\u001b[39mindex(e[\u001b[38;5;241m1\u001b[39m])): i\n\u001b[1;32m     75\u001b[0m         \u001b[38;5;28;01mfor\u001b[39;00m i, e \u001b[38;5;129;01min\u001b[39;00m \u001b[38;5;28menumerate\u001b[39m(\u001b[38;5;28msorted\u001b[39m(graph\u001b[38;5;241m.\u001b[39medge_list()))\n\u001b[1;32m     76\u001b[0m     }\n\u001b[1;32m     77\u001b[0m \u001b[38;5;28;01mraise\u001b[39;00m \u001b[38;5;167;01mValueError\u001b[39;00m(\n\u001b[1;32m     78\u001b[0m     \u001b[38;5;124mf\u001b[39m\u001b[38;5;124m\"\u001b[39m\u001b[38;5;124mInput graph must be a nx.Graph or rx.PyGraph or rx.PyDiGraph, got \u001b[39m\u001b[38;5;132;01m{\u001b[39;00m\u001b[38;5;28mtype\u001b[39m(graph)\u001b[38;5;241m.\u001b[39m\u001b[38;5;18m__name__\u001b[39m\u001b[38;5;132;01m}\u001b[39;00m\u001b[38;5;124m\"\u001b[39m\n\u001b[1;32m     79\u001b[0m )\n",
      "File \u001b[0;32m~/anaconda3/envs/PennyLane/lib/python3.9/site-packages/PennyLane-0.37.0.dev0-py3.9.egg/pennylane/qaoa/cycle.py:74\u001b[0m, in \u001b[0;36m<dictcomp>\u001b[0;34m(.0)\u001b[0m\n\u001b[1;32m     71\u001b[0m \u001b[38;5;28;01mif\u001b[39;00m \u001b[38;5;28misinstance\u001b[39m(graph, (rx\u001b[38;5;241m.\u001b[39mPyGraph, rx\u001b[38;5;241m.\u001b[39mPyDiGraph)):\n\u001b[1;32m     72\u001b[0m     gnodes \u001b[38;5;241m=\u001b[39m graph\u001b[38;5;241m.\u001b[39mnodes()\n\u001b[1;32m     73\u001b[0m     \u001b[38;5;28;01mreturn\u001b[39;00m {\n\u001b[0;32m---> 74\u001b[0m         (\u001b[43mgnodes\u001b[49m\u001b[38;5;241;43m.\u001b[39;49m\u001b[43mindex\u001b[49m\u001b[43m(\u001b[49m\u001b[43me\u001b[49m\u001b[43m[\u001b[49m\u001b[38;5;241;43m0\u001b[39;49m\u001b[43m]\u001b[49m\u001b[43m)\u001b[49m, gnodes\u001b[38;5;241m.\u001b[39mindex(e[\u001b[38;5;241m1\u001b[39m])): i\n\u001b[1;32m     75\u001b[0m         \u001b[38;5;28;01mfor\u001b[39;00m i, e \u001b[38;5;129;01min\u001b[39;00m \u001b[38;5;28menumerate\u001b[39m(\u001b[38;5;28msorted\u001b[39m(graph\u001b[38;5;241m.\u001b[39medge_list()))\n\u001b[1;32m     76\u001b[0m     }\n\u001b[1;32m     77\u001b[0m \u001b[38;5;28;01mraise\u001b[39;00m \u001b[38;5;167;01mValueError\u001b[39;00m(\n\u001b[1;32m     78\u001b[0m     \u001b[38;5;124mf\u001b[39m\u001b[38;5;124m\"\u001b[39m\u001b[38;5;124mInput graph must be a nx.Graph or rx.PyGraph or rx.PyDiGraph, got \u001b[39m\u001b[38;5;132;01m{\u001b[39;00m\u001b[38;5;28mtype\u001b[39m(graph)\u001b[38;5;241m.\u001b[39m\u001b[38;5;18m__name__\u001b[39m\u001b[38;5;132;01m}\u001b[39;00m\u001b[38;5;124m\"\u001b[39m\n\u001b[1;32m     79\u001b[0m )\n",
      "\u001b[0;31mValueError\u001b[0m: 0 is not in list"
     ]
    }
   ],
   "source": [
    "import rustworkx as rx\n",
    "import pennylane as qml\n",
    "g = rx.generators.directed_mesh_graph(3)\n",
    "edge_weight_data = {edge: (i + 1) * 0.5 for i, edge in enumerate(sorted(g.edge_list()))}\n",
    "for k, v in edge_weight_data.items():\n",
    "    g.update_edge(k[0], k[1], {\"weight\": v})\n",
    "h = qml.qaoa.cycle.loss_hamiltonian(g)\n",
    "print(h)"
   ]
  },
  {
   "cell_type": "markdown",
   "metadata": {},
   "source": [
    "Porco mondo che palle... chiedere a Korb per questo"
   ]
  },
  {
   "cell_type": "markdown",
   "metadata": {},
   "source": []
  },
  {
   "cell_type": "code",
   "execution_count": 11,
   "metadata": {},
   "outputs": [
    {
     "data": {
      "text/plain": [
       "0.1 [X0] +\n",
       "0.2 [Y0 Z2]"
      ]
     },
     "execution_count": 11,
     "metadata": {},
     "output_type": "execute_result"
    }
   ],
   "source": [
    "import openfermion\n",
    "\n",
    "q_op = 0.1 * openfermion.QubitOperator('X0') + 0.2 * openfermion.QubitOperator('Y0 Z2')\n",
    "q_op"
   ]
  },
  {
   "cell_type": "markdown",
   "metadata": {},
   "source": []
  },
  {
   "cell_type": "code",
   "execution_count": 15,
   "metadata": {},
   "outputs": [
    {
     "data": {
      "text/plain": [
       "[RY(tensor(1., requires_grad=True), wires=[1]),\n",
       " RX(tensor(2., requires_grad=True), wires=[0]),\n",
       " expval(X(0) + Y(0))]"
      ]
     },
     "execution_count": 15,
     "metadata": {},
     "output_type": "execute_result"
    }
   ],
   "source": [
    "import numpy as np\n",
    "\n",
    "@qml.transforms.undo_swaps\n",
    "@qml.transforms.merge_rotations\n",
    "@qml.transforms.cancel_inverses\n",
    "@qml.qnode(qml.device('default.qubit'), diff_method=\"parameter-shift\", shifts=np.pi / 4)\n",
    "def circuit(x):\n",
    "    qml.RandomLayers(qml.numpy.array([[1.0, 2.0]]), wires=(0,1))\n",
    "    qml.RX(x, wires=0)\n",
    "    qml.RX(-x, wires=0)\n",
    "    qml.SWAP((0,1))\n",
    "    qml.X(0)\n",
    "    qml.X(0)\n",
    "    return qml.expval(qml.X(0) + qml.Y(0))\n",
    "\n",
    "\n",
    "\n",
    "batch, fn = qml.workflow.construct_batch(circuit, level=\"device\")(1.23)\n",
    "batch[0].circuit"
   ]
  },
  {
   "cell_type": "markdown",
   "metadata": {},
   "source": [
    "## PR 20\n",
    "\n",
    "https://github.com/PennyLaneAI/pennylane/pull/5485"
   ]
  },
  {
   "cell_type": "markdown",
   "metadata": {},
   "source": [
    "Questa anche is una merda gigante, ma la facciamo ora..."
   ]
  },
  {
   "cell_type": "code",
   "execution_count": 5,
   "metadata": {},
   "outputs": [
    {
     "data": {
      "text/plain": [
       "2.0 * Y(3)"
      ]
     },
     "execution_count": 5,
     "metadata": {},
     "output_type": "execute_result"
    }
   ],
   "source": [
    "import pennylane as qml\n",
    "from pennylane import numpy as np\n",
    "\n",
    "qml.simplify(qml.RX(4*np.pi+0.1, 0 ))\n",
    "qml.simplify(qml.adjoint(qml.RX(1.23, 0)))\n",
    "qml.simplify(qml.ops.Pow(qml.RX(1, 0), 3))\n",
    "qml.simplify(qml.sum(qml.Y(3), qml.Y(3)))                # DEVE ESSERE CAMBIATA IN 2.0 ANZICHÈ 2    https://docs.pennylane.ai/en/latest/introduction/compiling_circuits.html\n",
    "#qml.simplify(qml.RX(1, 0) @ qml.RX(1, 0))\n",
    "#qml.simplify(qml.prod(qml.X(0), qml.Z(0)))"
   ]
  },
  {
   "cell_type": "code",
   "execution_count": 7,
   "metadata": {},
   "outputs": [],
   "source": [
    "dev = qml.device('default.qubit', wires=4)\n",
    "\n",
    "@qml.qnode(dev, diff_method='parameter-shift')\n",
    "def circuit(x, y):\n",
    "    qml.RX(x[0], wires=0)\n",
    "    qml.Toffoli(wires=(0, 1, 2))\n",
    "    qml.CRY(x[1], wires=(0, 1))\n",
    "    qml.Rot(x[2], x[3], y, wires=0)\n",
    "    return qml.expval(qml.Z(0)), qml.expval(qml.X(1))"
   ]
  },
  {
   "cell_type": "code",
   "execution_count": 8,
   "metadata": {},
   "outputs": [
    {
     "data": {
      "text/plain": [
       "{'resources': Resources(num_wires=3, num_gates=4, gate_types=defaultdict(<class 'int'>, {'RX': 1, 'Toffoli': 1, 'CRY': 1, 'Rot': 1}), gate_sizes=defaultdict(<class 'int'>, {1: 2, 3: 1, 2: 1}), depth=4, shots=Shots(total_shots=None, shot_vector=())),\n",
       " 'errors': {},\n",
       " 'num_observables': 2,\n",
       " 'num_diagonalizing_gates': 1,\n",
       " 'num_trainable_params': 4,\n",
       " 'num_device_wires': 3,\n",
       " 'device_name': 'default.qubit',\n",
       " 'expansion_strategy': 'gradient',\n",
       " 'gradient_options': {},\n",
       " 'interface': 'auto',\n",
       " 'diff_method': 'parameter-shift',\n",
       " 'gradient_fn': 'pennylane.gradients.parameter_shift.param_shift',\n",
       " 'num_gradient_executions': 10}"
      ]
     },
     "execution_count": 8,
     "metadata": {},
     "output_type": "execute_result"
    }
   ],
   "source": [
    "x = np.array([0.05, 0.1, 0.2, 0.3], requires_grad=True)\n",
    "y = np.array(0.4, requires_grad=False)\n",
    "specs_func = qml.specs(circuit)\n",
    "specs_func(x, y)                                                # DEVE ESSERE CAMBIATO"
   ]
  },
  {
   "cell_type": "code",
   "execution_count": 10,
   "metadata": {},
   "outputs": [
    {
     "data": {
      "text/plain": [
       "0.0"
      ]
     },
     "execution_count": 10,
     "metadata": {},
     "output_type": "execute_result"
    }
   ],
   "source": [
    "dev = qml.device(\"default.qubit\", wires=2)\n",
    "\n",
    "@qml.qnode(dev, interface=None)\n",
    "def circuit():\n",
    "    qml.Snapshot(measurement=qml.expval(qml.Z(0)))\n",
    "    qml.Hadamard(wires=0)\n",
    "    qml.Snapshot(\"very_important_state\")\n",
    "    qml.CNOT(wires=[0, 1])\n",
    "    qml.Snapshot()\n",
    "    return qml.expval(qml.X(0))\n",
    "\n",
    "circuit()"
   ]
  },
  {
   "cell_type": "code",
   "execution_count": 5,
   "metadata": {},
   "outputs": [
    {
     "name": "stderr",
     "output_type": "stream",
     "text": [
      "/tmp/ipykernel_279379/1845537931.py:18: UserWarning: FigureCanvasAgg is non-interactive, and thus cannot be shown\n",
      "  fig.show()\n"
     ]
    },
    {
     "data": {
      "image/png": "[encoded data removed]",
      "text/plain": [
       "<Figure size 1100x600 with 1 Axes>"
      ]
     },
     "metadata": {},
     "output_type": "display_data"
    }
   ],
   "source": [
    "dev = qml.device('default.qubit')\n",
    "\n",
    "@qml.qnode(dev)\n",
    "def circuit(x, z):\n",
    "    qml.QFT(wires=(0,1,2,3))\n",
    "    qml.IsingXX(1.234, wires=(0,2))\n",
    "    qml.Toffoli(wires=(0,1,2))\n",
    "    mcm = qml.measure(1)\n",
    "    mcm_out = qml.measure(2)\n",
    "    qml.CSWAP(wires=(0,2,3))\n",
    "    qml.RX(x, wires=0)\n",
    "    qml.cond(mcm, qml.RY)(np.pi / 4, wires=3)\n",
    "    qml.CRZ(z, wires=(3,0))\n",
    "    return qml.expval(qml.Z(0)), qml.probs(op=mcm_out)\n",
    "\n",
    "\n",
    "fig, ax = qml.draw_mpl(circuit)(1.2345,1.2345)\n",
    "fig.show()"
   ]
  },
  {
   "cell_type": "code",
   "execution_count": 37,
   "metadata": {},
   "outputs": [
    {
     "name": "stdout",
     "output_type": "stream",
     "text": [
      "0: ─╭QFT─╭IsingXX(1.23)─╭●───────────╭●─────RX(1.23)─╭RZ(1.23)─┤  <Z>       \n",
      "1: ─├QFT─│──────────────├●──┤↗├──────│───────────────│─────────┤            \n",
      "2: ─├QFT─╰IsingXX(1.23)─╰X───║───┤↗├─├SWAP───────────│─────────┤            \n",
      "3: ─╰QFT─────────────────────║────║──╰SWAP──RY(0.79)─╰●────────┤            \n",
      "                             ╚════║═════════╝                               \n",
      "                                  ╚════════════════════════════╡  Probs[MCM]\n"
     ]
    }
   ],
   "source": [
    "print(qml.draw(circuit)(1.2345,1.2345))"
   ]
  },
  {
   "cell_type": "code",
   "execution_count": 38,
   "metadata": {},
   "outputs": [],
   "source": [
    "dev = qml.device(\"default.qubit\", wires=2)\n",
    "\n",
    "@qml.qnode(dev, interface=None)\n",
    "def circuit():\n",
    "    qml.Snapshot(measurement=qml.expval(qml.Z(0)))\n",
    "    qml.Hadamard(wires=0)\n",
    "    qml.Snapshot(\"very_important_state\")\n",
    "    qml.CNOT(wires=[0, 1])\n",
    "    qml.Snapshot()\n",
    "    return qml.expval(qml.X(0))"
   ]
  },
  {
   "cell_type": "code",
   "execution_count": 39,
   "metadata": {},
   "outputs": [
    {
     "data": {
      "text/plain": [
       "0.0"
      ]
     },
     "execution_count": 39,
     "metadata": {},
     "output_type": "execute_result"
    }
   ],
   "source": [
    "circuit()"
   ]
  },
  {
   "cell_type": "code",
   "execution_count": 40,
   "metadata": {},
   "outputs": [
    {
     "data": {
      "text/plain": [
       "{0: 1.0,\n",
       " 'very_important_state': array([0.70710678+0.j, 0.        +0.j, 0.70710678+0.j, 0.        +0.j]),\n",
       " 2: array([0.70710678+0.j, 0.        +0.j, 0.        +0.j, 0.70710678+0.j]),\n",
       " 'execution_results': 0.0}"
      ]
     },
     "execution_count": 40,
     "metadata": {},
     "output_type": "execute_result"
    }
   ],
   "source": [
    "qml.snapshots(circuit)()"
   ]
  },
  {
   "cell_type": "code",
   "execution_count": 21,
   "metadata": {},
   "outputs": [
    {
     "name": "stdout",
     "output_type": "stream",
     "text": [
      "Frisus log: supports_derivatives called with:\n",
      "execution_config=ExecutionConfig(grad_on_execution=None, use_device_gradient=None, use_device_jacobian_product=False, gradient_method='best', gradient_keyword_arguments={}, device_options={}, interface=None, derivative_order=1)\n",
      "circuit=None\n",
      "\n",
      "Frisus log: supports_derivatives called with:\n",
      "execution_config=ExecutionConfig(grad_on_execution=None, use_device_gradient=None, use_device_jacobian_product=False, gradient_method='best', gradient_keyword_arguments={}, device_options={}, interface=None, derivative_order=1)\n",
      "circuit=None\n",
      "\n",
      "Frisus log: supports_derivatives called with:\n",
      "execution_config=ExecutionConfig(grad_on_execution=None, use_device_gradient=None, use_device_jacobian_product=False, gradient_method='best', gradient_keyword_arguments={}, device_options={}, interface=None, derivative_order=1)\n",
      "circuit=<QuantumScript: wires=[0, 1], params=0>\n",
      "\n",
      "Frisus log: supports_derivatives called with:\n",
      "execution_config=ExecutionConfig(grad_on_execution=None, use_device_gradient=None, use_device_jacobian_product=False, gradient_method='best', gradient_keyword_arguments={}, device_options={}, interface=None, derivative_order=1)\n",
      "circuit=<QuantumScript: wires=[0, 1], params=0>\n",
      "\n",
      "Frisus log: execute called with:\n",
      "execution_config=ExecutionConfig(grad_on_execution=True, use_device_gradient=False, use_device_jacobian_product=False, gradient_method='gradient-transform', gradient_keyword_arguments={}, device_options={'rng': Generator(PCG64) at 0x7A1B8113D4A0, 'c_dtype': <class 'numpy.complex128'>, 'batch_obs': False, 'mcmc': False, 'kernel_name': None, 'num_burnin': 0}, interface='autograd', derivative_order=1)\n",
      "circuits=(<QuantumScript: wires=[0, 1, 2], params=0>,)\n",
      "\n"
     ]
    }
   ],
   "source": [
    "import numpy as np\n",
    "\n",
    "@qml.qnode(dev)\n",
    "def measured_circuit(x):\n",
    "    qml.IsingXX(x, wires=[0,1])\n",
    "    m = qml.measure(1)\n",
    "    return qml.density_matrix(wires=[0]), qml.probs(op=m)\n",
    "\n",
    "@qml.qnode(dev)\n",
    "def measured_circuit(x):\n",
    "    qml.IsingXX(x, wires=[0,1])\n",
    "    m = qml.measure(1)\n",
    "    return qml.density_matrix(wires=[0]), qml.probs(op=m)\n",
    "\n",
    "dm, probs = measured_circuit(np.pi/2)\n",
    "#dm\n",
    "#probs   # DEVE ESSERE CAMBIATO"
   ]
  },
  {
   "cell_type": "code",
   "execution_count": null,
   "metadata": {},
   "outputs": [],
   "source": []
  },
  {
   "cell_type": "code",
   "execution_count": 11,
   "metadata": {},
   "outputs": [
    {
     "name": "stdout",
     "output_type": "stream",
     "text": [
      "Frisus log: supports_derivatives called with:\n",
      "execution_config=ExecutionConfig(grad_on_execution=None, use_device_gradient=None, use_device_jacobian_product=False, gradient_method='best', gradient_keyword_arguments={}, device_options={}, interface=None, derivative_order=1)\n",
      "circuit=None\n",
      "\n",
      "Frisus log: supports_derivatives called with:\n",
      "execution_config=ExecutionConfig(grad_on_execution=None, use_device_gradient=None, use_device_jacobian_product=False, gradient_method='best', gradient_keyword_arguments={}, device_options={}, interface=None, derivative_order=1)\n",
      "circuit=<QuantumScript: wires=[0, 1, 2, 3], params=0>\n",
      "\n",
      "Frisus log: execute_and_compute_derivatives called with:\n",
      "execution_config=ExecutionConfig(grad_on_execution=True, use_device_gradient=True, use_device_jacobian_product=False, gradient_method='adjoint', gradient_keyword_arguments={}, device_options={'rng': Generator(PCG64) at 0x7A1B8113D4A0, 'c_dtype': <class 'numpy.complex128'>, 'batch_obs': False, 'mcmc': False, 'kernel_name': None, 'num_burnin': 0}, interface='autograd', derivative_order=1)\n",
      "circuits=(<QuantumScript: wires=[0, 1, 2, 3], params=0>,)\n",
      "\n"
     ]
    }
   ],
   "source": [
    "import pennylane as qml\n",
    "from pennylane import CircuitGraph\n",
    "\n",
    "dev = qml.device('lightning.qubit', wires=(0,1,2,3))\n",
    "\n",
    "@qml.qnode(dev)\n",
    "def circuit():\n",
    "    qml.Hadamard(0)\n",
    "    qml.CNOT([1, 2])\n",
    "    qml.CNOT([2, 3])\n",
    "    qml.CNOT([3, 1])\n",
    "    return qml.expval(qml.Z(0))\n",
    "\n",
    "\n",
    "circuit()\n",
    "tape = circuit.qtape\n",
    "ops = tape.operations\n",
    "obs = tape.observables\n",
    "g = CircuitGraph(ops, obs, tape.wires)"
   ]
  },
  {
   "cell_type": "code",
   "execution_count": 12,
   "metadata": {},
   "outputs": [
    {
     "data": {
      "text/plain": [
       "rustworkx.PyDiGraph"
      ]
     },
     "execution_count": 12,
     "metadata": {},
     "output_type": "execute_result"
    }
   ],
   "source": [
    "type(g.graph)     # DEVE ESSERE CAMBIATO"
   ]
  },
  {
   "cell_type": "code",
   "execution_count": 13,
   "metadata": {},
   "outputs": [
    {
     "data": {
      "text/plain": [
       "False"
      ]
     },
     "execution_count": 13,
     "metadata": {},
     "output_type": "execute_result"
    }
   ],
   "source": [
    "g.has_path(ops[0], ops[1])\n",
    "#g.has_path(ops[1], ops[3])"
   ]
  },
  {
   "cell_type": "code",
   "execution_count": 47,
   "metadata": {},
   "outputs": [
    {
     "data": {
      "text/plain": [
       "True"
      ]
     },
     "execution_count": 47,
     "metadata": {},
     "output_type": "execute_result"
    }
   ],
   "source": [
    "g.has_path(ops[0], obs[0])\n",
    "#g.has_path(ops[1], obs[0])\n",
    "#g.has_path(obs[0], ops[0])"
   ]
  },
  {
   "cell_type": "code",
   "execution_count": 48,
   "metadata": {},
   "outputs": [
    {
     "name": "stdout",
     "output_type": "stream",
     "text": [
      "Wrapped(Hadamard(wires=[0])) {Wrapped(expval(Z(0))): {0: {'wire': 0}}}\n",
      "Wrapped(CNOT(wires=[1, 2])) {Wrapped(CNOT(wires=[2, 3])): {0: {'wire': 2}}, Wrapped(CNOT(wires=[3, 1])): {0: {'wire': 1}}}\n",
      "Wrapped(CNOT(wires=[2, 3])) {Wrapped(CNOT(wires=[3, 1])): {0: {'wire': 3}}}\n",
      "Wrapped(CNOT(wires=[3, 1])) {}\n",
      "Wrapped(expval(Z(0))) {}\n"
     ]
    }
   ],
   "source": [
    "g2 = qml.qcut.tape_to_graph(tape)\n",
    "type(g2)\n",
    "for k, v in g2.adjacency():\n",
    "   print(k, v)                             # QUESTO VA CAMBIATO"
   ]
  },
  {
   "cell_type": "code",
   "execution_count": 49,
   "metadata": {},
   "outputs": [],
   "source": [
    "def circuit(x, y, z):\n",
    "    qml.RX(x, wires=0)\n",
    "    qml.RX(y, wires=0)\n",
    "    qml.CNOT(wires=[1, 2])\n",
    "    qml.RY(y, wires=1)\n",
    "    qml.Hadamard(wires=2)\n",
    "    qml.CRZ(z, wires=[2, 0])\n",
    "    qml.RY(-y, wires=1)\n",
    "    return qml.expval(qml.Z(0))\n",
    "dag_fn = qml.commutation_dag(circuit)\n",
    "dag = dag_fn(np.pi / 4, np.pi / 3, np.pi / 2)"
   ]
  },
  {
   "cell_type": "code",
   "execution_count": 50,
   "metadata": {},
   "outputs": [
    {
     "data": {
      "text/plain": [
       "NodeDataView({0: <pennylane.transforms.commutation_dag.CommutationDAGNode object at 0x7d62284d9ac0>, 1: <pennylane.transforms.commutation_dag.CommutationDAGNode object at 0x7d62284d9e20>, 2: <pennylane.transforms.commutation_dag.CommutationDAGNode object at 0x7d62284d9c40>, 3: <pennylane.transforms.commutation_dag.CommutationDAGNode object at 0x7d62284d9ca0>, 4: <pennylane.transforms.commutation_dag.CommutationDAGNode object at 0x7d62284d9d60>, 5: <pennylane.transforms.commutation_dag.CommutationDAGNode object at 0x7d62284d9a60>, 6: <pennylane.transforms.commutation_dag.CommutationDAGNode object at 0x7d62284d9dc0>}, data='node')"
      ]
     },
     "execution_count": 50,
     "metadata": {},
     "output_type": "execute_result"
    }
   ],
   "source": [
    "nodes = dag.get_nodes()\n",
    "nodes"
   ]
  },
  {
   "cell_type": "code",
   "execution_count": 57,
   "metadata": {},
   "outputs": [],
   "source": [
    "dev = qml.device(\"default.qubit\", wires=2)\n",
    "\n",
    "@qml.qnode(dev)\n",
    "def measured_circuit(x):\n",
    "    qml.IsingXX(x, wires=[0,1])\n",
    "    m = qml.measure(1)\n",
    "    return qml.density_matrix(wires=[0]), qml.probs(op=m)\n",
    "\n",
    "dm, probs = measured_circuit(np.pi/2)"
   ]
  },
  {
   "cell_type": "code",
   "execution_count": 58,
   "metadata": {},
   "outputs": [
    {
     "data": {
      "text/plain": [
       "tensor([[0.5+0.j, 0. +0.j],\n",
       "        [0. +0.j, 0.5+0.j]], requires_grad=True)"
      ]
     },
     "execution_count": 58,
     "metadata": {},
     "output_type": "execute_result"
    }
   ],
   "source": [
    "dm"
   ]
  },
  {
   "cell_type": "code",
   "execution_count": 59,
   "metadata": {},
   "outputs": [
    {
     "data": {
      "text/plain": [
       "tensor([0.5, 0.5], requires_grad=True)"
      ]
     },
     "execution_count": 59,
     "metadata": {},
     "output_type": "execute_result"
    }
   ],
   "source": [
    "probs"
   ]
  },
  {
   "cell_type": "code",
   "execution_count": 22,
   "metadata": {},
   "outputs": [],
   "source": [
    "import pennylane.numpy as pnp\n",
    "\n",
    "dev = qml.device(\"default.qubit\")\n",
    "\n",
    "@qml.qnode(dev)\n",
    "def circ(params):\n",
    "    qml.RX(params[0], wires=0)\n",
    "    qml.CNOT([0, 1])\n",
    "    qml.CRY(params[1], wires=[1, 0])\n",
    "    qml.Hadamard(1)\n",
    "    return qml.probs(wires=[0, 1])"
   ]
  },
  {
   "cell_type": "code",
   "execution_count": 24,
   "metadata": {},
   "outputs": [
    {
     "data": {
      "text/plain": [
       "tensor([0.41850088, 0.41850088, 0.08149912, 0.08149912], requires_grad=True)"
      ]
     },
     "execution_count": 24,
     "metadata": {},
     "output_type": "execute_result"
    }
   ],
   "source": [
    "pnp.random.seed(25)\n",
    "params = pnp.random.random(2)\n",
    "circ(params)                                # MUST BE CHANGED"
   ]
  },
  {
   "cell_type": "code",
   "execution_count": 25,
   "metadata": {},
   "outputs": [
    {
     "data": {
      "text/plain": [
       "tensor([[ 0.90156094, -0.12555804],\n",
       "        [-0.12555804,  0.01748614]], requires_grad=True)"
      ]
     },
     "execution_count": 25,
     "metadata": {},
     "output_type": "execute_result"
    }
   ],
   "source": [
    "cfim_func = qml.qinfo.classical_fisher(circ)\n",
    "cfim_func(params)                           # MUST BE CHANGED"
   ]
  },
  {
   "cell_type": "code",
   "execution_count": 26,
   "metadata": {},
   "outputs": [
    {
     "ename": "TypeError",
     "evalue": "array() got an unexpected keyword argument 'requires_grad'",
     "output_type": "error",
     "traceback": [
      "\u001b[0;31m---------------------------------------------------------------------------\u001b[0m",
      "\u001b[0;31mTypeError\u001b[0m                                 Traceback (most recent call last)",
      "Cell \u001b[0;32mIn[26], line 15\u001b[0m\n\u001b[1;32m     12\u001b[0m     qml\u001b[38;5;241m.\u001b[39mmeasure(\u001b[38;5;241m1\u001b[39m)\n\u001b[1;32m     13\u001b[0m     \u001b[38;5;28;01mreturn\u001b[39;00m qml\u001b[38;5;241m.\u001b[39mshadow_expval(H)\n\u001b[0;32m---> 15\u001b[0m x \u001b[38;5;241m=\u001b[39m \u001b[43mnp\u001b[49m\u001b[38;5;241;43m.\u001b[39;49m\u001b[43marray\u001b[49m\u001b[43m(\u001b[49m\u001b[38;5;241;43m0.5\u001b[39;49m\u001b[43m,\u001b[49m\u001b[43m \u001b[49m\u001b[43mrequires_grad\u001b[49m\u001b[38;5;241;43m=\u001b[39;49m\u001b[38;5;28;43;01mTrue\u001b[39;49;00m\u001b[43m)\u001b[49m\n",
      "\u001b[0;31mTypeError\u001b[0m: array() got an unexpected keyword argument 'requires_grad'"
     ]
    }
   ],
   "source": [
    "H = qml.Hamiltonian([1., 1.], [qml.Z(0) @ qml.Z(1), qml.X(0) @ qml.Z(1)])\n",
    "\n",
    "dev = qml.device(\"default.qubit\", shots=10000)\n",
    "\n",
    "# shadow_expval + mid-circuit measurements require to defer measurements\n",
    "@qml.defer_measurements\n",
    "@qml.qnode(dev)\n",
    "def qnode(x):\n",
    "    qml.Hadamard(0)\n",
    "    qml.CNOT((0,1))\n",
    "    qml.RX(x, wires=0)\n",
    "    qml.measure(1)\n",
    "    return qml.shadow_expval(H)\n",
    "\n",
    "x = np.array(0.5, requires_grad=True)"
   ]
  },
  {
   "cell_type": "code",
   "execution_count": 69,
   "metadata": {},
   "outputs": [
    {
     "data": {
      "text/plain": [
       "array(0.8514)"
      ]
     },
     "execution_count": 69,
     "metadata": {},
     "output_type": "execute_result"
    }
   ],
   "source": [
    "qnode(x)\n",
    "#qml.grad(qnode)(x)"
   ]
  },
  {
   "cell_type": "code",
   "execution_count": 70,
   "metadata": {},
   "outputs": [],
   "source": [
    "wires = 3\n",
    "\n",
    "dev = qml.device('default.qubit',wires=wires)\n",
    "\n",
    "@qml.qnode(dev)\n",
    "def circuit_qft(basis_state):\n",
    "    qml.BasisState(basis_state, wires=range(wires))\n",
    "    qml.QFT(wires=range(wires))\n",
    "    return qml.state()"
   ]
  },
  {
   "cell_type": "code",
   "execution_count": 71,
   "metadata": {},
   "outputs": [
    {
     "data": {
      "text/plain": [
       "tensor([ 0.35355339+0.j, -0.35355339+0.j,  0.35355339+0.j,\n",
       "        -0.35355339+0.j,  0.35355339+0.j, -0.35355339+0.j,\n",
       "         0.35355339+0.j, -0.35355339+0.j], requires_grad=True)"
      ]
     },
     "execution_count": 71,
     "metadata": {},
     "output_type": "execute_result"
    }
   ],
   "source": [
    "circuit_qft(np.array([1.0, 0.0, 0.0]))"
   ]
  },
  {
   "cell_type": "code",
   "execution_count": 31,
   "metadata": {},
   "outputs": [],
   "source": [
    "dev = qml.device(\"default.qubit\", shots=1)\n",
    "\n",
    "@qml.qnode(dev)\n",
    "def qft_add(m, k, n_wires):\n",
    "    qml.BasisEmbedding(m, wires=range(n_wires))\n",
    "    qml.adjoint(qml.QFT)(wires=range(n_wires))\n",
    "    for j in range(n_wires):\n",
    "        qml.RZ(-k * np.pi / (2**j), wires=j)\n",
    "    qml.QFT(wires=range(n_wires))\n",
    "    return qml.sample()"
   ]
  },
  {
   "cell_type": "code",
   "execution_count": 32,
   "metadata": {},
   "outputs": [
    {
     "data": {
      "text/plain": [
       "array([1, 0, 1, 0])"
      ]
     },
     "execution_count": 32,
     "metadata": {},
     "output_type": "execute_result"
    }
   ],
   "source": [
    "qft_add(7, 3, n_wires=4)"
   ]
  },
  {
   "cell_type": "code",
   "execution_count": 33,
   "metadata": {},
   "outputs": [],
   "source": [
    "def scFT(n_wires):\n",
    "    '''semiclassical Fourier transform'''\n",
    "    for w in range(n_wires-1):\n",
    "        qml.Hadamard(w)\n",
    "        mcm = qml.measure(w)\n",
    "        for m in range(w + 1, n_wires):\n",
    "            qml.cond(mcm, qml.PhaseShift)(np.pi / 2 ** (m + 1), wires=m)\n",
    "    qml.Hadamard(n_wires-1)\n",
    "\n",
    "@qml.qnode(dev)\n",
    "def scFT_add(m, k, n_wires):\n",
    "    qml.BasisEmbedding(m, wires=range(n_wires))\n",
    "    qml.adjoint(qml.QFT)(wires=range(n_wires))\n",
    "    for j in range(n_wires):\n",
    "        qml.RZ(-k * np.pi / (2**j), wires=j)\n",
    "    scFT(n_wires)\n",
    "    # Revert wire order because of PL's QFT convention\n",
    "    return qml.sample(wires=list(range(n_wires-1, -1, -1)))"
   ]
  },
  {
   "cell_type": "code",
   "execution_count": 34,
   "metadata": {},
   "outputs": [
    {
     "data": {
      "text/plain": [
       "array([1, 0, 1, 0])"
      ]
     },
     "execution_count": 34,
     "metadata": {},
     "output_type": "execute_result"
    }
   ],
   "source": [
    "scFT_add(7, 3, n_wires=4)"
   ]
  },
  {
   "cell_type": "markdown",
   "metadata": {},
   "source": [
    "## PR 21\n",
    "\n",
    "https://github.com/PennyLaneAI/pennylane/pull/5273"
   ]
  },
  {
   "cell_type": "markdown",
   "metadata": {},
   "source": [
    "## PR 22\n",
    "\n",
    "https://github.com/PennyLaneAI/pennylane/pull/5418"
   ]
  },
  {
   "cell_type": "code",
   "execution_count": 1,
   "metadata": {},
   "outputs": [
    {
     "data": {
      "text/plain": [
       "array([1., 0.])"
      ]
     },
     "execution_count": 1,
     "metadata": {},
     "output_type": "execute_result"
    }
   ],
   "source": [
    "import pennylane as qml\n",
    "\n",
    "def example_value(m):\n",
    "    tape = qml.tape.QuantumScript((), (m,), shots=50)\n",
    "    return qml.device('default.qubit').execute(tape)\n",
    "example_value(qml.probs(wires=0))\n",
    "#example_value(qml.expval(qml.Z(0)))\n",
    "#example_value(qml.counts(wires=0))\n",
    "#example_value(qml.sample(wires=0))"
   ]
  },
  {
   "cell_type": "code",
   "execution_count": 10,
   "metadata": {},
   "outputs": [
    {
     "name": "stdout",
     "output_type": "stream",
     "text": [
      "[1. 0. 0. 0. 0. 0. 0. 0.]\n"
     ]
    }
   ],
   "source": [
    "qml.probs().wires\n",
    "tape = qml.tape.QuantumScript([qml.S(0)], (qml.probs(),))\n",
    "qml.device('default.qubit').execute(tape)\n",
    "print(qml.device('default.mixed', wires=(0,1,2)).execute(tape))           # DEVE ESSERE CAMBIATO"
   ]
  },
  {
   "cell_type": "code",
   "execution_count": 8,
   "metadata": {},
   "outputs": [
    {
     "data": {
      "text/plain": [
       "array([[1.        , 0.        ],\n",
       "       [0.85355339, 0.14644661],\n",
       "       [0.5       , 0.5       ]])"
      ]
     },
     "execution_count": 8,
     "metadata": {},
     "output_type": "execute_result"
    }
   ],
   "source": [
    "import numpy as np\n",
    "\n",
    "op = qml.RX((0, np.pi/4, np.pi/2), wires=0)                               # DEVE ESSERE CAMBIATO (THERE IS UNA PARENTESI DI TROPPO)\n",
    "tape = qml.tape.QuantumScript((op,), [qml.probs(wires=0)])\n",
    "result = qml.device('default.qubit').execute(tape)\n",
    "result\n",
    "#result.shape\n",
    "#tape = qml.tape.QuantumScript((op,), [qml.expval(qml.Z(0))])\n",
    "#result = qml.device('default.qubit').execute(tape)\n",
    "#result\n",
    "#result.shape"
   ]
  },
  {
   "cell_type": "code",
   "execution_count": 94,
   "metadata": {},
   "outputs": [
    {
     "data": {
      "text/plain": [
       "array([{'0': 50}, {'0': 39, '1': 11}, {'0': 27, '1': 23}], dtype=object)"
      ]
     },
     "execution_count": 94,
     "metadata": {},
     "output_type": "execute_result"
    }
   ],
   "source": [
    "tape = qml.tape.QuantumScript((op,), (qml.counts(),), shots=50)\n",
    "result = qml.device('default.qubit').execute(tape)\n",
    "result\n",
    "batch, fn = qml.transforms.broadcast_expand(tape)\n",
    "fn(qml.device('default.qubit').execute(batch))"
   ]
  },
  {
   "cell_type": "code",
   "execution_count": 95,
   "metadata": {},
   "outputs": [
    {
     "data": {
      "text/plain": [
       "(1.0, array([1., 0.]), array([1.+0.j, 0.+0.j]))"
      ]
     },
     "execution_count": 95,
     "metadata": {},
     "output_type": "execute_result"
    }
   ],
   "source": [
    "tape = qml.tape.QuantumScript((), (qml.expval(qml.Z(0)), qml.probs(wires=0), qml.state()))\n",
    "qml.device('default.qubit').execute(tape)"
   ]
  },
  {
   "cell_type": "code",
   "execution_count": 112,
   "metadata": {},
   "outputs": [
    {
     "data": {
      "text/plain": [
       "((1.0, array([1., 0.])), (1.0, array([1., 0.])), (1.0, array([1., 0.])))"
      ]
     },
     "execution_count": 112,
     "metadata": {},
     "output_type": "execute_result"
    }
   ],
   "source": [
    "measurements = (qml.expval(qml.Z(0)), qml.probs(wires=0))\n",
    "tape = qml.tape.QuantumScript((), measurements, shots=(50,50,50))\n",
    "result = qml.device('default.qubit').execute(tape)\n",
    "result\n",
    "#result[0]\n",
    "#tape = qml.tape.QuantumScript((), [qml.counts(wires=0)], shots=(1, 10, 100))\n",
    "#qml.device('default.qubit').execute(tape)"
   ]
  },
  {
   "cell_type": "code",
   "execution_count": 104,
   "metadata": {},
   "outputs": [
    {
     "data": {
      "text/plain": [
       "((array([-1., -1., -1.]),\n",
       "  array([[0., 1.],\n",
       "         [0., 1.],\n",
       "         [0., 1.]]),\n",
       "  [{'1': 1}, {'1': 1}, {'1': 1}]),\n",
       " (array([ 0.36, -0.58, -0.98]),\n",
       "  array([[0.67, 0.33],\n",
       "         [0.15, 0.85],\n",
       "         [0.  , 1.  ]]),\n",
       "  [{'0': 67, '1': 33}, {'0': 15, '1': 85}, {'1': 100}]),\n",
       " (array([ 0.336, -0.692, -0.958]),\n",
       "  array([[0.667, 0.333],\n",
       "         [0.169, 0.831],\n",
       "         [0.015, 0.985]]),\n",
       "  [{'0': 667, '1': 333}, {'0': 169, '1': 831}, {'0': 15, '1': 985}]))"
      ]
     },
     "execution_count": 104,
     "metadata": {},
     "output_type": "execute_result"
    }
   ],
   "source": [
    "op = qml.RX((1.2, 2.3, 3.4), 0)\n",
    "ms = (qml.expval(qml.Z(0)), qml.probs(wires=0), qml.counts())\n",
    "tape = qml.tape.QuantumScript((op,), ms, shots=(1, 100, 1000))\n",
    "result = qml.device('default.qubit').execute(tape)\n",
    "result"
   ]
  },
  {
   "cell_type": "code",
   "execution_count": 105,
   "metadata": {},
   "outputs": [
    {
     "data": {
      "text/plain": [
       "[{'0': 67, '1': 33}, {'0': 15, '1': 85}, {'1': 100}]"
      ]
     },
     "execution_count": 105,
     "metadata": {},
     "output_type": "execute_result"
    }
   ],
   "source": [
    "result[0][0] # first shot value, first measurement\n",
    "result[0][0][0] # first shot value, first measurement, and parameter of 1.2\n",
    "result[1][2] # second shot value, third measurement, all three parameter values"
   ]
  },
  {
   "cell_type": "code",
   "execution_count": 107,
   "metadata": {},
   "outputs": [
    {
     "data": {
      "text/plain": [
       "(array([0.+0.j, 1.+0.j]), {'0': 44, '1': 56}, (1.0, 0.0))"
      ]
     },
     "execution_count": 107,
     "metadata": {},
     "output_type": "execute_result"
    }
   ],
   "source": [
    "tape1 = qml.tape.QuantumScript([qml.X(0)], [qml.state()])\n",
    "tape2 = qml.tape.QuantumScript([qml.Hadamard(0)], [qml.counts()], shots=100)\n",
    "tape3 = qml.tape.QuantumScript([], [qml.expval(qml.Z(0)), qml.expval(qml.X(0))])\n",
    "batch = (tape1, tape2, tape3)\n",
    "qml.device('default.qubit').execute(batch)"
   ]
  },
  {
   "cell_type": "markdown",
   "metadata": {},
   "source": [
    "## PR 23\n",
    "\n",
    "https://github.com/PennyLaneAI/pennylane/pull/5514"
   ]
  },
  {
   "cell_type": "code",
   "execution_count": 116,
   "metadata": {},
   "outputs": [
    {
     "name": "stdout",
     "output_type": "stream",
     "text": [
      "{-1: 45, 1: 55}\n",
      "{'0': 56, '1': 44}\n"
     ]
    }
   ],
   "source": [
    "import pennylane as qml\n",
    "import torch\n",
    "\n",
    "shots=100\n",
    "#qml.enable_return()\n",
    "\n",
    "measurements = [qml.counts(qml.PauliZ(0)), qml.counts(wires=[0])]\n",
    "\n",
    "devices = [\"default.mixed\"]\n",
    "\n",
    "\n",
    "for m in measurements:\n",
    "    for d in devices:\n",
    "        dev = qml.device(d, wires=2, shots=shots)\n",
    "\n",
    "        def circuit(x):\n",
    "            qml.Hadamard(wires=[0])\n",
    "            qml.CRX(x, wires=[0, 1])\n",
    "            return qml.apply(m)\n",
    "\n",
    "        qnode = qml.QNode(circuit, dev, diff_method=None)\n",
    "        res = qnode(torch.tensor(0.5, requires_grad=True))\n",
    "        print(res)"
   ]
  },
  {
   "cell_type": "markdown",
   "metadata": {},
   "source": []
  },
  {
   "cell_type": "code",
   "execution_count": 117,
   "metadata": {},
   "outputs": [
    {
     "data": {
      "text/plain": [
       "array([-0.6,  0.2])"
      ]
     },
     "execution_count": 117,
     "metadata": {},
     "output_type": "execute_result"
    }
   ],
   "source": [
    "import pennylane as qml\n",
    "import numpy as np\n",
    "\n",
    "dev = qml.device(\"default.qubit\", shots=10)\n",
    "\n",
    "@qml.qnode(dev)\n",
    "def f(x):\n",
    "    for i in range(100):\n",
    "        qml.RY(x, 0)\n",
    "        m = qml.measure(0)\n",
    "    return qml.expval(qml.PauliX(0))\n",
    "\n",
    "x = np.array([0.4, 0.6])\n",
    "f(x)"
   ]
  },
  {
   "cell_type": "markdown",
   "metadata": {},
   "source": [
    "## PR 24\n",
    "\n",
    "https://github.com/PennyLaneAI/pennylane/pull/5473"
   ]
  },
  {
   "cell_type": "markdown",
   "metadata": {},
   "source": [
    "## PR 25\n",
    "\n",
    "https://github.com/PennyLaneAI/pennylane/pull/5451"
   ]
  },
  {
   "cell_type": "markdown",
   "metadata": {},
   "source": [
    "Non funziona un bene amato cazzo"
   ]
  },
  {
   "cell_type": "code",
   "execution_count": 1,
   "metadata": {},
   "outputs": [],
   "source": [
    "import scipy\n",
    "\n",
    "import pennylane as qml\n",
    "\n",
    "n_wires = 5\n",
    "num_qscripts = 5\n",
    "qscripts = []\n",
    "for i in range(num_qscripts):\n",
    "    unitary = scipy.stats.unitary_group(dim=3**n_wires, seed=(42 + i)).rvs()\n",
    "    op = qml.QutritUnitary(unitary, wires=range(n_wires))\n",
    "    qs = qml.tape.QuantumScript([op], [qml.expval(qml.GellMann(0, 3))])\n",
    "    qscripts.append(qs)"
   ]
  },
  {
   "cell_type": "code",
   "execution_count": 3,
   "metadata": {},
   "outputs": [],
   "source": [
    "from pennylane.devices.default_qutrit_mixed import DefaultQutritMixed"
   ]
  },
  {
   "cell_type": "code",
   "execution_count": 4,
   "metadata": {},
   "outputs": [
    {
     "data": {
      "text/plain": [
       "(0.08015701503959316,\n",
       " 0.045214142115993505,\n",
       " -0.021523213008968645,\n",
       " 0.06212028503242595,\n",
       " -0.0635052317625)"
      ]
     },
     "execution_count": 4,
     "metadata": {},
     "output_type": "execute_result"
    }
   ],
   "source": [
    "dev = DefaultQutritMixed()\n",
    "program, execution_config = dev.preprocess()\n",
    "new_batch, post_processing_fn = program(qscripts)\n",
    "results = dev.execute(new_batch, execution_config=execution_config)\n",
    "post_processing_fn(results)"
   ]
  },
  {
   "cell_type": "code",
   "execution_count": 5,
   "metadata": {},
   "outputs": [
    {
     "data": {
      "text/plain": [
       "True"
      ]
     },
     "execution_count": 5,
     "metadata": {},
     "output_type": "execute_result"
    }
   ],
   "source": [
    "from pennylane.devices import ExecutionConfig\n",
    "dev.supports_derivatives(ExecutionConfig(gradient_method=\"backprop\"))"
   ]
  },
  {
   "cell_type": "code",
   "execution_count": 10,
   "metadata": {},
   "outputs": [],
   "source": [
    "import jax\n",
    "\n",
    "@jax.jit\n",
    "def f(x):\n",
    "    qs = qml.tape.QuantumScript([qml.TRX(x, 0)], [qml.expval(qml.GellMann(0, 3))])\n",
    "    program, execution_config = dev.preprocess()\n",
    "    new_batch, post_processing_fn = program([qs])\n",
    "    results = dev.execute(new_batch, execution_config=execution_config)\n",
    "    return post_processing_fn(results)"
   ]
  },
  {
   "cell_type": "code",
   "execution_count": 11,
   "metadata": {},
   "outputs": [
    {
     "name": "stdout",
     "output_type": "stream",
     "text": [
      "(Array(0.36235775, dtype=float64),)\n"
     ]
    },
    {
     "ename": "TypeError",
     "evalue": "Gradient only defined for scalar-output functions. Output was (Array(0.36235775, dtype=float64),).",
     "output_type": "error",
     "traceback": [
      "\u001b[0;31m---------------------------------------------------------------------------\u001b[0m",
      "\u001b[0;31mTypeError\u001b[0m                                 Traceback (most recent call last)",
      "    \u001b[0;31m[... skipping hidden 1 frame]\u001b[0m\n",
      "File \u001b[0;32m~/anaconda3/envs/PennyLane/lib/python3.9/site-packages/jax/_src/core.py:1498\u001b[0m, in \u001b[0;36mget_aval\u001b[0;34m(x)\u001b[0m\n\u001b[1;32m   1497\u001b[0m \u001b[38;5;28;01melse\u001b[39;00m:\n\u001b[0;32m-> 1498\u001b[0m   \u001b[38;5;28;01mreturn\u001b[39;00m \u001b[43mconcrete_aval\u001b[49m\u001b[43m(\u001b[49m\u001b[43mx\u001b[49m\u001b[43m)\u001b[49m\n",
      "File \u001b[0;32m~/anaconda3/envs/PennyLane/lib/python3.9/site-packages/jax/_src/core.py:1490\u001b[0m, in \u001b[0;36mconcrete_aval\u001b[0;34m(x)\u001b[0m\n\u001b[1;32m   1489\u001b[0m   \u001b[38;5;28;01mreturn\u001b[39;00m concrete_aval(x\u001b[38;5;241m.\u001b[39m__jax_array__())\n\u001b[0;32m-> 1490\u001b[0m \u001b[38;5;28;01mraise\u001b[39;00m \u001b[38;5;167;01mTypeError\u001b[39;00m(\u001b[38;5;124mf\u001b[39m\u001b[38;5;124m\"\u001b[39m\u001b[38;5;124mValue \u001b[39m\u001b[38;5;132;01m{\u001b[39;00mx\u001b[38;5;132;01m!r}\u001b[39;00m\u001b[38;5;124m with type \u001b[39m\u001b[38;5;132;01m{\u001b[39;00m\u001b[38;5;28mtype\u001b[39m(x)\u001b[38;5;132;01m}\u001b[39;00m\u001b[38;5;124m is not a valid JAX \u001b[39m\u001b[38;5;124m\"\u001b[39m\n\u001b[1;32m   1491\u001b[0m                  \u001b[38;5;124m\"\u001b[39m\u001b[38;5;124mtype\u001b[39m\u001b[38;5;124m\"\u001b[39m)\n",
      "\u001b[0;31mTypeError\u001b[0m: Value (Array(0.36235775, dtype=float64),) with type <class 'tuple'> is not a valid JAX type",
      "\nThe above exception was the direct cause of the following exception:\n",
      "\u001b[0;31mTypeError\u001b[0m                                 Traceback (most recent call last)",
      "Cell \u001b[0;32mIn[11], line 3\u001b[0m\n\u001b[1;32m      1\u001b[0m jax\u001b[38;5;241m.\u001b[39mconfig\u001b[38;5;241m.\u001b[39mupdate(\u001b[38;5;124m\"\u001b[39m\u001b[38;5;124mjax_enable_x64\u001b[39m\u001b[38;5;124m\"\u001b[39m, \u001b[38;5;28;01mTrue\u001b[39;00m)\n\u001b[1;32m      2\u001b[0m \u001b[38;5;28mprint\u001b[39m(f(jax\u001b[38;5;241m.\u001b[39mnumpy\u001b[38;5;241m.\u001b[39marray(\u001b[38;5;241m1.2\u001b[39m)))\n\u001b[0;32m----> 3\u001b[0m \u001b[38;5;28mprint\u001b[39m(\u001b[43mjax\u001b[49m\u001b[38;5;241;43m.\u001b[39;49m\u001b[43mgrad\u001b[49m\u001b[43m(\u001b[49m\u001b[43mf\u001b[49m\u001b[43m)\u001b[49m\u001b[43m(\u001b[49m\u001b[43mjax\u001b[49m\u001b[38;5;241;43m.\u001b[39;49m\u001b[43mnumpy\u001b[49m\u001b[38;5;241;43m.\u001b[39;49m\u001b[43marray\u001b[49m\u001b[43m(\u001b[49m\u001b[38;5;241;43m1.2\u001b[39;49m\u001b[43m)\u001b[49m\u001b[43m)\u001b[49m)\n",
      "    \u001b[0;31m[... skipping hidden 4 frame]\u001b[0m\n",
      "File \u001b[0;32m~/anaconda3/envs/PennyLane/lib/python3.9/site-packages/jax/_src/api.py:755\u001b[0m, in \u001b[0;36m_check_scalar\u001b[0;34m(x)\u001b[0m\n\u001b[1;32m    753\u001b[0m   aval \u001b[38;5;241m=\u001b[39m core\u001b[38;5;241m.\u001b[39mget_aval(x)\n\u001b[1;32m    754\u001b[0m \u001b[38;5;28;01mexcept\u001b[39;00m \u001b[38;5;167;01mTypeError\u001b[39;00m \u001b[38;5;28;01mas\u001b[39;00m e:\n\u001b[0;32m--> 755\u001b[0m   \u001b[38;5;28;01mraise\u001b[39;00m \u001b[38;5;167;01mTypeError\u001b[39;00m(msg(\u001b[38;5;124mf\u001b[39m\u001b[38;5;124m\"\u001b[39m\u001b[38;5;124mwas \u001b[39m\u001b[38;5;132;01m{\u001b[39;00mx\u001b[38;5;132;01m}\u001b[39;00m\u001b[38;5;124m\"\u001b[39m)) \u001b[38;5;28;01mfrom\u001b[39;00m \u001b[38;5;21;01me\u001b[39;00m\n\u001b[1;32m    756\u001b[0m \u001b[38;5;28;01melse\u001b[39;00m:\n\u001b[1;32m    757\u001b[0m   \u001b[38;5;28;01mif\u001b[39;00m \u001b[38;5;28misinstance\u001b[39m(aval, ShapedArray):\n",
      "\u001b[0;31mTypeError\u001b[0m: Gradient only defined for scalar-output functions. Output was (Array(0.36235775, dtype=float64),)."
     ]
    }
   ],
   "source": [
    "jax.config.update(\"jax_enable_x64\", True)\n",
    "print(f(jax.numpy.array(1.2)))\n",
    "print(jax.grad(f)(jax.numpy.array(1.2)))"
   ]
  },
  {
   "cell_type": "code",
   "execution_count": 9,
   "metadata": {},
   "outputs": [
    {
     "name": "stdout",
     "output_type": "stream",
     "text": [
      "(-0.16080672463537063, -0.3598577856750845)\n",
      "0.36235775447667357\n",
      "-0.9320390859672264\n"
     ]
    }
   ],
   "source": [
    "import jax\n",
    "import pennylane as qml\n",
    "import scipy\n",
    "\n",
    "n_wires = 2\n",
    "num_qscripts = 2\n",
    "qscripts = []\n",
    "for i in range(num_qscripts):\n",
    "    unitary = scipy.stats.unitary_group(dim=3**n_wires, seed=(42 + i)).rvs()\n",
    "    op = qml.QutritUnitary(unitary, wires=range(n_wires))\n",
    "    qs = qml.tape.QuantumScript([op], [qml.expval(qml.GellMann(0, 3))])\n",
    "    qscripts.append(qs)\n",
    "\n",
    "dev = qml.devices.DefaultQutritMixed()\n",
    "program, execution_config = dev.preprocess()\n",
    "new_batch, post_processing_fn = program(qscripts)\n",
    "results = dev.execute(new_batch, execution_config=execution_config)\n",
    "print(post_processing_fn(results))\n",
    "\n",
    "@jax.jit\n",
    "def f(x):\n",
    "    qs = qml.tape.QuantumScript([qml.TRX(x, 0)], [qml.expval(qml.GellMann(0, 3))])\n",
    "    program, execution_config = dev.preprocess()\n",
    "    new_batch, post_processing_fn = program([qs])\n",
    "    results = dev.execute(new_batch, execution_config=execution_config)\n",
    "    return post_processing_fn(results)[0]\n",
    "\n",
    "jax.config.update(\"jax_enable_x64\", True)\n",
    "print(f(jax.numpy.array(1.2)))\n",
    "print(jax.grad(f)(jax.numpy.array(1.2)))"
   ]
  },
  {
   "cell_type": "markdown",
   "metadata": {},
   "source": [
    "## PR 26\n",
    "\n",
    "https://github.com/PennyLaneAI/pennylane/pull/5161"
   ]
  },
  {
   "cell_type": "code",
   "execution_count": 12,
   "metadata": {},
   "outputs": [],
   "source": [
    "from pennylane import X,Y,Z\n",
    "from pennylane.pauli.dla.lie_closure import PauliVSpace\n",
    "\n",
    "ops = [\n",
    "    X(0) @ X(1) + Y(0) @ Y(1),\n",
    "    X(0) @ X(1),\n",
    "    Y(0) @ Y(1)\n",
    "]\n",
    "\n",
    "vspace = PauliVSpace(ops)"
   ]
  },
  {
   "cell_type": "code",
   "execution_count": 13,
   "metadata": {},
   "outputs": [
    {
     "data": {
      "text/plain": [
       "[1.0 * X(0) @ X(1)\n",
       " + 1.0 * Y(0) @ Y(1),\n",
       " 1.0 * X(0) @ X(1)]"
      ]
     },
     "execution_count": 13,
     "metadata": {},
     "output_type": "execute_result"
    }
   ],
   "source": [
    "vspace.basis"
   ]
  },
  {
   "cell_type": "code",
   "execution_count": 14,
   "metadata": {},
   "outputs": [
    {
     "data": {
      "text/plain": [
       "[1.0 * X(0) @ X(1)\n",
       " + 1.0 * Y(0) @ Y(1),\n",
       " 1.0 * X(0) @ X(1),\n",
       " 1.0 * X(0)]"
      ]
     },
     "execution_count": 14,
     "metadata": {},
     "output_type": "execute_result"
    }
   ],
   "source": [
    "vspace.add(qml.X(0))"
   ]
  },
  {
   "cell_type": "code",
   "execution_count": 15,
   "metadata": {},
   "outputs": [
    {
     "data": {
      "text/plain": [
       "[1.0 * X(0) @ X(1)\n",
       " + 1.0 * Y(0) @ Y(1),\n",
       " 1.0 * X(0) @ X(1),\n",
       " 1.0 * X(0)]"
      ]
     },
     "execution_count": 15,
     "metadata": {},
     "output_type": "execute_result"
    }
   ],
   "source": [
    "vspace.add(Y(0) @ Y(1))"
   ]
  },
  {
   "cell_type": "code",
   "execution_count": 16,
   "metadata": {},
   "outputs": [
    {
     "data": {
      "text/plain": [
       "[1.0 * X(0), 1.0 * X(1), 1.0 * Y(0)]"
      ]
     },
     "execution_count": 16,
     "metadata": {},
     "output_type": "execute_result"
    }
   ],
   "source": [
    "ops = [X(0), X(1)]\n",
    "vspace = qml.pauli.PauliVSpace(ops)\n",
    "vspace.add(Y(0))\n",
    "vspace"
   ]
  },
  {
   "cell_type": "code",
   "execution_count": 17,
   "metadata": {},
   "outputs": [
    {
     "data": {
      "text/plain": [
       "[1.0 * X(0), 1.0 * X(1), 1.0 * Y(0), 1.0 * Z(0)]"
      ]
     },
     "execution_count": 17,
     "metadata": {},
     "output_type": "execute_result"
    }
   ],
   "source": [
    "vspace.add([Z(0), X(0)])"
   ]
  },
  {
   "cell_type": "code",
   "execution_count": 19,
   "metadata": {},
   "outputs": [
    {
     "data": {
      "text/plain": [
       "False"
      ]
     },
     "execution_count": 19,
     "metadata": {},
     "output_type": "execute_result"
    }
   ],
   "source": [
    "ops = [X(0), X(1)]\n",
    "vspace = PauliVSpace([op.pauli_rep for op in ops])\n",
    "vspace.is_independent(X(0).pauli_rep)\n",
    "#vspace.is_independent(Y(0).pauli_rep)"
   ]
  },
  {
   "cell_type": "code",
   "execution_count": null,
   "metadata": {},
   "outputs": [],
   "source": []
  }
 ],
 "metadata": {
  "kernelspec": {
   "display_name": "PennyLane",
   "language": "python",
   "name": "python3"
  },
  "language_info": {
   "codemirror_mode": {
    "name": "ipython",
    "version": 3
   },
   "file_extension": ".py",
   "mimetype": "text/x-python",
   "name": "python",
   "nbconvert_exporter": "python",
   "pygments_lexer": "ipython3",
   "version": "3.9.7"
  }
 },
 "nbformat": 4,
 "nbformat_minor": 2
}
